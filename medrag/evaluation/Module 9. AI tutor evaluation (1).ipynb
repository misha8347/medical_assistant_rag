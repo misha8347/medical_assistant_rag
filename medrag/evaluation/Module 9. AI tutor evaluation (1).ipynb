{
 "cells": [
  {
   "cell_type": "markdown",
   "id": "5a801710-2951-466d-8c05-d96fc242d9d7",
   "metadata": {},
   "source": [
    "# Imports"
   ]
  },
  {
   "cell_type": "code",
   "execution_count": 5,
   "id": "cb9bb3b3-f514-4104-8d1b-dae2f7c885c1",
   "metadata": {
    "execution": {
     "iopub.execute_input": "2025-01-08T21:12:07.676941Z",
     "iopub.status.busy": "2025-01-08T21:12:07.676941Z",
     "iopub.status.idle": "2025-01-08T21:12:26.210730Z",
     "shell.execute_reply": "2025-01-08T21:12:26.210730Z",
     "shell.execute_reply.started": "2025-01-08T21:12:07.676941Z"
    }
   },
   "outputs": [
    {
     "name": "stdout",
     "output_type": "stream",
     "text": [
      "WARNING:tensorflow:From C:\\Users\\Dell\\AppData\\Roaming\\Python\\Python311\\site-packages\\tf_keras\\src\\losses.py:2976: The name tf.losses.sparse_softmax_cross_entropy is deprecated. Please use tf.compat.v1.losses.sparse_softmax_cross_entropy instead.\n",
      "\n"
     ]
    }
   ],
   "source": [
    "from PyPDF2 import PdfReader\n",
    "from tqdm.notebook import tqdm\n",
    "import os\n",
    "from os import listdir\n",
    "from os.path import isfile, join\n",
    "import numpy as np\n",
    "\n",
    "from sentence_transformers import SentenceTransformer\n",
    "from sklearn.metrics.pairwise import cosine_similarity\n",
    "import statistics\n",
    "\n",
    "from sklearn.feature_extraction.text import TfidfVectorizer\n",
    "from sklearn.metrics.pairwise import pairwise_distances\n",
    "\n",
    "import torch\n",
    "from transformers import pipeline\n",
    "from huggingface_hub import login\n",
    "\n",
    "import traceback\n"
   ]
  },
  {
   "cell_type": "code",
   "execution_count": 6,
   "id": "d42478c6-f12b-408e-8488-9c111aa581c7",
   "metadata": {
    "execution": {
     "iopub.execute_input": "2025-01-08T21:12:26.211736Z",
     "iopub.status.busy": "2025-01-08T21:12:26.211736Z",
     "iopub.status.idle": "2025-01-08T21:12:26.216844Z",
     "shell.execute_reply": "2025-01-08T21:12:26.215735Z",
     "shell.execute_reply.started": "2025-01-08T21:12:26.211736Z"
    }
   },
   "outputs": [],
   "source": [
    "import pickle\n",
    "def save_obj(obj, name):\n",
    "    pickle.dump(obj,open(name + '.pkl', 'wb'), protocol=4)\n",
    "    \n",
    "def load_obj(name):\n",
    "    with open(name + '.pkl', 'rb') as f:\n",
    "        return pickle.load(f)"
   ]
  },
  {
   "cell_type": "markdown",
   "id": "d443ee03-dabd-4d95-811a-19d17bd19a44",
   "metadata": {},
   "source": [
    "# Get the Data"
   ]
  },
  {
   "cell_type": "code",
   "execution_count": 7,
   "id": "99f25d21-e96d-4476-9508-d2ea303bfe1c",
   "metadata": {
    "execution": {
     "iopub.execute_input": "2025-01-08T21:12:26.216844Z",
     "iopub.status.busy": "2025-01-08T21:12:26.216844Z",
     "iopub.status.idle": "2025-01-08T21:12:31.970769Z",
     "shell.execute_reply": "2025-01-08T21:12:31.970769Z",
     "shell.execute_reply.started": "2025-01-08T21:12:26.216844Z"
    }
   },
   "outputs": [],
   "source": [
    "# Load data\n",
    "texts = load_obj('texts')\n",
    "st_vecs = load_obj('st_vecs')\n",
    "tfidf_vecs = load_obj('tfidf_vecs')\n",
    "\n",
    "# Load models\n",
    "model_emb = SentenceTransformer('xlm-r-100langs-bert-base-nli-stsb-mean-tokens')\n",
    "vectorizer = load_obj('vectorizer')"
   ]
  },
  {
   "cell_type": "markdown",
   "id": "fb32151e-06a8-4180-9510-c84d131edc09",
   "metadata": {},
   "source": [
    "# Relevant docs search"
   ]
  },
  {
   "cell_type": "code",
   "execution_count": 8,
   "id": "d09602f3-ec2f-4ec8-b826-5d8d331e42b3",
   "metadata": {
    "execution": {
     "iopub.execute_input": "2025-01-08T21:12:31.973247Z",
     "iopub.status.busy": "2025-01-08T21:12:31.972240Z",
     "iopub.status.idle": "2025-01-08T21:12:32.692148Z",
     "shell.execute_reply": "2025-01-08T21:12:32.691138Z",
     "shell.execute_reply.started": "2025-01-08T21:12:31.973247Z"
    }
   },
   "outputs": [
    {
     "data": {
      "text/plain": [
       "array([1.21359174, 1.26023433, 1.26162367, 1.27048143, 1.28099011,\n",
       "       1.29144901, 1.29791813, 1.30313364, 1.3865881 , 1.43633656])"
      ]
     },
     "execution_count": 8,
     "metadata": {},
     "output_type": "execute_result"
    }
   ],
   "source": [
    "def find_docs(query, top_n=10):\n",
    "    X = model_emb.encode(query.lower())\n",
    "    X2 = vectorizer.transform([query.lower()]).toarray()[0]\n",
    "\n",
    "    dists = pairwise_distances(X.reshape(1, -1), np.array(st_vecs), metric='cosine')[0]\n",
    "    dists2 = pairwise_distances(X2.reshape(1, -1), tfidf_vecs, metric='cosine')[0]\n",
    "\n",
    "    combined_dists = dists + dists2 #+ pr1 + pr2\n",
    "\n",
    "    idx = combined_dists.argsort()[:top_n]\n",
    "\n",
    "    return np.array(texts)[idx], combined_dists[idx]\n",
    "\n",
    "query = \"When did Julius Caesar die?\"\n",
    "docs, dist = find_docs(query, top_n=10)\n",
    "len(docs)\n",
    "dist"
   ]
  },
  {
   "cell_type": "code",
   "execution_count": 5,
   "id": "844ea158-d3d3-490f-afb0-f260f6c831ad",
   "metadata": {
    "execution": {
     "iopub.execute_input": "2025-01-08T18:25:13.648633Z",
     "iopub.status.busy": "2025-01-08T18:25:13.648633Z",
     "iopub.status.idle": "2025-01-08T18:25:13.695804Z",
     "shell.execute_reply": "2025-01-08T18:25:13.694798Z",
     "shell.execute_reply.started": "2025-01-08T18:25:13.648633Z"
    },
    "scrolled": true
   },
   "outputs": [
    {
     "data": {
      "text/plain": [
       "array(['Chapter 5 Julius Caesar The Roman Army The Romans were great conquerors. They had large, well-trained armies. Their navy ruled the seas. After the Romans defeated an enemy, the captured land became part of Rome. These lands were called provinces . The Roman Senate sent a governor to each province. The governor made sure the province paid taxes to Rome. The Romans usually let the conquered people keep their laws and customs. Sometimes they even made the conquered people citizens of Rome. 28The Big Question Why did some Romans think Julius Caesar was a hero? Vocabulary province, n. an area or region; when an area was conquered by Rome, it became a province under Roman control governor, n. the leader of the government in a province tax, n. money that people pay to the government29 The Romans conquered lands that once were part of ancient Greece. They brought many Greek statues and paintings back to Rome. They also brought Greek stories and plays and copied Greek building styles.30The Impact of Ancient Greece The Romans copied the Greeks because they admired the beauty of Greek art, writings, and buildings. Wealthy Romans kept enslaved Greek servants who had once been teachers and doctors. Many Romans learned the Greek language. Trouble in the Republic As Roman armies conquered more lands, the wealthiest Romans grew richer. They used enslaved people to work on their land. Enslaved people were not paid for the work they did, such as farming. As a result, rich farmers could sell their crops for less money than farmers who had to pay workers. This gave richer farmers a big advantage over other farmers. Many poor farmers were forced out of business and lost their land. Many farmers who lost their land came to Rome. They were out of work and hungry. They wanted help from the Roman government. But the Senate controlled the government, and many senators were rich landowners. They did not care about helping the poor people of Rome. Several leaders told the Senate to help the people who had lost their land. But the Senate did not listen. The columns of the Roman Temple of Saturn were copied from Greek architecture. 31Unhappiness among the Roman people grew. The Roman Republic was growing weak. In its final days, one man took control of the government. His name was Julius Caesar (/jool*yus/see*zur/). Julius Caesar Julius Caesar was born in 100 BCE. Although his parents were patricians, they were not very wealthy. Caesar knew he would have to work hard to get ahead. As a young boy, he did well in his studies. He also did well at sports, especially horseback riding. Caesar served in the Roman army in Asia. When he returned to Rome, he worked as a lawyer. He made friends with many people in the Roman government. Caesar was a great speaker and was chosen for several government jobs. One of his jobs was to manage the games and shows for the city of Rome. These shows helped amuse and entertain the people of Rome. Caesar borrowed money from his wealthy friends. He used the money to make the greatest games and shows in Roman history. His games made Caesar popular with the people of Rome. Caesar became friends with powerful leaders in the Senate and in the army. One of these friends was Even as a young man, Julius Caesar had achieved many things. 32Pompey (/pahm*pee/), Rome’s most famous general. Caesar also had enemies in the Senate, especially among the wealthy landowners. Caesar was elected consul in 59 BCE. Then he became governor of two provinces next to an area called Gaul. Today we know this area as southern France and northern Italy. Caesar led a large Roman army into Gaul. The Gauls were fierce warriors, but Caesar was an excellent general. His soldiers loved him. Caesar won many victories. His conquests in the Gallic Wars of 58–51 BCE made him a hero to many Romans. Crossing the Rubicon Caesar’s old friend Pompey became jealous of Caesar. He watched Caesar grow more powerful with each victory. Soon Pompey was no longer Rome’s most famous general. Caesar was. Pompey joined Caesar’s enemies in the Senate. They hated and feared Caesar. They thought he was too popular with the Roman people. His army had grown too powerful. The Senate ordered Caesar to give up his army and return to Rome. Caesar faced a hard choice. He led his army to the Rubicon (/roo*bih*kahn/) River, which was the border between Gaul Julius Caesar was honored for this bravery. Vocabulary border, n. an imaginary line that marks the edge of a country or other piece of landCaesar crossed the Rubicon River and started a civil war in Rome. 33and Italy. Caesar stopped and thought about what to do next. If his army crossed the Rubicon, he would be at war with Rome. But if he left his army in Gaul, he would have no protection against his enemies. They would probably kill him. Caesar decided to fight. He led his army across the river and started a civil war . Civil War The war did not go well for Caesar’s enemies. Caesar drove them out of Italy into Spain and finally to Greece. There, Caesar won a clear victory. After he won, Caesar forgave the senators who fought against him. Caesar’s old friend Pompey escaped. He went to Egypt, where the king had him killed. For the king, this proved to be a terrible mistake. Vocabulary civil war, n. a war between people who live in the same country',\n",
       "       'Chapter Roman Republic to Roman Empire Start of the Roman Revolution By the second century B.C., the Senate had become the real governing body of the Roman state. Members of the Senate were usually wealthy landowners, and they remained Senators for life. Rome’s government had started out as a Republic in which citizens elected people to represent them. But the Senate was filled with wealthy aristocrats who were not elected. Rome was slowly turning into an aristocracy, and the majority of middle and lower class c itizens began to resent it. Land was usually at the center of class struggles in Rome. The wealthy owned most of the land while the farmers had found themselves unable to compete financially with the wealthy landowners and had lost most of their lands. As a result, many of these small farmers drifted to the cities, especially Rome, forming a large class of landless poor. Changes in the Roman army soon brought even worse problems. Starting around 100 B.C. the Roman Republic was struggling in several areas. The first was the area of expansion. The territory of Rome was expanding quickly and the republic form of government could not make decisions and create stability for the new territories. The second major struggle was that due to expansion, the Republic was also experiencing problems with collecting taxes from its citizens. The larger area of the growing Roman territory created difficulties with collecting taxes from a larger population. Government officials had to go to each town, this would take several months to reach the whole extent of R oman territory. In addition, the Roman Republic struggled to have a strong police force. Without police it was difficult to enforce the laws and bring justice to those who committed crimes. Next, t here was also a lot of corruption within the Roman Senate. Many Senators wer e only focused on gaining more power and not making decisions that were best for the civilization. Many Senat ors were also taking bribes. Many elections were rigged to support the wealthy, and not the plebeian class. Lastly, f or the next 50 years (82 -\\xad‐31 B.C.), Ro man history was characterized by civil wars as a number of individuals competed for power. This increased violence in Rome. Three men eventually emerged as victors. Who is Julius Caesar? Julius Caesar was a great general and an important leader in ancient Rome. The people were angry tha t their government had not been able to solve the many problems facing the Republic. Julius Caesar spoke publicly to the people about these problems, and promised to solve them if he could. The people supported Caesar. The people wanted to see Julius Cae sar in a strong position of power so he could solve the problems facing the Republic. As Julius Caesar became more popular with the people, he also became more powerful. Leaders in the Senate began to worry. They were afraid Julius Caesar might take over the government by force, and rule Rome as a king. After all, Caesar had his own army, one of the finest, perhaps the finest. The leaders of ancient Rome had vowed that a king would never rule the Roman people again. Their worries were justified. They were right. Julius Caesar did want to take over the government. One of the laws of the original Twelve Tables was that no general could enter the city with his army. Julius Caesar ignored this law. In 49 BCE, he entered Rome with the Roman Legion, and took over the government. The poor people of Rome, who made up the bulk of the population, were glad. The people called him \"father of the homeland“. The Senate was furious. The First Triumvirate Triumvirate = 3 people ruling with equal power In 60 B.C., Caesar joined with Marcus Crassus and Gnaeus Pompey to form the First Triumvirate. Crassus was known as the richest man in Rome. Pompey was a general (and also Caesar’s son-\\xad‐in-\\xad‐law) who had returned as a military hero from a successful command in Spain. Julius Cae sar also had a military command in Spain. The combined wealth and power of these three men was enormous and allowed them to become very powerful. In 60 B.C., Caesar, Crassus and Pompey joined together to form the First Triumvirate , or a government by three people with equal power. Pompey received command of Spain, Crassus was given command of Syria, and Caesar was given command of Gaul (modern -\\xad‐day France). When Crassus was killed in battle in 53 B.C., however, only two powerful men were left. Leading sena tors decided that rule by Pompey alone would be to their benefit. They voted for Caesar to lay down his command. Caesar refused. During his time in Gaul (modern France) , his soldiers became loyal to him, not to Rome . He chose to move his army into Italy b y illegally crossing the Rubicon River (to this day the phrase “crossing the Rubicon” is used to mean being unable to turn back because when Caesar made the decision to cross his army and attack , he would not be able to take it back ). Caesar marched on R ome, starting a civil war between his forces and Pompey’s . Caesar chased Pompey into Egypt where Caesar met the beautiful female pharaoh Cleopatra and fell in love with her. Pompey was killed in Egypt in the eventual defeat of his forces . This left Caesar in control of the Roman government. He was officially made dictator in 45 B.C., but his decisions still had to be approved by the Senate. He enacted many reforms and had plans for many more, but in 44 B.C. he was assassinated by a group of Senators who had become afraid of Caesar’s power. The Second Triumvirate After Caesar’s death, a new struggle began. Three men -\\xad‐ Octavian (Caesar’s heir and grandnephew); Marc Antony, Caesar’s ally and assistant; and Marcus Lepidus, who had been a commander of Caes ar’s cavalry -\\xad‐ joined forces to form the Second Triumvirate. Within a few years, however, Lepidus was pushed out of the Triumvirate. The remaining two men divided the Roman world between them. Octavian took the west; Antony took the east. Octavian and Ant ony soon came into conflict. Antony allied himself with the Egyptian queen Cleopatra VII. Like Caesar before him, Antony had fallen deeply in love with her. To gain power, Octavian had to defeat Antony. At the Battle of Actium in Greece in 31 B.C., Octavia n’s forces smashed the army and the navy of Antony and Cleopatra. Both fled to Egypt, where they eventually committed suicide together. Octavian Becomes Emperor Octavian, at the age of 32, stood as the ruler over the Roman world. The civil wars in Rome had ended. So had Rome’s Republican form of government. The period beginning in 31 B.C. and lasting until 14 A.D. came to be known as the Age of Augustus. In 27 B.C., the Roman Senate granted Octavian the name Augustus, meaning “the exalted or honored .” They also gave him the legal power to rule Rome’s religious, civil and military affairs . The Senate gave advice to Augustus . The Senate gave him the title imperator, or commander in chief. Imperator gave us the word emperor. Augustus proved to be a very pop ular ruler, but his continuing control of the army was the chief source of his power. Rome achieved great glory under Octavian/Augustus. He restored peace after 100 years of civil war; maintained an honest government and a sound currency (money) system ; extended the highway system connecting the different parts of Rome, developed an efficient postal service; helped free trade among the provinces; and built many bridges, aqueducts and buildings adorned with beautiful works of art created in the classical style. The empire expanded under Augustus with his generals subduing Spain, Gaul (now France), Panonia and Dalmatia (now parts of Hungary and Croatia). He added Egypt and most of southwestern Europe up to the Danube River. Augustus’s rise to power ini tiated the end of self -\\xad‐government in Rome. After his death, the people of the Roman Empire worshipped Augustus as a god. He was a wise ruler, but many of the Roman emperors who came after him were not. Without any limits placed on the emperor’s power, the Roman people were at an emperor’s mercy. ',\n",
       "       'Chapter 1. Gaius Julius Caesar, 49–44 B.C. a.Formed First Triumvirate with Pompey and Crassus, 59 B.C. b.Crossed Rubicon to defeat forces of Pompey, 49 B.C. c.Assassinated by Brutus and Cassius (44 B.C.), in an effort to save the Republic from Julius’ dictatorial powers. d.Four months after his death, a comet appeared at games held in his honor. The Senate proclaimed him“the Divine Julius.” 2. Roman Civil Wars, 44–31 B.C. a.Octavian formed Second Triumvirate with Mark Antonyand Lepidus, 43 B.C. b.Death of Brutus and Cassius at Battle of Philippi, 42 B.C. c.Forces of Octavian defeat forces of Antony at Actium, 31 B.C. 3. Octavian/ Augustus, 31 B.C.–A.D. 14. a.Great nephew, adopted son, and at age 19 heir of Julius Caesar. b.Octavian, with the consent of the Senate, assumes the name Augustus, a title implying a special relationshipto the gods, 27 B.C. c.Maintained the fiction of Republican Rome managed by the Senate while holding the power himself. d.A shrewd ruler who gave the Empire efficient organiza- tion and a stable system of laws. e. Inaugurated the Pax Romana , the Peace of Rome. f. Jesus of Nazareth was born during his reign. 4. Tiberius, A.D. 14–37. a.Stepson whom Augustus adopted and made his heir. b.The last 11 years of his reign, he ruled Rome while living on the island of Capri in the Bay of Naples. c.Appointed Pilate procurator of Judea. d.Ruled the Empire during the ministry and death of Jesus. e.A deeply conservative Roman, he refused to accept divine honors. Unlike his two predecessors, the Senatedid not declare him divine after his death.ROMAN EMPERORS THROUGH THE FIRST CENTURY ©Resource Publications, Searcy, AR, 2001, 2005. All rights reserved. Permission is granted for use in teaching and preaching.©Resource Publications, Searcy, AR, 2001, 2005. All rights reserved. Permission is granted for use in teaching and preaching.5. Gaius/Caligula, A.D. 37–41. a.Son of the military leader Germanicus, received the name Caligula, “little boots,” in the army camp of his father. b.A descendant of Augustus and a great nephew of Tiberius, he was adopted by the Emperor and at age 26 inheritedpower. c.Soon intoxicated by power, he claimed to be a god and proposed that his horse be elected consul. d.Insisted that a statue of Zeus in his own likeness be erected in the Jewish temple at Jerusalem. e.Assassinated in A.D. 41 before the Jerusalem temple was desecrated. The Senate cursed his memory. 6. Claudius, A.D. 41–54. a.A 50 year-old uncle of Caligula, made emperor by the praetorian guard. b.Crippled and ill-favored, Augustus had been ashamed for him to appear in public. c.Added most of Britain and other domains to the Empire. d.Expelled Jews from Rome in A.D. 49. Ruled through most of the active ministry of Paul. e.An able administrator, organized efficient government for the Empire. f.Poisoned by his fourth wife, Agrippina after she per-suaded him to make Nero, her son by a previous marriage,his heir instead of his son Britannicus.©Resource Publications, Searcy, AR, 2001, 2005. All rights reserved. Permission is granted for use in teaching and preaching.7. Nero, A.D. 54–68. a.Became Emperor at age 17. Did well during his first years under the guidance of the philosopher Seneca and the military commander Burris. b.Warming to his power, within six years he contrived the murder of his advisors, Seneca among them, Britannicus,his mother, and his wife Octavia. c.Shocked aristocratic Romans by entering poetry and theatrical contests, as well as chariot races. d.When Rome burned in A.D. 64, he placed the blame on Christians and killed many of them. e.War with the Jews broke out in A.D. 66. After initial successes by the Jews, the Roman general Vespasiansystematically destroyed all resistance. f.A revolt of legions in Spain and Gaul led to his suicide. 8. Year of the Four Emperors, A.D. 69. a.Marked the end of the Julio-Claudian Emperors, so called because all those from Augustus to Nero wore the familyname of Julius or Claudius. b.Galba, Otho, and Vitellius in turn managed to get control of armies, allowing each to be Emperor for a few months. c.Leaving the Judean War, Vespasian was declared Em- peror by his army in Egypt. Came to Rome and assumedthe power. 9. Vespasian, A.D. 69–79. a.His son Titus took command of the legions in Judea and destroyed Jerusalem in A.D. 70. b.Established a harmonious working relationship with the Senate. c.A wise and good Emperor, he engaged in a massive rebuilding program in Rome. 10.Titus, A.D. 79–81. a.Son of Vespasian who finished the Roman war in Judea, reducing Jerusalem to ruins and ashes. b.Erected a great monument, the Arch of Titus, in Rome to commemorate his victory over the Jews. The monumentstill stands.11.Domitian, A.D. 81–96. a.A younger son of Vespasian whose political and admin- istrative powers fell considerably below those of his father. b.Increasing tensions between the Emperor and the Senate. c.During the last year of his reign he insisted on being addressed as a god. d.Oppressed several religious and ethnic groups, includ- ing Jews and Christians. e.Oppression of Christians accelerated, especially in Asia Minor where the Christians were more numerous. f.The last of the Flavian Emperors. Flavius was the family name of Vespasian, Titus, and Domitian. g.After his death, the Senate cursed Domitian’s memory as they had Nero’s. The Senate named the next Emperor. ©Resource Publications, Searcy, AR, 2001, 2005. All rights reserved. Permission is granted for use in teaching and preaching.',\n",
       "       'Chapter 6 Cleopatra, Queen of Egypt Arrival in Egypt In 48 BCE Julius Caesar sailed along the Nile River and arrived in Alexandria, Egypt, with a small group of soldiers. Caesar was looking for Pompey. He went to the king’s palace. There he learned that Pompey was dead. The king of Egypt had trusted his advisers. They had promised him that Caesar would be happy that Pompey was dead. They were wrong. Pompey was a Roman general. Caesar saw Pompey’s murder as an insult to Rome. Cleopatra While Caesar was still a guest at the palace, a servant entered carrying a large, rolled-up rug. Caesar watched as the rug was unrolled. Cleopatra (/klee*oe*pat*ruh/), the queen of Eygpt, was hiding inside. Cleopatra begged Caesar to protect her from her brother, the king. She said the king and his advisers were planning to murder her. It took a little while for Caesar to reply. He stared at Cleopatra and listened to her voice. He would certainly protect her. He wanted to keep the beautiful queen near. Cleopatra stayed with Caesar. 34The Big Question What did Julius Caesar do in order to protect Cleopatra?35 Notice Cleopatra’s clothing and jewelry in this carving.36The king and his advisers were angry that Cleopatra had outsmarted them. They were also angry that Caesar agreed to protect Cleopatra. They ordered the Egyptian army to surround the palace. They thought this would make Caesar change his mind. Once again, they were wrong. Caesar ordered the Roman army in nearby Syria to march on Alexandria. Caesar killed the king’s chief adviser. The Egyptian king fled from his own palace. When the Roman army arrived, Caesar took command. He easily defeated the Egyptian army. The king of Egypt died in the battle. Cleopatra was very grateful to Caesar. She asked him to travel through Egypt with her. According to legend, they sailed up the Nile River on her royal barge . Caesar learned a lot about Cleopatra on this journey. Cleopatra was actually Greek, not Egyptian. Almost three hundred years earlier, the Greek king Alexander the Great had conquered Cleopatra ruled over a rich kingdom.Vocabulary barge, n. a boat with a flat bottom, usually used for carrying goods37Egypt and built the great city of Alexandria. Cleopatra was a descendant of one of Alexander’s Greek generals. Cleopatra studied hard to be a good ruler. She learned about other countries from people who came to study in Alexandria’s great library. She also learned to speak many languages. She was the only one in the history of her royal family who could speak to the Egyptian people in their own language. Caesar came to trust Cleopatra. He did not want to make Egypt a Roman province. He wanted Cleopatra to remain queen of Egypt. Caesar also fell in love with Cleopatra. Caesar, however, was a busy man. He left Egypt to finish the war against Pompey’s remaining army. Caesar was a mighty leader.Vocabulary descendant, n. someone who is related to a person or group of people who lived in the past',\n",
       "       'Chapter XIV THE RIVALRY OF POMPEY AND CAESAR: CAESAR ’S DICTATORSHIP; 59–44 B. C. I. C AESAR CONSUL : 59 B.C. A rule of force. At the beginning of his consulship Caesar tried to induce the Senate to approve his measures, but, when they failed to do so, he carried them directly to the Assembly. And when Bibulus and Cato essayed to obstruct legislation in the Comitia he crushed all opposition by the aid of Pompey ’s veterans. Bibulus, protesting against the illegality of Caesar ’s proceedings, shut himself up in his own house. Thus Caesar carried two land laws for the benefit of the soldiers of Pompey, induced the Senate to ratify the latter ’s eastern settlement, and secured for the equestrians, whose cause was championed by Crassus, the remission of one third of the contract price for the revenues of Asia. The Vatinian Law. A lucky chance enabled Caesar to secure his own future by an extended military command. The Senate had taken pains to render him harmless by assigning as the consular provinces for 58 the care of forests and country roads in Italy, but in February, 59, the death of Metellus Celer, proconsul of Cisalpine Gaul, left vacant a post of considerable importance in view of the imminent danger of war breaking outI. C AESAR CONSUL : 59 B.C. 197 in Transalpine Gaul. Accordingly a law proposed by the tribune Vatinius transferred to Caesar the command of Cisalpine Gaul and Illyricum, with a garrison of three legions, for a term of five years beginning 1 March, 59. To this the Senate, at the suggestion of Pompey, added Transalpine Gaul and another legion. The banishment of Cicero, 58 B. C. Caesar’s consulship had been an open defiance of constitutional precedent, and had revealed the fact that the triumvirate was stronger than the established organs of government, and that the Roman Empire was really controlled by three men. Well might Cato say that the [167] coalition was the beginning of the end of the Republic. Within the triumvirate itself Pompey was the dominant figure owing to his military renown and the influence of his veterans. Caesar appeared as his agent, yet displayed far greater political insight and succeeded in creating for himself a position which would enable him to play a more independent rôle in the future. The coalition did not break up at the end of Caesar ’s consulship; its members determined to retain their control of the state policy, and to this end secured for 58 B. C. the election of two consuls in whom they had confidence. To cement the alliance Pompey married Caesar ’s daughter Julia, and Caesar married the daughter of Piso, one of the consuls-elect. To secure themselves from attack they felt it necessary to remove from the city their two ablest opponents, Cato and Cicero. The latter had refused all proposals to join their side, and had sharply criticized them on several public occasions. His banishment was secured through the agency of the tribune Clodius, whose transfer from patrician to plebeian status Caesar had facilitated. Clodius was a man of ill repute who hated Cicero because the latter had testified against him when he was on trial for sacrilege. Early in 58 B. C. Clodius carried a bill which outlawed any person who had put to death Roman citizens without regular judicial proceedings. This law was aimed at Cicero for his share in the execution of the Catalinarian conspirators. Finding that he could not rely upon the198 A History of Rome to 565 A. D. support of his friends, Cicero went into exile without awaiting trial. He was formally banished, his property was confiscated, and he himself sought refuge in Thessalonica, where the governor of Macedonia offered him protection. Cato was entrusted with a special mission to accomplish the incorporation of Cyprus, then ruled by one of the Egyptian Ptolemies, into the Roman Empire, and his Stoic conception of duty prevented him from refusing the appointment. Caesar remained with his army in the vicinity of Rome until after Cicero ’s banishment and then set out for his province. II. C AESAR’SCONQUEST OF GAUL: 58–51 B.C. The defeat of the Helvetii and Ariovistus: 58 B. C. In 58 B. C., when Caesar entered upon his Gallic command, the Roman province in Transalpine Gaul ( Gallia Narbonensis ) embraced the coast districts from the Alps to the borders of Spain and the land between the Alps and the Rhone as far north as Lake Geneva. [168] The country which stretched from the Pyrenees to the Rhine, and from the Rhone to the ocean was called Gallia comata or “long-haired Gaul, ”and was occupied by a large number of peoples of varying importance. These were usually regarded as falling into three groups, (1) those of Aquitania, between the Pyrenees and the Loire, where there was a large Iberian element, (2) those called Celts, in a narrow sense of the word, stretching from the Loire to the Seine and the Marne, and (3) the Belgian Gauls, dwelling between these rivers and the Rhine. Among the latter were peoples of Germanic origin. Although conscious of a general unity of language, race and customs, the Gauls had not developed a national state, owing to the mutual jealousy of the individual peoples, and each tribe was perpetually divided into rival factions supporting different chiefs. Rome had sought to protect the province of Narbonensis by establishing friendlyII. C AESAR’SCONQUEST OF GAUL: 58–51B.C. 199 relations with some of these Gallic peoples and had long before (c. 121 B. C.) made an alliance with the Aedui. About 70 B. C. conditions in Gallia comata had been disturbed by an invasion of Germanic Suevi, from across the Rhine, under their King Ariovistus. He united with the rivals of the Aedui, the Sequani, and after a number of years reduced the former to submission. In 59B. C.he reached an agreement with Rome, became a “friend”of the Roman people, and, while abstaining from further aggression, remained firmly established in what is now Alsace. For some time the Roman province had been alarmed by the threat of a migration of the Helvetii, then settled in western Switzerland, and in March, 58 B. C., this people started in search of new abodes. Caesar reached Gaul in time to prevent their crossing the upper Rhone, and followed them as they turned westward into the lands of the Sequani and Aedui. Defeated in two battles, they were forced to return to their home and to become allies of Rome. The movement of the Helvetii had given Caesar the opportunity for intervention in Gallia comata , and a pretext for extending his influence there was found in the hostility of some of the Gauls to Ariovistus, and the knowledge that a band of Suevi was expected soon to cross the Rhine to reinforce the latter. To frustrate a German occupation of Gaul now became Caesar’s object. Ariovistus rejected the demands of Caesar, who thereupon attacked him, defeated him in the vicinity of Strassburg and drove him across the Rhine. Caesar was now the dominant power in Gaul, and many of the leading tribes entered [169] into alliance with Rome. Of the Belgae, however, only the Remi came over to the side of Rome. The conquest of the Belgae, Veneti, and Aquitanians, 57–56 B. C. In the next year, 57 B. C., Caesar marched against the united forces of the Belgae, defeated them, and subdued many tribes, chief of whom were the Nervii. At the same time his legates received the submission of the peoples of Normandy and Brittany. In the course of the following winter some of these,200 A History of Rome to 565 A. D. led by the Veneti, broke off their alliance and attacked Caesar ’s garrisons. Thereupon he set to work to build a fleet, with which in the course of the next summer the fleet of the Veneti was destroyed and their strongholds on the coast taken (56 B. C.). The same year witnessed the submission of the Aquitanians, which brought practically the whole of Gaul under Roman sway. Events in Rome, 58 –55 B. C. Meanwhile important changes had taken place in the situation at Rome. Pompey had broken with Clodius, and supported the tribune Titus Annius Milo who pressed for Cicero ’s recall. A law of the Assembly withdrew his sentence of outlawry, his property was restored, and the orator returned in September, 57 B. C., to enjoy a warm reception both in the municipal towns and at the capital. For the moment Pompey and the Optimates were on friendly terms, and the former made use of a grain famine in the city to secure for himself an appointment as curator of the grain supply ( curator annonae ) for a period of five years. This appointment carried with it proconsular imperium within and without Italy, and the control of the ports, markets and traffic in grain within the Roman dominions. It was really an extraordinary military command. Pompey relieved the situation but could do nothing to allay the disorders in Rome, where Clodius and Milo with their armed gangs set law and order at defiance. The news of Caesar ’s victories and the influence which he was acquiring in the city by a judicious distribution of the spoils of war fired the ambitions of Pompey and Crassus who were no longer on good terms with one another. Furthermore, the return of Cato in 56 B. C.had again given the Optimates an energetic leader. Consequently Caesar felt it necessary for the coalition to reach a new agreement. Accordingly while spending the winter in Cisalpine Gaul he arranged a conference at Luca in April, 56, where the three settled their differences and laid plans for the future. They agreed that Pompey and Crassus should be [170] consuls in 55 B. C., that the former should be given the Spanish provinces and Libya for five years, that Crassus should haveII. C AESAR’SCONQUEST OF GAUL: 58–51B.C. 201 Syria for an equal period, and that Caesar ’s command in Gaul should be prolonged for another five year term to run from 1 March, 54.12 These arrangements were duly carried out. Since it was too late for Pompey and Crassus to be candidates at the regular elections in 56 B. C., they forcibly prevented any elections being held that year. The following January, after forcing the other candidates to withdraw, they secured their election. Thereupon a law of the tribune Gaius Trebonius made effective the assignment of provinces agreed upon at Luca. Once more it was made plain that the coalition actually ruled the empire. Cicero, who was indebted to Pompey for his recall, was forced to support the triumvirate, and the Optimates found their boldest leader in Cato, who had returned to Rome early in 56 B. C. Caesar ’s crossing of the Rhine and invasion of Britain: 55–54 B. C. During the winter following the subjugation of the Veneti, two Germanic tribes, the Usipetes and the Tencteri, crossed the lower Rhine into Gaul. In the next summer, 55 B. C., Caesar attacked and annihilated their forces, only a few escaping across the river. As a warning against future invasion, Caesar bridged the Rhine and made a demonstration upon the right bank, destroying his bridge when he withdrew. Towards the close of the summer he crossed the Straits of Dover to Britain, to punish the Britons for aiding his enemies in Gaul. But owing to the lateness of the season and the smallness of his force he returned to Gaul after a brief reconnaissance. In the following year, after gathering a larger fleet, he again landed on the island with a force of almost 30,000 men. This time he forced his way across the Thames and received the submission of Cassivellaunus, the chief who led the British tribes against the invaders. After taking hostages, and receiving promises of tribute, Caesar returned to Gaul. Britain was in no sense subdued, 12On the much disputed date of the end of Caesar ’s second term, see Hardy, E. G., Journal of Philology , 1918, pp. 161 ff.202 A History of Rome to 565 A. D. but the island had felt the power of Rome, and, besides enlarging the geographical knowledge of the time, Caesar had brought back numbers of captives. In Rome the exploit produced great excitement and enthusiasm. Revolts in Gaul: 54 –53 B. C. Although the Gauls had submitted to Caesar, they were not yet reconciled to Roman rule, which put an end to their inter-tribal wars and to the feuds among [171] the nobility. Consequently, many of the tribes were restive and not inclined to surrender all hopes of freedom without another struggle. In the course of the winter 54 –53B. C.the Nervii, Treveri and Eburones in Belgian Gaul attacked the Roman detachments stationed in their territories. One of these was cut to pieces but the rest held their ground until relieved by Caesar, who stamped out the rebellion. Vercingetorix, 52 B. C. A more serious movement started in 52B. C.among the peoples of central Gaul who found a national leader in Vercingetorix, a young noble of the Arverni. The revolt took Caesar by surprise when he was in Cisalpine Gaul and his troops still scattered in winter quarters. He recrossed the Alps with all haste, secured the Narbonese province and succeeded in uniting his forces. These he strengthened with German cavalry from across the Rhine. However, a temporary check in an attack upon the position of Vercingetorix at Gergovia caused the Aedui to desert the Roman cause, and the revolt spread to practically the whole of Gaul. Caesar was on the point of retiring to the province, but after repulsing an attack made upon him he was able to pen up Vercingetorix in the fortress of Alesia. A great effort made by the Gauls to relieve the siege failed to break Caesar ’s lines, and the defenders were starved into submission. The crisis was over, although another year was required before the revolting tribes were all reduced to submission and the Roman authority re-established (51 B. C.). Caesar used all possible mildness in his treatment of the conquered and the Gauls were not only pacified but won over. In the days to come they were among his mostII. C AESAR’SCONQUEST OF GAUL: 58–51B.C. 203 loyal supporters. The conquest of Gaul was an event of supreme importance for the future history of the Roman empire, and for the development of European civilization as well. For the time Gallia comata was not formed into a province. Its peoples were made allies of Rome, under the supervision of the governor of Narbonese Gaul, under obligation to furnish troops and for the most part liable to a fixed tribute. Caesar ’s campaign in Gaul had given him the opportunity to develop his unusual military talents and to create a veteran army devoted to himself. His power had become so great that both Pompey and the Optimates desired his destruction and he was in a position to refuse to be eliminated without a struggle. The plots laid in Rome to deprive him of his power had made him hasten to quell the revolt of the Gauls with all speed. When this was accomplished he was free to turn his [172] attention to Roman affairs. Crassus in Syria, 55 –53 B. C. After the assignment of the provinces by the Trebonian Law in 55 B. C., Crassus set out for Syria intending to win military power and prestige by a war against the Parthians, an Asiatic people who, once the subjects of the Persians and Seleucids, had established a kingdom which included the provinces of the Seleucid empire as far west as the Euphrates. Crassus had no real excuse for opening hostilities, but the Parthians were a potentially dangerous neighbor and a campaign against them gave promise of profit and glory. Accordingly, in 54 B. C., Crassus made a short incursion into Mesopotamia and then withdrew to Syria. The next year he again crossed the Euphrates, intending to penetrate deeply into the enemy ’s country. But he had underestimated the strength of the Parthians and the difficulties of desert warfare. In the Mesopotamian desert near Carrhae his troops were surrounded and cut to pieces by the Parthian horsemen; Crassus himself was enticed into a conference and treacherously slain, and only a small remnant of his force escaped (53 B. C.). But the Parthians were slow in following up their advantage and Crassus ’quaestor,204 A History of Rome to 565 A. D. Cassius Longinus, was able to hold Syria. Still Roman prestige in the East had received a severe blow and for the next three centuries the Romans found the Parthians dangerous neighbors. The death of Crassus tended to hasten a crisis in Rome for it brought into sharp conflict the incompatible ambitions of Pompey and Caesar, whose estrangement had already begun with the death of Pompey ’s wife Julia in 54 B. C. Affairs in Rome, 54 –49 B. C. At the end of his consulship Pompey left Rome but remained in Italy, on the pretext of his curatorship of the grain supply, and governed his province through his legates. In Rome disorder reigned; no consuls were elected in 54 B. C. nor before July of the following year; the partizans of Clodius and Milo kept everything in confusion. Pompey could have restored order but preferred to create a situation which would force the Senate to grant him new powers, so he backed Clodius, while Milo championed the Optimates. Owing to broils between the supporters of the candidates, no consuls or praetors could be elected for 52 B. C. In January of that year Clodius was slain by Milo ’s body-guard on the Appian Way, and the ensuing outburst of mob violence in the city forced [173] the Senate to appeal to Pompey. He was made sole consul, until he should choose a colleague, and was entrusted with the task of restoring order. His troops brought quiet into the city; Milo was tried on a charge of public violence, convicted, and banished. Pompey had attained the height of his official career; he was sole consul, at the same time he had a province embracing the Spains, Libya, and the sphere assigned to him with the grain curatorship, he governed his provinces through legati , and his armies were maintained by the public treasury. In reality he was the chief power in the state, for without him the Senate was helpless, and he was justly regarded by contemporaries as the First Citizen or Princeps. In many ways his position foreshadowed the Principate of Augustus. However, Pompey did not wish to overthrow the republican régime; his ambition was to be regarded as theII. C AESAR’SCONQUEST OF GAUL: 58–51B.C. 205 indispensable and permanent mainstay of the government and to enjoy corresponding power and honor. In such a scheme there was no room for a rival, and therefore he determined upon Caesar ’s overthrow. This decision put him on the side of the extreme Optimates, who were alarmed by Caesar ’s wealth, influence and fame and feared him as a dangerous radical. They had no hesitation in choosing between Pompey and Caesar. Pompey ’s attack upon Caesar: 52 B. C. The latter ’s immediate aim was to secure the consulship for 48 B. C. and to retain his proconsular command until the end of December, 49. He knew that he had reached a position where his destruction was the desire of many, and that the moment he surrendered hisimperium he would be open to prosecution by those seeking to procure his ruin. But he had no intention of placing himself in the power of his enemies. The consulship would not only save him from prosecution but would enable him to confirm his arrangements in Gaul, reward his army, and secure his own future by another proconsular appointment. However, to secure his election, he had to be exempted from presenting himself in person for his candidature in 49, and this permission was accorded him by a tribunician law early in 52 B. C. So far his position was strictly legal, but Pompey, whose own consulship was unconstitutional, now broke openly with Caesar by passing legislation which would undermine the latter ’s position. One of Pompey’s laws prohibited candidacies for office in absentia , and when Caesar ’s friends protested, he added to the text of the law after it had passed a clause exempting Caesar from its operation; a procedure of more than dubious legality. A second law provided [174] that in future provincial governorships should not be filled by the city magistrates just completing their term of office but by those whose terms had expired five years previously. This latter law may have been intended to check the mad rivalry for provincial appointments, but its immediate significance lay in the fact that it permitted a successor to be appointed to take over Caesar ’s206 A History of Rome to 565 A. D. provinces on 1 March, 49 B. C.He would thus have to stand as a private citizen for the consulship and would no longer enjoy immunity from legal attack. At the same time Pompey had his own command in Spain extended for another five years. Negotiations between Caesar, Pompey and the Senate, 51–50 B. C. The question of appointing a successor to Caesar ’s provinces filled the next two years and was the immediate cause of civil war. Caesar claimed that his position should not be affected by the Pompeian law, and pressed for permission to hold his command until the close of 49 B. C.The extreme conservatives sought to supersede him on March first of that year, but Caesar ’s friends and agents thwarted their efforts. Pompey was not willing to have Caesar ’s command to run beyond 13 November, 49. Cicero, who had distinguished himself by his uprightness as governor of Cilicia in 51, strove to effect a compromise, but in vain. Caesar offered to give up Transalpine Gaul and part of his army, if allowed to retain the Cisalpine province but the overture was rejected. Finally, in December, 50 B. C., he formally promised to resign his provinces and disband his troops, if Pompey would do the same, but the Senate insisted upon his absolute surrender. On 7 January, 49 B. C., the Senate passed the “last decree ”calling upon the magistrates and proconsuls (i. e. Pompey) to protect the state, and declaring Caesar a public enemy. Caesar ’s friends left the city and fled to meet him in Cisalpine Gaul, where he and his army were in readiness for this emergency. III. T HECIVILWAR BETWEEN CAESAR AND THE SENATE : 49–46 B.C. Caesar ’s conquest of Italy and Spain, 49 B. C. The senatorial conservatives had forced the issue and for Caesar there remained the alternative of victory or destruction. He possessed the207 advantages of a loyal army ready for immediate action and the undisputed control over his own troops. On the other hand, his [175] opponents had no veteran troops in Italy, and although Pompey acted as commander-in-chief of the senatorial forces, he was greatly hampered by having at times to defer to the judgment of the consuls and senators who were in his camp. It was obviously to Caesar’s advantage to take the offensive and to force a decision before his enemies could concentrate against him the resources of the provinces. Hence he determined to act without delay, and, upon receiving news of the Senate ’s action on 7 January, he crossed the Rubicon, which divided Cisalpine Gaul and Italy, with a small force, ordering the legions beyond the Alps to join him with all speed. The Italian municipalities opened their gates at his approach and the newly raised levies went over to his side. Everywhere his mildness to his opponents won him new adherents. Pompey decided to abandon Italy and withdraw to the East, intending later to concentrate upon the peninsula from all sides; a plan made feasible by his control of the sea. Caesar divined his intention and tried to cut off his retreat at Brundisium, but could not prevent his embarkation. With his army and the majority of the Senate Pompey crossed to Epirus. Owing to his lack of a fleet Caesar could not follow and returned to Rome. There some of the magistrates were still functioning, in conjunction with a remnant of the Senate. Being in dire need of money, he wished to obtain funds from the treasury, and when this was opposed by a tribune, Caesar ignored the latter ’s veto and forcibly seized the reserve treasure which the Pompeians had left behind in their hasty flight. In the meantime Caesar ’s lieutenants had seized Sardinia and Sicily, and crossed over into Africa. He himself determined to attack the well organized Pompeian forces in Spain and destroy them before Pompey was ready for an offensive from the East. On his way to Spain, Caesar began the siege of Massalia which closed its gates to him. Leaving the city under blockade he hastened to Spain, where after an initial208 A History of Rome to 565 A. D. defeat he forced the surrender of the Pompeian armies. Some of the prisoners joined his forces; the rest were dismissed to their homes. Caesar hastened back to Massalia. The city capitulated at his arrival, and was punished by requisitions, the loss of its territory and the temporary deprivation of its autonomy. From here Caesar pressed on to Rome, where he had been appointed dictator by virtue of a special law. After holding the elections in which he and an approved colleague were returned as consuls for 48, he resigned his dictatorship and set out for Brundisium. [176] There he had assembled his army and transports for the passage to Epirus. Pharsalus, 48 B. C. During Caesar ’s Spanish campaign Pompey had gathered a large force in Macedonia, nine Roman legions reinforced by contingents from the Roman allies. His fleet, recruited largely from the maritime cities in the East, commanded the Adriatic. Nevertheless, at the opening of winter (Nov. 49 B. C.) Caesar effected a landing on the coast of Epirus with part of his army and seized Apollonia. However, Pompey arrived from Macedonia in time to save Dyrrhachium. Throughout the winter the two armies remained inactive, but Pompey’s fleet prevented Caesar from receiving reinforcements until the spring of 48 B. C., when Marcus Antonius effected a crossing with another detachment. As Caesar ’s troops began to suffer from shortage of supplies he was forced to take the offensive and tried to blockade Pompey ’s larger force in Dyrrhachium. However, the attempt failed, his lines of investment were broken, and he withdrew to Thessaly. Thither he was followed by Pompey, who suffered himself to be influenced by the overconfident senators to risk a battle. Near the town of Old Pharsalus he attacked Caesar but was defeated and his army dispersed. He himself sought refuge in Egypt and there he was put to death by order of the king whose father he had protected in the days of his power. Pompey ’s great weakness was that his resolution did not match his ambition. His ambition led him to209 seek a position incompatible with the constitution; but his lack of resolution did not permit him to overthrow the constitution. The Optimates had sided with him only because they held him less dangerous than Caesar and had he been victorious they would have sought to compass his downfall. Caesar in the East, 48 –47 B. C. After Pharsalus Caesar had set out in pursuit of Pompey, but arrived in Egypt after the murder of his foe. His ever pressing need of money probably induced Caesar to intervene as arbiter in the name of Rome in the dynastic struggle then raging in Egypt between the twenty- year-old Cleopatra and her thirteen-year-old brother, Ptolemy XIV Dionysus, who was also, following the Egyptian custom, her husband. Caesar got the young king in his power and brought back Cleopatra, whom the people of Alexandria had driven out. Angered thereat, and resenting his exactions, the Alexandrians rose in arms and from October, 48, to March, 47 B. C., besieged Caesar in the royal quarter of the city. Having but [177] few troops with him Caesar was in dire straits and was only able to maintain himself through his control of the sea which enabled him to eventually receive reinforcements. His relief was effected by a force raised by Mithradates of Pergamon who invaded Egypt from Syria. In co-operation with him Caesar defeated the Egyptians in battle; Ptolemy Dionysus perished in flight; and Alexandria submitted. Cleopatra was married to a still younger brother and put in possession of the kingdom of Egypt. Caesar had succumbed to the charms of the Egyptian queen and tarried in her company for the rest of the winter. He was called away to face a new danger in Pharnaces, son of Mithradates Eupator, who had taken advantage of the civil war to recover Pontus and overrun Lesser Armenia, Cappadocia and Bithynia. Hastening through Syria Caesar entered Pontus and defeated Pharnaces at Zela. After settling affairs in Asia Minor he proceeded with all speed to the West, where his presence was urgently needed. Thapsus, 46 B. C. Both the fleet and the army of Pompey210 A History of Rome to 565 A. D. had dispersed after Pharsalus, but Caesar ’s delay in the East had given the republicans an opportunity to reassemble their forces. They gathered in Africa where Caesar ’s lieutenant Curio, who had invaded the province in 49 B. C., had been defeated and killed by the Pompeians through the aid of King Juba of Numidia. From Africa they were now preparing to attack Italy. In Rome, Caesar had been appointed dictator for 47 B. C. with Antony as his master of the horse. Here disorder reigned as a result of the distress arising from the financial stringency brought on by the war. Antony, who was in Rome, had proved unable to deal with the situation. Caesar reached Italy in September, 47 B. C., and soon restored order in the city. He was then called upon to face a serious mutiny of his troops who demanded the fulfillment of his promises of money and land and their release from service. By boldness and presence of mind Caesar won them back to their allegiance and set out for Africa in December, 47 B. C.He landed with only a portion of his troops and at first was defeated by the republicans under Scipio and Juba. But he was supported by King Bogud of Mauretania and a Catalinarian soldier of fortune, Publius Sittius, and after receiving reinforcements from Italy he besieged the seaport Thapsus. Scipio came to the rescue but was completely defeated in a bloody battle near the town. The whole of the province fell into Caesar ’s hands. Cato, who was in command of Utica, did not force the citizens to resist but committed suicide; the other republican leaders, including Juba, [178] either followed his example, or were taken and executed by the Caesarians. From Africa Caesar returned to Rome where he celebrated a costly triumph over Gaul, Egypt, Pharnaces and Juba. He was now undisputed master of the state and proceeded according to his own judgment to settle the problem of governing the Roman world. IV. T HEDICTATORSHIP OF JULIUS CAESAR : 46–44 B.C.IV. T HEDICTATORSHIP OF JULIUS CAESAR : 46–44B.C. 211 The problem of imperial government. From 28 July, 46, to 15 March, 44 B. C., Caesar ruled the Roman Empire with despotic power, his position unchallenged except for a revolt of the Pompeian party in Spain which required his attention from the autumn of 46 to the spring of 45 B. C.His victory over Pompey and the republicans had placed upon him the obligation to provide the empire with a stable form of government and this responsibility he accepted. Sulla, when faced with the same problem, had been content to place the Senate once more at the head of the state, but from his own experience Caesar knew how futile this policy had been. Nor could the ideal of Pompey commend itself as a means of ending civil war and rebellion. Caesar was prepared to deal much more radically with the old régime, but death overtook him before he had completed his reorganization. What was the goal of his policy will best be understood from a consideration of his official position during the year and a half which followed the battle of Thapsus. Caesar ’s offices, powers and honors. Caesar’s autocratic position rested in the last instance upon the support of his veterans, of the associates who owed their advancement to him, and of such small forces as he kept under arms, but his position was legalized by the accumulation in his hands of various offices, special powers and unusual honors. Foremost among his offices came the dictatorship. We have seen that he had held this already for a short time in 49 and again in 47. In 46 B. C.he was appointed dictator for ten years, and in the following year for life. At the same time he was consul, an office which he held continuously from 48 B. C., in 45 as sole consul, but usually with a colleague. In addition to these offices he enjoyed the tribunician authority (tribunicia potestas ), that is, the power of the tribunes without the name. This included the right to sit with the tribunes and the right of intercession, granted him as early as 48 B. C., and also personal [179] inviolability ( sacrosanctitas ) which he received in 45. He had been Chief Pontiff since 63, and in 48 B. C.was admitted to all the212 A History of Rome to 565 A. D. patrician priestly corporations. And in 46 B. C.he was given the powers of the censorship under the title of “prefect of morals ” (praefectus morum ), at first for three years and later for life. In addition to these official positions of more or less established scope, Caesar received other powers not dependent upon any office. He was granted the right to appoint to both Roman and provincial magistracies, until in 44 B. C. he had the authority to nominate half the officials annually; and in reality appointed all. In 48 B. C.he received the power of making war and peace without consulting the Senate, in 46 the right of expressing his opinion first in the Senate ( ius primae sententiae ), and in 45 the sole right to command troops and to control the public moneys. In the next year ratification was given in advance to all his future arrangements, and magistrates entering upon office were required to swear to uphold his acts. The concentration of these powers in his person placed Caesar above the law, and reduced the holders of public offices to the position of his servants. Honors to match his extraordinary powers were heaped upon Caesar, partly by his own desire, partly by the servility and fulsome flattery of the Senate. He was granted a seat with the consuls in the Senate, if he should not be consul himself; he received the title of parent or father of his country ( parens orpater patriae ); his statue was placed among those of the kings of Rome, his image in the temple of Quirinus; the month Quinctilis, in which he was born, was renamed Julius (July) in his honor; a new college of priests, the Julian Luperci, was created; a temple was erected to himself and the Goddess Clementia, and a priest (flamen) appointed for his worship there; and he was authorized to build a house on the Palatine with a pediment like a temple. Most of these honors he received after his victory over the Pompeians in Spain in 45 B. C. However, the title imperator (Emperor), which was regularly the prerogative of a general who was entitled to a triumph and was surrendered along with his military imperium , was employed by Caesar continuously from 49 until after the battle of Thapsus inIV. T HEDICTATORSHIP OF JULIUS CAESAR : 46–44B.C. 213 46, when he celebrated his triumph over the Gauls and his other non-Roman enemies. He assumed it again after Munda in the following year. Caesar ’s aim —monarchy. Taking into account the powers which Caesar wielded and his lifelong tenure of certain offices there can be no doubt that he not only had established monarchical [180] government in Rome but also aimed to make his monarchy permanent. And this gives the explanation why he accepted honors which were more suited to a god than to a man, for since the time of Alexander the Great deification had been accepted in the Greek East as the legal and moral basis for the exercise of absolute power, and as distinguishing a legitimate autocracy from a tyranny. To a polytheistic age, familiar with the idea of the deification of “heroes”after death and permeated in its educated circles with the teaching of Euhemerus that the gods were but men who in their sojourn upon earth had been benefactors of the human race, the deification of a monarch in no way offended religious susceptibilities. The Romans were acquainted with monarchies of this type in Syria and in Egypt. Indeed this was the only type of monarchy familiar to the Romans of the first century B. C., if we exclude the Parthian and other despotisms, and it was bound to influence any form of monarchical government set up in Rome. The plebs actually hailed Caesar as “rex,”and at the feast of the Lupercalia in February, 44 B. C., Antony publicly offered him a crown. It is possible that he would have assumed the title if popular opinion had supported this step. And there may well have been some truth in the rumor that he contemplated marriage with Cleopatra, who came to Rome in 46 B. C., for a queen would be a fit mate for a monarch and such a step would have effected the peaceful incorporation of Egypt into the Roman Empire. Caesar ’s reforms. Upon returning to Rome after the battle of Thapsus Caesar began a series of reforms which affected practically every side of Roman life. One of the most useful214 A History of Rome to 565 A. D. was the reform of the Roman calendar. Hitherto the Romans had employed a lunar year of three hundred and fifty-five days (the calendar year beginning on March first and the civil year, since 153 B. C., on January first) which was approximately corrected to the solar year by the addition of an intercalary month of twenty-two days in the second, and one of twenty-three days in the fourth year, of cycles of four years. For personal or political motives the pontiffs had trifled with the intercalation of these months until in 46 B. C. the Roman year was completely out of touch with the solar year. With the assistance of the Greek astronomer Sosigenes, Caesar introduced the Egyptian solar year of approximately 365¼ days, in such a way that three years of 365 days were followed by one of 366 days in which an extra day was added to February after the twenty-fourth of the month. [181] The new Julian calendar went into effect on 1 January, 45 B. C. Another abuse was partially rectified by the reduction of the number who were entitled to receive cheap grain in Rome from about 320,000 to 150,000. The Roman plebeian colleges and guilds, which had become political clubs and had contributed to the recent disorders in the city, were dissolved with the exception of the ancient association of craftsmen. The tribuni aerarii were removed from the jury courts and the penalties for criminal offences increased. Plans were laid for a codification of the Roman law but this was not carried into effect. Municipal administration in Rome and the Italian towns was regulated by the Julian Municipal Law, which brought uniformity into the municipal organization of Italy. The Roman magistracies were increased in number; the quaestorships from twenty to forty, and the eight praetorships finally to sixteen. At the same time the priesthoods were likewise enlarged. Administrative needs and the wish to reward a greater number of followers probably influenced these changes. A number of new patrician families were created to take the places of those which had died out. The membership of the Senate was increased to 900, and many newIV. T HEDICTATORSHIP OF JULIUS CAESAR : 46–44B.C. 215 men, including ex-soldiers of Caesar and enfranchised Gauls, were enrolled in it. Caesar provided for his veterans by settling them in Italian municipalities and in colonies in the provinces. The deserted sites of Carthage and Corinth were repeopled with Roman colonists and once more became flourishing cities. In this way Caesar promoted the romanization of the provinces, a policy which he had begun with his conferment of the franchise upon the Transpadane Gauls in 49, and continued in the case of many Spanish communities. This romanization of the provinces and the admission of provincials to the Senate points to an imperial policy which would end the exploitation of the provinces in the interests of a governing caste and a city mob. Munda, 45 B. C. Caesar proved himself a magnanimous conqueror. No Sullan proscriptions disgraced his victory. After Pharsalus he permitted all the republican leaders who submitted (among them Cicero), to return to Rome. Even after Thapsus at the intercession of his friends he pardoned bitter foes like Marcus Marcellus, one of the consuls of 50 B. C. But there remained some irreconcilables led by his old lieutenant Labienus, Varus, and Gnaeus and Sextus Pompey, sons of Pompey the Great, who after Pharsalus had betaken themselves with a small naval force [182] to the western Mediterranean. In 46 B. C. they were joined by Labienus and Varus and landed in Spain where they rallied to their cause the old Pompeian soldiers who had entered Caesar ’s service but whose sympathies had been alienated by one of hislegati , Quintus Cassius. The Caesarian commanders could make no headway against them and it became necessary for the dictator to take the field in person. In December 46 B. C. he set out for Spain. Throughout the winter he sought in vain to force the enemy to battle, but in March 45 the two armies met at Munda, where Caesar ’s eight defeated the thirteen Pompeian legions. The Caesarians gave no quarter and the Pompeian forces were annihilated; Labienus and Varus fell on the field, Gnaeus Pompey was later taken and put to death, but his brother Sextus216 A History of Rome to 565 A. D. escaped. Caesar returned to Italy in September, 45 B. C., and celebrated a triumph for his success. The assassination of Julius Caesar, 15 March, 44 B. C. His victory at Munda had strengthened Caesar ’s autocratic position, and was responsible for the granting of most of the exceptional honors which we have noted above. It was now clear at Rome that Caesar did not intend to restore the republic. In the conduct of the government he allowed no freedom of action to either Senate or Assembly, and although in general mild and forgiving he was quick to resent any attempt to slight him or question his authority. The realization that Caesar contemplated the establishment of a monarchy aroused bitter animosity among certain representatives of the old governing oligarchy, who chafed under the restraints imposed upon them by his autocratic power and resented the degradation of the Senate to the position of a mere advisory council. It could hardly be expected that members of the Roman aristocracy with all their traditions of imperial government would tamely submit to being excluded from political life except as ministers of an autocrat who was until lately one of themselves. This attitude was shared by many who had hitherto been active in Caesar ’s cause, as well as by republicans who had made their peace with him. And so among these disgruntled elements a conspiracy was formed against the dictator ’s life. The originator of the plot was the ex-Pompeian Caius Cassius, whom Caesar had made praetor for 44, and who won over to his design Marcus Junius Brutus, a member of the house descended from the Brutus who was reputed to have delivered Rome from the tyranny of [183] the Tarquins. Brutus had gone over to Caesar after the battle of Pharsalus and was highly esteemed by him, but allowed himself to be persuaded that it was his duty to imitate his ancestor ’s conduct. Other conspirators of note were the Caesarians Gaius Trebonius and Decimus Junius Brutus. In all some sixty senators shared in the conspiracy. They set the Ides of March, 44, as the date for the execution of the plot. Caesar was now busilyIV. T HEDICTATORSHIP OF JULIUS CAESAR : 46–44B.C. 217 engaged with preparations for a war against the Parthians, who had been a menace to Syria ever since the defeat of Crassus. This defeat Caesar aimed to avenge and, in addition, to definitely secure the eastern frontier of the empire. An army of sixteen legions and 10,000 cavalry was being assembled in Greece for this campaign, and Caesar was about to leave Rome to assume command. He is said to have been informed that a conspiracy against his life was on foot, but to have disregarded the warning. He had dismissed his body-guard of soldiers and refused one of senators and equestrians. On the fatal day he entered the Senate chamber, where the question of granting him the title of king in the provinces was to be discussed. A group of the conspirators surrounded him, and, drawing concealed daggers, stabbed him to death. He fell at the foot of Pompey ’s statue. Estimate of Caesar ’s career. By the Roman writers who preserved the republican tradition Brutus, Cassius, and their associates were honored as tyrannicides who in the name of liberty had sought to save the republic. Cato, who had died rather than witness the triumph of Caesar, became their hero. But this is an extremely narrow and partizan view. The republic which Caesar had overthrown was no system of popular government but one whereby a small group of Roman nobles and capitalists exploited for their own personal ends and for the satisfaction of an idle city mob millions of subjects in the provinces. The republican organs of government had ceased to voice the opinion even of the whole Roman citizen body. The governing circles had proven themselves incapable of bringing about any improvement in the situation and had completely lost the power of preserving peace in the state. Radical reforms were imperative and could only be effective by virtue of superior force. In his resort to corruption and violence in furthering his own career and in his appeal to arms to decide the issue between himself and the Senate, Caesar must be judged according to the practices of his time. He was the child of his age and advanced himself by means218 A History of Rome to 565 A. D. which his predecessors and contemporaries employed. That he [184] was ambitious and a lover of power is undeniable but hardly a cause for reproach; and who shall blame him, if when the Senate sought to destroy him by force, he used the same means to defend himself. His claim to greatness lies not in his ability to outwit his rivals in the political arena or outgeneral his enemies on the field of battle, but in his realization, when the fate of the civilized world was in his hands, that the old order was beyond remedy and in his courage in attempting to set up a new order which promised to give peace and security both to Roman citizens and to the provincials. Caesar fell before he had been able to give stability to his organization, but the republic could not be quickened into life. After Caesar some form of monarchical government was inevitable.[185] ',\n",
       "       'Chapter Roman Republic 753 BC - The city of Rome is founded. Legend has it that the twin sons of Mars, the god of war, named Romulus and Remus founded the city. Romulus killed Remus and became ruler of Rome and named the city after himself. Rome was ruled by kings for the next 240 years. 509 BC - Rome becomes a republic. The last king is overthrown and Rome is now ruled by elected officials called senators. There is a constitution with laws and a complex republican government. 218 BC - Hannibal invades Italy. Hannibal leads the Carthage army in his famous crossing of the Alps to attack Rome. This is part of the Second Punic war. 73 BC - Spartacus the gladiator leads the slaves in an uprising. End of Roman Republic/Start of Roman Empire 45 BC - Julius Caesar becomes the first dictator of Rome. Caesar makes his famous Crossing of the Rubicon and defeats Pompey in a civil war to become the supreme ruler of Rome. This signals the end of the Roman Republic. 44 BC - Julius Caesar is assassinated on the Ides of March by Marcus Brutus. They hope to bring back the republic, but civil war breaks out. 27 BC - The Roman Empire begins as Caesar Augustus becomes the first Roman Emperor. 64 AD - Much of Rome burns. Legend has it that Emperor Nero watched the city burn while playing 80 AD - The Coliseum is built. One of the great examples of Roman engineering is finished. It can seat 50,000 spectators. The Height of the Roman Empire 121 AD - The Hadrian Wall is built. To keep out the barbarians a long wall is built across northern England. 306 AD - Constantine becomes Emperor. Constantine would convert to Christianity and Rome would become a Christian empire. Prior to this Rome persecuted the Christians. 380 AD - Theodosius I declares Christianity to be the sole religion of the Roman Empire. 395 AD - Rome splits into two empires. The Fall of Rome 410 AD - The Visigoths sack Rome. This is the first time in 800 years that the city of Rome has fallen to an enemy. 476 AD - The end of the Western Roman Empire and the fall of Ancient Rome. The last Roman Emperor Romulus Augustus is defeated by the German Goth Odoacer. This signals the start of the Dark Ages in Europe. 1453 AD - The Byzantine Empire comes to an end as it falls to the Ottoman Empire Ancient Rome Timeline Directions: Complete a timeline for your group’s section of Roman history on poster paper. REMEMBER ALL WRITING AND PICTURES NEED TO BE BIG!! Step #1: Write the title your group was assigned on the poster Step #2: Use the following dates and events to create a timeline. (Remember the ordering of dates for BC). Before you glue down dates get the order checked. Step #3: Add images on the poster. This could be an important leader, way of survival, physical feature that impacted this part of history, etc. Ancient Rome Timeline Directions: Complete a timeline for your group’s section of Roman history on poster paper. REMEMBER ALL WRITING AND PICTURES NEED TO BE BIG!! Step #1: Write the title your group was assigned on the poster Step #2: Use the following dates and events to create a timeline. (Remember the ordering of dates for BC). Before you glue down dates get the order checked. Step #3: Add images on the poster. This could be an important leader, way of survival, physical feature that impacted this part of history, etc. Ancient Rome Timeline Directions: Complete a timeline for your group’s section of Roman history on poster paper. REMEMBER ALL WRITING AND PICTURES NEED TO BE BIG!! Step #1: Write the title your group was assigned on the poster Step #2: Use the following dates and events to create a timeline. (Remember the ordering of dates for BC). Before you glue down dates get the order checked. Step #3: Add images on the poster. This could be an important leader, way of survival, physical feature that impacted this part of history, etc. ',\n",
       "       'Chapter Roman Empire Notes Pax Romana What have I learned? The term Pax Romana means “Roman Peace.” It was an unprecedented time of peace & prosperity. The Pax Romana began during the reign of Augustus Caesar Years: 207What other civilization that we’ve studied had an “unprecedented time of peace & prosperity? What was it called? Augustus Caesar What have I learned? Before his death, Julius Caesar named his grand- nephew, Octavian (or Octavius) to be his heir. Octavian formed a 2nd triumvirate with 1. Marc Antony 2. Lepidus In a play for power, Octavian forced Lepidus to resign. In the meantime, Marc Antony had joined with Egypt’s Queen, Cleopatra in their own power play. Octavian’s forces defeated Antony’s forces in the Battle of Actium in the year 31 BCE. Octavian became the sole ruler of Rome & changed his name to Augustus meaning the “Exalted One.” Augustus then becomes the first emperor of Rome. Read the timeline below to answer the questions that follow. •63 BCE: Gaius Octavius was born on September 23rd in the city of Velletri southeast of Rome. His mother Atia was the daughter of Julia, the sister of Julius Caesar. •59 BCE: The father of Octavius dies. •44 BCE: Octavius went to Albania to complete his academic and military training. While there he learned of the assassination of Julius Caesar. Octavius retu rned to Rome and found that Caesar\\'s will makes him Caesar\\'s adopted son and heir to his political and personal fortune. He was advised not to accept the bequest because he was only 18 and little prepared to deal with the hazards of Roman power politi cs. N evertheless he did accept. Octavius borrowed funds to comply with Caesar\\'s will and his efforts garnered public support for Octavius. His efforts to fulfill Caesar\\'s will gains him considerable support among the troops of Caesar. •43 BCE: Octavian and Anto ny agreed to a sharing of power. They, along with Lepidus who was the Pontifex Maximus, are designated by the Senate as a Triumvirate with dictatorial powers for five years. Octavian, Antony and Lepidus agreed to eliminate those Senators and members of the Roman aristocracy whom any one of the three considered a threat to public order. Altogether 300 senators and two thousand lesser level aristocrats are executed. Cicero, a supporter of Octavian, was designated for execution by Antony under this arrangement . •42 BCE: The Senate deemed Julius Caesar as having been a god. This enhanced Octavian\\'s status still further. Antony and Octavian undertook a military expedition to the east to defeat Brutu s and Cassius. The Triumvirate then divide up the Empire. Antho ny gets the east and Gaul. Lepidus gets Africa and Octavian gets the west except for Italy which was to be under common control of the three. The alliance of Octavian and Antony was renewed and further confirmed by Antony marrying the sister of Octavian, O ctavia. This political marriage also did not endure. Antony was still enamored of Cleopatra, queen of Egypt. How was Octavian (Octavius) related to Julius Caesar? How did Octavian gain the support of Caesar’s troops? How long was the 2nd Triumvirate to stay in power? Why were certain senators & government officials killed during the Triumvirate? What areas did each member of the Triumvirate receive when they split the empire? adopted grand nephew By doing his best to carry out Caesar\\'s will Only two years Because the members of the triumvirate considered them threats to public order Marc Antony gets Gaul, Lepidus gets Africa, and Octavian gets the WestImpact of Augustus’ Reign What have I learned? Economy 1.Based on trade and agriculture 2. Sh ips traveled the Mediterranean protected by Roman navy 3. A new road network linked the parts of the empire Administration 1. Military outposts established in all areas of the empire (spreads Roman culture) Government 1. Set up Civil Service 2. Included plebians in the governmentIn a paragraph, describe why you think Augustus Caesar was considered to be such an effective emperor. Use the examples we discussed in class. How to choose an Emperor What have I learned? Major Problem for the new Empire = Creating succession through the family led to… Augustus was succeeded by his stepson Tiberius One major weakness of Rome’s imperial government was the problem of a.replacing the Julian emperors b.selecting a new person to become emperor c.collecting taxes d.controlling the army Emperors of Rome What have I learned? Good Emperors = characterized by favorable rule and prosperity in the empire Examples? 1. Nerva 2. Trajan 3. Hadrian 4. Antoninus Pius 5. Marcus Aurelius Bad Emperors = Ofte n brutal, sometimes crazy Examples? 1. Nero 2. Caligula 3. Domitian According to the chart, how long did the reign of the five good emperors last? C. 127 years A. 79 years B. 84 years D. 49 years According to the chart, which one of the five good emperors reigned the longest? A. Hadrian B. Marcus AureliusC. Trajan D.Antoninus Pius No system for choosing an emperor\\'s successor some pretty questionable rulersAugustus made sure his government was inclusive, and established a well organized infrastructure that cemented Roman rule in the lands they conquered, and well as cementing his hold on th e vast empire.Life in Imperial Rome What have I learned? Romans lived by a set of values called gravitas which emphasized discipline, strength, & loyalty. It was a male-dominated society, where fathers ruled households known in Latin as paterfamilias. Women had many rights in the society EXCEPT in the area of government Daughters were often named for their fathers (ex.: Julius/Julia) Education was limited to the sons of nobles. Women typically married between the ages of 12-15 to older husbands. An important aspect of Roman daily life was the public baths where people would meet & discuss civic affairs. As learned before, slavery was also part of the Roman society. Most slaves were used in domestic & farm labor. Some slaves were trained to be professional fighters called gladiators Slave revolts were common. The most famous revolt was led by a man named Spartacus Roman Mythology The gods & goddesses of Rome were borrowed from the Greek Religion. Like the Greeks, Romans often erected personal shrines to honor their personal gods. “Breads & Circuses” When life became bad in the empire, emperors would offer free food & entertainment , better known as bread and circuses. Gladiator contests were held in the Colosseum. Chariot Races were held in the Circus MaximusExplain what the following sentence means: The new leader has an air of gravitas that commands respect. Which of the following statements about Roman society is true? a. Most Roman women were not allowed to own property. b. Most Roman women were involved in public life. c. Only upper-class boys learned to read and write. d. The father had absolute power in the family. What can be concluded about the Roman baths from the illustration? Which of the following is true about slavery? A. It was not allowed in Rome. B. It was only used on large Roman estates. C. It was common in the ancient world. D. It was only allowed outside Italy. When the poet Juvenal said, “...there’s only two things that concern them: Bread and Circuses,” he was talking about A.the “barbaric” Egyptians and their lifestyle. B.the Senate’s focus on religion. C.the distraction of the Roman masses from serious political issues by free grain and entertainment. D.the overly posh lifestyle of the landed aristocrats, who did little else but feast and watch plays It means he has a seriousness and authority about him that commands respect. It was a favorite pastime, and the facilities were co-educationalGreco -Roman Culture What have I learned? Greco-Roman culture is a blending of 1. Greek 2. Roman 3. Hellenistic Greco-Roman culture is also referred to as Classical Culture. Greco-Roman culture will go on to inspire the works of the Renaissance Age Why do historians refer to Greco -Roma n culture as “Classical Culture? ” Roman Fine Arts What have I learned? Like the Greeks, sculpture was prominent in Roman Art. Bas - Relief sculpture are images projected from a flat surface. Romans were also famous for creating images using small pieces of tile/gems called mosaics. Romans painted images directly on their walls called murals/frescoes. Identify the following types of art. Roman Literature What have I learned? The Poet Virgil is famous for writing Rome’s most famous epic the Aenid, the story of a Greek hero who settles in Italy. The Poet Ovid was famous for writing light & witty poetry such as the love poem Amores. What is the basic plot of the Aeneid ? a. Roman senators rebel against the loss of liberty under Augustus. b. Roman women conspire to show men the folly of war. c. A hero leaves the fighting at Troy to return to his faithful wife. d. A hero escapes from the city of Troy to found Rome. Roman Historians What have I learned? One of Rome’s most famous historians was Livy who wrote a multi-volume history of Rome that included its legends. \"What chiefly makes the study of hi story beneficial and fruitful is this, that you behold the lessons of every kind of experience as upon a famous monument; from these you may choose for your own state what to imitate, and mark for avoidance what is shameful....\" --Livy preface What do you think Livy means in this quote? Because it blended three distinct ancient cultures and provided inspiration for the Renaissance artists to follow. fresco mosaic bas-relief sculpture History provides us a catalog of what has worked in the past and what has not, offering us guidance for how we conduct our own affairs today.Tacitus wrote history in which he presented facts correctly. Tacitus was concerned with the Romans’ lack of morality. His works included: 1.Annals 2.Histories Tacitus ’ histories provide great substance because they include the good & bad of Roman society. Why do you think Tacitus’ method of writing history would go on to inspire the work of later historians? Roman Achievements What have I learned? Latin Language The Latin language became the lingua franca or common language in Europe until the 1500’s. Latin remains the official language of the Roman Catholic Church. Latin became the basis for the Romance languages. 1.French 2.Spanish 3.Portuguese 4.Italian 5.Romanian Architecture, Engineering, & Technology The Romans utilized the architectural element of the arch to fortify their structures. Romans inherited the idea of the arch from their predecessors the Etruscans. Roman used the arch in the aquaducts which carried water from the mountains to the city of Rome. Romans also created a new building material called concrete which fortified their structures.According to his tree, what other language has some roots in Latin? A make all types of forced labor illegal B use the city only for industrial purposes C maintain a high standard of public health D lim it the mak ing of crafts inside the city The events listed in the time line show that ancient Romans strove to — His emphasis on accuracy provides a model for future historians EnglishAnother important architectural element was the dome seen in such structures as the Roman temple, the Pantheon. The Roman marketplace where Romans would meet on a daily basis is called the Forum. Roman System of Law 1. Right to equal treatment under the law 2. Innocent until proven guilty 3. Burden of proof rests with the accuser 4. Punished for actions, not thoughts 5 Unreasonable/unfair laws could be set asideCircle the important Roman architectural elements in the structures below. Decline of the Roman Empire What have I learned? 4 Main Reasons : 1. Economic decline 2. Social unrest 3. Political decay 4. Military upheaval Economic Decline Hostile groups migrating into Rome caused a disruption to trade. Costly wars led to an increase in taxation Agricultural production decreased due to 1. overworked land 2. land destroyed by invaders The government offset these losses by creating coins with less silver which led to inflation Inflation = the drastic drop in value o f mo ney coupled with a rise in pricesWhich of the following does NOT help to explain the decline and fall of the Roman Empire? a. Political corruption and currency inflation b. The barbarian invasions in the West c. The moral decay that affected the ambitions of the people d. The economic weakness of the empire in the East What contributed to the economic weakening of the late Roman empire? a. A decline in population led to a shortage of soldiers. b. Nobles would not pay taxes, so Rome could not support its armies. c. Asian trade routes were blocked by the eastern Roman empire. d. Heavy taxes helped to push the middle classes into poverty. Use this cartoon to help explain the impact of in flation on a political state’s economy? Name this structure. Why was this structure necessary? What hung in this marketplace? Dome To bring water to cities, farms, and arid regions The Twelve Tablets (Roman laws) Don\\'t worry about this oneSocial Unrest A greater divide between rich & poor led to economic disparity. A distrust in government led to less interest in participation. Political Decay Good men resisted working in government because political office was seen as a burden. This led to very corrupt government officials. Military interference in governmental matters led to Civil Wars. These civil wars led to a division in the Empire with power shifting to the city of Byzantium. Military Upheaval The Empire began to deal with invasions by Germanic tribes. In order to deal with growing threats, the military began to enlist the services of mercenaries, soldiers loyal only to those who pay them. The military began to experience a decline in patriotism & loyalty.Use a dictionary to define the word Apathy . How does it apply to Rome at the end of the empire? What are the potential problems of the Military controlling the affairs of a political state? Why are mercenaries dangerous men to have serving in an army? Reforming the Empire What have I learned? To correct the problems, the emperor Diocletian 1. Doubled the size of the army 2. Fixed prices 3. Ordered farmers/workers to keep working 4. Divided the empire into two parts Divided Empire Year: 395 Greek-speaking Byzantium (eastern empire) Capital: Constantinople Latin-speaking Rome (western empire) Capital: Rome The Emperor Constantine gained control of both East & West, continuing many of the reforms of Diocletian. According to the map, who was Diocletian’s co -ruler? \"Lack of interest in or concern for things that others find moving or exciting.\" - Romans began to not care about the things that were happening which impacted the strength of the empire and its health as a state. Military goals and priorities are not always those of the civilian population Mercenaries have no loyalty beyond what you can buy, and even that is suspect when there are no compelling ties to the country/ king that is employing them. MaximilianConstantine moved his capital from Rome to the city of Byzantium renaming it Constantinople. Constantinople became an ideal location: 1. had access to trade routes 2. better defenses 3. good ports 4. distance from the invading Germanic tribesDiocletian and Constantine did all of the following EXCEPT A. enlarge the army. B. enlarge the civil service. C. force people to stay in jobs. D. allow wages and prices to rise The Germanic Invasions What have I learned? The Germanic Invasions were also called the Barbarian Invasions. These nomadic people shared languages based on German. The Germanic tribes were forced into the Roman empire by an Asiatic group called the Huns. The Huns The Huns were Mongolians who came from central Asia. The Huns continued to push Germanic groups further into Roman territory until they also became a direct threat to Rome. The Huns were first united by their leader Attila. The Huns sacked over 70 cities in Rome, even attempting a takeover of the capital city. The Huns eventually negotiated a truce with Pope Leo I. Germanic Tribes 1. Franks Settle in: Gaul Franks = France 2. Visigoths Settle in: Spain Led by: King Alaric 3. Ostrogoths Settle in: ItalyWhat event is shown in this image? From what part of Europe did most of the Germanic tribes originate? Which Germanic tribe(s) had a direct impact on the city of Rome? Which group also impacted North Africa? Which Roman city was never touched by Germanic groups? Attila the Hun making a treaty with Pope Leo I to end the wars with Rome Northern Europe Vandals, Visigoths Vandals Constantinople4. Vandals Settle in: Gaul, Spain, N. Africa Sack Rome? In 453 Vandals = Vandalism End of the Roman Empire What have I learned? The last Roman emperor was 14-year old Romulus Augustus deposed by the German leader Odoacer. While the western Roman empire will disintegrate, Constantinople & Eastern Empire will continue to flourish. The West will enter a period known as the Dark Ages. The Catholic Church will be the only unifying institution in the West. Odoacer became the first non-Roman to be declared Emperor of Rome . What was the impact of this on the Empire? Why did the Eastern half of the Roman empire survive the fall of the empire in the West? Rome as an empire loses its sense of identity Better natural defenses coupled with a strong defensive wall at Constantinople.Use the map of Constantinople to help answer the following questions . 1. Constantinople was a peninsula, what helped protect the city from possible invaders attacking from land routes? 2. Constantinople was at the heart of the trade routes. What features on the map tell you that it was an ideal location for sea trade? 3. What features on the map tell you that the city shared a heritage with the Roman Empire? 4. What feature on the map tells you that the city shared a heritage with the Greek Civilization? 5. From the map, can you guess the religion of the Eastern Empire? Circle the Apennine Peninsula on the map. How did its location aid in the creation/control of the empire? What 3 continents were parts of the empire? Africa, Europe, Asia Name 3 civilizations we previously studied that became part of the Roman Empire? What rivers and mountain range marked the northern boundary of the empire in Western Europe? A series of great walls Access on three sides plus several sheltered anchorages Several forums and other Roman-style buildings and constructs The presence of an acropolis Christian ',\n",
       "       'Chapter 7 Julius Caesar Dies More conquests Julius Caesar continued to conquer. When he left Egypt, he led his army to Asia Minor, the home of modern-day Turkey. There, Caesar once again showed he was a great general. Caesar sent a message to the Senate about his latest conquest. It was only three Latin words: “ Veni, vidi, vici ” (/vee*nee/vee*dee/vee*kee/). The words mean, “I came, I saw, I conquered.” Next, Caesar went to North Africa and won another victory. Then, he went to Spain and defeated armies led by Pompey’s sons. Finally, he returned to Rome. There he became dictator—for life. Caesar was now the most powerful man in the world. Caesar changed the Roman government. He lowered taxes, appointed new senators, and replaced several greedy governors in the provinces. He gave land to Roman soldiers and food to the poor. Caesar’s enemies in the Senate did not like these changes. They thought Caesar was acting like a king and had too much power. 38The Big Question What were the reasons behind the actions taken against Julius Caesar and Marc Antony?39 Caesar wrote about his victories.40Caesar invited Cleopatra to Rome to celebrate his victories. He gave her gifts and placed a statue of her in a temple. Caesar’s enemies worried that Caesar would marry Cleopatra and move the government to Alexandria. They also disliked the way Caesar had ended the republic and set himself up as a dictator for life. They decided to assassinate Caesar. The Assassination The Romans called March 15 the Ides of March. On that day in 44 BCE, several of Caesar’s enemies entered the Senate with knives hidden under their togas . When Caesar entered the Senate, his enemies stabbed him. One of the attackers was Brutus (/broo*tus/), a man Caesar had forgiven after the civil war. Caesar thought Brutus was his friend. Surprised that Brutus had joined his enemies, Caesar’s last words were, “Et tu, Brute?” (/et/too/broo*tay/). This means “You too, Brutus?” The murder of Caesar Vocabulary assassinate, v. to kill a ruler or member of the government toga, n. a robe-like piece of clothing worn in ancient Rome41Marc Antony and Octavian After Caesar died, another civil war began. On one side were Brutus and the others who supported the killing of Caesar. On the other side were Caesar’s supporters. In 42 BCE Caesar’s friends won the war. The leaders of this group were Marc Antony and Octavian. Marc Antony was a famous general. He wore a thick cape that looked like a lion’s skin. He told his soldiers that he was related to the legendary hero Hercules. Hercules had killed a mighty lion and worn its skin as a cape. Antony’s soldiers respected his courage in battle, but Antony liked to brag. He could also be careless. Marc Antony shared control of the government with Caesar’s adopted son, Octavian (/ahk*tay*vee*un/). Octavian called himself “the young Caesar.” He was eighteen years old when Caesar died. Octavian was the opposite of Antony. He was proper in his dress and manner. He was also careful about his decisions. Rome AlexandriaAFRICAATLANTIC OCEAN Black Sea Mediterranean SeaITALY SPAINEUROPE ASIAAegean SeaAdriatic Sea Tyrrhenian Sea 0 300 milesFRANCE (Gaul)Antony Vs. Octavian: The Roman Empire After the Death of Julius Caesar Key Area controlled by Octavian Area controlled by Antony Extent of Roman Empire at Julius Caesar’s DeathN SEW KINGDOM OF EGYPT After Caesar’s death, Antony and Octavian fought for control of the empire.Antony and Cleopatra fell in love. 42Antony and Octavian each took part of the empire to command. Octavian’s part was in the west, near Spain. Antony’s part was in the east, near Egypt. Antony and Cleopatra Antony wanted to conquer more lands, but he needed money for his army. He asked Cleopatra to exchange the riches of Egypt for his protection. Cleopatra agreed. She invited Antony to stay with her in Egypt. The two fell in love. Then Antony’s wife died. Though he was free to marry Cleopatra, Antony would not. He knew that many Romans did not trust Cleopatra. She was too clever, too rich, and too powerful. She was also a foreigner . Antony left Cleopatra, returned to Rome, and married Octavian’s sister, Octavia. He knew that important Romans would approve of this marriage. He also believed the marriage would help him keep the peace with Octavian. Still, Antony returned to the east three years later. He went back to his wars of conquest—and to Cleopatra.Vocabulary empire, n. a group of countries or territories under the control of one government or one ruler foreigner, n. someone from another country43Things went badly for Antony. He lost half his army and conquered nothing. The army needed food, clothing, and weapons. Octavia wanted to help her husband. She loaded ships with supplies and sailed to the east. Despite this help, Antony ordered Octavia back to Rome. He made it clear that he preferred Cleopatra to his noble Roman wife. Octavian was angry. Antony had insulted his sister. Octavian spoke out against Antony and Cleopatra. He said they were planning to take control of the entire Roman world. Octavian prepared for war. As always, he was careful. He asked Agrippa, Rome’s most famous naval commander, to help. Octavian attacked first. Agrippa trapped Antony and Cleopatra and forced them to fight at sea. They were no match for Agrippa. After their defeat in the Battle of Actium (31 BCE), Antony and Cleopatra escaped to Egypt. The end came quickly. Antony’s army surrendered. Antony killed himself. Cleopatra knew that Octavian would bring her back to Rome in chains. She dressed in her most beautiful costume and held a deadly snake to her skin. When Octavian’s guards found her, Cleopatra appeared to be asleep, but she was dead. Vocabulary supplies, n. food and other goods that are needed for a certain purpose noble, adj. belonging to the highest social class',\n",
       "       'Chapter XVII THE JULIO-CLAUDIAN LINE AND THE FLAVIANS: 14 –96 A. D. I. T IBERIUS , 14–37 A.D. Tiberius princeps. At the death of Augustus, Tiberius by right of his imperium assumed command of the army and through his tribunician authority convoked the Senate to pay the last honors to Augustus and decide upon his successor. Like Julius Caesar, Augustus was deified, and a priestly college of Augustales, chosen from the senatorial order was founded to maintain his worship in Rome. In accordance with a wish expressed in his will, his widow Livia was honored with the name Augusta. Tiberius received the title of Augustus and the other honors and powers which his predecessor had made the prerogatives of the princeps. His imperium , however, was conferred for life, and not for a limited period. The ease of his succession shows how solidly the principate was established at the death of its founder. Character and policy. Tiberius was now fifty-six years of age. He had spent the greater part of his life in the public service, and consequently had a full appreciation of the burden of responsibility which the princeps must assume. He was the incarnation of the old Roman sense of duty to the state, and at the same time exhibited the proud reserve of the Roman patricians. Stern in his maintenance of law and order, he made an excellent270 A History of Rome to 565 A. D. subordinate, but when called upon to guide the policy of state, he displayed hesitation and lack of decision. The incidents of his marriage with Julia and his exile had rendered him bitter and suspicious, and he utterly lacked the personal charm and adaptability of his predecessor. Thus he was temperamentally unsuited to the position he was called upon to fill and this was responsible for his frequent misunderstandings with the Senate. Such an incident occurred in the meetings of the Senate after the death of Augustus. Tiberius, conscious of his unpopularity, [227] sought to have the Senate press upon him the appointment as the successor of Augustus, and so feigned reluctance to accept, a course which made the senators suspect that he was laying a trap for possible rivals. Yet there was no princeps who tried more conscientiously to govern in the spirit of Augustus, or upheld more rigidly the rights and dignity of the Senate. At the beginning of his principate he transferred from the Assembly to the Senate the right of the election to the magistracies, thus relieving the senators from the expense and annoyance of canvassing the populace. Mutinies in Illyricum and on the Rhine. Two serious mutinies followed the accession of Tiberius, one in the army stationed in Illyricum, the other among the legions on the Rhine. Failure to discharge those who had completed their terms of service and the severity of the service itself were the grounds of dissatisfaction. The Illyrian mutiny was quelled by the praetorian prefect Lucius Aelius Seianus; the army of the Rhine was brought back to its allegiance by Germanicus, the son of Drusus, whom Tiberius had adopted at the command of Augustus in 4 A. D. He had married Agrippina, daughter of Agrippa and Julia, and was looked upon as the heir of Tiberius in preference to the latter ’s younger and less able son, Drusus. The campaigns of Germanicus, 14 –17 A. D. To restore discipline among his troops and relieve them from the monotony of camp life, as well as to emulate the achievements of his father,I. T IBERIUS , 14–37A.D. 271 Germanicus, without the authorization of Tiberius, led his army across the Rhine. The German tribes were still united in the coalition formed in the time of Varus, and, under their leaders Arminius and Inguiomerus, offered vigorous opposition to the Roman invasion. Nevertheless, in three successive campaigns (14–16A. D.), Germanicus ravaged the territory between the Rhine and the Weser and inflicted several defeats upon the Germans. Still Arminius and his allies were by no means subdued, and the Romans had sustained heavy losses. One army had narrowly escaped the fate of the legions of Varus, and twice had the transports of Germanicus suffered through storms in the North Sea. For these reasons Tiberius forbade the prolongation of the war and recalled Germanicus. With his departure, each of the three Gauls was made an independent province, and two new administrative districts called Upper and Lower Germany, under legates of consular rank, were created on the left bank of the Rhine. Freed from the danger of Roman interference, the Germanic tribes led by Arminius now engaged in a bitter [228] struggle with Marbod, king of the Marcomanni, which ultimately led to the overthrow of the latter ’s kingdom. Not long afterwards Arminius himself fell a victim to the jealousy of his fellow tribesmen (19 A. D.). Eastern mission and death of Germanicus, 17 –19 A. D. After his return from Gaul, Germanicus was sent by Tiberius to settle affairs in the East, where the Armenian question had again become acute. While he was in Syria, a bitter quarrel developed between himself and Piso, the legate of the province. Accordingly, when Germanicus fell ill and died there, many accused Piso of having poisoned him. Although the accusation was false Piso was called to Rome to stand his trial on that charge, and, finding that the popularity of Germanicus had biased popular opinion against him, and that Tiberius refused him his protection because of his attempt to assert his rights by armed force, he committed suicide. Agrippina, the ambitious272 A History of Rome to 565 A. D. wife of Germanicus, believed that Tiberius from motives of jealousy had been responsible for her husband ’s death. She openly displayed her hostility to the princeps, and by plotting to secure the succession for her own children, helped to bring about their ruin and her own. The withdrawal of Tiberius from Rome, 26 A. D. The decision of Tiberius to leave Rome in 26 A. D. and take up his residence on the island of Capri had important consequences. One was that the office of city prefect, who was the representative of the princeps, became permanent. It was filled by a senator of consular rank who commanded the urban cohorts and had wide judicial functions. The plot of Seianus. In the second place the absence of Tiberius gave his able and ambitious praetorian prefect Aelius Seianus encouragement and opportunity to perfect the plot he had formed to seize the principate for himself. He it was who concentrated the praetorian guard, now 10,000 strong, in their camp on the edge of the city, and paved the way for their baneful influence upon the future history of the principate. Having caused the death of Drusus, the son of Tiberius, by poison, in 23 A. D., he intrigued to remove from his path the sons of Germanicus, Drusus and Nero. They and their mother Agrippina were condemned to imprisonment or exile on charges of treason. In 31 A. D.Seianus attained the consulate and received proconsular imperium in the provinces. He allied himself with the Julian house by his betrothal to Julia, the grand-daughter of Tiberius. But in the same year the [229] princeps became aware of his plans. Tiberius acted with energy. Seianus and many of his supporters were arrested and executed. The last years of Tiberius. The discovery of Seianus ’ treachery seems to have affected the reason of the aging princeps. His fear of treachery became an obsession. The law of treason ( lex de maiestate ) was rigorously enforced and many persons were condemned to death, among them Agrippina and her sons. The senators lived in terror of being accused by informers ( delatores ),II. C AIUSCALIGULA , 37–41A.D. 273 and in their anxiety to conciliate the princeps they were only too ready to condemn any of their own number. The memory of his later years caused Tiberius to pass down in the traditions of the senatorial order, represented by Tacitus and Suetonius, as a ruthless tyrant, and to obscure his real services as a conscientious and economical administrator. His parsimony in expenditures of the public money won him unpopularity with the city mob, but was a blessing to the provincials to whose welfare Tiberius directed particular attention, while he vigorously protected them against the oppression of imperial officials. During his rule the peace of the empire was disturbed only by a brief rising in Gaul (21 A. D.) and a rather prolonged struggle with Tacfarinas, a rebellious Berber chieftain, in Numidia (17 –24 A. D.). II. C AIUSCALIGULA , 37–41 A.D. Accession. Tiberius left as his heirs his adoptive grandson Caius, the sole surviving son of Germanicus, better known by his childhood name of Caligula, acquired in the camps on the Rhine, and his grandson by birth, Tiberius Gemellus. Upon Caius, the elder of the two, then twenty-five years of age, the Senate immediately conferred the powers of the principate. The resentment of the senators towards his predecessor found vent in refusing him the posthumous honor of deification. Caius adopted his cousin, but within a year had him put to death. Early months of his rule. The early months of his rule seemed the dawn of a new era. The pardoning of political offenders, the banishment of informers, the reduction of taxes, coupled with lavishness in public entertainments and donations, all made Gaius popular with the Senate, the army and the city plebs. However, he was a weakling in body and in mind, and [230]274 A History of Rome to 565 A. D. a serious illness, brought on by his excesses, seems to have left him mentally deranged. Absolutism his ideal. Reared in the house of Antonia, daughter of Antony and Octavia, in company with eastern princes of the stamp of Herod Agrippa, he naturally came to look upon the principate as an autocracy of the Hellenistic type. In his attempt to carry this conception into effect, the vein of madness in his character led him to ridiculous extremes. Not content with claiming deification for himself and his sisters, he built a lofty bridge connecting the Palatine Hill with the Capitoline, so that he might communicate with Jupiter, his brother god. He prescribed the sacrifices to be offered to himself, and was accused of seeking to imitate the Ptolemaic custom of sister marriage. Thoroughly consistent with absolutism was his scorn of republican magistracies and disregard of the rights of the Senate; likewise his attempt to have himself saluted as dominus or“lord.” The conflict with the Jews. His demand for the acknowledgment of his deification by all inhabitants of the empire brought Caius into conflict with the Jews, who had been exempted from this formal expression of loyalty. In Alexandria there was a large Jewish colony, which enjoyed exceptional privileges and was consequently hated by the other Alexandrians. Their refusal to worship the images of Caius furnished the mob with a pretext for sacking the Jewish quarters and forcibly installing statues of the princeps in some of their synagogues. The Jews sent a delegation to plead their case before Caius but could obtain no redress. In the meantime Caius had ordered Petronius, the legate of Syria, to set up his statue in the temple at Jerusalem, by force, if need be. However, the prudent Petronius, seeing that this would bring about a national revolt among the Jews delayed obeying the order, and the death of Caius relieved him of the necessity of executing it at all. Tyranny. In less than a year the reckless extravagance ofIII. C LAUDIUS , 41–54A.D. 275 Caius had exhausted the immense surplus Tiberius had left in the treasury. To secure new funds he resorted to openly tyrannical measures, extraordinary taxes, judicial murders, confiscations, and forced legacies. By these means money was extorted not only from Romans of all classes but provincials also. Ptolemy, king of Mauretania, was executed for the sake of his treasure and his kingdom made a province. Assassination. Caius contemplated invasions of Germany and of Britain, but the former ended with a military parade across [231] the Rhine and the latter with a march to the shores of the Straits of Dover. The fear awakened by his rule of capricious violence soon resulted in conspiracies against his life. In January, 41 A. D., he was assassinated by a tribune of the imperial guards. III. C LAUDIUS , 41–54 A.D. Nominated by the Praetorians. In the choice of a successor to Caius the power of the praetorian guard was first clearly demonstrated. Caius was the last male representative of the Julian gens, and at his death the Senate debated the question of restoring the republic. However, the decision was made for them by the praetorians, who dragged from his hiding place and saluted as Imperator the surviving brother of Germanicus, Tiberius Claudius Germanicus. The Senate had to acquiesce in his nomination and grant him the powers of the princeps. Character. Claudius was already fifty-one years old, but because of his ungainly figure and limited mentality had never been seriously considered for the principate. He was learned and pedantic, but lacking in energy and resolution. His greatest weakness was that he was completely under the influence of his wives, of whom he had in succession four, and his favorite freedmen.276 A History of Rome to 565 A. D. Policy. In general the policy of Claudius followed that of Augustus and Tiberius. But in 47 A. D.he assumed the censorship for five years, an office which Augustus had avoided because it set its holder directly above the Senate. In the capacity of censor, Claudius extended to the Gallic Aedui the jus honorum and consequently the right of admission to the Senate. This was in accord with his policy of generously granting citizenship to the provincials. The census taken in 47 and 48 A. D.showed approximately six million Romans, nearly a million more than in the time of Augustus. Claudius also renewed the attempt of Julius Caesar to occupy the island of Britain. In 43 A. D.his legates Aulus Plautius, Vespasian and Ostorius Scapula subdued the island as far as the Thames, and in the following years extended their conquests farther northward. The southern part of the island became the province of Britain. In 46 A. D., Thrace was incorporated as a province at the death of its client prince. [232] Influence of freedmen. During the rule of Claudius the real heads of the administration were a group of able freedmen, Narcissus, Pallas, Polybius and, later, Callistus. While it is true that they abused their power to amass riches for themselves, they contributed a great deal to the organization of the imperial bureaucracy. Their influence caused the widespread employment of imperial freedmen in procuratorial positions. Agrippina the younger. In 49 A. D. the plot of Messalina, the third wife of Claudius, and her lover Gaius Silius, to depose the princeps in favor of Silius, endangered the power of the trio Pallas, Narcissus and Callistus. It was Narcissus who revealed the conspiracy to Claudius, secured his order for the execution of Messalina, and saw that it was carried into effect. But it was Pallas who induced the princeps to take as his fourth wife his own niece Agrippina, whose ambitions were to prove his ruin. Death of Claudius. By Messalina Claudius had a son Britannicus and a daughter Octavia, but Agrippina determinedIV. N ERO, 54–68A.D. 277 to secure the succession for Domitius, her son by her previous husband Lucius Domitius Ahenobarbus. In 50 A. D., Domitius was adopted by Claudius as Nero Claudius Caesar. The following year he received the imperium , and was thus openly designated as the future princeps. In 53 A. D.Nero was married to Octavia and a year later Claudius died, poisoned, as all believed, by Agrippina, who feared that further delay would endanger her plans. IV. N ERO, 54–68 A.D. The quinquennium Neronis. Agrippina had previously made sure of the support of the praetorians, and so the appointment of Nero to the principate transpired without opposition. The first five years of his rule were noted as a period of excellent administration. During that time his counsels were guided by the praetorian prefect, Afranius Burrus from Narbonese Gaul, and by Lucius Annaeus Seneca, the famous writer and orator from Spain, whom Agrippina had appointed as his tutor in 49 A. D. Fall of Agrippina. This epoch is also characterized by the attempt of Agrippina to act as regent for her son and retain the influence she had acquired during the later years of the life of Claudius. But in this she was opposed both by Nero himself and his able advisors. In 55 A. D. Nero caused his [233] adoptive brother Britannicus to be poisoned, through fear that he might prove a rival. Finally, under the influence of his mistress, Poppaea Sabina, the wife of Titus Salvius Otho, he had Agrippina murdered (59 A. D.). Thereupon he divorced Octavia, who was later banished and put to death, and married Poppaea. The government of Nero. Freed from the fear of any rival influence, Nero, now twenty-two years of age, took the reins of government into his own hands. After the death of Burrus in 62, Seneca lost his influence over the princeps, who took as his chief advisor the worthless praetorian prefect, Tigellinus. The Senate,278 A History of Rome to 565 A. D. whose support he had courted in his opposition to Agrippina, now found itself without any influence; and, since his wanton extravagances emptied the treasury, Nero was forced to resort to oppressive measures to satisfy his needs. The sole object of his policy was the gratification of his capricious whims. In the conviction that he was an artist of extraordinary genius, he hungered for the applause of the successful performer, and in 65 A. D. publicly appeared in the theatre as a singer and musician. Nothing could have more deeply alienated the respect of the upper classes of Roman society. Eager to duplicate his theatrical successes in the home of the Muses, in 66 A. D. Nero visited Greece and exhibited his talent at the Olympian and Delphic games. The fire in Rome and the first persecution of the Christians, 64 A. D. In 64 A. D. a tremendous fire, which lasted for six continuous days and broke out a second time, devastated the greater part of the city of Rome. Subsequently, Nero was accused of having caused the fire, but there is absolutely no proof of his guilt. However, he did seize the opportunity to rebuild the damaged quarter on a new plan which did away with the offensive slum districts, and to erect his famous “Golden House,”a magnificent palace and park on the Esquiline. Popular opinion demanded some scapegoat for the disaster, and Nero laid the blame upon the Christians in Rome, possibly at the instigation of the Jews whose community was divided by the spread of Christian doctrines. Many Christians were condemned as incendiaries, and suffered painful and ignominious deaths. This was the first persecution of the Christians. The Armenian problem, 51 –67 A. D. In 51 A. D. an able and ambitious ruler, Vologases, came to the Parthian throne. He soon found a chance to set his brother Tiridates on the throne of [234] Armenia and was able to maintain him there until the death of Claudius. However, at the accession of Nero, Caius Domitius Corbulo was sent to Cappadocia to reassert the Roman suzeraintyIV. N ERO, 54–68A.D. 279 over Armenia. At first Vologases abandoned Armenia, owing to a revolt in Parthia, but in 58 A. D. Tiridates reappeared on the scene and war broke out. In two campaigns Corbulo was able to occupy the country and set up a Roman nominee as the Armenian king (60 A. D.). It was not long before the latter was driven out by Vologases, who succeeded in surrounding a Roman force under Caesennius Paetus, the new commander in Cappadocia, and forcing him to purchase his safety by concluding an agreement favorable to the Parthian (62 A. D.). The situation was saved by Corbulo, then legate of Syria, who was finally entrusted with the sole command of operations and forced Vologases to meet the Roman terms (63 A. D.). Tiridates retained the Armenian throne, but acknowledged the Roman overlordship by coming to Rome to receive his crown from Nero ’s hands. The revolt in Britain, 60 A. D. Under Claudius the Romans had extended their dominion in Britain as far north as the Humber, and westwards to Cornwall and Wales. In 59 A. D. Suetonius Paulinus occupied the island of Mona (Anglesea), the chief seat of the religion of the Druids. While he was engaged in this undertaking a serious revolt broke out among the Iceni and Trinovantes, who lived between the Wash and the Thames. It was caused by the severity of the Roman administration and in particular the ill-treatment of Boudicca, the queen of the Iceni, who headed the insurrection, by Roman procurators. The Roman towns of Camulodunum (Colchester), Verulamium (St. Alban’s), and Londinium (London) were destroyed, and 70,000 Romans were said to have been massacred. A Roman legion was defeated in battle and it was not until Paulinus returned and united the scattered Roman forces that the insurgents were checked. The Britons were decisively defeated and Boudicca committed suicide. The conspiracy of Piso, 65 A. D. About 62 A. D.there began a long series of treason trials in Rome occasioned partly by the desire to confiscate the property of the accused and partly by the280 A History of Rome to 565 A. D. suspicion which is the inevitable concomitant of tyranny. The resulting insecurity of the senatorial order naturally produced a real attempt to overthrow the princeps. A wide-reaching conspiracy, in which one of the praetorian prefects was involved [235] and which was headed by the senator Gaius Calpurnius Piso, was discovered in 65 A. D. Among those who were executed for complicity therein were the poet Lucan and his uncle Seneca. Other notable victims of Nero ’s vengeance were Thrasea Paetus and Borea Sonarus, the Stoic senators, whose guilt was their silent but unmistakable disapproval of his tyrannical acts. No man of prominence was safe; even the famous general Corbulo was forced to commit suicide in 67 A. D. The rebellion of Vindex, 68 A. D. Upon Nero ’s return from Greece, a more serious movement began in Gaul where Caius Julius Vindex, the legate of the province of Lugdunensis, raised the standard of revolt and was supported by the provincials who were suffering under the pressure of taxation. Vindex was joined by Sulpicius Galba, governor of Hither Spain, and other legates. The commander of Upper Germany, Verginius Rufus, who remained true to Nero, defeated Vindex, but, the revolt spread to the troops of Verginius himself and these hailed their commander as imperator. He, however, refused the honor and gave the Senate the opportunity to name the princeps. Nero ’s fate was sealed by his own cowardice and the treachery of the prefect Sabinus, who bought the support of the praetorian guards for Galba. The Senate followed their lead, and Nero, who had fled from Rome, had himself killed by a faithful freedman. With him ends the Julio-Claudian dynasty. V. T HEFIRSTWAR OF THE LEGIONS OR THE YEAR OF THE FOUREMPERORS , 68–69 A.D.281 The power of the army. The year 68 –69 witnessed the accession of four emperors, each the nominee of the soldiery. And, while up to this time the praetorians had exercised the right of acclamation in the name of the army as a whole, now the legions stationed on the various frontiers asserted for themselves the same privilege. As Tacitus expresses it, the fatal secret of the empire was discovered, namely, that the princeps could be nominated elsewhere than in Rome. Although the principate may be said to have been founded by the universal consent of the Roman world, nevertheless, from its inception the power of the princeps had rested directly upon his military command, and the civil war of 68 –69 showed how completely the professional army was master of the situation. [236] Galba, 68 A. D. Galba, who succeeded Nero, was a man of good family but moderate attainments and soon showed himself unable to maintain his authority. That he would have been held “fit to rule, had he not ruled, ”is the judgment of Tacitus. He had never been enthusiastically supported by the Rhine legions nor the praetorians, and his severity in maintaining discipline, added to his failure to pay the promised donative, completely alienated the loyalty of the guards. At the news that the troops in Upper and Lower Germany had declared for Aulus Vitellius, legate of the latter province (1 Jan., 69), Galba sought to strengthen his position by adopting as his son and destined successor, Lucius Calpurnius Piso, a young man of high birth but no experience. By this step he offended Marcus Salvius Otho, the onetime husband of Nero’s wife Poppaea Sabina, who had been one of Galba ’s staunch adherents and hoped to succeed him. Otho now won over the disgruntled praetorian guards who slew Galba and Piso, and proclaimed Otho Imperator. Otho, Jan. –April, 69. The Senate acquiesced in their decision but not so the legions of Vitellius which were already on the march to Italy. They crossed the Alps without opposition but were checked by the forces of Otho at Bedriacum, north of the282 A History of Rome to 565 A. D. Po. Without waiting for the arrival of reinforcements from the Danubian army, Otho ordered an attack upon the Vitellians at Cremona. His army was defeated and he took his own life. Vitellius, April –December, 69 A. D. Thereupon Vitellius was recognized as princeps by the Senate and his forces occupied Rome. Vitellius owed his nomination to the energy of the legates Valens and Caecina, and, although well-meaning and by no means tyrannical, showed himself lacking in energy and force of character. He was unable to control the license of his soldiery who plundered the Italian towns or his officers who enriched themselves at the public expense, while he devoted himself to the pleasures of the table. Meanwhile the army of the East, which had recognized Galba, Otho and, at first, Vitellius also, set up its own Imperator, Titus Flavius Vespasianus, who as legate of Judaea was conducting a war against the Jews. Vespasian himself proceeded to occupy Egypt and thus cut off the grain supply of Rome while his ablest lieutenant, Mucianus, set out for Italy. The Danubian legions, who had supported Otho, now declared themselves for Vespasian and, led by Antonius Primus, marched at once upon Italy. The fleet at Ravenna espoused Vespasian ’s cause, and Caecina, who [237] led the Vitellians against Primus, contemplated treachery. His troops, however, were loyal, but were defeated in a bloody night battle at Cremona and the way lay open to Rome. Vitellius then opened negotiations and offered to abdicate, but his soldiers would not let him and suppressed a rising in Rome led by the brother of Vespasian. Thereupon the city was stormed and sacked by the army of Primus. Vitellius himself was slain. Vespasian, December, 69 A. D. Vespasian obtained his recognition as princeps from the Senate and the troops in the West. He entered Rome early in 70 A. D. VI. V ESPASIAN AND TITUS, 69–81 A.D.VI. V ESPASIAN AND TITUS, 69–81A.D. 283 Caesar an imperial title. Following the example of Galba, Vespasian on his accession took the name of Caesar, which became from this time a prerogative of the family of the princeps. The new princeps inherited from his predecessors two serious wars, both national revolts against Roman rule, the one in Gaul and Lower Germany, the other in Judaea. The revolt of the Batavi, 69 A. D. The movement in Lower Germany was headed by Julius Civilis, a Batavian chieftain, formerly an officer in the Roman service, who won over the eight Batavian cohorts attached to the Rhine army. At first he posed as a supporter of Vespasian against Vitellius, but at the news of the former ’s victory he renounced his allegiance to Rome and called to his aid Germanic tribes from across the Rhine. At the same time the Gallic Treveri and Lingones, the former led by Julius Classicus and Julius Tutor, the latter by Julius Sabinus, rose in rebellion and sought to establish an empire of the Gauls with its capital at Trèves (Augusta Treverorum). They were joined by the Roman legions stationed on the Rhine. However, the remaining peoples of Gaul refused to join the revolt, preferring the Roman peace to a renewal of the old intertribal struggles. Upon the arrival of an adequate Roman force despatched by Vespasian the mutinous legions returned to their duty, the Treveri and Lingones were subdued, and Civilis forced to flee into Germany. The Batavi returned to their former status of Roman allies under the obligation of furnishing troops to the Roman armies (70 A. D.). But Rome had seen the danger of [238] stationing national corps under their native officers in their home countries. Henceforth the auxiliaries were no longer organized on a national basis and served in provinces other than those in which they were recruited. The Jewish War, 66 –70 A. D. From the year 6 A. D. Judaea had formed a Roman procuratorial province except for its brief incorporation in the principality of Agrippa I (41 –44A. D.). During this time the Jews had occupied a privileged position among the284 A History of Rome to 565 A. D. Roman subjects, being exempted from military service and the obligation of the imperial cult, notwithstanding the design of Caligula to set up his image in the temple at Jerusalem. These privileges were the source of constant friction between the Jews and the Greco-Syrian inhabitants of the cities of Palestine, which frequently necessitated the interference of Roman officials. Another cause of unrest was the pressure of the Roman taxation, which rendered agriculture unprofitable and drove many persons from the plains to the mountains to find a livelihood through brigandage. But a more deeply-seated cause of animosity to Roman rule lay in the fact that the Jewish people were a religious community and that for them national loyalty was identical with religious fanaticism. The chief Jewish sects were those of the Sadducees and the Pharisees, of whom the former composed the aristocracy and the latter the democracy. The Sadducees were supported by the Romans and monopolized the offices of the religious community, whereas the Pharisees courted the support of the masses by a policy of hostility to Rome and religious intolerance. It is improbable that the Pharisees actually sought to bring about a revolt but they kindled a fire which they could not control and strengthened the development of a party of direct action, the Zealots, who aimed to liberate Judaea from the Roman force, trusting in the support of Jehovah. By 66 A. D. all Judaea was in a ferment and it required but little incitement to produce a national revolt. Massacres in Caesarea and Jerusalem, 66 A. D. Such a provocation was afforded by the decision of the Roman government that Jews were not entitled to citizenship in Caesarea, the Roman capital of Judaea, and by a massacre of the Jews by the Greeks in a riot which followed. However, at the same time in Jerusalem the Zealots had overpowered the Roman garrison of one cohort, and massacred both the Romans and their Jewish supporters. At the news, further massacres took place in the towns of Syria and Egypt, the Jews suffering wherever they [239]VI. V ESPASIAN AND TITUS, 69–81A.D. 285 were in a minority but avenging their countrymen where they got the upper hand. The Romans awoke to the seriousness of the situation when the legate of Syria, Cestius Gallus, who had marched on Jerusalem, was forced to beat an ignominious retreat. Vespasian in command, 67 A. D. In 67 A. D. Vespasian was appointed to the command of an army of 50,000 assembled for the reconquest of Judaea. In this and the following year he reduced the open country and isolated fortresses, and was ready to begin the blockade of Jerusalem, where the majority of the Jews had fled for refuge. However, Vespasian ’s elevation to the principate caused a suspension of hostilities for ten months, during which factional strife raged fiercely within the city. Siege of Jerusalem, 70 A. D. The conclusion of the war Vespasian entrusted to his eldest son Titus, who at once began the siege of Jerusalem (70 A. D.). The city had a double line of fortifications, and within the inner wall were two natural citadels, the temple and the old city of Mount Zion. The population, augmented by great numbers of refugees, suffered terribly from hunger but resisted with the fury of despair. The outer and inner walls were stormed, and then the Romans forced their way into the temple which was destroyed by fire. Mount Zion defied assault but was starved into submission. Jerusalem was destroyed, and Judaea became a province under an imperial legate. The political community of the Jews was dissolved and they were subjugated to a yearly head-tax of two denarii (40 cents) each, payable to the temple of Jupiter Capitolinus, in consideration of which they enjoyed their previous immunities. The victory of Titus was commemorated by the arch which still stands near the Roman forum. The frontiers. The disorders of the recent wars rendered it necessary for Vespasian to reorganize many branches of the administration, a task which won for him the name of the second founder of the principate. The security of the frontiers received his particular attention. In Germany he annexed the territory286 A History of Rome to 565 A. D. between the Rhine above its junction with the Main and the upper Danube, henceforth known as the Agri Decumates from the tithe (decuma ) paid as rental by colonists who settled there. Further east on the Danube two strong legionary camps were constructed at Carnuntum and Vindobona (Vienna). The Euphrates frontier was strengthened by the establishment of Roman garrisons at Melitene and Satala on the Upper Euphrates, and by annexing to [240] the Syrian province the kingdom of Commagene, which Gaius had restored to its native dynasty. Other client principalities met a like fate. Among the soldiery discipline was restored by disbanding four of the mutinous Rhine legions and replacing them with new units. The praetorian guard, dissolved by Vitellius, was reconstituted out of Italian cohorts following the precedent set by Augustus. The finances. The most serious problem was that of the finances, for the extravagance of the preceding emperors had left the government in a state of bankruptcy and the provinces financially exhausted. Vespasian estimated that the sum of $2,000,000,000 was required to make the necessary outlays. To obtain this amount it was necessary to impose new taxes and avoid all needless expenditures. Yet he not only succeeded in making the state solvent but was able to carry out extensive building operations in Italy and in the provinces. In Rome the Capitoline Temple which had been burned in the fighting with the Vitellians was rebuilt, a temple of Peace was erected on the forum, and the huge Colosseum arose on the site of one of the lakes of Nero ’s Golden House. Vespasian also granted state support to the teachers of Greek and Roman oratory in Rome. In 74 A. D.Vespasian assumed the censorship and took a census of the empire in addition to filling the ranks of the Senate which had been depleted by the late civil wars. He was generous in his grants of citizenship to provincials, and bestowed the Latin right on all the non-Roman communities of Spain, as a preliminary step to their complete romanization.VI. V ESPASIAN AND TITUS, 69–81A.D. 287 Vespasian and the senate. Vespasian was the first princeps who was not of the Roman nobility. He was a native of the Italian municipality of Reate and his family was only of equestrian rank. He was furthermore an eminently practical man who made no attempt to disguise the fact that he was the real master in the state. Significant in this respect was his revival of the praenomen imperator, which had been neglected by the successors of Augustus. He treated the Senate with respect, and recognized its judicial authority, but excluded it from all effective share in the government. A senatorial decree and a law of the comitia conferred upon Vespasian the powers of the principate, yet he dated the beginning of his reign from the day of his salutation as Imperator by his army. All these things, combined with his refusal to punish the informers of Nero ’s reign, earned him the ill-will of the senators. Some of them [241] proceeded to open criticism of the princeps and a futile advocacy of republicanism in the form of a cult of Brutus and Cato the Younger. The leader of this group was Helvidius Priscus, son- in-law of Paetus Thrasea, whom Nero had put to death, and like him a Stoic. Although not very dangerous, such opposition could not be ignored and Priscus was banished. He was later executed, probably for conspiracy. In all probability it was the antimonarchical tendency of contemporary Stoic teachings that induced Vespasian to banish philosophers from Rome. The praetorian prefecture. To forestall any disloyalty in the praetorian guard, Vespasian made his son Titus praetorian prefect. Titus also received the imperium andtribunicia potestas , and when Vespasian died in 79 A. D.succeeded to the principate. Titus, 79 –81 A. D. His rule lasted little over two years, and is chiefly remarkable for two great disasters. In 79 A. D. an eruption of the volcano of Vesuvius buried the cities of Pompeii, Herculaneum, and Stabii in Campania. Beneath the heavy deposit of volcanic ashes the buildings of these towns have been preserved from disintegration, and the excavation of288 A History of Rome to 565 A. D. the site of Pompeii has revealed with wonderful freshness the life of an Italian municipality under the principate. The following year Rome was devastated by a fire which raged for three days and destroyed Vespasian ’s new temple of Capitoline Jupiter. In September, 81 A. D., Titus died, deeply mourned by the whole Roman world. VII. D OMITIAN , 81–96 A.D. Character and policy. Titus was followed by his younger brother Domitian, whom, on account of his ambition, neither Vespasian nor Titus had permitted to share in the government. Domitian was a thorough autocrat and his administration was characterized by great vigor and capacity. Far from being a mere tyrant, he paid great attention to the welfare of the provinces and exercised a strict supervision over his officers. He also displayed a real interest in literature and replaced the libraries destroyed in the fire of 80 A. D. His autocratic policy is clearly seen in his assumption of the censorship as perpetual censor in 84 A. D., whereby he acquired complete control over the composition of the Senate, a power which, without the title, was henceforth one of the prerogatives of the princeps. Even more emphatically does his absolutism [242] come to light in the title dominus et deus (Lord and God), which he required from the officers of his household, and by which he was generally designated, although he did not employ it himself in official documents. For the cult of the deified emperors Domitian erected a special temple in Rome, and he also established a priestly college of Flaviales, modelled on the Augustales of Rome, to perpetuate the worship of his deified father and brother. Frontier policy: Britain. The desire for military successes as a support for his absolutism led Domitian to adopt an aggressiveVII. D OMITIAN , 81–96A.D. 289 frontier policy. In Britain, Julius Agricola, legate from 77 to 84 A. D., led the Roman legions north of the Clyde and Firth of Forth and defeated the united Caledonians under their chief Galgacus (84 A. D.). He also sent his fleet around the north of Scotland and proved that Great Britain was an island. But his projects, which included an invasion of Ireland, seemed too costly to Domitian who recalled him, possibly in view of the military situation on the continent. The conquest of Scotland was not completed and the Roman authority was confined to the territory south of the Tyne. Germany. In 83 A. D.Domitian led an army across the Rhine from Mainz and annexed the district of Wetterau, where the lowlands were already in Roman hands although the hills were still occupied by the hostile Chatti. A chain of forts was built to protect the conquered region. In the winter of 88 –89A. D. the legate of Upper Germany, Antonius Saturninus, was hailed as Imperator by the two legions stationed at Mainz. Aid was expected by the mutineers from the German tribes, but this failed to materialize and the movement was suppressed by loyal troops, possibly from the lower province. In consequence of this mutiny Domitian adopted the policy of not quartering more than one legion in any permanent camp. At the same time he separated the financial administration of the German provinces from that of Gallia Belgica. The lower Danube. More powerful neighbors faced the Romans along the middle and lower Danube, and in dealing with these the policy of Domitian was less successful. These people were the Germanic tribes of the Marcomanni and Quadi in Bohemia, the Sarmatian Iazyges between the Danube and the Theiss, and the Dacians, who occupied the greater portion of modern Hungary and Roumania. The most powerful of all were the Dacians, among whom a king named Decebalus had built up [243] a strong state. In 85 A. D. they crossed the Danube into Moesia, where they defeated and killed the Roman governor. Thereupon290 A History of Rome to 565 A. D. Domitian himself took command and drove the Dacians back across the river. But the pretorian prefect Cornelius Fuscus in attempting to invade Dacia suffered a disastrous defeat in which he and most of his army perished. His successor Tettius Julianus was more successful. However, a complete victory was prevented by Domitian, who rashly invaded the territory of the Marcomanni and Iazyges, and was defeated by them. He thereupon made peace with Decebalus, who gave up his prisoners of war and acknowledged the formal overlordship of Rome, but received an annual subsidy from Domitian in addition to the services of Roman military engineers (89 A. D.). Although Domitian celebrated a triumph for his exploits, his victory was by no means certain and his settlement was only temporary. In the course of the Dacian war Moesia was divided into two provinces. Conflict with the Senate. Feeling that the army was the surest support of his power, Domitian sought to secure its fidelity by increasing the pay of the soldiers by one third. This new expense, added to the outlays necessitated by his wars, the construction of public works, like the restoration of the Capitoline Temple, and the celebration of public festivals, forced him to augment the taxes and this produced discontent in the provinces. In Rome, particularly after the revolt of Saturninus, his relations with the Senate became more and more strained. Many prominent senators were executed on charges of treason; the teachers of philosophy were again banished from Italy; and notable converts to Judaism or Christianity were prosecuted, the latter on the ground of atheism. The general feeling of insecurity produced the inevitable result; a plot in which the praetorian prefects and his wife Domitia were concerned was formed against his life; he was assassinated, 18 September, 96 A. D.His memory was cursed by the Senate and his name erased from public monuments. It was the oppression of the last years of Domitian ’s rule that so strongly biased the attitude of Tacitus towards the principate and its founder.[244] ',\n",
       "       'Chapter XV THE PASSING OF THE REPUBLIC: 44–27 B. C. I. T HERISE OF OCTAVIAN The political situation after Caesar ’s death. Caesar had made no arrangements for a successor, and his death produced the greatest consternation in Rome. The conspirators had made no plans to seize the reins of power, and instead of finding their act greeted with an outburst of popular approval, they were left face to face with the fact that although Caesar was dead the Caesarian party lived on in his veterans and the city populace, led by the consul Mark Antony, and Marcus Aemilius Lepidus, Caesar ’s master of the horse. The Senate met on 17 March, and it was evident that a majority of its members supported the assassins, but they were afraid of the legion which Lepidus had under his orders and the Caesarian veterans in the city. Antony, who had obtained possession of Caesar ’s papers and money, took the lead of the Caesarian party and came to terms with their opponents. It was agreed that the conspirators should go unpunished, but that the acts of Caesar should be ratified, even those which had not yet been carried into effect, that his will should be approved, and that he should receive a public funeral. The reading of Caesar ’s will revealed that he had left his gardens on the right bank of the Tiber as a public park, had220 A History of Rome to 565 A. D. bequeathed a donation of three hundred sesterces (about fifteen dollars) to each Roman citizen and had adopted his grand- nephew Caius Octavius as his son and heir to three-fourths of his fortune. By a speech delivered to the people on the day of Caesar’s funeral Antony skilfully enflamed popular sentiment against Caesar ’s murderers. The mob seized the dictator ’s corpse, burned it in the forum and buried the ashes there. The chief conspirators did not dare to remain in the city; Decimus Brutus went to his province of Cisalpine Gaul, Marcus Brutus and Cassius lingered in the neighborhood of Rome. Antony was master of the situation in the capital and overawed opposition by [186] his bodyguard of 6000 veterans. He held in check Lepidus and other Caesarians who called for vengeance upon the conspirators. Lepidus was won over by his election to the position of Pontifex Maximus to succeed Caesar and was induced to leave the city for his province of Hither Spain to check the progress of Sextus Pompey, who had reappeared in Farther Spain and defeated the Caesarian governor. It was hoped that Sextus would be satisfied with permission to return to Rome and compensation for his father ’s property. Caesar ’s arrangements for the provincial governorships had assigned Macedonia to Antony and Syria to Dolabella, who became Antony ’s colleague in the consulate at Caesar’s death. This assignment Antony altered by a law which granted him Cisalpine Gaul and the Transalpine district outside the Narbonese province for a term of six years in violation of a law of Caesar ’s, which limited proconsular commands to two years. Dolabella was to have Syria for a like period and Decimus Brutus was given Macedonia in exchange for Cisalpine Gaul. The consuls were to occupy their provinces at once. To Brutus and Cassius were assigned for the next year the provinces of Crete and Cyrene; while for the present they were given a special commission to collect grain in Sicily and Asia. The two left Italy for the East with the intention of seizing the provinces there before the arrival of Dolabella. They hoped to raise a force whichI. T HERISE OF OCTAVIAN 221 would enable them to check Antony ’s career, for it was evident that Antony regarded himself as Caesar ’s political heir and was planning to follow the latter ’s path to absolute power. Caius Octavius. But he found an unexpected rival in the person of Caesar ’s adopted son, Caius Octavius, a youth of eighteen years, who at the time of Caesar ’s death was at Apollonia in Illyricum with the army that was being assembled for the Parthian War. Against the advice of his parents he returned to Rome and claimed his inheritance. His presence was unwelcome to Antony, who had expended Caesar ’s money, and refused to refund it. Thereupon Octavius raised funds by selling his own properties and borrowing, and began to pay off the legacies of Caesar. By this means he soon acquired popularity with the Caesarians. The formalities of his adoption were not completed until the following year, but from this time on he took the name of Caesar.13[187] Antony underestimated the capacities of this rather sickly youth and continued to refuse him recognition, but was soon made aware of his mistake. He himself was anxious to occupy his province of Cisalpine Gaul, and since Decimus Brutus refused to evacuate it, Antony determined to drive him out and obtained permission to recall for that purpose the four legions from Macedonia. Before their arrival Octavian raised a force among Caesar ’s veterans in Campania, and on the march from Brundisium to Rome two of the four Macedonian legions deserted to him. The Caesarians were now divided into two parties, and Octavian began to coöperate with the republicans in the Senate. The latter were thus encouraged to oppose Antony with whom reconciliation was impossible. Cicero, who had not been among the conspirators but who had subsequently approved 13After the adoption his full name was Caius Julius Caesar Octavianus. Although he was known as Caesar by his contemporaries, it is more convenient to refer to him henceforth as Octavian, to distinguish him from his adoptive father.222 A History of Rome to 565 A. D. Caesar’s murder, was about to leave Italy to join Brutus when he heard of the changed situation in Rome and returned to assume the leadership of the republican party. Antony left Rome for the Cisalpine province early in December, 44 B. C., and Cicero induced the Senate to enter into a coalition with Octavian against him. In his Philippic Orations he gave full vent to his bitter hatred of Antony and so aroused the latter ’s undying enmity. The war at Mutina, December 44 –April 43 B. C. In Cisalpine Gaul Decimus Brutus, relying upon the support of the Senate, refused to yield to Antony and was blockaded in Mutina. The Senate made preparations for his relief. Antony was ordered to leave the province, and Hirtius and Pansa, who became consuls in January, 43, took the field against him. The aid of Octavian was indispensable and the Senate conferred upon him the propraetorian imperium with consular rank in the Senate. The combined armies defeated Antony in two battles in the vicinity of Mutina, forcing him to give up the siege and flee towards Transalpine Gaul. But Pansa died of wounds received in the first engagement and Hirtius fell in the course of the second. Ignoring Octavian, the Senate entrusted Brutus with the command and the task of pursuing Antony. The power of the Senate seemed reëstablished, for Marcus Brutus and Cassius had succeeded in their design of getting control of the eastern provinces, Dolabella having perished in the conflict, and were at the head of a considerable military and naval force. The Senate accordingly conferred upon them supreme military authority (maius imperium ), and gave to Sextus Pompey, then at Massalia, a naval command. At last Cicero could induce the senators to [188] declare Antony a public enemy. He no longer felt the support of Octavian a necessity and expressed the attitude of the republicans towards him in the saying “the young man is to be praised, to be honored, to be set aside. ”14But it was soon evident that the 14Laudandum adulescentem, ornandum, tolendum , Cicero, Fam. , xi, 20, 1.II. T HETRIUMVIRATE OF 43B.C. 223 experienced orator had entirely misjudged this young man who, so far from being the tool of the Senate, had used that body for his own ends. Octavian refused to aid Decimus Brutus, and demanded from the Senate his own appointment as consul, a triumph, and rewards for his troops. His demands were rejected, whereupon he marched upon Rome with his army, and occupied the city. On 19 August, he had himself elected consul with Quintus Pedius as his colleague. The latter carried a bill which established a special court for the trial of Caesar ’s murderers, who were condemned and banished. The same penalty was pronounced upon Sextus Pompey. The Senate ’s decree against Antony was revoked. The Triumvirate, 43 B. C. On his way to Transalpine Gaul Antony had met with Lepidus, whom the Senate had summoned from Spain to the assistance of Decimus Brutus. But Lepidus was a Caesarian and, alarmed by the success of Marcus Brutus and Cassius, allowed his troops to go over to Antony. Decimus Brutus had taken up the pursuit of Antony and joined forces with Plancus, governor of Narbonese Gaul. However, upon news of the events in Rome, Plancus abandoned Brutus and joined Antony. Brutus was deserted by his troops and killed while a fugitive in Gaul. II. T HETRIUMVIRATE OF 43 B.C. Octavian had taken care to have the defense of Italy against Antony and Lepidus entrusted to himself, and hastened northwards to meet the advance of their forces. But both sides were ready to come to terms and unite their forces for the purpose of crushing their common enemies, Brutus and Cassius. Accordingly, at a conference of the three leaders on an island in the river Renus near Bononia, a reconciliation between Antony and Octavian was effected and plans laid for224 A History of Rome to 565 A. D. their coöperation in the immediate future. The three decided to have themselves appointed triumvirs for the settlement of the commonwealth ( triumviri reipublicae constituendae ) for a term of five years. They were to have consular imperium with [189] the right to appoint to the magistracies and their acts were to be valid without the approval of the Senate. Furthermore, they divided among themselves the western provinces; Antony received those previously assigned to him, Lepidus took the Spains and Narbonese Gaul; while to Octavian fell Sardinia, Sicily and Africa. Octavian was to resign his consulship, but in the next year to be joint commander with Antony in a campaign against the republican armies in the East while Lepidus protected their interests in Rome. The triumvirate was legalized by a tribunician law (the lex Titia ) of 27 November, 43, and its members formally entered upon office on the first of January following. Unlike the secret coalition of Pompey, Crassus and Caesar, the present one constituted a commission clothed with almost supreme public powers. Proscriptions. The formation of the coalition was followed by the proscription of the enemies of the triumvirs, partly for the sake of vengeance but largely to secure money for their troops from the confiscation of the properties of the proscribed. Among the chief victims was Cicero, whose death Antony demanded. He died with courage for the sake of the republican ideal to which he was devoted, but it must be recognized that this devotion was to the cause of a corrupt aristocracy, whose crimes he refused to share, although he forced himself to condone and justify them. The exactions of the triumvirs did not end with the confiscation of the goods of the proscribed; special taxes were laid upon the propertied classes in Italy and eighteen of the most flourishing Italian municipalities were marked out as sites for colonies of veterans. Divus Julius. In 42 B. C.Octavian dedicated a temple to Julius Caesar in the forum where his body had been burned. LaterII. T HETRIUMVIRATE OF 43B.C. 225 by a special law Caesar was elevated among the gods of the Roman state with the name of Divus Julius. Meanwhile Octavian had found difficulty in occupying his allotted provinces. Africa was eventually conquered by one of his lieutenants, but Sextus Pompey, who controlled the sea, had occupied Sardinia and Sicily. His forces were augmented by many of the proscribed and by adventurers of all sorts, and Octavian could not dislodge him before setting out against Brutus and Cassius. Philippi, 42 B. C. These republican generals had raised an army of 80,000 troops, in addition to allied contingents, and taken up a position in Thrace to await the attack of the triumvirs. In the [190] summer of 42 B. C.the latter transported their troops across the Adriatic in spite of the fleet of their enemies, and the two armies faced each other near Philippi on the borders of Macedonia and Thrace. An indecisive battle was fought in which Antony defeated Cassius, who committed suicide in despair, but Brutus routed the troops commanded by Octavian. Shortly afterwards Brutus was forced by his soldiers to risk another battle. This time he was completely defeated, and took his own life. The division of the Empire. The triumvirs now redistributed the provinces among themselves, Cisalpine Gaul was incorporated in Italy, whose political boundaries at length coincided with its geographical frontier. The whole of Transalpine Gaul was given to Antony, Octavian received the two Spains, while Lepidus was forced to content himself with Africa. He was suspected by his colleagues of having intrigued with Sextus Pompey, and they were now in a position to weaken him at the risk of his open hostility. From the time of the meeting near Bononia Antony had been the chief personage in the coalition and his prestige was enhanced by his success at Philippi. It was now agreed that he should settle conditions in the eastern provinces and raise funds there, while Octavian should return to Italy and carry out the promised assignment of lands to their troops. This decision was of momentous consequence for226 A History of Rome to 565 A. D. the future. In the summer of 41 B. C.Antony received a visit from Cleopatra at Tarsus in Cilicia. Her personal charms and keen intelligence, which had enthralled the great Julius, exercised an even greater fascination over Antony, whose cardinal weaknesses were indolence and sensual indulgence. He followed Cleopatra to Egypt, where he remained until 40 B. C. Octavian in Italy, 42 –40 B. C. In Italy Octavian was confronted with the task of providing lands for some 170,000 veterans. The eighteen municipalities previously selected for this purpose proved insufficient, and a general confiscation of small holdings took place, whereby many persons were rendered homeless and destitute. Few, like the poet Virgil, found compensation through the influence of a powerful patron. A heavy blow was dealt to the prosperity of Italy. The task of Octavian was greatly hampered by opposition from the friends of Antony, led by the latter ’s wife Fulvia and his brother Lucius Antonius. Hostilities broke out in which Lucius was besieged in [191] Perusia and starved into submission (40 B. C.). Fulvia went to join Antony, while others of their faction fled to Sextus Pompey who still held Sicily. Of great importance to Octavian was his acquisition of Gaul which came into his hands through the death of Antony ’s legate, Calenus. An indication of the approaching break between Octavian and Antony was the former ’s divorce of his wife Clodia, and his marriage with Scribonia, a relative of Sextus Pompey, whom he hoped to win over to his side. Treaty of Brundisium, 40 B. C. While Octavian had been involved in the Perusian war, the Parthians had overrun the province of Syria, and in conjunction with them Quintus Labienus, a follower of Brutus and Cassius, penetrated Asia Minor as far as the Aegean coast. Antony thereupon returned to Italy to gather troops to reëstablish Roman authority in the East. Both he and Octavian were prepared for war and hostilities began around Brundisium, which refused Antony admittance. However, a reconciliation was effected, and an agreement entered intoII. T HETRIUMVIRATE OF 43B.C. 227 which was known as the treaty of Brundisium. It was provided that Octavian should have Spain, Gaul, Sardinia, Sicily and Dalmatia, while Antony should hold the Roman possessions east of the Ionian sea; Lepidus retained Africa, and Italy was to be held in common. To cement the alliance Antony, whose wife Fulvia had died, married Octavia, sister of Octavian. The treaty of Misenum, 39 B. C. In the following year Antony and Octavian were forced to come to terms with Sextus Pompey. He still defiantly held Sicily and in addition wrested Sardinia from Octavian. His command of these islands and of the seas about Italy enabled him to cut off the grain supply of Rome, where a famine broke out. This brought about a meeting of the three at Misenum in which it was agreed that Sextus should govern Sardinia, Sicily and Achaia for five years, should be consul and augur, and receive a monetary compensation for his father ’s property in Rome. In return he engaged to secure peace at sea and convoy the grain supply for the city. However, the terms of the treaty were never fully carried out and in the next year Octavian and Sextus were again at war. The former regained possession of Sardinia but failed in an attack upon Sicily. Treaty of Tarentum, 37 B. C. Meanwhile Antony had returned to the East where in the years 39 –37B. C.his lieutenants won back the Asiatic provinces from Labienus and the Parthians [192] and drove the latter beyond the Euphrates. He now resolved to carry out the plan of Julius Caesar for the conquest of the Parthian kingdom. This necessitated his return to Italy to secure reinforcements. But, his landing was opposed by Octavian who was angry because Antony had not supported him against Sextus Pompey, whom Antony evidently regarded as a useful check upon his colleague ’s power. However, Octavia managed to reconcile her brother and her husband, and the two reached a new agreement at Tarentum. Here it was arranged that Antony should supply Octavian with one hundred ships for operations against Pompey, that Lepidus should coöperate in the attack upon228 A History of Rome to 565 A. D. Sicily, and that both he and Octavian should furnish Antony with soldiers for the Parthian war. As the power of the triumvirs had legally lapsed on 31 December, 38 B. C., they decided to have themselves reappointed for another five years, which would terminate at the close of 33 B. C.This appointment like the first was carried into effect by a special law. The defeat of Sextus Pompey, 36 B. C. Octavian now energetically pressed his attack upon Sicily, while Lepidus coöperated by besieging Lilybaeum. At length, in September, 36B. C., Marcus Vipsanius Agrippa, Octavian ’s ablest general, destroyed the bulk of Pompey ’s fleet in a battle off Naulochus. Pompey fled to Asia, where two years later he was captured by Antony’s forces and executed. After the flight of Sextus, Lepidus challenged Octavian ’s claim to Sicily, but his troops deserted him for Octavian and he was forced to throw himself upon the latter’s mercy. Stripped of his power and retaining only his office of chief pontiff, he lived under guard in an Italian municipality until his death in 12 B. C.His provinces were taken by Octavian. The defeat of Sextus Pompey and the deposition of Lepidus gave Octavian sole power over the western half of the empire, and inevitably tended to sharpen the rivalry and antagonism which had long existed between himself and Antony. In the same year Octavian was granted the tribunician sacrosanctity and the right to sit on the tribune ’s bench in the Senate. III. T HEVICTORY OF OCTAVIAN OVER ANTONY AND CLEOPATRA The Parthian war, 36 B. C. After the Treaty of Tarentum Antony proceeded to Syria to begin preparations for his campaign against the Parthians which he began in 36 B. C. Avoiding the Mesopotamian desert, he marched to the north through Armenia [193] into Media Atropatene in the hope of surprising the enemy. However, having met with a repulse in his siege of the fortress229 Phraata (or Praaspa), he was forced to retreat. He was vigorously pursued by the Parthians, but by skilful generalship managed to conduct the bulk of his army back to Armenia. Still he lost over 20,000 of his troops, and his reputation suffered severely from the complete failure of the undertaking. And so he prepared once more to take the offensive. As he attributed the failure of the late expedition to the disloyalty of the king of Armenia, Antony marched against him, treacherously took him prisoner and occupied his kingdom (34 B. C.). Thereupon he entered into an alliance with the king of Media Atropatene, a vassal of Parthia, and formed ambitious projects for the conquest of the eastern provinces of the empires of Alexander the great and the Seleucids. But these plans could only be executed with the help of the military resources of Italy and the western provinces that were now completely in the hands of Octavian. In view of the jealousy existing between the two triumvirs it was not likely that Octavian would willingly provide Antony with the means to increase his power, and so the latter was prepared to resort to force to make good his claim upon Italy. Antony and Cleopatra. Another factor in the quarrel was Antony’s connection with Cleopatra. While in Antioch in 36 B. C. he openly married Cleopatra, and in the next year refused his legal wife, Octavia, permission to join him. This was equivalent to publicly renouncing his friendship with Octavian. Although it cannot be said that Antony had become a mere tool of Cleopatra, he was completely won over to her plans for the future of Egypt; namely, that since Egypt must sooner or later be incorporated in the Roman empire, this should be brought about by her union with the ruler of the Romans. Consequently, since her marriage with Antony she actively supported his ambition to be the successor of Julius Caesar. Their aims were clearly revealed by a pageant staged in Alexandria in 34 B. C., in which Antony and Cleopatra appeared as the god Dionysus and the goddess Isis, seated on golden thrones. In an address to the assembled public230 A History of Rome to 565 A. D. Antony proclaimed Cleopatra “queen of queens, ”and ruler of Egypt, Cyprus, Crete and Coele-Syria; joint ruler with her was Ptolemy Caesarion, the son she had borne to Caesar. The two young sons of Antony and Cleopatra were proclaimed “kings of [194] kings”; the elder as king of Armenia, Media and the Parthians, the younger as king of Syria, Phoenicia and Cilicia. To their daughter, Cleopatra, was assigned Cyrene. These arrangements aroused great mistrust and hostility towards Antony among the Romans, who resented the partition of Rome ’s eastern provinces in the interest of oriental potentates. Relying upon this sentiment, Octavian in 33 B. C. refused Antony ’s demands for troops and joint authority in Italy. Antony at once postponed the resumption of the Parthian war and prepared to march against his rival. The outbreak of hostilities, 32 B. C. The final break came early in 32 B. C.The triumvirate legally terminated with the close of 33 B. C.and two consuls of Antony ’s faction came into office for the following year. To win support in Rome, Antony wrote to the Senate offering to surrender his powers as triumvir and restore the old constitution. His friends introduced a proposal that Octavian should surrender his imperium at once, but this was vetoed by a tribune. Octavian then took charge of affairs in Rome, and the consuls, not daring to oppose him, fled to Antony, accompanied by many senators of his party. Thereupon Octavian caused the Assembly to abrogate the former ’simperium and also his appointment to the consulship for 31 B. C.To justify his actions and convince the Italians of the danger which threatened them from the alliance of Antony and Cleopatra, Octavian seized and published Antony ’s will which had been deposited in the temple of Vesta. The will confirmed the disposition which he had made of the eastern provinces in the interest of the house of Cleopatra. Octavian was now able to bring about a declaration of war against the Egyptian queen and to exact an oath of loyalty to himself from the senators in Rome and from the municipalities of Italy and the western provinces. It was this oath of allegiance231 which was the main basis of his authority for the next few years. In reply to these measures, Antony formally divorced Octavia and refused to recognize the validity of the laws which deprived him of his powers. Actium, 31 B. C. In the fall of 33 B. C.Antony and Cleopatra began assembling their forces in Greece with the intention of invading Italy. By the next year they had brought together an army of about 100,000 men, supported by a fleet of 500 ships of war. However, no favorable occasion for attempting a landing in Italy presented itself and both the fleet and the army went into winter quarters in the gulf of Ambracia (32 –1B. C.). In the spring [195] of 31 B. C.Octavian with 80,000 men and 400 warships crossed over to Epirus and took up a position facing his opponents who had taken their station in the bay of Actium at the entrance to the gulf of Ambracia. His most capable general was Agrippa. Owing to discord which had arisen between Cleopatra and his Roman officers, Antony remained inactive while detachments of Octavian’s forces won over important points in Greece. Antony began to suffer from a shortage of supplies and some of his influential followers deserted to the opposite camp. At length he risked a naval battle, in the course of which Cleopatra and the Egyptian squadron set sail for Egypt and Antony followed her. His fleet was defeated and his army, which attempted to retreat to Macedonia, was forced to surrender. There is little doubt that Cleopatra had for some time been contemplating treachery to Antony, and her desertion was probably based on the calculation that if Octavian should prove victorious she would be able to claim credit for her services, while if Antony should be the victor, she was confident of obtaining pardon for her conduct. Probably she did not anticipate that Antony would join her in flight. At any rate, when Antony abandoned his still undefeated fleet and army he sealed both his fate and hers. The victor advanced slowly eastwards and in the summer of 30 B. C. began his invasion of Egypt. Antony ’s attempts at defense were unavailing; his troops232 A History of Rome to 565 A. D. went over to Octavian who occupied Alexandria. In despair he committed suicide. For a time Cleopatra, who had frustrated Antony’s last attempt at resistance, hoped to win over Octavian as she had won Caesar and Antony, so that she might save at least Egypt for her dynasty. But finding her efforts unavailing, she poisoned herself rather than grace Octavian ’s triumph. The kingdom of Egypt was added to the Roman empire, not as a province but as part of an estate to be directly administered by the ruler of the Roman world who took his place as the heir of the Pharaohs and the Ptolemies. The treasures of Egypt reimbursed Octavian for the expenses of his late campaigns. After reëstablishing the old provinces and client kingdoms in the East, Octavian returned to Rome in 29 B. C., where he celebrated a three-day triumph over the non-Roman peoples of Europe, Asia and Africa, whom he or his generals had subjugated during his triumvirate. At the age of thirty-three Octavian had made good his claim to the political inheritance of Julius Caesar. His victory over Antony closed the century of civil strife which had begun with [196] the tribunate of Tiberius Gracchus. War and the proscriptions had exacted a heavy toll from Romans and Italians; Greece, Macedonia and Asia had been brought to the verge of ruin; the whole empire longed for peace. Everywhere was Octavian hailed as the savior of the world and, as the founder of a new golden age, men were ready to worship him as a god. IV. S OCIETY AND INTELLECTUAL LIFE IN THE LASTCENTURY OF THEREPUBLIC The upper classes. The characteristics of Roman society in the last century of the republic are the same which we have previously seen developing as a result of Rome ’s imperial expansion. The233 upper classes of society comprise the senatorial nobility and the equestrians; the former finding their goal in public office, the latter in banking and financial ventures, and both alike callously exploiting the subjects of Rome in their own interests. Of this one example will suffice. Marcus Brutus, the conspirator, who enjoyed a high repute for his honorable character, loaned money to the cities of Cyprus at the exorbitant rate of 48% and influenced the senate to declare the contract valid. He did not hesitate to secure for his agents military authority with which to enforce payment, and was much disappointed when Cicero, as governor of Cilicia and Cyprus, refused to give his representative such power or to allow him to collect more than 12% interest on his debt. As corruption characterized the public, so did extravagance and luxury the private life of the governing classes. The palaces of the wealthy in Rome were supplemented by villas in the Sabine hills, in the watering places of the Campanian coast, and other attractive points. The word villa, which originally designated a farm house, now meant a country seat equipped with all the modern conveniences of city life. The solidarity of the family life which had been the foundation of Roman morality was fast disappearing. In general, wives no longer came under the authority ( manus ) of their husbands upon marriage, and so retained control of their properties acquired by inheritance or dowry through a guardian from their own families. Consequently women played an increasingly independent and important part in the society of the day. In Rome at least the [197] age was one of a low tone in morals, and divorces were of common occurrence. At the same time social intercourse was characterized by a high degree of urbanity —the good manners which mark the society of cultured men. The plebs. Of the life of the plebs who thronged the high tenement houses and narrow streets of Rome we know very little. But until the Assembly was overawed or superseded by234 A History of Rome to 565 A. D. armed forces the city populace could not be ignored by the upper classes. Their votes must be courted by magnificent displays at the public games, by entertainments and largesses of all kinds, and care must be taken to provide them with food to prevent their becoming a menace to the public peace. This latter problem was solved as we have seen after the time of Caius Gracchus by providing them with a monthly allowance of corn, at first at a greatly reduced price, but after 57 B. C. gratuitously. Julius Caesar found about 320,000 persons sharing in this distribution, and reduced the number to 150,000 male citizens. The city mob thus became to a certain degree state pensioners, and placed a heavy burden on the treasury. There can be no doubt that the ranks of the urban proletariat were swelled by peasants who had lost their holdings in the course of the civil wars and the settlements of discharged soldiers on Italian soil, but the chief increase came from the manumission of slaves, who as liberti or freedmen became Roman citizens. Sulla ’s 10,000 Cornelii were of this number. The influx of these heterogeneous elements radically changed the character of the city populace which could no longer claim to be mainly of Roman and Italian stock but embraced representatives of all races of the Mediterranean world. The population was further augmented by the great numbers of slaves attached to the houses of the wealthy or engaged in various industrial occupations for their masters or others who hired their services. In the rural districts of Italy the plantation system had been widely extended and agriculture and grazing were in the main carried on by slave labor. Yet the free farmers had by no means entirely disappeared and free labor was employed even on the latifundia themselves. The discharged veterans who were provided with lands attest the presence of considerable numbers of free landholders. Religion. In religion this period witnessed a striking decline of interest and faith in the public religion of the Roman state.235 This was in part due to the influence of Greek mythology which [198] changed the current conceptions of the Roman divinities and to Greek philosophy with its varying doctrines as to the nature and powers of the gods. The latter especially affected the upper classes of society upon whom fell the duty of maintaining the public cults. From the time of the Gracchi the public priesthoods declined in importance; and in many cases they were used solely as a tool for political purposes. The increase in the numbers of the priestly colleges and the substitution of election for coöptation brought in many members unversed in the ancient traditions, and the holders of the priesthoods in general showed great ignorance of their duties, especially with regard to the ordering of the state calendar. Some religious associations like the Arval Brotherhood ceased to exist and knowledge of the character of some of the minor deities was completely lost. The patrician priesthoods, which involved serious duties and restricted the freedom of their incumbents were avoided as much as possible. At the same time the private religious rites, hereditary within family groups, fell into decay. While the attitude of educated circles towards the state cults was thus one of indifference or skepticism, it is hard to speak of that of the common people. Superstitious they were beyond a doubt, but in the performance of the state cults they had never actively participated. The more emotional cults of the oriental type made a greater appeal to them if we may judge from the difficulty which the Senate experienced in banishing the priests of Isis from the city. Stoicism and Epicureanism. The philosophic systems which made the most converts among the educated Romans were Stoicism and Epicureanism. The former, as we have seen, had been introduced to Rome by Panaetius, whose teaching was continued by Posidonius. It appealed to the Romans as offering a practical rule of life for men engaged in public affairs. On the other hand, the doctrine of Epicurus that men should withdraw from the annoyances of political life and seek happiness in the236 A History of Rome to 565 A. D. pursuit of pleasure, that is, intellectual pleasure, was interpreted by the Roman as sanctioning sensual indulgence and became the creed of those who gave themselves up to a life of ease and indolence. Literature. The last century of the republic saw the completion of the amalgamation of Greek and Roman culture which had begun in the previous epoch. The resulting Graeco- Roman culture was a bi-lingual civilization based upon Greek [199] intellectual and Roman political achievement which it was the mission of the empire to spread to the barbaric peoples of the western provinces. The age was marked by many-sided, keen, intellectual activity which brought Rome ’s intellectual development to its height. Yet this Graeco-Roman culture was almost exclusively a possession of the higher classes. The drama. In the field of dramatic literature the writing of tragedy practically ceased and comedy took the popular forms of caricature ( fabula Atellana ) and the mime, or realistic imitation of the life of the lower classes. Both forms were derived from Greek prototypes but dealt with subjects of everyday life and won great popularity in the theatrical exhibitions given at the public games. Poetry: Catullus, 87 –c. 54 B. C. The best exponent of the poetry of the age is Catullus, a native of Verona in Cisalpine Gaul, who as a young man was drawn into the vortex of fashionable society at the capital. This new poetry appealed to a highly educated class, conversant alike with the literature of the Greek classic and Hellenistic periods as well as with modern production, and able to appreciate the most elaborate and diversified meters. The works of Catullus show the wide range of form and subject which appealed to contemporary taste. Translations and copies of Greek originals find their place alongside epigrams and lyric poems of personal experience. It is his poetry of passion, of love and hate, which places him among the foremost lyric poets of all time.237 Lucretius, 98 –53 B. C. An exception among the poets of his time was Lucretius, who combined the spirit of a poet with that of a religious teacher. He felt a mission to free the minds of men from fear of the power of the gods and of death. To this end he wrote a didactic epic poem, On the Nature of Things , in which he explained the atomic theory of Democritus which was the foundation of the philosophical teachings of Epicurus. The essence of this doctrine was that the world and all living creatures were produced by the fortuitous concourse of atoms falling through space and that death was simply the dissolution of the body into its component atomic elements. Consequently, there was no future existence to be dreaded. True poetic value is given to the work by the author ’s great imaginative powers and his keen observation of nature and human life. Lucretius made the Latin hexameter a fitting medium for the expression of sustained and lofty thought. [200] Oratory. It was through the study and practice of oratory that Roman prose attained its perfection between the time of the Gracchi and Julius Caesar. Political and legal orations were weapons in the party strife of the day and were frequently polished and edited as political pamphlets. Along with political documents of this type appeared orations that were not written to be delivered in the forum or senate chamber but were addressed solely to a reading public. Among the great forensic orators of the age were the two Gracchi, of whom the younger, Caius, had the reputation of being the most effective speaker that Rome ever knew. Others of note were Marcus Antonius, grandfather of the triumvir, Lucius Licinius Crassus, and Quintus Hortensius Hortalus. But it was Cicero who brought to its perfection the Roman oration in its literary form. Cicero, 106 –43 B. C. Cicero was beyond question the intellectual leader of his day. He was above all things an orator and until past the age of fifty his literary productivity was almost entirely in that field. In his latter years he undertook238 A History of Rome to 565 A. D. the great task of making Hellenistic philosophy accessible to the Roman world through the medium of Latin prose. In addition to his speeches and oratorical and philosophic treatises Cicero left to posterity a great collection of letters which were collected and published after his death by his freedman secretary. His correspondence with his friends is a mine of information for the student of society and politics in the last century of the republic. Caesar, 100 –44 B. C. Julius Caesar made his genius felt in the world of letters as well as of politics. Though an orator of high rank, he is better known as the author of his lucid commentaries on the Gallic war and on the Civil war, which present the view that he desired the Roman public to take of his conflict with the senate. Sallust, 86 –36 B. C. Foremost among historical writers of the period was Caius Sallustius Crispus, “the first scientific Roman historian.”Subsequent generations ranked him as the greatest Roman historian. His chief work, a history of the period 78 –67 B. C., is almost entirely lost, but two shorter studies on the Jugurthine war and Cataline ’s conspiracy have been preserved. In contrast to Cicero, he is the protagonist of Caesarianism. Varro, 116 –27 B. C. Of great interest to later ages were the works of the antiquarian and philologist, Marcus Terentius Varro, the most learned Roman of his time. His great work on Roman religious and political antiquities has been lost, but a part [201] of his study On the Latin Language is still extant, as well as his three books On Rural Conditions . The latter give a good picture of agricultural conditions in Italy towards the end of the republic. Jurisprudence. To legal literature considerable contributions were made both in the domain of applied law and of legal theory. We have already noticed the appeal which the Stoic philosophy made to the best that was in Roman character and many of the leading Roman jurists accepted its principles. It was natural then that Roman legal philosophy should begin under the influence of the Stoic doctrine of a universal divine law ruling239 the world, this law being an emanation of right reason, i. e. the divine power governing the universe. The most influential legal writers of the period were Quintus Mucius Scaevola who compiled a systematic treatment of the civil law in eighteen books, and Servius Sulpicius Rufus, the contemporary of Cicero. Sulpicius was a most productive author, whose works included Commentaries on the XII Tables, and on the Praetor ’s Edict, as well as studies on special aspects of Roman law. [202][203] PART III THE PRINCIPATE OR EARLY EMPIRE: 27 B. C. –285 A. D. [204] [205] '],\n",
       "      dtype='<U641089')"
      ]
     },
     "execution_count": 5,
     "metadata": {},
     "output_type": "execute_result"
    }
   ],
   "source": [
    "docs"
   ]
  },
  {
   "cell_type": "markdown",
   "id": "aa88b1e7-cf87-4937-963c-15670beea630",
   "metadata": {},
   "source": [
    "# Summarize the docs"
   ]
  },
  {
   "cell_type": "code",
   "execution_count": 9,
   "id": "34844067-19e0-4e28-bdfb-0ac7b3c69fae",
   "metadata": {
    "execution": {
     "iopub.execute_input": "2025-01-08T21:12:32.695151Z",
     "iopub.status.busy": "2025-01-08T21:12:32.694149Z",
     "iopub.status.idle": "2025-01-08T21:12:33.005832Z",
     "shell.execute_reply": "2025-01-08T21:12:33.005832Z",
     "shell.execute_reply.started": "2025-01-08T21:12:32.695151Z"
    }
   },
   "outputs": [],
   "source": [
    "from nltk.tokenize import sent_tokenize, word_tokenize\n",
    "import nltk\n",
    "from nltk.corpus import stopwords\n",
    "\n",
    "stops = set(stopwords.words('english'))\n",
    "\n",
    "def custom_summ(text, query, top_n=0.2):\n",
    "    q = word_tokenize(query.lower())\n",
    "    sig_words = [w for w in q if w not in stops]\n",
    "    #print(sig_words)\n",
    "    \n",
    "    vectorizer = TfidfVectorizer(stop_words='english', min_df=0.04)\n",
    "    sentences = sent_tokenize(text)\n",
    "    # sentences[2] = sentences[2] + ' '.join(sig_words)\n",
    "\n",
    "    X = vectorizer.fit_transform(sentences).toarray()\n",
    "    scores = X.sum(axis=1).flatten()\n",
    "\n",
    "    uprankers = 1 + np.array([sum([1 for w in sig_words if w in s.lower()]) for s in sentences])\n",
    "    #print(uprankers)\n",
    "\n",
    "    scores = scores * uprankers\n",
    "    #print(scores)\n",
    "\n",
    "    if top_n < 1:\n",
    "        top_n = max(1, int(len(sentences) * top_n))\n",
    "\n",
    "    #print(top_n,len(sentences) )\n",
    "\n",
    "    idx = scores.argsort()[-top_n:]\n",
    "    idx.sort()\n",
    "    #print(idx)\n",
    "\n",
    "    return ' '.join(list(np.array(sentences)[idx]))\n",
    "\n"
   ]
  },
  {
   "cell_type": "code",
   "execution_count": 8,
   "id": "4eab1e52-a811-4de0-a1a6-47954cdc8841",
   "metadata": {
    "execution": {
     "iopub.execute_input": "2025-01-08T18:26:06.266249Z",
     "iopub.status.busy": "2025-01-08T18:26:06.265248Z",
     "iopub.status.idle": "2025-01-08T18:26:06.706156Z",
     "shell.execute_reply": "2025-01-08T18:26:06.705140Z",
     "shell.execute_reply.started": "2025-01-08T18:26:06.266249Z"
    }
   },
   "outputs": [
    {
     "data": {
      "application/vnd.jupyter.widget-view+json": {
       "model_id": "9107ab21a92b4e6ba3daf6cf2137e3e1",
       "version_major": 2,
       "version_minor": 0
      },
      "text/plain": [
       "  0%|          | 0/10 [00:00<?, ?it/s]"
      ]
     },
     "metadata": {},
     "output_type": "display_data"
    },
    {
     "data": {
      "text/plain": [
       "['Chapter 5 Julius Caesar The Roman Army The Romans were great conquerors. 28The Big Question Why did some Romans think Julius Caesar was a hero? His name was Julius Caesar (/jool*yus/see*zur/). Julius Caesar Julius Caesar was born in 100 BCE. Caesar served in the Roman army in Asia. Caesar borrowed money from his wealthy friends. His games made Caesar popular with the people of Rome. Caesar became friends with powerful leaders in the Senate and in the army. One of these friends was Even as a young man, Julius Caesar had achieved many things. Caesar also had enemies in the Senate, especially among the wealthy landowners. Caesar led a large Roman army into Gaul. Crossing the Rubicon Caesar’s old friend Pompey became jealous of Caesar. Pompey joined Caesar’s enemies in the Senate. The Senate ordered Caesar to give up his army and return to Rome. He led his army to the Rubicon (/roo*bih*kahn/) River, which was the border between Gaul Julius Caesar was honored for this bravery. Vocabulary border, n. an imaginary line that marks the edge of a country or other piece of landCaesar crossed the Rubicon River and started a civil war in Rome. Civil War The war did not go well for Caesar’s enemies.',\n",
       " 'Who is Julius Caesar? Julius Caesar was a great general and an important leader in ancient Rome. Julius Caesar spoke publicly to the people about these problems, and promised to solve them if he could. The people wanted to see Julius Cae sar in a strong position of power so he could solve the problems facing the Republic. As Julius Caesar became more popular with the people, he also became more powerful. They were afraid Julius Caesar might take over the government by force, and rule Rome as a king. Julius Caesar did want to take over the government. Julius Caesar ignored this law. The First Triumvirate Triumvirate = 3 people ruling with equal power In 60 B.C., Caesar joined with Marcus Crassus and Gnaeus Pompey to form the First Triumvirate. Pompey was a general (and also Caesar’s son-\\xad‐in-\\xad‐law) who had returned as a military hero from a successful command in Spain. Julius Cae sar also had a military command in Spain. In 60 B.C., Caesar, Crassus and Pompey joined together to form the First Triumvirate , or a government by three people with equal power. Pompey received command of Spain, Crassus was given command of Syria, and Caesar was given command of Gaul (modern -\\xad‐day France). Caesar marched on R ome, starting a civil war between his forces and Pompey’s . Caesar chased Pompey into Egypt where Caesar met the beautiful female pharaoh Cleopatra and fell in love with her. This left Caesar in control of the Roman government. The Second Triumvirate After Caesar’s death, a new struggle began. Three men -\\xad‐ Octavian (Caesar’s heir and grandnephew); Marc Antony, Caesar’s ally and assistant; and Marcus Lepidus, who had been a commander of Caes ar’s cavalry -\\xad‐ joined forces to form the Second Triumvirate. In 27 B.C., the Roman Senate granted Octavian the name Augustus, meaning “the exalted or honored .” They also gave him the legal power to rule Rome’s religious, civil and military affairs .',\n",
       " 'Gaius Julius Caesar, 49–44 B.C. ), in an effort to save the Republic from Julius’ dictatorial powers. The Senate proclaimed him“the Divine Julius.” 2. 14. a.Great nephew, adopted son, and at age 19 heir of Julius Caesar. b.Octavian, with the consent of the Senate, assumes the name Augustus, a title implying a special relationshipto the gods, 27 B.C. Unlike his two predecessors, the Senatedid not declare him divine after his death.ROMAN EMPERORS THROUGH THE FIRST CENTURY ©Resource Publications, Searcy, AR, 2001, 2005. Permission is granted for use in teaching and preaching.©Resource Publications, Searcy, AR, 2001, 2005. Permission is granted for use in teaching and preaching.5. f.Poisoned by his fourth wife, Agrippina after she per-suaded him to make Nero, her son by a previous marriage,his heir instead of his son Britannicus.©Resource Publications, Searcy, AR, 2001, 2005. Permission is granted for use in teaching and preaching.7. Year of the Four Emperors, A.D. 69. a.Marked the end of the Julio-Claudian Emperors, so called because all those from Augustus to Nero wore the familyname of Julius or Claudius. a.His son Titus took command of the legions in Judea and destroyed Jerusalem in A.D. 70. b.Established a harmonious working relationship with the Senate. a.Son of Vespasian who finished the Roman war in Judea, reducing Jerusalem to ruins and ashes. b.Erected a great monument, the Arch of Titus, in Rome to commemorate his victory over the Jews. ©Resource Publications, Searcy, AR, 2001, 2005. Permission is granted for use in teaching and preaching.',\n",
       " 'Chapter 6 Cleopatra, Queen of Egypt Arrival in Egypt In 48 BCE Julius Caesar sailed along the Nile River and arrived in Alexandria, Egypt, with a small group of soldiers. Cleopatra While Caesar was still a guest at the palace, a servant entered carrying a large, rolled-up rug. Cleopatra begged Caesar to protect her from her brother, the king. 34The Big Question What did Julius Caesar do in order to protect Cleopatra?35 Notice Cleopatra’s clothing and jewelry in this carving.36The king and his advisers were angry that Cleopatra had outsmarted them. They were also angry that Caesar agreed to protect Cleopatra. Caesar ordered the Roman army in nearby Syria to march on Alexandria. When the Roman army arrived, Caesar took command. Caesar learned a lot about Cleopatra on this journey. Caesar was a mighty leader.Vocabulary descendant, n. someone who is related to a person or group of people who lived in the past',\n",
       " 'Chapter XIV THE RIVALRY OF POMPEY AND CAESAR: CAESAR ’S DICTATORSHIP; 59–44 B. C. I. Thus Caesar carried two land laws for the benefit of the soldiers of Pompey, induced the Senate to ratify the latter ’s eastern settlement, and secured for the equestrians, whose cause was championed by Crassus, the remission of one third of the contract price for the revenues of Asia. Accordingly a law proposed by the tribune Vatinius transferred to Caesar the command of Cisalpine Gaul and Illyricum, with a garrison of three legions, for a term of five years beginning 1 March, 59. To cement the alliance Pompey married Caesar ’s daughter Julia, and Caesar married the daughter of Piso, one of the consuls-elect. Caesar remained with his army in the vicinity of Rome until after Cicero ’s banishment and then set out for his province. The defeat of the Helvetii and Ariovistus: 58 B. C. In 58 B. C., when Caesar entered upon his Gallic command, the Roman province in Transalpine Gaul ( Gallia Narbonensis ) embraced the coast districts from the Alps to the borders of Spain and the land between the Alps and the Rhone as far north as Lake Geneva. Caesar reached Gaul in time to prevent their crossing the upper Rhone, and followed them as they turned westward into the lands of the Sequani and Aedui. To frustrate a German occupation of Gaul now became Caesar’s object. Caesar was now the dominant power in Gaul, and many of the leading tribes entered [169] into alliance with Rome. In the course of the following winter some of these,200 A History of Rome to 565 A. D. led by the Veneti, broke off their alliance and attacked Caesar ’s garrisons. The news of Caesar ’s victories and the influence which he was acquiring in the city by a judicious distribution of the spoils of war fired the ambitions of Pompey and Crassus who were no longer on good terms with one another. 201 Syria for an equal period, and that Caesar ’s command in Gaul should be prolonged for another five year term to run from 1 March, 54.12 These arrangements were duly carried out. Cicero, who was indebted to Pompey for his recall, was forced to support the triumvirate, and the Optimates found their boldest leader in Cato, who had returned to Rome early in 56 B. C. Caesar ’s crossing of the Rhine and invasion of Britain: 55–54 B. C. During the winter following the subjugation of the Veneti, two Germanic tribes, the Usipetes and the Tencteri, crossed the lower Rhine into Gaul. After taking hostages, and receiving promises of tribute, Caesar returned to Gaul. 161 ff.202 A History of Rome to 565 A. D. but the island had felt the power of Rome, and, besides enlarging the geographical knowledge of the time, Caesar had brought back numbers of captives. Revolts in Gaul: 54 –53 B. C. Although the Gauls had submitted to Caesar, they were not yet reconciled to Roman rule, which put an end to their inter-tribal wars and to the feuds among [171] the nobility. Caesar ’s campaign in Gaul had given him the opportunity to develop his unusual military talents and to create a veteran army devoted to himself. The death of Crassus tended to hasten a crisis in Rome for it brought into sharp conflict the incompatible ambitions of Pompey and Caesar, whose estrangement had already begun with the death of Pompey ’s wife Julia in 54 B. C. Affairs in Rome, 54 –49 B. C. At the end of his consulship Pompey left Rome but remained in Italy, on the pretext of his curatorship of the grain supply, and governed his province through his legates. They had no hesitation in choosing between Pompey and Caesar. Pompey ’s attack upon Caesar: 52 B. C. The latter ’s immediate aim was to secure the consulship for 48 B. C. and to retain his proconsular command until the end of December, 49. However, to secure his election, he had to be exempted from presenting himself in person for his candidature in 49, and this permission was accorded him by a tribunician law early in 52 B. C. So far his position was strictly legal, but Pompey, whose own consulship was unconstitutional, now broke openly with Caesar by passing legislation which would undermine the latter ’s position. One of Pompey’s laws prohibited candidacies for office in absentia , and when Caesar ’s friends protested, he added to the text of the law after it had passed a clause exempting Caesar from its operation; a procedure of more than dubious legality. This latter law may have been intended to check the mad rivalry for provincial appointments, but its immediate significance lay in the fact that it permitted a successor to be appointed to take over Caesar ’s206 A History of Rome to 565 A. D. provinces on 1 March, 49 B. C.He would thus have to stand as a private citizen for the consulship and would no longer enjoy immunity from legal attack. Negotiations between Caesar, Pompey and the Senate, 51–50 B. C. The question of appointing a successor to Caesar ’s provinces filled the next two years and was the immediate cause of civil war. Caesar claimed that his position should not be affected by the Pompeian law, and pressed for permission to hold his command until the close of 49 B. C.The extreme conservatives sought to supersede him on March first of that year, but Caesar ’s friends and agents thwarted their efforts. Pompey was not willing to have Caesar ’s command to run beyond 13 November, 49. Caesar offered to give up Transalpine Gaul and part of his army, if allowed to retain the Cisalpine province but the overture was rejected. On 7 January, 49 B. C., the Senate passed the “last decree ”calling upon the magistrates and proconsuls (i. e. Pompey) to protect the state, and declaring Caesar a public enemy. Caesar ’s friends left the city and fled to meet him in Cisalpine Gaul, where he and his army were in readiness for this emergency. T HECIVILWAR BETWEEN CAESAR AND THE SENATE : 49–46 B.C. Caesar ’s conquest of Italy and Spain, 49 B. C. The senatorial conservatives had forced the issue and for Caesar there remained the alternative of victory or destruction. It was obviously to Caesar’s advantage to take the offensive and to force a decision before his enemies could concentrate against him the resources of the provinces. Owing to his lack of a fleet Caesar could not follow and returned to Rome. From here Caesar pressed on to Rome, where he had been appointed dictator by virtue of a special law. Pharsalus, 48 B. C. During Caesar ’s Spanish campaign Pompey had gathered a large force in Macedonia, nine Roman legions reinforced by contingents from the Roman allies. Throughout the winter the two armies remained inactive, but Pompey’s fleet prevented Caesar from receiving reinforcements until the spring of 48 B. C., when Marcus Antonius effected a crossing with another detachment. As Caesar ’s troops began to suffer from shortage of supplies he was forced to take the offensive and tried to blockade Pompey ’s larger force in Dyrrhachium. Caesar in the East, 48 –47 B. C. After Pharsalus Caesar had set out in pursuit of Pompey, but arrived in Egypt after the murder of his foe. His ever pressing need of money probably induced Caesar to intervene as arbiter in the name of Rome in the dynastic struggle then raging in Egypt between the twenty- year-old Cleopatra and her thirteen-year-old brother, Ptolemy XIV Dionysus, who was also, following the Egyptian custom, her husband. Thapsus, 46 B. C. Both the fleet and the army of Pompey210 A History of Rome to 565 A. D. had dispersed after Pharsalus, but Caesar ’s delay in the East had given the republicans an opportunity to reassemble their forces. In Rome, Caesar had been appointed dictator for 47 B. C. with Antony as his master of the horse. From Africa Caesar returned to Rome where he celebrated a costly triumph over Gaul, Egypt, Pharnaces and Juba. T HEDICTATORSHIP OF JULIUS CAESAR : 46–44 B.C.IV. T HEDICTATORSHIP OF JULIUS CAESAR : 46–44B.C. From 28 July, 46, to 15 March, 44 B. C., Caesar ruled the Roman Empire with despotic power, his position unchallenged except for a revolt of the Pompeian party in Spain which required his attention from the autumn of 46 to the spring of 45 B. C.His victory over Pompey and the republicans had placed upon him the obligation to provide the empire with a stable form of government and this responsibility he accepted. The concentration of these powers in his person placed Caesar above the law, and reduced the holders of public offices to the position of his servants. He was granted a seat with the consuls in the Senate, if he should not be consul himself; he received the title of parent or father of his country ( parens orpater patriae ); his statue was placed among those of the kings of Rome, his image in the temple of Quirinus; the month Quinctilis, in which he was born, was renamed Julius (July) in his honor; a new college of priests, the Julian Luperci, was created; a temple was erected to himself and the Goddess Clementia, and a priest (flamen) appointed for his worship there; and he was authorized to build a house on the Palatine with a pediment like a temple. T HEDICTATORSHIP OF JULIUS CAESAR : 46–44B.C. Taking into account the powers which Caesar wielded and his lifelong tenure of certain offices there can be no doubt that he not only had established monarchical [180] government in Rome but also aimed to make his monarchy permanent. Upon returning to Rome after the battle of Thapsus Caesar began a series of reforms which affected practically every side of Roman life. T HEDICTATORSHIP OF JULIUS CAESAR : 46–44B.C. 215 men, including ex-soldiers of Caesar and enfranchised Gauls, were enrolled in it. In this way Caesar promoted the romanization of the provinces, a policy which he had begun with his conferment of the franchise upon the Transpadane Gauls in 49, and continued in the case of many Spanish communities. In 46 B. C. they were joined by Labienus and Varus and landed in Spain where they rallied to their cause the old Pompeian soldiers who had entered Caesar ’s service but whose sympathies had been alienated by one of hislegati , Quintus Cassius. The Caesarians gave no quarter and the Pompeian forces were annihilated; Labienus and Varus fell on the field, Gnaeus Pompey was later taken and put to death, but his brother Sextus216 A History of Rome to 565 A. D. escaped. The assassination of Julius Caesar, 15 March, 44 B. C. His victory at Munda had strengthened Caesar ’s autocratic position, and was responsible for the granting of most of the exceptional honors which we have noted above. It was now clear at Rome that Caesar did not intend to restore the republic. The realization that Caesar contemplated the establishment of a monarchy aroused bitter animosity among certain representatives of the old governing oligarchy, who chafed under the restraints imposed upon them by his autocratic power and resented the degradation of the Senate to the position of a mere advisory council. The originator of the plot was the ex-Pompeian Caius Cassius, whom Caesar had made praetor for 44, and who won over to his design Marcus Junius Brutus, a member of the house descended from the Brutus who was reputed to have delivered Rome from the tyranny of [183] the Tarquins. T HEDICTATORSHIP OF JULIUS CAESAR : 46–44B.C. An army of sixteen legions and 10,000 cavalry was being assembled in Greece for this campaign, and Caesar was about to leave Rome to assume command. Cato, who had died rather than witness the triumph of Caesar, became their hero. The republic which Caesar had overthrown was no system of popular government but one whereby a small group of Roman nobles and capitalists exploited for their own personal ends and for the satisfaction of an idle city mob millions of subjects in the provinces. In his resort to corruption and violence in furthering his own career and in his appeal to arms to decide the issue between himself and the Senate, Caesar must be judged according to the practices of his time.',\n",
       " 'End of Roman Republic/Start of Roman Empire 45 BC - Julius Caesar becomes the first dictator of Rome. Caesar makes his famous Crossing of the Rubicon and defeats Pompey in a civil war to become the supreme ruler of Rome. 44 BC - Julius Caesar is assassinated on the Ides of March by Marcus Brutus. 27 BC - The Roman Empire begins as Caesar Augustus becomes the first Roman Emperor. 1453 AD - The Byzantine Empire comes to an end as it falls to the Ottoman Empire Ancient Rome Timeline Directions: Complete a timeline for your group’s section of Roman history on poster paper. Step #1: Write the title your group was assigned on the poster Step #2: Use the following dates and events to create a timeline. Ancient Rome Timeline Directions: Complete a timeline for your group’s section of Roman history on poster paper. Step #1: Write the title your group was assigned on the poster Step #2: Use the following dates and events to create a timeline. Ancient Rome Timeline Directions: Complete a timeline for your group’s section of Roman history on poster paper. Step #1: Write the title your group was assigned on the poster Step #2: Use the following dates and events to create a timeline.',\n",
       " \"Chapter Roman Empire Notes Pax Romana What have I learned? The Pax Romana began during the reign of Augustus Caesar Years: 207What other civilization that we’ve studied had an “unprecedented time of peace & prosperity? Augustus Caesar What have I learned? Before his death, Julius Caesar named his grand- nephew, Octavian (or Octavius) to be his heir. His mother Atia was the daughter of Julia, the sister of Julius Caesar. While there he learned of the assassination of Julius Caesar. Octavius retu rned to Rome and found that Caesar's will makes him Caesar's adopted son and heir to his political and personal fortune. •42 BCE: The Senate deemed Julius Caesar as having been a god. How was Octavian (Octavius) related to Julius Caesar? How did Octavian gain the support of Caesar’s troops? What areas did each member of the Triumvirate receive when they split the empire? adopted grand nephew By doing his best to carry out Caesar's will Only two years Because the members of the triumvirate considered them threats to public order Marc Antony gets Gaul, Lepidus gets Africa, and Octavian gets the WestImpact of Augustus’ Reign What have I learned? Included plebians in the governmentIn a paragraph, describe why you think Augustus Caesar was considered to be such an effective emperor. How to choose an Emperor What have I learned? Major Problem for the new Empire = Creating succession through the family led to… Augustus was succeeded by his stepson Tiberius One major weakness of Rome’s imperial government was the problem of a.replacing the Julian emperors b.selecting a new person to become emperor c.collecting taxes d.controlling the army Emperors of Rome What have I learned? Trajan D.Antoninus Pius No system for choosing an emperor's successor some pretty questionable rulersAugustus made sure his government was inclusive, and established a well organized infrastructure that cemented Roman rule in the lands they conquered, and well as cementing his hold on th e vast empire.Life in Imperial Rome What have I learned? Which of the following statements about Roman society is true? What can be concluded about the Roman baths from the illustration? It was a favorite pastime, and the facilities were co-educationalGreco -Roman Culture What have I learned? Greco-Roman culture will go on to inspire the works of the Renaissance Age Why do historians refer to Greco -Roma n culture as “Classical Culture? ” Roman Fine Arts What have I learned? Roman Literature What have I learned? Roman Historians What have I learned? Roman Achievements What have I learned? Romans also created a new building material called concrete which fortified their structures.According to his tree, what other language has some roots in Latin? Decline of the Roman Empire What have I learned? Costly wars led to an increase in taxation Agricultural production decreased due to 1. overworked land 2. land destroyed by invaders The government offset these losses by creating coins with less silver which led to inflation Inflation = the drastic drop in value o f mo ney coupled with a rise in pricesWhich of the following does NOT help to explain the decline and fall of the Roman Empire? The barbarian invasions in the West c. The moral decay that affected the ambitions of the people d. The economic weakness of the empire in the East What contributed to the economic weakening of the late Roman empire? A decline in population led to a shortage of soldiers. In order to deal with growing threats, the military began to enlist the services of mercenaries, soldiers loyal only to those who pay them. How does it apply to Rome at the end of the empire? What are the potential problems of the Military controlling the affairs of a political state? Reforming the Empire What have I learned? D. allow wages and prices to rise The Germanic Invasions What have I learned? From what part of Europe did most of the Germanic tribes originate? Which Germanic tribe(s) had a direct impact on the city of Rome? Which Roman city was never touched by Germanic groups? In 453 Vandals = Vandalism End of the Roman Empire What have I learned? Why did the Eastern half of the Roman empire survive the fall of the empire in the West? Constantinople was a peninsula, what helped protect the city from possible invaders attacking from land routes? What features on the map tell you that the city shared a heritage with the Roman Empire? What feature on the map tells you that the city shared a heritage with the Greek Civilization? How did its location aid in the creation/control of the empire? What 3 continents were parts of the empire? Africa, Europe, Asia Name 3 civilizations we previously studied that became part of the Roman Empire? What rivers and mountain range marked the northern boundary of the empire in Western Europe?\",\n",
       " 'Chapter 7 Julius Caesar Dies More conquests Julius Caesar continued to conquer. Caesar sent a message to the Senate about his latest conquest. Caesar changed the Roman government. Caesar’s enemies in the Senate did not like these changes. 38The Big Question What were the reasons behind the actions taken against Julius Caesar and Marc Antony?39 Caesar wrote about his victories.40Caesar invited Cleopatra to Rome to celebrate his victories. Caesar’s enemies worried that Caesar would marry Cleopatra and move the government to Alexandria. On that day in 44 BCE, several of Caesar’s enemies entered the Senate with knives hidden under their togas . When Caesar entered the Senate, his enemies stabbed him. One of the attackers was Brutus (/broo*tus/), a man Caesar had forgiven after the civil war. Caesar thought Brutus was his friend. Surprised that Brutus had joined his enemies, Caesar’s last words were, “Et tu, Brute?” (/et/too/broo*tay/). This means “You too, Brutus?” The murder of Caesar Vocabulary assassinate, v. to kill a ruler or member of the government toga, n. a robe-like piece of clothing worn in ancient Rome41Marc Antony and Octavian After Caesar died, another civil war began. On one side were Brutus and the others who supported the killing of Caesar. In 42 BCE Caesar’s friends won the war. Marc Antony shared control of the government with Caesar’s adopted son, Octavian (/ahk*tay*vee*un/). Octavian called himself “the young Caesar.” He was eighteen years old when Caesar died. Rome AlexandriaAFRICAATLANTIC OCEAN Black Sea Mediterranean SeaITALY SPAINEUROPE ASIAAegean SeaAdriatic Sea Tyrrhenian Sea 0 300 milesFRANCE (Gaul)Antony Vs. Octavian: The Roman Empire After the Death of Julius Caesar Key Area controlled by Octavian Area controlled by Antony Extent of Roman Empire at Julius Caesar’s DeathN SEW KINGDOM OF EGYPT After Caesar’s death, Antony and Octavian fought for control of the empire.Antony and Cleopatra fell in love.',\n",
       " 'Chapter XVII THE JULIO-CLAUDIAN LINE AND THE FLAVIANS: 14 –96 A. D. I. T IBERIUS , 14–37 A.D. Tiberius princeps. At the death of Augustus, Tiberius by right of his imperium assumed command of the army and through his tribunician authority convoked the Senate to pay the last honors to Augustus and decide upon his successor. Like Julius Caesar, Augustus was deified, and a priestly college of Augustales, chosen from the senatorial order was founded to maintain his worship in Rome. Tiberius received the title of Augustus and the other honors and powers which his predecessor had made the prerogatives of the princeps. The ease of his succession shows how solidly the principate was established at the death of its founder. Tiberius, conscious of his unpopularity, [227] sought to have the Senate press upon him the appointment as the successor of Augustus, and so feigned reluctance to accept, a course which made the senators suspect that he was laying a trap for possible rivals. Yet there was no princeps who tried more conscientiously to govern in the spirit of Augustus, or upheld more rigidly the rights and dignity of the Senate. Two serious mutinies followed the accession of Tiberius, one in the army stationed in Illyricum, the other among the legions on the Rhine. The Illyrian mutiny was quelled by the praetorian prefect Lucius Aelius Seianus; the army of the Rhine was brought back to its allegiance by Germanicus, the son of Drusus, whom Tiberius had adopted at the command of Augustus in 4 A. D. He had married Agrippina, daughter of Agrippa and Julia, and was looked upon as the heir of Tiberius in preference to the latter ’s younger and less able son, Drusus. 271 Germanicus, without the authorization of Tiberius, led his army across the Rhine. Eastern mission and death of Germanicus, 17 –19 A. D. After his return from Gaul, Germanicus was sent by Tiberius to settle affairs in the East, where the Armenian question had again become acute. Although the accusation was false Piso was called to Rome to stand his trial on that charge, and, finding that the popularity of Germanicus had biased popular opinion against him, and that Tiberius refused him his protection because of his attempt to assert his rights by armed force, he committed suicide. Agrippina, the ambitious272 A History of Rome to 565 A. D. wife of Germanicus, believed that Tiberius from motives of jealousy had been responsible for her husband ’s death. The withdrawal of Tiberius from Rome, 26 A. D. The decision of Tiberius to leave Rome in 26 A. D. and take up his residence on the island of Capri had important consequences. Having caused the death of Drusus, the son of Tiberius, by poison, in 23 A. D., he intrigued to remove from his path the sons of Germanicus, Drusus and Nero. Tiberius left as his heirs his adoptive grandson Caius, the sole surviving son of Germanicus, better known by his childhood name of Caligula, acquired in the camps on the Rhine, and his grandson by birth, Tiberius Gemellus. Upon Caius, the elder of the two, then twenty-five years of age, the Senate immediately conferred the powers of the principate. Caius adopted his cousin, but within a year had him put to death. The pardoning of political offenders, the banishment of informers, the reduction of taxes, coupled with lavishness in public entertainments and donations, all made Gaius popular with the Senate, the army and the city plebs. However, the prudent Petronius, seeing that this would bring about a national revolt among the Jews delayed obeying the order, and the death of Caius relieved him of the necessity of executing it at all. Caius contemplated invasions of Germany and of Britain, but the former ended with a military parade across [231] the Rhine and the latter with a march to the shores of the Straits of Dover. Caius was the last male representative of the Julian gens, and at his death the Senate debated the question of restoring the republic. The Senate had to acquiesce in his nomination and grant him the powers of the princeps. Claudius was already fifty-one years old, but because of his ungainly figure and limited mentality had never been seriously considered for the principate. Claudius also renewed the attempt of Julius Caesar to occupy the island of Britain. Death of Claudius. In 50 A. D., Domitius was adopted by Claudius as Nero Claudius Caesar. In 53 A. D.Nero was married to Octavia and a year later Claudius died, poisoned, as all believed, by Agrippina, who feared that further delay would endanger her plans. The Senate,278 A History of Rome to 565 A. D. whose support he had courted in his opposition to Agrippina, now found itself without any influence; and, since his wanton extravagances emptied the treasury, Nero was forced to resort to oppressive measures to satisfy his needs. Popular opinion demanded some scapegoat for the disaster, and Nero laid the blame upon the Christians in Rome, possibly at the instigation of the Jews whose community was divided by the spread of Christian doctrines. He soon found a chance to set his brother Tiridates on the throne of [234] Armenia and was able to maintain him there until the death of Claudius. However, at the accession of Nero, Caius Domitius Corbulo was sent to Cappadocia to reassert the Roman suzeraintyIV. Tiridates retained the Armenian throne, but acknowledged the Roman overlordship by coming to Rome to receive his crown from Nero ’s hands. No man of prominence was safe; even the famous general Corbulo was forced to commit suicide in 67 A. D. The rebellion of Vindex, 68 A. D. Upon Nero ’s return from Greece, a more serious movement began in Gaul where Caius Julius Vindex, the legate of the province of Lugdunensis, raised the standard of revolt and was supported by the provincials who were suffering under the pressure of taxation. He, however, refused the honor and gave the Senate the opportunity to name the princeps. The Senate followed their lead, and Nero, who had fled from Rome, had himself killed by a faithful freedman. As Tacitus expresses it, the fatal secret of the empire was discovered, namely, that the princeps could be nominated elsewhere than in Rome. Although the principate may be said to have been founded by the universal consent of the Roman world, nevertheless, from its inception the power of the princeps had rested directly upon his military command, and the civil war of 68 –69 showed how completely the professional army was master of the situation. Vitellius, April –December, 69 A. D. Thereupon Vitellius was recognized as princeps by the Senate and his forces occupied Rome. Vespasian himself proceeded to occupy Egypt and thus cut off the grain supply of Rome while his ablest lieutenant, Mucianus, set out for Italy. Vitellius then opened negotiations and offered to abdicate, but his soldiers would not let him and suppressed a rising in Rome led by the brother of Vespasian. Vespasian, December, 69 A. D. Vespasian obtained his recognition as princeps from the Senate and the troops in the West. Following the example of Galba, Vespasian on his accession took the name of Caesar, which became from this time a prerogative of the family of the princeps. The new princeps inherited from his predecessors two serious wars, both national revolts against Roman rule, the one in Gaul and Lower Germany, the other in Judaea. The revolt of the Batavi, 69 A. D. The movement in Lower Germany was headed by Julius Civilis, a Batavian chieftain, formerly an officer in the Roman service, who won over the eight Batavian cohorts attached to the Rhine army. At first he posed as a supporter of Vespasian against Vitellius, but at the news of the former ’s victory he renounced his allegiance to Rome and called to his aid Germanic tribes from across the Rhine. During this time the Jews had occupied a privileged position among the284 A History of Rome to 565 A. D. Roman subjects, being exempted from military service and the obligation of the imperial cult, notwithstanding the design of Caligula to set up his image in the temple at Jerusalem. Massacres in Caesarea and Jerusalem, 66 A. D. Such a provocation was afforded by the decision of the Roman government that Jews were not entitled to citizenship in Caesarea, the Roman capital of Judaea, and by a massacre of the Jews by the Greeks in a riot which followed. Among the soldiery discipline was restored by disbanding four of the mutinous Rhine legions and replacing them with new units. In Rome the Capitoline Temple which had been burned in the fighting with the Vitellians was rebuilt, a temple of Peace was erected on the forum, and the huge Colosseum arose on the site of one of the lakes of Nero ’s Golden House. Vespasian also granted state support to the teachers of Greek and Roman oratory in Rome. In 74 A. D.Vespasian assumed the censorship and took a census of the empire in addition to filling the ranks of the Senate which had been depleted by the late civil wars. 287 Vespasian and the senate. Vespasian was the first princeps who was not of the Roman nobility. A senatorial decree and a law of the comitia conferred upon Vespasian the powers of the principate, yet he dated the beginning of his reign from the day of his salutation as Imperator by his army. The leader of this group was Helvidius Priscus, son- in-law of Paetus Thrasea, whom Nero had put to death, and like him a Stoic. In all probability it was the antimonarchical tendency of contemporary Stoic teachings that induced Vespasian to banish philosophers from Rome. Titus also received the imperium andtribunicia potestas , and when Vespasian died in 79 A. D.succeeded to the principate. The following year Rome was devastated by a fire which raged for three days and destroyed Vespasian ’s new temple of Capitoline Jupiter. In September, 81 A. D., Titus died, deeply mourned by the whole Roman world. He also displayed a real interest in literature and replaced the libraries destroyed in the fire of 80 A. D. His autocratic policy is clearly seen in his assumption of the censorship as perpetual censor in 84 A. D., whereby he acquired complete control over the composition of the Senate, a power which, without the title, was henceforth one of the prerogatives of the princeps. In Britain, Julius Agricola, legate from 77 to 84 A. D., led the Roman legions north of the Clyde and Firth of Forth and defeated the united Caledonians under their chief Galgacus (84 A. D.). In 83 A. D.Domitian led an army across the Rhine from Mainz and annexed the district of Wetterau, where the lowlands were already in Roman hands although the hills were still occupied by the hostile Chatti. He thereupon made peace with Decebalus, who gave up his prisoners of war and acknowledged the formal overlordship of Rome, but received an annual subsidy from Domitian in addition to the services of Roman military engineers (89 A. D.). Feeling that the army was the surest support of his power, Domitian sought to secure its fidelity by increasing the pay of the soldiers by one third. In Rome, particularly after the revolt of Saturninus, his relations with the Senate became more and more strained. It was the oppression of the last years of Domitian ’s rule that so strongly biased the attitude of Tacitus towards the principate and its founder.',\n",
       " 'Chapter XV THE PASSING OF THE REPUBLIC: 44–27 B. C. I. T HERISE OF OCTAVIAN The political situation after Caesar ’s death. Caesar had made no arrangements for a successor, and his death produced the greatest consternation in Rome. The conspirators had made no plans to seize the reins of power, and instead of finding their act greeted with an outburst of popular approval, they were left face to face with the fact that although Caesar was dead the Caesarian party lived on in his veterans and the city populace, led by the consul Mark Antony, and Marcus Aemilius Lepidus, Caesar ’s master of the horse. The Senate met on 17 March, and it was evident that a majority of its members supported the assassins, but they were afraid of the legion which Lepidus had under his orders and the Caesarian veterans in the city. Antony, who had obtained possession of Caesar ’s papers and money, took the lead of the Caesarian party and came to terms with their opponents. It was agreed that the conspirators should go unpunished, but that the acts of Caesar should be ratified, even those which had not yet been carried into effect, that his will should be approved, and that he should receive a public funeral. The reading of Caesar ’s will revealed that he had left his gardens on the right bank of the Tiber as a public park, had220 A History of Rome to 565 A. D. bequeathed a donation of three hundred sesterces (about fifteen dollars) to each Roman citizen and had adopted his grand- nephew Caius Octavius as his son and heir to three-fourths of his fortune. By a speech delivered to the people on the day of Caesar’s funeral Antony skilfully enflamed popular sentiment against Caesar ’s murderers. He held in check Lepidus and other Caesarians who called for vengeance upon the conspirators. Lepidus was won over by his election to the position of Pontifex Maximus to succeed Caesar and was induced to leave the city for his province of Hither Spain to check the progress of Sextus Pompey, who had reappeared in Farther Spain and defeated the Caesarian governor. Caesar ’s arrangements for the provincial governorships had assigned Macedonia to Antony and Syria to Dolabella, who became Antony ’s colleague in the consulate at Caesar’s death. This assignment Antony altered by a law which granted him Cisalpine Gaul and the Transalpine district outside the Narbonese province for a term of six years in violation of a law of Caesar ’s, which limited proconsular commands to two years. T HERISE OF OCTAVIAN 221 would enable them to check Antony ’s career, for it was evident that Antony regarded himself as Caesar ’s political heir and was planning to follow the latter ’s path to absolute power. But he found an unexpected rival in the person of Caesar ’s adopted son, Caius Octavius, a youth of eighteen years, who at the time of Caesar ’s death was at Apollonia in Illyricum with the army that was being assembled for the Parthian War. His presence was unwelcome to Antony, who had expended Caesar ’s money, and refused to refund it. Thereupon Octavius raised funds by selling his own properties and borrowing, and began to pay off the legacies of Caesar. The formalities of his adoption were not completed until the following year, but from this time on he took the name of Caesar.13[187] Antony underestimated the capacities of this rather sickly youth and continued to refuse him recognition, but was soon made aware of his mistake. Before their arrival Octavian raised a force among Caesar ’s veterans in Campania, and on the march from Brundisium to Rome two of the four Macedonian legions deserted to him. The Caesarians were now divided into two parties, and Octavian began to coöperate with the republicans in the Senate. Cicero, who had not been among the conspirators but who had subsequently approved 13After the adoption his full name was Caius Julius Caesar Octavianus. Although he was known as Caesar by his contemporaries, it is more convenient to refer to him henceforth as Octavian, to distinguish him from his adoptive father.222 A History of Rome to 565 A. D. Caesar’s murder, was about to leave Italy to join Brutus when he heard of the changed situation in Rome and returned to assume the leadership of the republican party. Antony left Rome for the Cisalpine province early in December, 44 B. C., and Cicero induced the Senate to enter into a coalition with Octavian against him. The war at Mutina, December 44 –April 43 B. C. In Cisalpine Gaul Decimus Brutus, relying upon the support of the Senate, refused to yield to Antony and was blockaded in Mutina. Ignoring Octavian, the Senate entrusted Brutus with the command and the task of pursuing Antony. Octavian refused to aid Decimus Brutus, and demanded from the Senate his own appointment as consul, a triumph, and rewards for his troops. The latter carried a bill which established a special court for the trial of Caesar ’s murderers, who were condemned and banished. The Triumvirate, 43 B. C. On his way to Transalpine Gaul Antony had met with Lepidus, whom the Senate had summoned from Spain to the assistance of Decimus Brutus. But Lepidus was a Caesarian and, alarmed by the success of Marcus Brutus and Cassius, allowed his troops to go over to Antony. Furthermore, they divided among themselves the western provinces; Antony received those previously assigned to him, Lepidus took the Spains and Narbonese Gaul; while to Octavian fell Sardinia, Sicily and Africa. Unlike the secret coalition of Pompey, Crassus and Caesar, the present one constituted a commission clothed with almost supreme public powers. In 42 B. C.Octavian dedicated a temple to Julius Caesar in the forum where his body had been burned. 225 by a special law Caesar was elevated among the gods of the Roman state with the name of Divus Julius. Shortly afterwards Brutus was forced by his soldiers to risk another battle. It was now agreed that he should settle conditions in the eastern provinces and raise funds there, while Octavian should return to Italy and carry out the promised assignment of lands to their troops. Her personal charms and keen intelligence, which had enthralled the great Julius, exercised an even greater fascination over Antony, whose cardinal weaknesses were indolence and sensual indulgence. Antony thereupon returned to Italy to gather troops to reëstablish Roman authority in the East. It was provided that Octavian should have Spain, Gaul, Sardinia, Sicily and Dalmatia, while Antony should hold the Roman possessions east of the Ionian sea; Lepidus retained Africa, and Italy was to be held in common. To cement the alliance Antony, whose wife Fulvia had died, married Octavia, sister of Octavian. He now resolved to carry out the plan of Julius Caesar for the conquest of the Parthian kingdom. But, his landing was opposed by Octavian who was angry because Antony had not supported him against Sextus Pompey, whom Antony evidently regarded as a useful check upon his colleague ’s power. Here it was arranged that Antony should supply Octavian with one hundred ships for operations against Pompey, that Lepidus should coöperate in the attack upon228 A History of Rome to 565 A. D. Sicily, and that both he and Octavian should furnish Antony with soldiers for the Parthian war. The defeat of Sextus Pompey, 36 B. C. Octavian now energetically pressed his attack upon Sicily, while Lepidus coöperated by besieging Lilybaeum. After the flight of Sextus, Lepidus challenged Octavian ’s claim to Sicily, but his troops deserted him for Octavian and he was forced to throw himself upon the latter’s mercy. The defeat of Sextus Pompey and the deposition of Lepidus gave Octavian sole power over the western half of the empire, and inevitably tended to sharpen the rivalry and antagonism which had long existed between himself and Antony. Consequently, since her marriage with Antony she actively supported his ambition to be the successor of Julius Caesar. In an address to the assembled public230 A History of Rome to 565 A. D. Antony proclaimed Cleopatra “queen of queens, ”and ruler of Egypt, Cyprus, Crete and Coele-Syria; joint ruler with her was Ptolemy Caesarion, the son she had borne to Caesar. These arrangements aroused great mistrust and hostility towards Antony among the Romans, who resented the partition of Rome ’s eastern provinces in the interest of oriental potentates. Octavian was now able to bring about a declaration of war against the Egyptian queen and to exact an oath of loyalty to himself from the senators in Rome and from the municipalities of Italy and the western provinces. Owing to discord which had arisen between Cleopatra and his Roman officers, Antony remained inactive while detachments of Octavian’s forces won over important points in Greece. For a time Cleopatra, who had frustrated Antony’s last attempt at resistance, hoped to win over Octavian as she had won Caesar and Antony, so that she might save at least Egypt for her dynasty. After reëstablishing the old provinces and client kingdoms in the East, Octavian returned to Rome in 29 B. C., where he celebrated a three-day triumph over the non-Roman peoples of Europe, Asia and Africa, whom he or his generals had subjugated during his triumvirate. At the age of thirty-three Octavian had made good his claim to the political inheritance of Julius Caesar. Julius Caesar found about 320,000 persons sharing in this distribution, and reduced the number to 150,000 male citizens. There can be no doubt that the ranks of the urban proletariat were swelled by peasants who had lost their holdings in the course of the civil wars and the settlements of discharged soldiers on Italian soil, but the chief increase came from the manumission of slaves, who as liberti or freedmen became Roman citizens. It was through the study and practice of oratory that Roman prose attained its perfection between the time of the Gracchi and Julius Caesar. Caesar, 100 –44 B. C. Julius Caesar made his genius felt in the world of letters as well as of politics. His chief work, a history of the period 78 –67 B. C., is almost entirely lost, but two shorter studies on the Jugurthine war and Cataline ’s conspiracy have been preserved. Sulpicius was a most productive author, whose works included Commentaries on the XII Tables, and on the Praetor ’s Edict, as well as studies on special aspects of Roman law.']"
      ]
     },
     "execution_count": 8,
     "metadata": {},
     "output_type": "execute_result"
    }
   ],
   "source": [
    "#summarize the docs\n",
    "summaries = [custom_summ(t, query, top_n=0.2) for t in tqdm(docs)]\n",
    "summaries"
   ]
  },
  {
   "cell_type": "code",
   "execution_count": 9,
   "id": "cdf2c681-f30a-4fb4-b62c-d62b06c645ea",
   "metadata": {
    "execution": {
     "iopub.execute_input": "2025-01-08T18:26:19.445589Z",
     "iopub.status.busy": "2025-01-08T18:26:19.445589Z",
     "iopub.status.idle": "2025-01-08T18:26:19.472811Z",
     "shell.execute_reply": "2025-01-08T18:26:19.470803Z",
     "shell.execute_reply.started": "2025-01-08T18:26:19.445589Z"
    },
    "scrolled": true
   },
   "outputs": [
    {
     "data": {
      "text/plain": [
       "\"Chapter 5 Julius Caesar The Roman Army The Romans were great conquerors. 28The Big Question Why did some Romans think Julius Caesar was a hero? His name was Julius Caesar (/jool*yus/see*zur/). Julius Caesar Julius Caesar was born in 100 BCE. One of these friends was Even as a young man, Julius Caesar had achieved many things. He led his army to the Rubicon (/roo*bih*kahn/) River, which was the border between Gaul Julius Caesar was honored for this bravery. Who is Julius Caesar? Julius Caesar was a great general and an important leader in ancient Rome. Julius Caesar spoke publicly to the people about these problems, and promised to solve them if he could. As Julius Caesar became more popular with the people, he also became more powerful. They were afraid Julius Caesar might take over the government by force, and rule Rome as a king. Julius Caesar did want to take over the government. Julius Caesar ignored this law. Pompey was a general (and also Caesar’s son-\\xad‐in-\\xad‐law) who had returned as a military hero from a successful command in Spain. Three men -\\xad‐ Octavian (Caesar’s heir and grandnephew); Marc Antony, Caesar’s ally and assistant; and Marcus Lepidus, who had been a commander of Caes ar’s cavalry -\\xad‐ joined forces to form the Second Triumvirate. Gaius Julius Caesar, 49–44 B.C. 14. a.Great nephew, adopted son, and at age 19 heir of Julius Caesar. Chapter 6 Cleopatra, Queen of Egypt Arrival in Egypt In 48 BCE Julius Caesar sailed along the Nile River and arrived in Alexandria, Egypt, with a small group of soldiers. 34The Big Question What did Julius Caesar do in order to protect Cleopatra?35 Notice Cleopatra’s clothing and jewelry in this carving.36The king and his advisers were angry that Cleopatra had outsmarted them. Thus Caesar carried two land laws for the benefit of the soldiers of Pompey, induced the Senate to ratify the latter ’s eastern settlement, and secured for the equestrians, whose cause was championed by Crassus, the remission of one third of the contract price for the revenues of Asia. Negotiations between Caesar, Pompey and the Senate, 51–50 B. C. The question of appointing a successor to Caesar ’s provinces filled the next two years and was the immediate cause of civil war. T HEDICTATORSHIP OF JULIUS CAESAR : 46–44 B.C.IV. T HEDICTATORSHIP OF JULIUS CAESAR : 46–44B.C. From 28 July, 46, to 15 March, 44 B. C., Caesar ruled the Roman Empire with despotic power, his position unchallenged except for a revolt of the Pompeian party in Spain which required his attention from the autumn of 46 to the spring of 45 B. C.His victory over Pompey and the republicans had placed upon him the obligation to provide the empire with a stable form of government and this responsibility he accepted. T HEDICTATORSHIP OF JULIUS CAESAR : 46–44B.C. T HEDICTATORSHIP OF JULIUS CAESAR : 46–44B.C. The assassination of Julius Caesar, 15 March, 44 B. C. His victory at Munda had strengthened Caesar ’s autocratic position, and was responsible for the granting of most of the exceptional honors which we have noted above. T HEDICTATORSHIP OF JULIUS CAESAR : 46–44B.C. End of Roman Republic/Start of Roman Empire 45 BC - Julius Caesar becomes the first dictator of Rome. 44 BC - Julius Caesar is assassinated on the Ides of March by Marcus Brutus. The Pax Romana began during the reign of Augustus Caesar Years: 207What other civilization that we’ve studied had an “unprecedented time of peace & prosperity? Augustus Caesar What have I learned? Before his death, Julius Caesar named his grand- nephew, Octavian (or Octavius) to be his heir. His mother Atia was the daughter of Julia, the sister of Julius Caesar. While there he learned of the assassination of Julius Caesar. •42 BCE: The Senate deemed Julius Caesar as having been a god. How was Octavian (Octavius) related to Julius Caesar? How did Octavian gain the support of Caesar’s troops? adopted grand nephew By doing his best to carry out Caesar's will Only two years Because the members of the triumvirate considered them threats to public order Marc Antony gets Gaul, Lepidus gets Africa, and Octavian gets the WestImpact of Augustus’ Reign What have I learned? Major Problem for the new Empire = Creating succession through the family led to… Augustus was succeeded by his stepson Tiberius One major weakness of Rome’s imperial government was the problem of a.replacing the Julian emperors b.selecting a new person to become emperor c.collecting taxes d.controlling the army Emperors of Rome What have I learned? Trajan D.Antoninus Pius No system for choosing an emperor's successor some pretty questionable rulersAugustus made sure his government was inclusive, and established a well organized infrastructure that cemented Roman rule in the lands they conquered, and well as cementing his hold on th e vast empire.Life in Imperial Rome What have I learned? Africa, Europe, Asia Name 3 civilizations we previously studied that became part of the Roman Empire? Chapter 7 Julius Caesar Dies More conquests Julius Caesar continued to conquer. 38The Big Question What were the reasons behind the actions taken against Julius Caesar and Marc Antony?39 Caesar wrote about his victories.40Caesar invited Cleopatra to Rome to celebrate his victories. This means “You too, Brutus?” The murder of Caesar Vocabulary assassinate, v. to kill a ruler or member of the government toga, n. a robe-like piece of clothing worn in ancient Rome41Marc Antony and Octavian After Caesar died, another civil war began. Marc Antony shared control of the government with Caesar’s adopted son, Octavian (/ahk*tay*vee*un/). Octavian called himself “the young Caesar.” He was eighteen years old when Caesar died. Rome AlexandriaAFRICAATLANTIC OCEAN Black Sea Mediterranean SeaITALY SPAINEUROPE ASIAAegean SeaAdriatic Sea Tyrrhenian Sea 0 300 milesFRANCE (Gaul)Antony Vs. Octavian: The Roman Empire After the Death of Julius Caesar Key Area controlled by Octavian Area controlled by Antony Extent of Roman Empire at Julius Caesar’s DeathN SEW KINGDOM OF EGYPT After Caesar’s death, Antony and Octavian fought for control of the empire.Antony and Cleopatra fell in love. Like Julius Caesar, Augustus was deified, and a priestly college of Augustales, chosen from the senatorial order was founded to maintain his worship in Rome. Claudius also renewed the attempt of Julius Caesar to occupy the island of Britain. The reading of Caesar ’s will revealed that he had left his gardens on the right bank of the Tiber as a public park, had220 A History of Rome to 565 A. D. bequeathed a donation of three hundred sesterces (about fifteen dollars) to each Roman citizen and had adopted his grand- nephew Caius Octavius as his son and heir to three-fourths of his fortune. But he found an unexpected rival in the person of Caesar ’s adopted son, Caius Octavius, a youth of eighteen years, who at the time of Caesar ’s death was at Apollonia in Illyricum with the army that was being assembled for the Parthian War. Cicero, who had not been among the conspirators but who had subsequently approved 13After the adoption his full name was Caius Julius Caesar Octavianus. Although he was known as Caesar by his contemporaries, it is more convenient to refer to him henceforth as Octavian, to distinguish him from his adoptive father.222 A History of Rome to 565 A. D. Caesar’s murder, was about to leave Italy to join Brutus when he heard of the changed situation in Rome and returned to assume the leadership of the republican party. In 42 B. C.Octavian dedicated a temple to Julius Caesar in the forum where his body had been burned. 225 by a special law Caesar was elevated among the gods of the Roman state with the name of Divus Julius. He now resolved to carry out the plan of Julius Caesar for the conquest of the Parthian kingdom. Here it was arranged that Antony should supply Octavian with one hundred ships for operations against Pompey, that Lepidus should coöperate in the attack upon228 A History of Rome to 565 A. D. Sicily, and that both he and Octavian should furnish Antony with soldiers for the Parthian war. Consequently, since her marriage with Antony she actively supported his ambition to be the successor of Julius Caesar. In an address to the assembled public230 A History of Rome to 565 A. D. Antony proclaimed Cleopatra “queen of queens, ”and ruler of Egypt, Cyprus, Crete and Coele-Syria; joint ruler with her was Ptolemy Caesarion, the son she had borne to Caesar. At the age of thirty-three Octavian had made good his claim to the political inheritance of Julius Caesar. Julius Caesar found about 320,000 persons sharing in this distribution, and reduced the number to 150,000 male citizens. It was through the study and practice of oratory that Roman prose attained its perfection between the time of the Gracchi and Julius Caesar. Caesar, 100 –44 B. C. Julius Caesar made his genius felt in the world of letters as well as of politics.\""
      ]
     },
     "execution_count": 9,
     "metadata": {},
     "output_type": "execute_result"
    }
   ],
   "source": [
    "# get the combined summary\n",
    "grand_summary = custom_summ(' '.join(summaries), query, top_n=0.2)\n",
    "grand_summary"
   ]
  },
  {
   "cell_type": "code",
   "execution_count": null,
   "id": "30116d08-4483-48af-9a58-be063c134935",
   "metadata": {},
   "outputs": [],
   "source": []
  },
  {
   "cell_type": "markdown",
   "id": "f4f3fc91-07eb-4318-8cef-0289aafc97b3",
   "metadata": {},
   "source": [
    "# Make a Wiki article on the query"
   ]
  },
  {
   "cell_type": "code",
   "execution_count": 11,
   "id": "d26eb3bc-a0a6-4e47-aa73-6924d56d0c25",
   "metadata": {
    "execution": {
     "iopub.execute_input": "2025-01-08T18:30:51.990070Z",
     "iopub.status.busy": "2025-01-08T18:30:51.989070Z",
     "iopub.status.idle": "2025-01-08T18:30:52.670410Z",
     "shell.execute_reply": "2025-01-08T18:30:52.670410Z",
     "shell.execute_reply.started": "2025-01-08T18:30:51.990070Z"
    }
   },
   "outputs": [
    {
     "data": {
      "application/vnd.jupyter.widget-view+json": {
       "model_id": "50cb2ad5b41a4cc08993981d4959701f",
       "version_major": 2,
       "version_minor": 0
      },
      "text/plain": [
       "  0%|          | 0/10 [00:00<?, ?it/s]"
      ]
     },
     "metadata": {},
     "output_type": "display_data"
    }
   ],
   "source": [
    "question = 'When did the Romans seize Sicily?'\n",
    "docs, dist = find_docs(question, top_n=10)\n",
    "summaries = [custom_summ(t, question, top_n=0.2) for t in tqdm(docs)]\n",
    "grand_summary = custom_summ(' '.join(summaries), question, top_n=0.2)"
   ]
  },
  {
   "cell_type": "code",
   "execution_count": 30,
   "id": "5711044a-fb8e-4e48-8d2a-ff36dafafae6",
   "metadata": {
    "execution": {
     "iopub.execute_input": "2025-01-08T19:08:09.882443Z",
     "iopub.status.busy": "2025-01-08T19:08:09.879422Z",
     "iopub.status.idle": "2025-01-08T19:08:09.896728Z",
     "shell.execute_reply": "2025-01-08T19:08:09.895716Z",
     "shell.execute_reply.started": "2025-01-08T19:08:09.882443Z"
    }
   },
   "outputs": [
    {
     "data": {
      "text/plain": [
       "'The fourth world power was Carthage, a city state situated on the northern coast of Africa, opposite the western end of the island of Sicily, which had created for itself an empire that controlled the western half of the Mediterranean. In the third century the Carthaginian empire included the northern coast of Africa from the Gulf of Syrtis westwards beyond the Straits of Gibraltar, the southern and eastern coasts of Spain as far north as Cape Nao, Corsica, Sardinia, and Sicily, with the exception of Messana in the extreme northeast and the Kingdom of Syracuse in the southeastern part82 A History of Rome to 565 A. D. of the island. This policy of commercial exclusiveness had caused Carthage to oppose Greek colonial expansion in Spain, Sardinia and Sicily, and had led to treaties which placed definite limits upon the trading ventures of the Romans and their allies, and of the Greeks from Massalia and her colonies in France and northern Spain. The first war between Rome and Carthage arose out of the political situation in the island of Sicily. In the next year the Romans sent a larger army into Sicily to attack Syracuse and met with such success that Hiero became alarmed, and, making peace upon easy terms, concluded an alliance with them for fifteen years.5Aided by Hiero the Romans now began an attack upon Agrigentum, the Carthaginian stronghold which threatened Syracuse. However, Roman operations in Sicily could only be conducted at considerable risk and the coasts of Italy remained exposed to continued raids as long as Carthage had undisputed control of the sea. The complement of each was three hundred rowers and one hundred and twenty fighting men.6With this armament, and some vessels from the Roman allies, the consul, Gaius Duilius, put to sea in 260 B. C.and won a decisive battle off Mylae on the north coast of Sicily. As a result of this battle in the next year the Romans were able to occupy Corsica and attack Sardinia, and finding it impossible to force a decision in Sicily, they were in a position to attack Carthage in Africa itself. The Roman invasion of Africa, 256 B. C. Another naval victory, off Ecnomus, on the south coast of Sicily, cleared the way for the successful landing of an army under the consul Marcus Atilius Regulus. By the skilful use of cavalry and war elephants he inflicted a crushing defeat upon the Romans and took Atilius prisoner. [74] The war in Sicily, 254 –241 B. C. The Romans again concentrated their efforts against the Carthaginian strongholds in Sicily, which they attacked from land and sea. In 253 they lost a number of ships on the voyage from Lilybaeum to Rome, in 250 the consul Publius Clodius suffered a severe defeat in a naval battle at Drepana, and in the next year a third fleet was destroyed by a storm off Phintias in Sicily. In 247 a new Carthaginian general, Hamilcar Barca, took command in Sicily and infused new life into the Carthaginian forces. From the citadel of Hercte first, and later from Eryx, he continually harassed the Romans not only in Sicily but even on the coast of Italy. A Carthaginian relief expedition was destroyed off the Aegates Islands, and it was impossible for their forces, now completely cut off in Sicily, to prolong the struggle. Carthage surrendered to Rome her remaining possessions in Sicily, with the islands between Sicily and Italy, besides agreeing to pay an indemnity of 3200 talents (about $3,500,000) in twenty years. Thereupon the Romans demanded satisfaction from Teuta and, upon their demands being contemptuously rejected, they declared war. War against the Boii and Insubres: 224 –222 B. C. Italy was saved, and now the Romans decided to expel the Boii and the Insubres from the Po valley as a penalty for their conduct and to prevent future invasions of this sort by occupying their territory. This faction was led by Hamilcar Barca, the victor of the mercenary war, who saw in Spain the opportunity for repairing the fortunes of his state, for compensating Carthage for the loss of Sicily and Sardinia, and for developing an army that would enable him to face the Romans on an equal footing. Now the Massaliots had long been in alliance with Rome, —they were said to have contributed to the ransom which the Romans paid to the Gauls in 387 B. C.,—and there seems little doubt that they secured the intervention of Rome on their behalf. A few years later the Romans entered into a defensive alliance with the Spanish town of Saguntum, which lay to the south of the Ebro, but which was not subject to Carthage. But the Romans had not taken into account the military genius of Hannibal, whose audacious plan of carrying the war into Italy upset their calculations. Among the Gauls of the Po valley he hoped to find recruits for his army, and expected that, once he was in Italy, the Roman allies would seize this opportunity of recovering their independence. At the news of his arrival in Italy Sempronius was at once recalled from Sicily, but Scipio who had anticipated him ventured to attack Hannibal with the forces under his command. At the same time they still held command of the sea, kept up their offensive in Spain, and held their ground against Carthaginian attacks in Sicily and Sardinia. Rome recovers Syracuse and Capua: 212 –11 B. C. In 213 the Romans were able to invest Syracuse. And in Italy, although Hannibal defeated and killed the consul Tiberius Sempronius Gracchus, and was able to occupy the cities of Tarentum (although not its citadel), Heraclea and Thurii, he could not prevent the Romans from laying siege to Capua (212 B. C.). The war in Spain: 218 –207 B. C. The fall of Capua came at a moment most opportune for the Romans, since they had immediate need to send reinforcements to Spain. Publius Cornelius Scipio sent to Spain: 210 B. C. Undismayed by these disasters the Romans determined to continue their efforts to conquer Spain because of its importance98 A History of Rome to 565 A. D. as a recruiting ground for the Carthaginian armies and because the continuance of the war there prevented reinforcements being sent to Hannibal in Italy. For the first time in the war the Romans could breathe freely and look forward with confidence to the issue. In 205 he returned to Rome to enter upon the consulship, and thereupon went to Sicily to make preparations for the invasion of Africa, since the Romans were now able to carry out their plan of100 A History of Rome to 565 A. D. 218 B. C.which Hannibal had then interrupted. A third factor was the absence in the Roman commanders of the personal rivalries and lack of coöperation which so greatly hampered the Carthaginians in Spain and in Sicily. An additional burden [88]V. T HEEFFECT OF THE SECOND PUNIC WAR UPON ITALY 103 was the increased cost of the necessities of life and the danger of a grain famine, caused by the disturbed conditions in Italy and Sicily and the withdrawal of so many men from agricultural occupations. The Greeks had likewise colonized the eastern and southern part of the island of Sicily. The central portion of the island was still occupied by the Sicans and the Sicels, peoples who were in possession of Sicily prior to the coming of the Greeks, and whom some regard as an Italian, others as a Ligurian, or Iberian, element. Their name still clings to this section of Italy ( la [16] Toscana ), which to the Romans was known as Etruria. As early as the eighth century the Greeks had begun their colonizing activity in the western Mediterranean, and, in the course of the next two centuries, they had settled the eastern and southern shores of Sicily, stretched a chain of settlements on the Italian coast from Tarentum to the Bay of Naples, and established themselves at the mouth of the Rhone and on the Riviera. The opposition of Carthage shut them out from the western end of Sicily, and from Spain; the Etruscans closed to them Italy north of the Tiber; while the joint action of these two peoples excluded them from Sardinia and Corsica. In the fifth century these Greek cities in Sicily and Italy were at the height of their power and prosperity. ” The decline of the Greek power in Italy and Sicily. In Sicily the Carthaginians renewed their assault upon the Greeks in 408 B. C. For a time (404 –367) the genius and energy of Dionysius I, tyrant of Syracuse, welded the cities of the island and the mainland into an empire which enabled them to make head against their foes. After further warfare, by 339, Carthage remained in permanent occupation of the western half of the island of Sicily, while in Italy only a few Greek towns, such as Tarentum, Thurii, and Rhegium, were able to maintain themselves, and that with ever increasing difficulty, against the rising tide of the Italians. 2The Big Question According to legend, how did the city of Rome begin? It may be that the organization of this city of the Four Regions was effected by Etruscan conquerors, for the name Roma seems to be of Etruscan origin, and, for the Romans, an urbs, as they called Rome, was merely an oppidum of which the limits had been marked out according to Etruscan ritual. Although it is very probable that the historic population of Rome was the result of a fusion of several racial elements —Latin, Sabine, Etruscan, and even pre-Italian, nevertheless the Romans were essentially a Latin people. The Senate next sent ambassadors to the East to present an ultimatum to Philip, and at the same time to negotiate with Antiochus for the cessation of his attacks upon Egypt, for the Romans did not wish to have his forces added to those of the Macedonian king. The Romans were at the time too much occupied to oppose him, and, outwardly, he professed to be the friend of Rome and to be limiting his activities to the reëstablishing of his empire to its former extent. The Roman decision wounded the susceptibilities of the Confederacy without settling the problem, and the tendency of the Achaeans to stand upon their rights provoked the anger of the Romans. Finally, in 168, the Romans found an able general in the consul Aemilius Paulus, who restored the morale of the Roman soldiers and won a complete victory over Perseus in the battle of Pydna. —The Gothic War.— He Recovers Sicily, Naples, And Rome. If Africa should be reduced, it cannot be preserved without the additional conquest of Sicily and Italy. 1330encountered an adversary equal to himself, by the new title of General of the East; his superior in the science of war, but much inferior in the number and quality of his troops, which amounted only to twenty -five thousand Romans and strangers, relaxed in their discipline, and humbled by recent disasters. The fleet lost sight of Sicily, passed befo re the Isle of Malta, discovered the capes of Africa, ran along the coast with a strong gale from the north -east, and finally cast anchor at the promontory of Caput Vada, about five days’ journey to the south of Carthage.4993 If Gelimer had been informed of the approach of the enemy, he must have delayed the conquest of Sardinia for the immediate defence of his person and kingdom. Chapter II: The Internal Prosperity In The Age Of The Antonines : Part II Till the privileges of Romans had been progressively extended to all the inhabitants of the empire, an important distinction was preserved between Italy and the provinces. A nation of Romans was gradually formed in the provinces, by the double expedient of introducing colonies, and of admitting the most faithful and deserving of the provincials to the freedom of Rome. The natives of Italy, allured by pleasure or by interest, hastened to enjoy the advantages of victory; and we may remark, that, about forty years after the reduction of Asia, eighty thousand Romans were massacred in one day, by the cruel orders of Mithridates. So sensible were the Romans of the influence of language over national manners, that it was their most serious care to extend, with the progress of their arms, the use of the Latin tongue.142 The ancient dialects of Italy, the Sabine, the Etruscan, and the Venetian, sunk into oblivion; but in the provinces, the east was less docile than the west to the voice of its victorious preceptors. 144 Education and study insensibly inspired the natives of those countries with the sentiments of Romans; and Italy gave fashions, as well as laws, to her Latin provincials. The poor wretch, highly gratified with the distinction, came to present himself before the prætor, in hopes, no doubt, of praise and reward; but Domitius, on learning that he had only a javelin to attack and kill the boar, ordered him to be instantly crucified, under the barbarous pretext that the law prohibited the use of this weapon, as of all others, to slaves.” Perhaps the cruelty of Domitius is less astonishing than the indifference with which the Roman orator relates this circumstance, which affects him so little that he thus expresses himself: “Durum hoc fortasse videatur, neque ego in ullam partem disputo.” “This may appear harsh, nor do I give any opinion on the subject.” And it is the same orator who exclaims in the same oration, “Facinus est cruciare civem Romanum; scelus verberare; prope parricidium necare: quid dicam in crucem tollere?” “It is a crime to imprison a Roman citizen; wickedness to scourge; next to parricide to put to death, what shall I call it to crucify?” In general, this passage of Gibbon on slavery, is full, not only of blamable indifference, but of an exaggeration of impartiality which resembles dishonesty. The temper which Christianity inspired was mild and gentle; and the doctrines it taught added such dignity and lustre to human nature, as rescued it from the dishonorable servitude into which it was sunk.” It is in vain, then, that Gibbon pretends to attribute solely to the desire of keeping up the number of slaves, the milder conduct which the Romans began to adopt in their favor at the time of the emperors. Slaves were no doubt employed in agricultural labor to a great extent in Sicily, and were the estates of those six enormous landholders who were said to have possessed the whole province of Africa, cultivated altogether by free coloni? By this agreement the Romans and the Latin league formed an offensive and defensive military alliance, each party contributing equal contingents for joint military enterprises and dividing the spoils of war, while the Latins at Rome and the Romans in the Latin cities enjoyed the private rights ofI. In addition to these frequent but not continuous wars, the Romans had to sustain a serious conflict with the powerful Etruscan city of Veii, situated about 12 miles to the north of Rome, across the Tiber. The causes of the struggle are uncertain, but war broke out in 402, shortly after the Romans had gained possession of Fidenae, a town which controlled a crossing of the Tiber above the city of Rome. It was in the course of this war that the Romans introduced the custom of paying their troops, a practice which enabled them to keep a force under arms throughout the entire year if necessary. In 334 the Gauls and the Romans concluded peace and entered upon a period of friendly40 A History of Rome to 565 A. D. relations which lasted for the rest of the fourth century. Even before this, subsequent to the Gallic capture of Rome, the Romans had fought with individual Latin cities, but now practically all the cities of the Latin league were in arms against41 them. After the Latin war, the territory previously won from the Volsci and Aurunci was largely occupied by settlements of Roman citizens or by Latin colonies, for even after the dissolution of the Latin league the Romans made use of this type of colony to secure their conquests, as well as to relieve the surplus population of Rome and Latium. The alliance of Rome and Campania brought the Romans into immediate contact with the Samnites and converted these former friends into enemies, since the Samnites regarded Campania as their legitimate field for expansion and refused to submit to its passing under the aegis of Rome. The beginning of hostilities, 325 –4.Hostilities broke out over the occupation of Naples by the Romans and its incorporation in the Roman alliance. By the construction of the Via Appia the Romans secured a military highway from Rome to Capua which greatly facilitated the conduct of operations in Campania. Wars with the Samnites, Gauls and Etruscans, 298 –80 B. C. In 298 war broke out again between the Romans and Samnites, apparently because the Lucanians had deserted the Roman alliance for the Samnites. But this44 A History of Rome to 565 A. D. host was annihilated by the Romans in the battle of Sentinum (295). As fighters the Romans had shown46 A History of Rome to 565 A. D. themselves the equal of the foe, and their tactical organization, [41] perfected in the Samnite Wars, had proved its value in its first encounter with that developed by the military experts of Greece. Thereupon the Romans began negotiations which Pyrrhus welcomed, sending the orator Cineas to Rome to represent him. But, before an agreement was reached, the Carthaginians, who feared the intervention of Pyrrhus in Sicily, offered the Romans assistance. Their proffer was accepted; the negotiations with Pyrrhus ended; and Rome and Carthage bound themselves not to make a separate agreement with the common foe, while the Carthaginian fleet was to coöperate with the Romans. Pyrrhus in Sicily, 278 –5 B. C. Nevertheless, Pyrrhus determined to answer an appeal from the Sicilian Greeks and to leave Italy for Sicily. Caught between these two enemies, the Greeks appealed to Pyrrhus who came to their aid, possibly with the hope of uniting Sicily under his own control. Deprived of their assistance, and seeing that his allies in Italy were hard pressed by the Romans, he abandoned his SicilianVI. Pyrrhus returned to Italy, with the loss of his fleet in a naval battle with the Carthaginians, reorganized his forces, and advanced into Lucania or Samnium to meet the Romans. Thereupon the Romans soon reduced the Samnites and Lucanians, while Tarentum and the other Greek cities, one after another, were forced to submit and enter the Roman alliance. By 265 B. C. after a few more brief struggles with revolting or still unsubdued communities in central and northern Italy, the Romans had completed the subjugation of the entire Italian peninsula. However, if we may not convict the Romans of aggressive imperialism prior to 265, at any rate the methods which they pursued in their relations with the other peoples of Italy made their domination inevitable in view of the Roman national character and their political and military organization. Of the non-Romans in Italy the people most closely bound to Rome by ties of blood and common interests were the Latin allies. The allied troops, moreover, received their subsistence from Rome and shared equally with the Romans in the spoils of war. During the same period, Italy revived and flourished under the government of a Gothic king, who might have deserved a statue among the best and bravest of the ancient Romans. “Are you ignorant,” exclaimed the son of Triarius, “that it is the constant policy of the Romans to destroy the Goths by each other’s swords? The sagacious mind of Theodoric soon perceived that he was odious to the Romans, and suspected by the Barbarians: he understood the popular murmur, that his subjects were exposed in their frozen huts to intolerable hardships, while their king was dissolved in the luxury of Greece, and he prevented the painful alternative of encountering the Goths, as the champion, or o f leading them to the field, as the enemy, of Zeno. 4703 From the Alps to the extremity of Calabria, Theodoric reigned by the right of conquest; the Vandal ambassadors surrendered the Island of Sicily, as a lawful appendage of his kingdom; and he was accepted as the deliverer of Rome by the senate and people, who had shut their gates against the flying usurper.'"
      ]
     },
     "execution_count": 30,
     "metadata": {},
     "output_type": "execute_result"
    }
   ],
   "source": [
    "grand_summary"
   ]
  },
  {
   "cell_type": "markdown",
   "id": "1ee1813d-b310-450b-88be-655e5729c536",
   "metadata": {
    "jp-MarkdownHeadingCollapsed": true
   },
   "source": [
    "## Huggingface"
   ]
  },
  {
   "cell_type": "code",
   "execution_count": 31,
   "id": "106fb406-b522-4825-86aa-b25145d29532",
   "metadata": {
    "execution": {
     "iopub.execute_input": "2025-01-08T19:09:34.237222Z",
     "iopub.status.busy": "2025-01-08T19:09:34.236222Z",
     "iopub.status.idle": "2025-01-08T19:09:34.248334Z",
     "shell.execute_reply": "2025-01-08T19:09:34.247256Z",
     "shell.execute_reply.started": "2025-01-08T19:09:34.237222Z"
    }
   },
   "outputs": [
    {
     "name": "stdout",
     "output_type": "stream",
     "text": [
      "Number of GPUs available: 1\n",
      "GPU 0: NVIDIA GeForce RTX 3050 Ti Laptop GPU\n"
     ]
    }
   ],
   "source": [
    "import torch\n",
    "\n",
    "# Check if CUDA is available\n",
    "if torch.cuda.is_available():\n",
    "    # Get the number of GPUs available\n",
    "    n_gpus = torch.cuda.device_count()\n",
    "    print(f\"Number of GPUs available: {n_gpus}\")\n",
    "\n",
    "    # Print details for each GPU\n",
    "    for i in range(n_gpus):\n",
    "        print(f\"GPU {i}: {torch.cuda.get_device_name(i)}\")\n",
    "else:\n",
    "    print(\"No GPU available\")"
   ]
  },
  {
   "cell_type": "code",
   "execution_count": 11,
   "id": "3f38a5eb-d613-4a70-b915-f2208e275652",
   "metadata": {
    "execution": {
     "iopub.execute_input": "2025-01-07T10:53:59.290942Z",
     "iopub.status.busy": "2025-01-07T10:53:59.290555Z",
     "iopub.status.idle": "2025-01-07T10:54:02.730595Z",
     "shell.execute_reply": "2025-01-07T10:54:02.729363Z",
     "shell.execute_reply.started": "2025-01-07T10:53:59.290921Z"
    }
   },
   "outputs": [
    {
     "data": {
      "application/vnd.jupyter.widget-view+json": {
       "model_id": "d82969842a7a4c8bb56f5cff66394487",
       "version_major": 2,
       "version_minor": 0
      },
      "text/plain": [
       "Loading checkpoint shards:   0%|          | 0/2 [00:00<?, ?it/s]"
      ]
     },
     "metadata": {},
     "output_type": "display_data"
    },
    {
     "name": "stderr",
     "output_type": "stream",
     "text": [
      "Device set to use cuda:0\n"
     ]
    }
   ],
   "source": [
    "import torch\n",
    "from transformers import pipeline\n",
    "from huggingface_hub import login\n",
    "#access_token = \"YOUR_ACCESS_TOKEN\" #FIX uncomment and put your access token here\n",
    "login(token = access_token)\n",
    "\n",
    "model_id = \"meta-llama/Llama-3.2-3B-Instruct\"\n",
    "pipe = pipeline(\n",
    "    \"text-generation\",\n",
    "    model=model_id,\n",
    "    torch_dtype=torch.float16,\n",
    "    device=0,\n",
    "    #device_map=\"auto\",\n",
    ")"
   ]
  },
  {
   "cell_type": "code",
   "execution_count": null,
   "id": "48c879c6-d17c-4f79-bbb3-01837982742e",
   "metadata": {},
   "outputs": [],
   "source": [
    "def smoothen_summary(query, final_summary):\n",
    "\n",
    "    messages = [\n",
    "        {\"role\": \"system\", \"content\": \"\"\"\n",
    "        You are an expert in producing Wiki-articles based on given content.\n",
    "    \n",
    "    \n",
    "    \"\"\"\n",
    "         },\n",
    "        {\"role\": \"user\", \"content\": f\"Question: {query}\\n\\nContext to use to generate a Wiki-article divided into paragraphs and generated lists:\\n\\n{final_summary}. If the context does not contain the answer to the question write 'The suggested context does not contain the answer to the question', and try to answer on your own, giving the references to the sources you used. But do not make up anything, use just factual and trustworthy data.\"},\n",
    "    ]\n",
    "    outputs = pipe(\n",
    "        messages,\n",
    "        temperature = 0.01,\n",
    "        max_new_tokens=2048,\n",
    "    )\n",
    "    return outputs[0][\"generated_text\"][-1]['content']\n",
    "\n",
    "smoothen_summary(query, grand_summary)"
   ]
  },
  {
   "cell_type": "code",
   "execution_count": 16,
   "id": "7d34c2fb-6c40-47cf-9486-079324ff23c1",
   "metadata": {
    "execution": {
     "iopub.execute_input": "2025-01-07T10:56:06.336112Z",
     "iopub.status.busy": "2025-01-07T10:56:06.335517Z",
     "iopub.status.idle": "2025-01-07T10:56:25.983752Z",
     "shell.execute_reply": "2025-01-07T10:56:25.982652Z",
     "shell.execute_reply.started": "2025-01-07T10:56:06.336090Z"
    }
   },
   "outputs": [
    {
     "data": {
      "application/vnd.jupyter.widget-view+json": {
       "model_id": "ff5472d6dd7d4b13936b2b2b4850f22a",
       "version_major": 2,
       "version_minor": 0
      },
      "text/plain": [
       "  0%|          | 0/10 [00:00<?, ?it/s]"
      ]
     },
     "metadata": {},
     "output_type": "display_data"
    },
    {
     "name": "stderr",
     "output_type": "stream",
     "text": [
      "Setting `pad_token_id` to `eos_token_id`:128001 for open-end generation.\n"
     ]
    }
   ],
   "source": [
    "answer = smoothen_summary(question, grand_summary)"
   ]
  },
  {
   "cell_type": "code",
   "execution_count": 18,
   "id": "b0d8715e-3a04-4590-87cc-d6584e7ccf5f",
   "metadata": {
    "execution": {
     "iopub.execute_input": "2025-01-07T10:56:51.575717Z",
     "iopub.status.busy": "2025-01-07T10:56:51.575311Z",
     "iopub.status.idle": "2025-01-07T10:56:51.582064Z",
     "shell.execute_reply": "2025-01-07T10:56:51.581124Z",
     "shell.execute_reply.started": "2025-01-07T10:56:51.575674Z"
    }
   },
   "outputs": [
    {
     "name": "stdout",
     "output_type": "stream",
     "text": [
      "**The Roman Conquest of Sicily**\n",
      "\n",
      "The Roman conquest of Sicily was a pivotal event in the history of the Roman Republic, marking the beginning of Rome's expansion into the Mediterranean and the eventual rise of the Roman Empire. The conquest of Sicily was a result of the long-standing rivalry between Rome and Carthage, a powerful city-state in North Africa.\n",
      "\n",
      "**Background**\n",
      "\n",
      "In the 3rd century BC, Carthage controlled the western half of the Mediterranean, including Sicily, Sardinia, and Corsica. The Carthaginian empire had created a vast network of trade routes and colonies, which had led to conflicts with Rome. The Romans, seeking to expand their territories and challenge Carthage's dominance, began to send armies to Sicily.\n",
      "\n",
      "**The First Roman Invasion (260-251 BC)**\n",
      "\n",
      "In 260 BC, the Roman consul Gaius Duilius led a fleet of 300 rowers and 120 fighting men to Sicily. They won a decisive battle off Mylae, which gave them control of the island. The Romans then occupied Corsica and attacked Sardinia, but were unable to force a decision in Sicily.\n",
      "\n",
      "**The Second Roman Invasion (254-241 BC)**\n",
      "\n",
      "In 254 BC, the Roman consul Marcus Atilius Regulus led an army to Sicily, but was defeated by the Carthaginian general Hamilcar Barca. The Romans lost several ships and suffered a severe defeat in a naval battle at Drepana.\n",
      "\n",
      "**The Third Roman Invasion (247-241 BC)**\n",
      "\n",
      "In 247 BC, Hamilcar Barca took command of the Carthaginian forces in Sicily and inflicted a crushing defeat on the Romans. However, the Romans were able to recover and eventually forced Carthage to surrender its remaining possessions in Sicily.\n",
      "\n",
      "**The Roman Conquest of Sicily (241 BC)**\n",
      "\n",
      "In 241 BC, the Romans, led by the consul Tiberius Sempronius, defeated the Carthaginians and captured the city of Syracuse. The Romans then turned their attention to Carthage, which was forced to surrender its remaining territories in Sicily.\n",
      "\n",
      "**References**\n",
      "\n",
      "* Polybius, The Histories (Book III, Chapter 109)\n",
      "* Livy, Ab Urbe Condita (Book XXI, Chapter 9)\n",
      "* Diodorus Siculus, Library of History (Book XX, Chapter 1)\n",
      "\n",
      "**Timeline**\n",
      "\n",
      "* 260 BC: The Roman consul Gaius Duilius leads a fleet to Sicily and wins a decisive battle off Mylae.\n",
      "* 254 BC: The Roman consul Marcus Atilius Regulus leads an army to Sicily, but is defeated by Hamilcar Barca.\n",
      "* 247 BC: Hamilcar Barca takes command of the Carthaginian forces in Sicily and inflicts a crushing defeat on the Romans.\n",
      "* 241 BC: The Romans, led by the consul Tiberius Sempronius, defeat the Carthaginians and capture the city of Syracuse.\n",
      "\n",
      "**Key Figures**\n",
      "\n",
      "* Gaius Duilius: Roman consul who led the first Roman invasion of Sicily.\n",
      "* Marcus Atilius Regulus: Roman consul who led the second Roman invasion of Sicily.\n",
      "* Hamilcar Barca: Carthaginian general who defeated the Romans in Sicily.\n",
      "* Tiberius Sempronius: Roman consul who led the Roman conquest of Sicily.\n",
      "\n",
      "**References**\n",
      "\n",
      "* Polybius, The Histories (Book III, Chapter 109)\n",
      "* Livy, Ab Urbe Condita (Book XXI, Chapter 9)\n",
      "* Diodorus Siculus, Library of History (Book XX, Chapter 1)\n"
     ]
    }
   ],
   "source": [
    "print(answer)"
   ]
  },
  {
   "cell_type": "markdown",
   "id": "f877c965-8e7f-4106-9d3c-7c506973a462",
   "metadata": {},
   "source": [
    "## Llama-API"
   ]
  },
  {
   "cell_type": "code",
   "execution_count": 10,
   "id": "5714f773-3b54-4fc9-ac08-24dc2050f01b",
   "metadata": {
    "execution": {
     "iopub.execute_input": "2025-01-08T21:12:41.623725Z",
     "iopub.status.busy": "2025-01-08T21:12:41.622726Z",
     "iopub.status.idle": "2025-01-08T21:12:41.689990Z",
     "shell.execute_reply": "2025-01-08T21:12:41.688977Z",
     "shell.execute_reply.started": "2025-01-08T21:12:41.623725Z"
    }
   },
   "outputs": [],
   "source": [
    "from llamaapi import LlamaAPI"
   ]
  },
  {
   "cell_type": "code",
   "execution_count": 32,
   "id": "1926e12f-237d-42d3-8677-22847431f0ea",
   "metadata": {
    "execution": {
     "iopub.execute_input": "2025-01-08T21:40:02.635676Z",
     "iopub.status.busy": "2025-01-08T21:40:02.635676Z",
     "iopub.status.idle": "2025-01-08T21:40:02.641187Z",
     "shell.execute_reply": "2025-01-08T21:40:02.641187Z",
     "shell.execute_reply.started": "2025-01-08T21:40:02.635676Z"
    }
   },
   "outputs": [],
   "source": [
    "#llama = LlamaAPI(\"YOUR_API_KEY\") #FIX  uncomment this line and put your API key\n",
    "\n",
    "\n",
    "def smoothen_summary(query, final_text):\n",
    "    try:    \n",
    "        api_request_json = {\n",
    "             \"messages\" : [\n",
    "        {\"role\": \"system\", \"content\": \"You are an expert in producing Wiki-articles based on given content.\"\n",
    "         },\n",
    "        {\"role\": \"user\", \"content\": f\"Question: {query}\\n\\nContext to use to generate a Wiki-article divided into paragraphs and generated lists:\\n\\n{final_text}. If the context does not contain the answer to the question write 'The suggested context does not contain the answer to the question', and try to answer on your own, giving the references to the sources you used. But do not make up anything, use just factual and trustworthy data.\"},\n",
    "    ],\n",
    "            \"model\": \"llama3.1-70b\",  # Выбор модели, которую хотите использовать\n",
    "            \"max_tokens\": 2048,\n",
    "            \"temperature\": 0.1\n",
    "        }\n",
    "        \n",
    "        api_request_json[\"max_tokens\"] = min(2048, len(final_text))  # Adjust token count dynamically\n",
    "\n",
    "        \n",
    "        # Выполнение запроса\n",
    "        response = llama.run(api_request_json)\n",
    "        \n",
    "        answer = response.json()[\"choices\"][0][\"message\"][\"content\"]\n",
    "        output = answer.replace('\\\\n\\\\n', '\\n').replace('\\\\n', '\\n')\n",
    "    except Exception:\n",
    "        output = 'К сожалению, выполнить сглаживание текста не удалось по техническим причинам. Прилагаем необработанный текст:\\n\\n' + final_text\n",
    "        print(traceback.format_exc())\n",
    "        \n",
    "    return output"
   ]
  },
  {
   "cell_type": "markdown",
   "id": "63ef1195-b3f5-4010-8165-a5521f110adc",
   "metadata": {},
   "source": [
    "# Wrapping of the AI tutor elements"
   ]
  },
  {
   "cell_type": "code",
   "execution_count": 9,
   "id": "b65130f3-7a38-483c-b14d-1f2dd1c821f9",
   "metadata": {
    "execution": {
     "iopub.execute_input": "2025-01-08T20:10:07.590833Z",
     "iopub.status.busy": "2025-01-08T20:10:07.589563Z",
     "iopub.status.idle": "2025-01-08T20:10:07.596695Z",
     "shell.execute_reply": "2025-01-08T20:10:07.595472Z",
     "shell.execute_reply.started": "2025-01-08T20:10:07.590833Z"
    }
   },
   "outputs": [],
   "source": [
    "question = 'When did the Romans seize Sicily?'\n"
   ]
  },
  {
   "cell_type": "code",
   "execution_count": 10,
   "id": "570f5f50-737c-4ba8-a98b-8b4402da5557",
   "metadata": {
    "execution": {
     "iopub.execute_input": "2025-01-08T20:10:13.895814Z",
     "iopub.status.busy": "2025-01-08T20:10:13.895814Z",
     "iopub.status.idle": "2025-01-08T20:10:13.902380Z",
     "shell.execute_reply": "2025-01-08T20:10:13.900820Z",
     "shell.execute_reply.started": "2025-01-08T20:10:13.895814Z"
    }
   },
   "outputs": [],
   "source": [
    "def ask_tutor(question, top_n=10):\n",
    "    docs, dist = find_docs(question, top_n=top_n)\n",
    "    summaries = [custom_summ(t, question, top_n=0.2) for t in tqdm(docs)]\n",
    "    grand_summary = custom_summ(' '.join(summaries), question, top_n=0.2)\n",
    "    answer = smoothen_summary(question, grand_summary)\n",
    "    return answer"
   ]
  },
  {
   "cell_type": "code",
   "execution_count": 13,
   "id": "d161276a-67bc-416f-9f96-dad574ca14da",
   "metadata": {
    "execution": {
     "iopub.execute_input": "2025-01-08T20:11:54.646944Z",
     "iopub.status.busy": "2025-01-08T20:11:54.645943Z",
     "iopub.status.idle": "2025-01-08T20:12:04.653557Z",
     "shell.execute_reply": "2025-01-08T20:12:04.652551Z",
     "shell.execute_reply.started": "2025-01-08T20:11:54.646944Z"
    }
   },
   "outputs": [
    {
     "data": {
      "application/vnd.jupyter.widget-view+json": {
       "model_id": "796c5bfd54fd4a06beab0c0568d2ce73",
       "version_major": 2,
       "version_minor": 0
      },
      "text/plain": [
       "  0%|          | 0/10 [00:00<?, ?it/s]"
      ]
     },
     "metadata": {},
     "output_type": "display_data"
    },
    {
     "name": "stdout",
     "output_type": "stream",
     "text": [
      "The Romans Seizure of Sicily\n",
      "\n",
      "Sicily, an island in the central Mediterranean, played a significant role in the ancient world. The island was colonized by various civilizations, including the Greeks and Carthaginians. The Romans eventually seized control of Sicily from the Carthaginians.\n",
      "\n",
      "Background\n",
      "----------\n",
      "\n",
      "In the third century BC, Carthage controlled a vast empire that included much of North Africa, Spain, Corsica, Sardinia, and Sicily. However, their policy of commercial exclusiveness led to conflicts with Greek colonial expansion in Spain, Sardinia, and Sicily.\n",
      "\n",
      "First Punic War\n",
      "----------------\n",
      "\n",
      "The First Punic War (264-241 BC) was fought between Rome and Carthage over control of Sicily. The war began when Rome sent an army to attack Syracuse and later formed an alliance with Hiero II of Syracuse against Carthage.\n",
      "\n",
      "Key Events\n",
      "------------\n",
      "\n",
      "* 260 BC: Roman consul Gaius Duilius won a decisive naval battle off Mylae on the north coast of Sicily.\n",
      "* 256 BC: Roman invasion of Africa under Marcus Atilius Regulus.\n",
      "* 254-241 BC: War in Sicily continued with both sides suffering losses.\n",
      "* 247 BC: Hamilcar Barca took command in Sicily for Carthage.\n",
      "* 241 BC: Rome defeated Carthage at sea off the Aegates Islands.\n",
      "\n",
      "Roman Victory\n",
      "-----------------\n",
      "\n",
      "After years of fighting on land and sea, Rome emerged victorious. In 241 BC, Carthage surrendered its remaining possessions in Sicily to Rome. This marked a significant turning point for Rome as it gained control over its first overseas province.\n",
      "\n",
      "List Of Key Dates:\n",
      "\n",
      "1. **260 B.C**: Roman consul Gaius Duilius wins a decisive naval battle off Mylae on the north coast of Sicily.\n",
      "2. **256 B.C**: Roman invasion of Africa under Marcus Atilius Regulus.\n",
      "3. **254-241 B.C**: War in Sicily continues with both sides suffering losses.\n",
      "4. **247 B.C**: Hamilcar Barca takes command in Sicily for Carthage.\n",
      "5. **241 B.C**: Rome defeats Carthage at sea off the Aegates Islands; marking their victory over carthaginian forces.\n",
      "\n",
      "\n",
      "References:\n",
      "[1] \"A History Of Rome To 565 AD\"\n"
     ]
    }
   ],
   "source": [
    "answer = ask_tutor(question, top_n=10)\n",
    "print(answer)"
   ]
  },
  {
   "cell_type": "markdown",
   "id": "82e54ac9-d911-478d-87ad-1199e37af608",
   "metadata": {},
   "source": [
    "## Caching"
   ]
  },
  {
   "cell_type": "code",
   "execution_count": 12,
   "id": "a0004742-4209-409d-96ea-b920a767b3ca",
   "metadata": {
    "execution": {
     "iopub.execute_input": "2025-01-08T21:13:28.883910Z",
     "iopub.status.busy": "2025-01-08T21:13:28.883910Z",
     "iopub.status.idle": "2025-01-08T21:13:28.888910Z",
     "shell.execute_reply": "2025-01-08T21:13:28.888910Z",
     "shell.execute_reply.started": "2025-01-08T21:13:28.883910Z"
    }
   },
   "outputs": [],
   "source": [
    "# Check if the file exists\n",
    "if os.path.exists('qa_cache.pkl'):\n",
    "    #print(\"The file exists.\")\n",
    "    qa_cache = load_obj('qa_cache')\n",
    "else:\n",
    "    #print(\"The file does not exist.\")\n",
    "    qa_cache = {}\n",
    "\n",
    "\n",
    "def ask_tutor(question, top_n=10):\n",
    "    if question in qa_cache.keys():\n",
    "        return qa_cache[question]\n",
    "    else:\n",
    "        docs, dist = find_docs(question, top_n=top_n)\n",
    "        summaries = [custom_summ(t, question, top_n=0.2) for t in tqdm(docs)]\n",
    "        grand_summary = custom_summ(' '.join(summaries), question, top_n=0.2)\n",
    "        answer = smoothen_summary(question, grand_summary)\n",
    "        qa_cache[question] = answer\n",
    "        save_obj(qa_cache,'qa_cache')\n",
    "    return answer"
   ]
  },
  {
   "cell_type": "code",
   "execution_count": 13,
   "id": "2843ccce-9213-4eb0-803e-341796ef982f",
   "metadata": {
    "execution": {
     "iopub.execute_input": "2025-01-08T21:13:31.981845Z",
     "iopub.status.busy": "2025-01-08T21:13:31.980847Z",
     "iopub.status.idle": "2025-01-08T21:13:31.987236Z",
     "shell.execute_reply": "2025-01-08T21:13:31.986228Z",
     "shell.execute_reply.started": "2025-01-08T21:13:31.981845Z"
    }
   },
   "outputs": [
    {
     "name": "stdout",
     "output_type": "stream",
     "text": [
      "Invasion of Rome by Alaric\n",
      "==========================\n",
      "\n",
      "The invasion of Rome by Alaric, the king of the Visigoths, is a pivotal event in Roman history. According to historical records, Alaric invaded Italy in 401 AD and again in 408 AD.\n",
      "\n",
      "Background\n",
      "----------\n",
      "\n",
      "Alaric was a skilled military leader who had previously served as a foederatus (ally) of the Roman Empire. However, after the death of Emperor Theodosius I in 395 AD, Alaric became disillusioned with the Roman government and began to ravage Thrace and Macedonia with his band of Visigoths.\n",
      "\n",
      "Invasion of Italy\n",
      "-----------------\n",
      "\n",
      "In 401 AD, Alaric invaded Italy but was forced to withdraw by Stilicho, the Roman general. However, after Stilicho's death in 408 AD, Alaric returned to Italy and marched on Rome.\n",
      "\n",
      "Siege of Rome\n",
      "--------------\n",
      "\n",
      "Alaric laid siege to Rome on August 24, 410 AD. The city was poorly defended, and after three days of siege warfare, the walls were breached. The Goths poured into the city and pillaged it for three days.\n",
      "\n",
      "Timeline:\n",
      "\n",
      "* August 24-27: Siege of Rome\n",
      "* August 28-30: Pillage and sack of Rome\n",
      "\n",
      "Aftermath\n",
      "----------\n",
      "\n",
      "The sack of Rome marked a significant turning point in Western Roman history. It led to a decline in imperial power and paved the way for further barbarian invasions.\n",
      "\n",
      "References:\n",
      "\n",
      "* Gibbon's \"Decline and Fall of the Roman Empire\"\n",
      "* Jordanes' \"Getica\"\n",
      "* Procopius' \"History\"\n",
      "\n",
      "Note: While some sources may provide conflicting dates or details regarding Alaric's invasion, these references are generally accepted as reliable sources for this period in history.\n",
      "\n",
      "Sources:\n",
      "1) Gibbon E., History Of The Decline And Fall Of The Roman Empire.\n",
      "2) Jordanes., Getica.\n",
      "3) Procopius., History Of Wars\n"
     ]
    }
   ],
   "source": [
    "question = 'When the King Alaric invaded Rome?'\n",
    "\n",
    "answer = ask_tutor(question, top_n=10)\n",
    "print(answer)"
   ]
  },
  {
   "cell_type": "markdown",
   "id": "020a5bcd-3fb6-4e03-8d76-0f63b458e486",
   "metadata": {},
   "source": [
    "# Test the AI Tutor"
   ]
  },
  {
   "cell_type": "markdown",
   "id": "08922a6b-a960-4f82-972a-088ed4fc2412",
   "metadata": {},
   "source": [
    "## Get the testing data"
   ]
  },
  {
   "cell_type": "code",
   "execution_count": 1,
   "id": "a32d8703-bdef-4183-9f50-22b3e4b8a101",
   "metadata": {
    "execution": {
     "iopub.execute_input": "2025-01-08T21:06:54.949270Z",
     "iopub.status.busy": "2025-01-08T21:06:54.949270Z",
     "iopub.status.idle": "2025-01-08T21:06:55.455662Z",
     "shell.execute_reply": "2025-01-08T21:06:55.455662Z",
     "shell.execute_reply.started": "2025-01-08T21:06:54.949270Z"
    }
   },
   "outputs": [],
   "source": [
    "import wikipedia"
   ]
  },
  {
   "cell_type": "code",
   "execution_count": 2,
   "id": "694bcc7f-53ee-4dc4-9b61-6997b9e10056",
   "metadata": {
    "execution": {
     "iopub.execute_input": "2025-01-08T21:07:09.001722Z",
     "iopub.status.busy": "2025-01-08T21:07:09.000723Z",
     "iopub.status.idle": "2025-01-08T21:07:09.946825Z",
     "shell.execute_reply": "2025-01-08T21:07:09.945816Z",
     "shell.execute_reply.started": "2025-01-08T21:07:09.001722Z"
    }
   },
   "outputs": [
    {
     "data": {
      "text/plain": [
       "['Roman Empire',\n",
       " 'Fall of the Western Roman Empire',\n",
       " 'Holy Roman Empire',\n",
       " 'Western Roman Empire',\n",
       " 'Byzantine Empire',\n",
       " 'History of the Roman Empire',\n",
       " 'Roman emperor',\n",
       " 'Ancient Rome',\n",
       " 'Languages of the Roman Empire',\n",
       " 'The History of the Decline and Fall of the Roman Empire']"
      ]
     },
     "execution_count": 2,
     "metadata": {},
     "output_type": "execute_result"
    }
   ],
   "source": [
    "en_wiki_titles = wikipedia.search('Roman empire', results=10, suggestion=False)\n",
    "en_wiki_titles"
   ]
  },
  {
   "cell_type": "code",
   "execution_count": 3,
   "id": "99b9e50a-999b-4ec6-b337-2bb09038c0fb",
   "metadata": {
    "execution": {
     "iopub.execute_input": "2025-01-08T21:08:09.887210Z",
     "iopub.status.busy": "2025-01-08T21:08:09.887210Z",
     "iopub.status.idle": "2025-01-08T21:08:09.891744Z",
     "shell.execute_reply": "2025-01-08T21:08:09.891744Z",
     "shell.execute_reply.started": "2025-01-08T21:08:09.887210Z"
    }
   },
   "outputs": [],
   "source": [
    "def get_page(title):\n",
    "    try:\n",
    "        p = wikipedia.page(title, auto_suggest=False, redirect=True, preload=False)\n",
    "        return p\n",
    "    except wikipedia.DisambiguationError as e:\n",
    "        s = e.options[0] #random.choice(e.options)\n",
    "        p = wikipedia.page(s, auto_suggest=False, redirect=True, preload=False)\n",
    "        return p"
   ]
  },
  {
   "cell_type": "code",
   "execution_count": 26,
   "id": "a423276d-28b0-45b5-b493-ab1b2d598e76",
   "metadata": {
    "execution": {
     "iopub.execute_input": "2025-01-08T21:36:04.768635Z",
     "iopub.status.busy": "2025-01-08T21:36:04.766642Z",
     "iopub.status.idle": "2025-01-08T21:36:30.259342Z",
     "shell.execute_reply": "2025-01-08T21:36:30.258324Z",
     "shell.execute_reply.started": "2025-01-08T21:36:04.768635Z"
    }
   },
   "outputs": [
    {
     "data": {
      "application/vnd.jupyter.widget-view+json": {
       "model_id": "6024c58a7ea84a778b09541576bc55e3",
       "version_major": 2,
       "version_minor": 0
      },
      "text/plain": [
       "  0%|          | 0/10 [00:00<?, ?it/s]"
      ]
     },
     "metadata": {},
     "output_type": "display_data"
    }
   ],
   "source": [
    "title = [] #[t for t in tqdm(en_wiki_titles)]\n",
    "content = [] # [get_page(t).content for t in tqdm(en_wiki_titles)]\n",
    "summary = [] #[get_page(t).summary for t in tqdm(en_wiki_titles)]\n",
    "# links = [get_page(t).links for t in tqdm(en_wiki_titles)]\n",
    "\n",
    "\n",
    "for t in tqdm(en_wiki_titles):\n",
    "    page = get_page(t)\n",
    "    title.append(t)\n",
    "    content.append(page.content)\n",
    "    summary.append(page.summary)"
   ]
  },
  {
   "cell_type": "code",
   "execution_count": 27,
   "id": "108bfc07-a8ec-4f72-b4ff-87136b451817",
   "metadata": {
    "execution": {
     "iopub.execute_input": "2025-01-08T21:36:30.261329Z",
     "iopub.status.busy": "2025-01-08T21:36:30.261329Z",
     "iopub.status.idle": "2025-01-08T21:36:30.280581Z",
     "shell.execute_reply": "2025-01-08T21:36:30.278575Z",
     "shell.execute_reply.started": "2025-01-08T21:36:30.261329Z"
    }
   },
   "outputs": [],
   "source": [
    "import pandas as pd\n",
    "ds = pd.DataFrame()\n",
    "ds['title'] = title\n",
    "ds['content'] = content\n",
    "ds['summary'] = summary"
   ]
  },
  {
   "cell_type": "code",
   "execution_count": 28,
   "id": "580afc71-f22d-4793-87e0-6e8ceaa41734",
   "metadata": {
    "execution": {
     "iopub.execute_input": "2025-01-08T21:36:30.280581Z",
     "iopub.status.busy": "2025-01-08T21:36:30.280581Z",
     "iopub.status.idle": "2025-01-08T21:36:30.302877Z",
     "shell.execute_reply": "2025-01-08T21:36:30.300867Z",
     "shell.execute_reply.started": "2025-01-08T21:36:30.280581Z"
    }
   },
   "outputs": [
    {
     "data": {
      "text/html": [
       "<div>\n",
       "<style scoped>\n",
       "    .dataframe tbody tr th:only-of-type {\n",
       "        vertical-align: middle;\n",
       "    }\n",
       "\n",
       "    .dataframe tbody tr th {\n",
       "        vertical-align: top;\n",
       "    }\n",
       "\n",
       "    .dataframe thead th {\n",
       "        text-align: right;\n",
       "    }\n",
       "</style>\n",
       "<table border=\"1\" class=\"dataframe\">\n",
       "  <thead>\n",
       "    <tr style=\"text-align: right;\">\n",
       "      <th></th>\n",
       "      <th>title</th>\n",
       "      <th>content</th>\n",
       "      <th>summary</th>\n",
       "    </tr>\n",
       "  </thead>\n",
       "  <tbody>\n",
       "    <tr>\n",
       "      <th>0</th>\n",
       "      <td>Roman Empire</td>\n",
       "      <td>The Roman Empire ruled the Mediterranean and m...</td>\n",
       "      <td>The Roman Empire ruled the Mediterranean and m...</td>\n",
       "    </tr>\n",
       "    <tr>\n",
       "      <th>1</th>\n",
       "      <td>Fall of the Western Roman Empire</td>\n",
       "      <td>The fall of the Western Roman Empire, also cal...</td>\n",
       "      <td>The fall of the Western Roman Empire, also cal...</td>\n",
       "    </tr>\n",
       "    <tr>\n",
       "      <th>2</th>\n",
       "      <td>Holy Roman Empire</td>\n",
       "      <td>The Holy Roman Empire, headed by the Holy Roma...</td>\n",
       "      <td>The Holy Roman Empire, headed by the Holy Roma...</td>\n",
       "    </tr>\n",
       "    <tr>\n",
       "      <th>3</th>\n",
       "      <td>Western Roman Empire</td>\n",
       "      <td>In modern historiography, the Western Roman Em...</td>\n",
       "      <td>In modern historiography, the Western Roman Em...</td>\n",
       "    </tr>\n",
       "    <tr>\n",
       "      <th>4</th>\n",
       "      <td>Byzantine Empire</td>\n",
       "      <td>The Byzantine Empire, also referred to as the ...</td>\n",
       "      <td>The Byzantine Empire, also referred to as the ...</td>\n",
       "    </tr>\n",
       "    <tr>\n",
       "      <th>5</th>\n",
       "      <td>History of the Roman Empire</td>\n",
       "      <td>The history of the Roman Empire covers the his...</td>\n",
       "      <td>The history of the Roman Empire covers the his...</td>\n",
       "    </tr>\n",
       "    <tr>\n",
       "      <th>6</th>\n",
       "      <td>Roman emperor</td>\n",
       "      <td>The Roman emperor was the ruler and monarchica...</td>\n",
       "      <td>The Roman emperor was the ruler and monarchica...</td>\n",
       "    </tr>\n",
       "    <tr>\n",
       "      <th>7</th>\n",
       "      <td>Ancient Rome</td>\n",
       "      <td>In modern historiography, ancient Rome is the ...</td>\n",
       "      <td>In modern historiography, ancient Rome is the ...</td>\n",
       "    </tr>\n",
       "    <tr>\n",
       "      <th>8</th>\n",
       "      <td>Languages of the Roman Empire</td>\n",
       "      <td>Latin and Greek were the dominant languages of...</td>\n",
       "      <td>Latin and Greek were the dominant languages of...</td>\n",
       "    </tr>\n",
       "    <tr>\n",
       "      <th>9</th>\n",
       "      <td>The History of the Decline and Fall of the Rom...</td>\n",
       "      <td>The History of the Decline and Fall of the Rom...</td>\n",
       "      <td>The History of the Decline and Fall of the Rom...</td>\n",
       "    </tr>\n",
       "  </tbody>\n",
       "</table>\n",
       "</div>"
      ],
      "text/plain": [
       "                                               title  \\\n",
       "0                                       Roman Empire   \n",
       "1                   Fall of the Western Roman Empire   \n",
       "2                                  Holy Roman Empire   \n",
       "3                               Western Roman Empire   \n",
       "4                                   Byzantine Empire   \n",
       "5                        History of the Roman Empire   \n",
       "6                                      Roman emperor   \n",
       "7                                       Ancient Rome   \n",
       "8                      Languages of the Roman Empire   \n",
       "9  The History of the Decline and Fall of the Rom...   \n",
       "\n",
       "                                             content  \\\n",
       "0  The Roman Empire ruled the Mediterranean and m...   \n",
       "1  The fall of the Western Roman Empire, also cal...   \n",
       "2  The Holy Roman Empire, headed by the Holy Roma...   \n",
       "3  In modern historiography, the Western Roman Em...   \n",
       "4  The Byzantine Empire, also referred to as the ...   \n",
       "5  The history of the Roman Empire covers the his...   \n",
       "6  The Roman emperor was the ruler and monarchica...   \n",
       "7  In modern historiography, ancient Rome is the ...   \n",
       "8  Latin and Greek were the dominant languages of...   \n",
       "9  The History of the Decline and Fall of the Rom...   \n",
       "\n",
       "                                             summary  \n",
       "0  The Roman Empire ruled the Mediterranean and m...  \n",
       "1  The fall of the Western Roman Empire, also cal...  \n",
       "2  The Holy Roman Empire, headed by the Holy Roma...  \n",
       "3  In modern historiography, the Western Roman Em...  \n",
       "4  The Byzantine Empire, also referred to as the ...  \n",
       "5  The history of the Roman Empire covers the his...  \n",
       "6  The Roman emperor was the ruler and monarchica...  \n",
       "7  In modern historiography, ancient Rome is the ...  \n",
       "8  Latin and Greek were the dominant languages of...  \n",
       "9  The History of the Decline and Fall of the Rom...  "
      ]
     },
     "execution_count": 28,
     "metadata": {},
     "output_type": "execute_result"
    }
   ],
   "source": [
    "ds"
   ]
  },
  {
   "cell_type": "code",
   "execution_count": 18,
   "id": "a6316168-8116-456a-ba3c-9dcc8640ec44",
   "metadata": {
    "execution": {
     "iopub.execute_input": "2025-01-08T21:15:57.810658Z",
     "iopub.status.busy": "2025-01-08T21:15:57.810658Z",
     "iopub.status.idle": "2025-01-08T21:17:20.523847Z",
     "shell.execute_reply": "2025-01-08T21:17:20.523847Z",
     "shell.execute_reply.started": "2025-01-08T21:15:57.810658Z"
    }
   },
   "outputs": [
    {
     "data": {
      "application/vnd.jupyter.widget-view+json": {
       "model_id": "b562e1b12a354c0fb5a23bf87ec43a3f",
       "version_major": 2,
       "version_minor": 0
      },
      "text/plain": [
       "  0%|          | 0/10 [00:00<?, ?it/s]"
      ]
     },
     "metadata": {},
     "output_type": "display_data"
    },
    {
     "data": {
      "application/vnd.jupyter.widget-view+json": {
       "model_id": "aa510300429e4713b9b13371ba9018d0",
       "version_major": 2,
       "version_minor": 0
      },
      "text/plain": [
       "  0%|          | 0/10 [00:00<?, ?it/s]"
      ]
     },
     "metadata": {},
     "output_type": "display_data"
    },
    {
     "data": {
      "application/vnd.jupyter.widget-view+json": {
       "model_id": "5a6996fd02094e6db6cdc6d5f75fbf4f",
       "version_major": 2,
       "version_minor": 0
      },
      "text/plain": [
       "  0%|          | 0/10 [00:00<?, ?it/s]"
      ]
     },
     "metadata": {},
     "output_type": "display_data"
    },
    {
     "data": {
      "application/vnd.jupyter.widget-view+json": {
       "model_id": "66966b6965b147c8bd7bbd17accff86e",
       "version_major": 2,
       "version_minor": 0
      },
      "text/plain": [
       "  0%|          | 0/10 [00:00<?, ?it/s]"
      ]
     },
     "metadata": {},
     "output_type": "display_data"
    },
    {
     "data": {
      "application/vnd.jupyter.widget-view+json": {
       "model_id": "6ff4a5295f654683b8f1b53786ec6365",
       "version_major": 2,
       "version_minor": 0
      },
      "text/plain": [
       "  0%|          | 0/10 [00:00<?, ?it/s]"
      ]
     },
     "metadata": {},
     "output_type": "display_data"
    },
    {
     "data": {
      "application/vnd.jupyter.widget-view+json": {
       "model_id": "cd7717a71a454cd5bc9560d59690ade9",
       "version_major": 2,
       "version_minor": 0
      },
      "text/plain": [
       "  0%|          | 0/10 [00:00<?, ?it/s]"
      ]
     },
     "metadata": {},
     "output_type": "display_data"
    },
    {
     "data": {
      "application/vnd.jupyter.widget-view+json": {
       "model_id": "d0e05bd7b73d4822947436ab7d6b18c3",
       "version_major": 2,
       "version_minor": 0
      },
      "text/plain": [
       "  0%|          | 0/10 [00:00<?, ?it/s]"
      ]
     },
     "metadata": {},
     "output_type": "display_data"
    },
    {
     "data": {
      "application/vnd.jupyter.widget-view+json": {
       "model_id": "693ed87a3b944c9bb10f9ee3873f0b8d",
       "version_major": 2,
       "version_minor": 0
      },
      "text/plain": [
       "  0%|          | 0/10 [00:00<?, ?it/s]"
      ]
     },
     "metadata": {},
     "output_type": "display_data"
    },
    {
     "data": {
      "application/vnd.jupyter.widget-view+json": {
       "model_id": "b7214eb450fb40a99e26a835a59d5e38",
       "version_major": 2,
       "version_minor": 0
      },
      "text/plain": [
       "  0%|          | 0/10 [00:00<?, ?it/s]"
      ]
     },
     "metadata": {},
     "output_type": "display_data"
    },
    {
     "data": {
      "application/vnd.jupyter.widget-view+json": {
       "model_id": "3fd6f83da5cd4d46b9829169edba1f8b",
       "version_major": 2,
       "version_minor": 0
      },
      "text/plain": [
       "  0%|          | 0/10 [00:00<?, ?it/s]"
      ]
     },
     "metadata": {},
     "output_type": "display_data"
    },
    {
     "data": {
      "application/vnd.jupyter.widget-view+json": {
       "model_id": "a44297e710ed4e81912537776a21d8b7",
       "version_major": 2,
       "version_minor": 0
      },
      "text/plain": [
       "  0%|          | 0/10 [00:00<?, ?it/s]"
      ]
     },
     "metadata": {},
     "output_type": "display_data"
    }
   ],
   "source": [
    "w_arts = [ask_tutor(t, top_n=10) for t in tqdm(title)]"
   ]
  },
  {
   "cell_type": "code",
   "execution_count": 19,
   "id": "6bc8ea12-470e-4439-96ab-2fa092a42614",
   "metadata": {
    "execution": {
     "iopub.execute_input": "2025-01-08T21:17:20.526325Z",
     "iopub.status.busy": "2025-01-08T21:17:20.526325Z",
     "iopub.status.idle": "2025-01-08T21:17:20.534171Z",
     "shell.execute_reply": "2025-01-08T21:17:20.533078Z",
     "shell.execute_reply.started": "2025-01-08T21:17:20.526325Z"
    }
   },
   "outputs": [
    {
     "data": {
      "text/plain": [
       "[\"**Roman Empire**\\n================\\n\\nThe Roman Empire was a vast and powerful state that existed from 27 BCE to the 5th century CE. It was centered on the city of Rome and was one of the greatest civilizations in human history.\\n\\n**Historical Background**\\n------------------------\\n\\nThe Roman Empire was founded in 27 BCE, after the defeat of the Roman Republic. The first Roman emperor, Augustus Caesar (27 BCE –14 CE), established the empire and brought peace and stability to Rome. The empire reached its peak during the reign of five extraordinary kings between 96 and 180 CE.\\n\\n**Timeline**\\n------------\\n\\n* 753 BC: The city of Rome is founded.\\n* 509 BC: The Roman Republic is established.\\n* 45 BC: Julius Caesar becomes the first dictator of Rome.\\n* 27 BCE: The Roman Empire is founded by Augustus Caesar.\\n* 96-180 CE: Five extraordinary kings rule successively, bringing the empire to its peak.\\n* 285 CE: The empire is divided into Eastern and Western halves by Emperor Diocletian.\\n* 395 CE: The empire is divided into Eastern (Byzantine) and Western regions.\\n* 476 AD: The Western Roman Empire falls, marking the end of classical antiquity.\\n\\n**Government and Military**\\n-------------------------\\n\\nThe Roman army was one of the best-trained and equipped in the ancient world, responsible for expanding and maintaining the empire's vast territories. However, a lack of a clear system for choosing an emperor's successor led to instability and questionable rulers.\\n\\n**Economy**\\n------------\\n\\nThe early Roman Empire had well-functioning labor and capital markets. Slaves were used extensively in agriculture, but their treatment varied depending on location. Provincial incomes were comparable to those in European inland areas during the early modern period.\\n\\n**Decline and Fall**\\n-------------------\\n\\nThe reasons for the fall of the Western Roman Empire include:\\n\\n1. **Gothic Wars**: Conflicts with Goth invaders from 376-382 CE weakened Rome's defenses.\\n2. **Battle of Adrianople**: Emperor Valens' defeat at Adrianople in 378 CE marked a turning point in Rome's decline.\\n3. **Civil conflicts**: Ongoing internal power struggles weakened Rome's institutions.\\n4. **Barbarian attacks**: External threats from various tribes further eroded Rome's strength.\\n\\n**Legacy**\\n----------\\n\\nThe fall of the Western Roman Empire marked the beginning of a new era in world history, with three civilizations emerging as successors:\\n\\n1. **Byzantine Empire**: Emerged from Eastern portion, with capital based in Constantinople (modern-day Istanbul).\\n2. **Islamic civilization**: Spread across North Africa, Middle East, and parts Europe after Arab conquests (632-750 AD).\\n3. **Western European civilization**: Developed from remnants of Western Europe after collapse.\\n\\nThese civilizations inherited aspects of Roman culture, law, architecture, engineering feats like aqueducts roads bridges etc., influencing development each region this day.\\n\\n\\nReferences:\\n[1] https://blogmedia.testbook.com/blog/wp-content/uploads/2022/07/roman-empire-1-a94931b8.png\\n[2] Peter Temin Draft - Chapter Saylor URL\\n[3] www.saylor.org/courses/hist201/#1\",\n",
       " '**Fall of the Western Roman Empire**\\n\\nThe fall of the Western Roman Empire in 476 CE marked the end of the period of classical antiquity and ushered in a new era in world history. Three civilizations emerged as successors to the Romans in the Mediterranean world: the Byzantine Empire, and the civilizations of Islam and Western Europe.\\n\\n**Background**\\n\\nThe Roman Empire was founded in 27 BCE by Caesar Augustus, after the defeat of the Roman Republic. The empire was centered on the city of Rome and lasted until its division into Eastern and Western regions in 395 CE. The Western Roman Empire steadily deteriorated as it divided into smaller separate kingdoms.\\n\\n**Causes of Decline**\\n\\nSeveral factors contributed to the decline and fall of the Western Roman Empire:\\n\\n1. **Gothic Wars**: A series of conflicts with Goth invaders from 376-382 CE weakened the empire.\\n2. **Battle of Adrianople**: The defeat of Emperor Valens at Adrianople (378 CE) marked a turning point in the decline.\\n3. **Christianity**: The rise of Christianity threatened traditional pagan social norms.\\n4. **Civil Conflicts**: Ongoing internal conflicts weakened the empire\\'s stability.\\n5. **Barbarian Attacks**: Repeated attacks by Germanic tribes eroded imperial authority.\\n\\n**Timeline**\\n\\n* 45 BCE: Julius Caesar becomes dictator\\n* 27 BCE: Caesar Augustus establishes the Roman Empire\\n* 395 CE: Division into Eastern and Western Empires\\n* 476 CE: Fall of Ancient Rome\\n\\n**Key Figures**\\n\\n1. **Augustus Caesar**: First emperor (27 BCE -14 CE)\\n2. **Justinian I**: Byzantine Emperor who attempted to restore imperial unity (527-565)\\n3. **Attila**: King who invaded Italy but withdrew due to famine, disease, and diplomatic pressure\\n\\n**Legacy**\\n\\nThe fall of the Western Roman Empire led to:\\n\\n1. Emergence of three successor civilizations (Byzantine, Islamic, and European)\\n2. Beginning of Middle Ages (500-1500)\\n\\nSources:\\n[1] Bishop P.A., \"Rome: Transition from Republic to Empire\"\\n[2] Gibbon E., \"History Of Rome To 565 A.D.\"\\n[3] Wikipedia articles on \"Fall Of The Western Roman Empire\"',\n",
       " '**Holy Roman Empire**\\n\\nThe Holy Roman Empire was a loose confederation of German states and cities that existed from the 10th to the 19th century. It was not directly related to the Roman Empire, but rather a continuation of the Carolingian Empire, which was founded by Charlemagne in the 8th century.\\n\\n**History of the Holy Roman Empire**\\n\\nThe Holy Roman Empire was founded in 962 by Otto I, who was crowned as the Holy Roman Emperor by the Pope. The empire was a loose confederation of German states and cities, with the emperor serving as the supreme authority. The empire was divided into several territories, including the Kingdom of Germany, the Kingdom of Italy, and the Kingdom of Burgundy.\\n\\n**Structure of the Holy Roman Empire**\\n\\nThe Holy Roman Empire was a feudal state, with the emperor serving as the supreme authority. The empire was divided into several territories, each with its own ruler. The emperor was elected by the princes of the empire, and served for life. The empire also had a complex system of government, with several institutions, including the Imperial Diet, the Imperial Chamber Court, and the Aulic Council.\\n\\n**Decline and Fall of the Holy Roman Empire**\\n\\nThe Holy Roman Empire began to decline in the 13th century, due to internal conflicts and external pressures. The empire was weakened by the Black Death, which devastated Europe in the 14th century. The empire was also threatened by the rise of the Ottoman Empire, which conquered much of Eastern Europe in the 15th century. The Holy Roman Empire was eventually dissolved in 1806, during the Napoleonic Wars.\\n\\n**Key Dates in the History of the Holy Roman Empire**\\n\\n* 962: Otto I is crowned as the Holy Roman Emperor, founding the Holy Roman Empire.\\n* 1155: The Holy Roman Empire is divided into several territories, including the Kingdom of Germany, the Kingdom of Italy, and the Kingdom of Burgundy.\\n* 1356: The Golden Bull is issued, establishing the Imperial Diet and the Imperial Chamber Court.\\n* 1517: The Protestant Reformation begins, leading to a decline in the power of the Holy Roman Empire.\\n* 1648: The Treaty of Westphalia is signed, recognizing the independence of several German states and weakening the power of the Holy Roman Empire.\\n* 1806: The Holy Roman Empire is dissolved during the Napoleonic Wars.\\n\\n**Key Figures in the History of the Holy Roman Empire**\\n\\n* Otto I: Founder of the Holy Roman Empire and first Holy Roman Emperor.\\n* Charlemagne: Founder of the Carolingian Empire, which was the precursor to the Holy Roman Empire.\\n* Frederick I: Holy Roman Emperor who issued the Golden Bull and established the Imperial Diet and the Imperial Chamber Court.\\n* Martin Luther: Leader of the Protestant Reformation, which weakened the power of the Holy Roman Empire.\\n* Napoleon Bonaparte: French emperor who dissolved the Holy Roman Empire during the Napoleonic Wars.\\n\\n**References**\\n\\n* \"The Holy Roman Empire\" by James Bryce (1913)\\n* \"The History of the Holy Roman Empire\" by Leopold von Ranke (1839-1847)\\n* \"The Decline and Fall of the Holy Roman Empire\" by Edward Gibbon (1776-1789)\\n* \"The Holy Roman Empire: A Very Short Introduction\" by Joachim Whaley (2012)\\n\\nNote: The suggested context does not contain the answer to the question, so I had to rely on external sources to provide a comprehensive answer.',\n",
       " 'Western Roman Empire\\n=====================\\n\\nThe Western Roman Empire was the western half of the Roman Empire, which was split in two by the emperor Diocletian (r. 284 – 305 CE). The division of the empire into Eastern and Western halves occurred in 395 CE, with Rome serving as the capital of the Western Roman Empire.\\n\\nHistory\\n--------\\n\\nThe Western Roman Empire began to decline after a series of conflicts with Goth invaders from 376-382 CE, known as the Gothic Wars. The Battle of Adrianople on August 9, 378 CE, marked a turning point in the fall of the Western Roman Empire. The empire was also plagued by internal instability, civil conflicts, and barbarian attacks.\\n\\nCauses of Decline and Fall\\n---------------------------\\n\\n1. **Gothic Wars**: A series of conflicts with Goth invaders from 376-382 CE.\\n2. **Battle of Adrianople**: A decisive defeat for the Romans on August 9, 378 CE.\\n3. **Internal Instability**: Ongoing civil conflicts and power struggles within the empire.\\n4. **Barbarian Attacks**: Repeated invasions by Germanic tribes weakened the empire\\'s defenses.\\n\\nTimeline\\n---------\\n\\n* **45 BC**: Julius Caesar becomes dictator of Rome.\\n* **27 BC**: Caesar Augustus becomes the first Roman Emperor.\\n* **395 AD**: The Roman Empire is divided into Eastern and Western halves.\\n* **476 AD**: The end of the Western Roman Empire and fall of Ancient Rome.\\n\\nKey Figures\\n------------\\n\\n1. **Augustus Caesar** (27 BCE –14 CE): First Roman Emperor who established a stable government and infrastructure.\\n2. **Diocletian** (284 –305 CE): Emperor who divided the empire into Eastern and Western halves.\\n3. **Justinian I** (527 –565): Byzantine Emperor who attempted to restore the Roman Empire to its former glory.\\n\\nLegacy\\n--------\\n\\nThe fall of the Western Roman Empire marked the beginning of a new era in world history, leading to:\\n\\n1. **Middle Ages** (500–1500 AD): A period characterized by feudalism, Christianity, and cultural development in Europe.\\n2. **Byzantine Empire** (395–1453 AD): A continuation of the Eastern Roman Empire that survived for over a thousand years.\\n\\nReferences:\\n\\n* Bishop P.A., \"Rome: Transition from Republic to Empires\"\\n* Guimet E., \"Les chrétiens et l\\'empire romain\"\\n* Hardy Studies in \"Roman History\", chs i-x',\n",
       " 'The Byzantine Empire\\n=====================\\n\\nIntroduction\\n------------\\n\\nThe Byzantine Empire, also known as the Eastern Roman Empire, was a continuation of the Roman Empire in the east during Late Antiquity and the Middle Ages. Its capital was Constantinople, which is modern-day Istanbul. The empire existed from the 4th to the 15th century, and its legacy continues to influence the development of Europe and Western Asia.\\n\\nHistory\\n-------\\n\\n### Early History (395-527)\\n\\nThe Byzantine Empire was formed in 395 CE when the Roman Empire was divided into two parts: the Western Roman Empire and the Eastern Roman Empire. The Eastern Roman Empire, with its capital in Constantinople, survived for over a thousand years while the Western Roman Empire fell to barbarian invasions.\\n\\n### Justinian I (527-565)\\n\\nJustinian I is considered one of the greatest emperors of the Byzantine Empire. He attempted to restore the Roman Empire to its former glory by reconquering lost territories in North Africa and Italy. He also oversaw a period of significant cultural and economic growth.\\n\\n### Decline and Fall (1204-1453)\\n\\nThe Byzantine Empire began to decline in the 12th century due to internal conflicts, external pressures from neighboring states, and economic troubles. In 1204, during the Fourth Crusade, Constantinople was sacked by Latin crusaders, leading to a period of fragmentation and decline. The empire eventually fell to Ottoman Turks in 1453.\\n\\nGovernment\\n----------\\n\\nThe Byzantine government was characterized by:\\n\\n*   **Autocracy**: The emperor held absolute power.\\n*   **Bureaucracy**: A complex system of administrators managed state affairs.\\n*   **Orthodox Church**: The church played a significant role in state affairs.\\n\\nSociety\\n--------\\n\\nByzantine society was marked by:\\n\\n*   **Class divisions**: Aristocrats held power while peasants worked on estates.\\n*   **Urban centers**: Cities like Constantinople were hubs for trade and culture.\\n*   **Artistic achievements**: Icon painting, mosaics, and architecture flourished.\\n\\nEconomy\\n-------\\n\\nThe economy relied heavily on:\\n\\n*   **Trade**: Merchants traded goods across Europe and Asia.\\n*   **Agriculture**: Peasants worked on estates producing crops like wheat.\\n*   **Industry**: Textiles were an important industry.\\n\\nLegacy\\n--------\\n\\nDespite its fall, the Byzantine legacy endures through:\\n\\n*   **Orthodox Christianity**\\n    *Spread throughout Eastern Europe*\\n    *Influence on art*\\n    *Architecture*\\n\\n**References**\\n\\n1\\\\. Gibbon E., \"Decline And Fall Of The Romanian\", Penguin Books Ltd; New Ed edition (1996) ISBN:9780140433937',\n",
       " \"**The Roman Empire**\\n\\nThe Roman Empire was a vast and powerful state that existed from 27 BCE to the 5th century CE. It was founded after the defeat of the Roman Republic and lasted until the Western Empire finally collapsed in the 5th century CE.\\n\\n**Historical Background**\\n\\nThe city of Rome was established in 753 BC, and it eventually became a nation-state governed by its citizens, known as the Roman Republic. The Roman Republic was founded in 509 BC and lasted until it was defeated by Julius Caesar in 45 BC.\\n\\n**Timeline of Major Events**\\n\\n* **753 BC**: The city of Rome is established.\\n* **509 BC**: The Roman Republic is founded.\\n* **45 BC**: Julius Caesar becomes the first dictator of Rome, marking the end of the Roman Republic.\\n* **27 BCE**: The Roman Empire is founded.\\n* **395 CE**: The Roman Empire is divided into an eastern and western region.\\n* **476 AD**: The Western Roman Empire collapses, marking the end of Ancient Rome.\\n\\n**Government and Military**\\n\\nThe government of the Roman Empire was headed by an emperor who held absolute power. The military played a crucial role in expanding and maintaining the empire's territories. At its peak, the Roman army was one of the best-trained and equipped forces in ancient times.\\n\\n**Decline and Fall**\\n\\nSeveral factors contributed to the decline and fall of the Western Roman Empire:\\n\\n1. Conflicts with Gothic invaders (376-382 CE)\\n2. Defeat at Battle of Adrianople (378 CE)\\n3. Barbarian attacks on Rome\\n4. Economic crisis during Crisis of Third Century\\n\\n**Legacy**\\n\\nAfter its collapse, three civilizations emerged as successors to Rome: Byzantine, Islamic, and Western European civilizations inherited its legacy.\\n\\n1. Byzantine civilization continued as Eastern Romania\\n2.Islamic civilization spread across North Africa & Middle East \\n3.Western European civilization developed from Latin-speaking peoples\\n\\nThese civilizations went on to shape world history for centuries to come.\\n\\n\\nReferences:\\n- https://blogmedia.testbook.com/blog/wp-content/uploads/2022/07/roman-empire-1-a94931b8.png\\n- https://www.saylor.org/courses/hist201/#1\",\n",
       " '**Roman Emperor**\\n\\nThe Roman Empire was a vast and powerful state that existed from 27 BC to 476 AD. At its peak, it was the largest empire in the world, spanning across three continents: Europe, Africa, and Asia. The Roman Empire was ruled by a series of emperors who held absolute power over the state.\\n\\n**History of the Roman Empire**\\n\\nThe Roman Empire began with the reign of Augustus Caesar in 27 BC. Augustus established the Principate, a system of government where the emperor held supreme power but was also responsible for the welfare of his citizens. The Principate lasted for over two centuries and saw some of Rome\\'s most famous emperors, including Trajan and Marcus Aurelius.\\n\\nHowever, as time went on, the empire began to decline. Corruption and mismanagement led to economic troubles and military defeats. In 395 AD, Emperor Theodosius I divided the empire into two parts: Eastern (Byzantine) and Western (Latin-speaking). This division marked the beginning of a long period of decline for both halves.\\n\\n**Fall of the Western Roman Empire**\\n\\nThe Western Roman Empire faced numerous challenges in its final years. External pressures from barbarian tribes such as Goths and Vandals weakened its borders. Internal conflicts between rival claimants to the throne further destabilized the empire.\\n\\nIn 410 AD, Alaric\\'s Visigoths sacked Rome itself. This event marked a turning point in Western history as it symbolized an end to Rome\\'s dominance over Europe.\\n\\nIn 476 AD, Odoacer deposed Romulus Augustulus (the last emperor) marking an official end to Western Roman rule.\\n\\n**Notable Emperors**\\n\\n1. **Augustus Caesar**: First emperor (27 BC -14 CE)\\n2. **Trajan**: Known for his military conquests (98-117 CE)\\n3. **Marcus Aurelius**: Last \"Five Good Emperors\" known for wisdom & justice (161-180 CE)\\n4. **Hadrian**: Established Hadrian\\'s Wall & expanded trade networks (117-138 CE)\\n\\n**Key Dates**\\n\\n* 753 BC: Founding of Rome\\n* 509 BC: Establishment of Republic\\n* 45 BC: Julius Caesar becomes dictator\\n* 27 BC: Start of Principate under Augustus\\n* 395 AD: Division into Eastern & Western Empires\\n* 410 AD: Sack of Rome by Visigoths\\n* 476 AD: Fall of Western Roman Empire\\n\\nSources:\\n\\n1.\"A History Of Rome To A.D.\"565 By Arthur Edward Romilly Boak.\\n2.\"Roman Civilization\" By Naphtali Lewis And Meyer Reinhold.\\n3.Testbook Blog',\n",
       " '**Ancient Rome**\\n================\\n\\n**Founding and Early History**\\n-----------------------------\\n\\nAncient Rome was founded in 753 BC, according to traditional accounts. The city was established on the banks of the Tiber River, which provided a strategic location for trade and commerce. The early history of Rome is shrouded in myth and legend, but it is believed that the city was initially ruled by a series of kings.\\n\\n**The Roman Republic**\\n----------------------\\n\\nIn 509 BC, the Roman Republic was established, marking the end of the monarchical period. The Republic was governed by a system of elected representatives, including consuls and senators. During this period, Rome expanded its territories through a series of conquests, including the defeat of the Etruscan civilization.\\n\\n**Expansion and Conquest**\\n---------------------------\\n\\nRome\\'s expansion continued throughout the centuries, with notable conquests including:\\n\\n* **The Latin League**: An alliance formed with neighboring cities in Latium (c. 486 BC)\\n* **The Samnite Wars**: A series of conflicts with neighboring tribes (c. 343-290 BC)\\n* **The Punic Wars**: A series of conflicts with Carthage (c. 264-146 BC)\\n\\nThese conquests helped establish Rome as a major power in the Mediterranean world.\\n\\n**Government and Military**\\n---------------------------\\n\\nThe Roman army played a crucial role in Rome\\'s expansion and prosperity. The army was well-trained and equipped, allowing it to conquer vast territories.\\n\\nRome\\'s government also underwent significant changes during this period:\\n\\n* **The Senate**: A council of elder statesmen who advised on matters of state\\n* **Consuls**: Elected officials who served as head of state\\n* **Assemblies**: Representative bodies that voted on laws and policies\\n\\n**Economy and Culture**\\n------------------------\\n\\nRome\\'s economy flourished during this period:\\n\\n* **Trade**: Merchants traded goods across the Mediterranean world\\n* **Agriculture**: Farmers cultivated crops such as wheat, grapes, and olives\\n* **Architecture**: Engineers built iconic structures such as aqueducts and temples\\n\\nRoman culture also developed significantly:\\n\\n* **Art**: Sculptors created iconic works such as statues and mosaics\\n* **Literature**: Writers produced influential works such as Virgil\\'s _Aeneid_\\n* **Philosophy_: Thinkers like Cicero explored ideas about governance and ethics\\n\\n**Decline and Fall**\\n---------------------\\n\\nRome\\'s decline began in the late second century AD:\\n\\n* _Internal Conflicts_: Civil wars weakened the empire\\n*_External Pressures_: Barbarian invasions threatened its borders\\n\\nIn 476 AD, Rome fell to barbarian invaders marking the end of Western Roman Empire.\\n\\n### Timeline\\n\\n| Date | Event |\\n| --- | --- |\\n| 753 BC | Founding of Ancient Rome |\\n| 509 BC | Establishment of Roman Republic |\\n| c.486 BC | Formation Latin League |\\n| c.343-290BC | Samnite Wars |\\n| c264-146BC | Punic Wars |\\n\\n### References:\\n1._\"A History Of Ancient Greece\"_, By N.G.L Hammond.\\n2._\"Roman Imperialism: Readings And Sources\"_ , By C.R.Whittaker.\\n3._\"Ancient Italy: Regions Without Boundaries\"_ , By Edward Herring & Kathryn Lomas',\n",
       " 'Languages of the Roman Empire\\n\\nThe Roman Empire, which lasted from 27 BCE to the fifth century CE, was a vast and diverse state that encompassed various languages and cultures. Although Latin was the official language of the empire, other languages such as Greek, Aramaic, and regional dialects were also widely spoken.\\n\\n**Official Language: Latin**\\n\\nLatin was the primary language of the Roman Empire and was used for official purposes such as governance, law, commerce, and education. It was also the language of literature and poetry. As a result of its widespread use throughout the empire, Latin became a lingua franca that facilitated communication among people from different regions.\\n\\n**Greek**\\n\\nGreek was another prominent language in the Roman Empire. It was widely spoken in the eastern provinces of Greece and Asia Minor (modern-day Turkey). Many educated Romans were fluent in Greek, which they considered an essential part of their cultural heritage.\\n\\n**Regional Languages**\\n\\nIn addition to Latin and Greek, various regional languages were spoken throughout the empire. These included:\\n\\n* **Aramaic**: Spoken in parts of Mesopotamia (modern-day Iraq) and Syria.\\n* **Coptic**: Spoken in Egypt.\\n* **Gaulish**: Spoken in Gaul (modern-day France).\\n* **Celtic**: Spoken in Britain (modern-day United Kingdom).\\n\\n**Language Use**\\n\\nLanguage use varied across different social classes and regions within the empire. While Latin was used for official purposes, regional languages were often used for everyday communication among common people.\\n\\nUnfortunately there is no information about specific \\'languages\\' within this context so I will provide some general information on this topic using external sources:\\n\\nAccording to Britannica.com \"Latin remained an important part of European culture even after it ceased to be a native tongue.\" [1]\\n\\nAccording to History.com \"As Rome expanded its territories through conquests across Europe...the spread of Latin helped establish it as a common tongue.\" [2]\\n\\nReferences:\\n[1] Britannica.com - \\'Latin\\'\\n[2] History.com - \\'Ancient Rome\\'\\n\\nNote: The suggested context does not contain specific information about \\'languages\\' so I have provided general information on this topic using external sources',\n",
       " '**The History of the Decline and Fall of the Roman Empire**\\n\\nThe Roman Empire, one of the greatest civilizations in human history, was founded in 27 BCE and lasted until the Western Empire finally eclipsed it in the fifth century CE. The empire\\'s decline and fall were a gradual process that spanned centuries, with various factors contributing to its demise.\\n\\n**Historical Background**\\n\\nThe Roman Republic was established in 509 BC, and it governed Rome until its collapse. The Roman Empire began after the establishment of Rome in 753 BC. The empire expanded rapidly under various emperors, including Augustus, Trajan, and Marcus Aurelius.\\n\\n**Timeline**\\n\\n* 753 BC: Founding of Rome\\n* 509 BC: Establishment of the Roman Republic\\n* 27 BCE: Founding of the Roman Empire\\n* 235 CE: Beginning of the Third-Century Crisis\\n* 378 CE: Battle of Adrianople\\n* 395 CE: Division of the empire into Eastern (Byzantine) and Western halves\\n* 410 CE: Sack of Rome by Alaric\\'s Visigoths\\n* 476 CE: Fall of the Western Roman Empire\\n\\n**Causes of Decline**\\n\\nSeveral factors contributed to the decline and fall of the Western Roman Empire:\\n\\n1. **Military Overextension**: The empire\\'s extensive borders made it difficult to maintain a strong military presence.\\n2. **Economic Troubles**: Inflation, debasement of currency, and excessive taxation weakened the economy.\\n3. **Barbarian Invasions**: Repeated invasions by Germanic tribes such as Goths, Vandals, and Huns put pressure on the empire\\'s defenses.\\n4. **Internal Conflicts**: Civil wars between rival claimants to power weakened the empire from within.\\n5. **Decline in Population**: A decrease in population due to wars, diseases, and economic troubles reduced tax revenues.\\n\\n**Key Events**\\n\\n1. **Battle of Adrianople (378)**: A crushing defeat for Rome at Adrianople marked a turning point in its decline.\\n2. **Division into Eastern (Byzantine) and Western Halves (395)**: This division led to separate governments with distinct priorities.\\n3. **Sack of Rome by Alaric\\'s Visigoths (410)**: This event symbolized Rome\\'s vulnerability.\\n\\n**Legacy**\\n\\nDespite its fall, the legacy of Rome continued through:\\n\\n1. **Byzantine Empire**: Also known as Eastern Romania or Byzantium.\\n2. **Islamic Civilization**: Spread across North Africa and parts Middle East after Arab conquests.\\n3. **Western European Civilization**: Emerged from remnants left behind by ancient Romans.\\n\\nReferences:\\n- Gibbon E., \"The History Of The Decline And Fall Of The Roman Empire\"\\n- Justin Ott., \"The Decline And Fall Of The Western Roman Empir e\"\\n- Willem M Jongman., \"Gibbon Was Right : T he D ecl ine An d F all O f T he Ro man E conomy\"\\n\\nNote that some information is not present within provided context but has been added using other sources for better understanding']"
      ]
     },
     "execution_count": 19,
     "metadata": {},
     "output_type": "execute_result"
    }
   ],
   "source": [
    "w_arts"
   ]
  },
  {
   "cell_type": "code",
   "execution_count": 20,
   "id": "fb1999d2-dcde-4a2b-94bf-6ef244f37b57",
   "metadata": {
    "execution": {
     "iopub.execute_input": "2025-01-08T21:17:29.256813Z",
     "iopub.status.busy": "2025-01-08T21:17:29.256813Z",
     "iopub.status.idle": "2025-01-08T21:17:29.284545Z",
     "shell.execute_reply": "2025-01-08T21:17:29.283033Z",
     "shell.execute_reply.started": "2025-01-08T21:17:29.256813Z"
    }
   },
   "outputs": [
    {
     "name": "stdout",
     "output_type": "stream",
     "text": [
      "Reference: The quick brown fox jumps over the lazy dog.\n",
      "Generated: The quick brown fox leaps over the lazy dog.\n",
      "ROUGE Scores:\n",
      "ROUGE-1:\n",
      "  Precision: 0.8889\n",
      "  Recall:    0.8889\n",
      "  F1 Score:  0.8889\n",
      "ROUGE-2:\n",
      "  Precision: 0.7500\n",
      "  Recall:    0.7500\n",
      "  F1 Score:  0.7500\n",
      "ROUGE-L:\n",
      "  Precision: 0.8889\n",
      "  Recall:    0.8889\n",
      "  F1 Score:  0.8889\n"
     ]
    }
   ],
   "source": [
    "#ROUGE\n",
    "from rouge_score import rouge_scorer\n",
    "\n",
    "def calculate_rouge(reference_summary, generated_summary):\n",
    "    \"\"\"\n",
    "    Calculates ROUGE scores between a reference summary and a generated summary.\n",
    "\n",
    "    Args:\n",
    "        reference_summary (str): The ground-truth summary.\n",
    "        generated_summary (str): The summary to evaluate.\n",
    "\n",
    "    Returns:\n",
    "        dict: A dictionary containing ROUGE-1, ROUGE-2, and ROUGE-L scores (precision, recall, and F1).\n",
    "    \"\"\"\n",
    "    # Initialize ROUGE scorer\n",
    "    scorer = rouge_scorer.RougeScorer(['rouge1', 'rouge2', 'rougeL'], use_stemmer=True)\n",
    "    scores = scorer.score(reference_summary, generated_summary)\n",
    "\n",
    "    # Extract and organize scores\n",
    "    result = {\n",
    "        \"ROUGE-1\": {\n",
    "            \"precision\": scores['rouge1'].precision,\n",
    "            \"recall\": scores['rouge1'].recall,\n",
    "            \"f1\": scores['rouge1'].fmeasure,\n",
    "        },\n",
    "        \"ROUGE-2\": {\n",
    "            \"precision\": scores['rouge2'].precision,\n",
    "            \"recall\": scores['rouge2'].recall,\n",
    "            \"f1\": scores['rouge2'].fmeasure,\n",
    "        },\n",
    "        \"ROUGE-L\": {\n",
    "            \"precision\": scores['rougeL'].precision,\n",
    "            \"recall\": scores['rougeL'].recall,\n",
    "            \"f1\": scores['rougeL'].fmeasure,\n",
    "        }\n",
    "    }\n",
    "    return result\n",
    "\n",
    "reference = \"The quick brown fox jumps over the lazy dog.\"\n",
    "generated = \"The quick brown fox leaps over the lazy dog.\"\n",
    "\n",
    "print(f\"Reference: {reference}\")\n",
    "print(f\"Generated: {generated}\")\n",
    "\n",
    "rouge_scores = calculate_rouge(reference, generated)\n",
    "\n",
    "print(\"ROUGE Scores:\")\n",
    "for metric, values in rouge_scores.items():\n",
    "    print(f\"{metric}:\")\n",
    "    print(f\"  Precision: {values['precision']:.4f}\")\n",
    "    print(f\"  Recall:    {values['recall']:.4f}\")\n",
    "    print(f\"  F1 Score:  {values['f1']:.4f}\")"
   ]
  },
  {
   "cell_type": "code",
   "execution_count": 22,
   "id": "5a32cc55-cfde-4fe6-8b54-ed0d8696b467",
   "metadata": {
    "execution": {
     "iopub.execute_input": "2025-01-08T21:19:48.251808Z",
     "iopub.status.busy": "2025-01-08T21:19:48.250804Z",
     "iopub.status.idle": "2025-01-08T21:19:48.258342Z",
     "shell.execute_reply": "2025-01-08T21:19:48.257184Z",
     "shell.execute_reply.started": "2025-01-08T21:19:48.251808Z"
    }
   },
   "outputs": [
    {
     "data": {
      "text/plain": [
       "0.8888888888888888"
      ]
     },
     "execution_count": 22,
     "metadata": {},
     "output_type": "execute_result"
    }
   ],
   "source": [
    "rouge_scores[\"ROUGE-1\"]['f1']"
   ]
  },
  {
   "cell_type": "code",
   "execution_count": 25,
   "id": "3f6dd5fe-7c2e-457c-9906-586a914014e6",
   "metadata": {
    "execution": {
     "iopub.execute_input": "2025-01-08T21:29:09.029754Z",
     "iopub.status.busy": "2025-01-08T21:29:09.028756Z",
     "iopub.status.idle": "2025-01-08T21:29:20.260689Z",
     "shell.execute_reply": "2025-01-08T21:29:20.259682Z",
     "shell.execute_reply.started": "2025-01-08T21:29:09.029754Z"
    }
   },
   "outputs": [
    {
     "data": {
      "application/vnd.jupyter.widget-view+json": {
       "model_id": "c0a3d1155df44c1892e7f74e6e030587",
       "version_major": 2,
       "version_minor": 0
      },
      "text/plain": [
       "  0%|          | 0/10 [00:00<?, ?it/s]"
      ]
     },
     "metadata": {},
     "output_type": "display_data"
    },
    {
     "name": "stdout",
     "output_type": "stream",
     "text": [
      "precision 0.8504399196542943\n",
      "recall 0.03758825845554805\n",
      "f1 0.0694645849675799\n"
     ]
    }
   ],
   "source": [
    "wiki_r1_res = [calculate_rouge(r, g)[\"ROUGE-1\"] for r, g in zip(tqdm(content), w_arts)] \n",
    "\n",
    "precision = [n['precision'] for n in wiki_r1_res]\n",
    "recall = [n['recall'] for n in wiki_r1_res]\n",
    "f1 = [n['f1'] for n in wiki_r1_res]\n",
    "\n",
    "print('precision', sum(precision)/len(precision))\n",
    "print('recall', sum(recall)/len(recall))\n",
    "print('f1', sum(f1)/len(f1))"
   ]
  },
  {
   "cell_type": "code",
   "execution_count": 29,
   "id": "4fd98c26-af58-461f-81fd-b9b7d7b1d027",
   "metadata": {
    "execution": {
     "iopub.execute_input": "2025-01-08T21:36:53.659972Z",
     "iopub.status.busy": "2025-01-08T21:36:53.658970Z",
     "iopub.status.idle": "2025-01-08T21:36:54.156181Z",
     "shell.execute_reply": "2025-01-08T21:36:54.155674Z",
     "shell.execute_reply.started": "2025-01-08T21:36:53.659972Z"
    }
   },
   "outputs": [
    {
     "data": {
      "application/vnd.jupyter.widget-view+json": {
       "model_id": "8669b45e15d74d33a3758ef0a73c771b",
       "version_major": 2,
       "version_minor": 0
      },
      "text/plain": [
       "  0%|          | 0/10 [00:00<?, ?it/s]"
      ]
     },
     "metadata": {},
     "output_type": "display_data"
    },
    {
     "name": "stdout",
     "output_type": "stream",
     "text": [
      "precision 0.4540566567973957\n",
      "recall 0.39159160132635396\n",
      "f1 0.3847138246866934\n"
     ]
    }
   ],
   "source": [
    "wiki_r1_res = [calculate_rouge(r, g)[\"ROUGE-1\"] for r, g in zip(tqdm(summary), w_arts)] \n",
    "\n",
    "precision = [n['precision'] for n in wiki_r1_res]\n",
    "recall = [n['recall'] for n in wiki_r1_res]\n",
    "f1 = [n['f1'] for n in wiki_r1_res]\n",
    "\n",
    "print('precision', sum(precision)/len(precision))\n",
    "print('recall', sum(recall)/len(recall))\n",
    "print('f1', sum(f1)/len(f1))"
   ]
  },
  {
   "cell_type": "code",
   "execution_count": 31,
   "id": "15862da8-aaf7-491c-99e1-90c2f0de87c8",
   "metadata": {
    "execution": {
     "iopub.execute_input": "2025-01-08T21:39:18.137335Z",
     "iopub.status.busy": "2025-01-08T21:39:18.137335Z",
     "iopub.status.idle": "2025-01-08T21:39:18.143579Z",
     "shell.execute_reply": "2025-01-08T21:39:18.142336Z",
     "shell.execute_reply.started": "2025-01-08T21:39:18.137335Z"
    }
   },
   "outputs": [
    {
     "name": "stdout",
     "output_type": "stream",
     "text": [
      "3088.2\n",
      "2587.5\n"
     ]
    }
   ],
   "source": [
    "print(sum([len(s) for s in summary])/10)\n",
    "print(sum([len(s) for s in w_arts])/10)"
   ]
  }
 ],
 "metadata": {
  "kernelspec": {
   "display_name": ".venv",
   "language": "python",
   "name": "python3"
  },
  "language_info": {
   "codemirror_mode": {
    "name": "ipython",
    "version": 3
   },
   "file_extension": ".py",
   "mimetype": "text/x-python",
   "name": "python",
   "nbconvert_exporter": "python",
   "pygments_lexer": "ipython3",
   "version": "3.10.12"
  }
 },
 "nbformat": 4,
 "nbformat_minor": 5
}
