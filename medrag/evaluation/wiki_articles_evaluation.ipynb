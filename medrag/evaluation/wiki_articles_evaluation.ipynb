{
 "cells": [
  {
   "cell_type": "code",
   "execution_count": 1,
   "metadata": {},
   "outputs": [],
   "source": [
    "%load_ext autoreload\n",
    "%autoreload 2"
   ]
  },
  {
   "cell_type": "code",
   "execution_count": 2,
   "metadata": {},
   "outputs": [
    {
     "name": "stdout",
     "output_type": "stream",
     "text": [
      "/home/mikhail/diploma_work/medrag\n"
     ]
    },
    {
     "name": "stderr",
     "output_type": "stream",
     "text": [
      "/home/mikhail/.venv/lib/python3.10/site-packages/tqdm/auto.py:21: TqdmWarning: IProgress not found. Please update jupyter and ipywidgets. See https://ipywidgets.readthedocs.io/en/stable/user_install.html\n",
      "  from .autonotebook import tqdm as notebook_tqdm\n"
     ]
    }
   ],
   "source": [
    "import sys\n",
    "import os\n",
    "import torch\n",
    "import json\n",
    "from langchain_huggingface import HuggingFaceEmbeddings\n",
    "import argparse\n",
    "import pandas as pd\n",
    "from loguru import logger\n",
    "from tqdm import tqdm\n",
    "\n",
    "parent_folder = os.path.abspath(os.path.join(os.getcwd(), os.pardir))\n",
    "sys.path.append(parent_folder)\n",
    "print(parent_folder)\n",
    "\n",
    "grandparent_dir = os.path.dirname(parent_folder)\n",
    "sys.path.append(grandparent_dir)\n",
    "\n",
    "#local imports\n",
    "# from pipeline.qa_base_pipeline import QABasePipeline\n",
    "from pipeline.qa_pipeline import QAPipeline\n",
    "from retrieval.reranking import rerank_documents\n",
    "from retrieval.keyword_db import KeywordDB\n",
    "from retrieval.vector_db import VectorDB\n",
    "from summarization.summarization import QueryBasedTextRankSummarizer"
   ]
  },
  {
   "cell_type": "markdown",
   "metadata": {},
   "source": [
    "# Load artifacts"
   ]
  },
  {
   "cell_type": "code",
   "execution_count": 3,
   "metadata": {},
   "outputs": [
    {
     "name": "stderr",
     "output_type": "stream",
     "text": [
      "\u001b[32m2025-04-05 11:59:39.266\u001b[0m | \u001b[1mINFO    \u001b[0m | \u001b[36mretrieval.vector_db\u001b[0m:\u001b[36mload_db\u001b[0m:\u001b[36m80\u001b[0m - \u001b[1mvector database loaded from the local file successfully!\u001b[0m\n",
      "\u001b[32m2025-04-05 11:59:42.056\u001b[0m | \u001b[1mINFO    \u001b[0m | \u001b[36m__main__\u001b[0m:\u001b[36m<module>\u001b[0m:\u001b[36m16\u001b[0m - \u001b[1mloaded all artifacts!\u001b[0m\n"
     ]
    }
   ],
   "source": [
    "# ML\n",
    "# qa_base_pipeline = QABasePipeline()\n",
    "query_based_summarizer = QueryBasedTextRankSummarizer()\n",
    "keyword_database = KeywordDB(db_path='/s3/misha/data_dir/PMC_patients/db_bm25s')\n",
    "vector_database = VectorDB(db_path='/s3/misha/data_dir/PMC_patients/db_faiss')\n",
    "\n",
    "keyword_database.load_db()\n",
    "vector_database.load_db()\n",
    "\n",
    "device = torch.device('cuda:0')\n",
    "model = HuggingFaceEmbeddings(model_name=\"neuml/pubmedbert-base-embeddings\", \n",
    "                                        model_kwargs={'device': device},\n",
    "                                        encode_kwargs={\"normalize_embeddings\": True})\n",
    "\n",
    "qa_pipeline = QAPipeline(vector_database, keyword_database, query_based_summarizer, embedding_model=model, k=20)\n",
    "logger.info('loaded all artifacts!')"
   ]
  },
  {
   "cell_type": "code",
   "execution_count": null,
   "metadata": {},
   "outputs": [],
   "source": []
  },
  {
   "cell_type": "code",
   "execution_count": null,
   "metadata": {},
   "outputs": [],
   "source": []
  },
  {
   "cell_type": "markdown",
   "metadata": {},
   "source": [
    "## Get the testing data"
   ]
  },
  {
   "cell_type": "code",
   "execution_count": 4,
   "metadata": {},
   "outputs": [],
   "source": [
    "import wikipedia"
   ]
  },
  {
   "cell_type": "code",
   "execution_count": 10,
   "metadata": {},
   "outputs": [
    {
     "data": {
      "text/plain": [
       "['COVID-19',\n",
       " 'COVID-19 pandemic',\n",
       " 'COVID-19 pandemic in the United States',\n",
       " 'COVID-19 vaccine',\n",
       " 'COVID-19 lockdowns',\n",
       " 'COVID-19 testing',\n",
       " 'COVID-19 misinformation',\n",
       " 'List of deaths due to COVID-19',\n",
       " 'Timeline of the COVID-19 pandemic',\n",
       " 'COVID-19 pandemic in the United Kingdom']"
      ]
     },
     "execution_count": 10,
     "metadata": {},
     "output_type": "execute_result"
    }
   ],
   "source": [
    "en_wiki_titles = wikipedia.search('COVID-19', results=10, suggestion=False)\n",
    "en_wiki_titles"
   ]
  },
  {
   "cell_type": "code",
   "execution_count": 5,
   "metadata": {},
   "outputs": [],
   "source": [
    "def get_page(title):\n",
    "    try:\n",
    "        p = wikipedia.page(title, auto_suggest=False, redirect=True, preload=False)\n",
    "        return p\n",
    "    except wikipedia.DisambiguationError as e:\n",
    "        s = e.options[0] #random.choice(e.options)\n",
    "        p = wikipedia.page(s, auto_suggest=False, redirect=True, preload=False)\n",
    "        return p"
   ]
  },
  {
   "cell_type": "code",
   "execution_count": 15,
   "metadata": {},
   "outputs": [
    {
     "name": "stderr",
     "output_type": "stream",
     "text": [
      "  0%|          | 0/10 [00:00<?, ?it/s]"
     ]
    },
    {
     "name": "stderr",
     "output_type": "stream",
     "text": [
      "100%|██████████| 10/10 [00:02<00:00,  3.92it/s]\n"
     ]
    }
   ],
   "source": [
    "title = [] #[t for t in tqdm(en_wiki_titles)]\n",
    "content = [] # [get_page(t).content for t in tqdm(en_wiki_titles)]\n",
    "summary = [] #[get_page(t).summary for t in tqdm(en_wiki_titles)]\n",
    "# links = [get_page(t).links for t in tqdm(en_wiki_titles)]\n",
    "\n",
    "\n",
    "for t in tqdm(en_wiki_titles):\n",
    "    page = get_page(t)\n",
    "    title.append(t)\n",
    "    content.append(page.content)\n",
    "    summary.append(page.summary)"
   ]
  },
  {
   "cell_type": "code",
   "execution_count": 16,
   "metadata": {},
   "outputs": [],
   "source": [
    "import pandas as pd\n",
    "ds = pd.DataFrame()\n",
    "ds['title'] = title\n",
    "ds['content'] = content\n",
    "ds['summary'] = summary"
   ]
  },
  {
   "cell_type": "code",
   "execution_count": 17,
   "metadata": {},
   "outputs": [
    {
     "data": {
      "text/html": [
       "<div>\n",
       "<style scoped>\n",
       "    .dataframe tbody tr th:only-of-type {\n",
       "        vertical-align: middle;\n",
       "    }\n",
       "\n",
       "    .dataframe tbody tr th {\n",
       "        vertical-align: top;\n",
       "    }\n",
       "\n",
       "    .dataframe thead th {\n",
       "        text-align: right;\n",
       "    }\n",
       "</style>\n",
       "<table border=\"1\" class=\"dataframe\">\n",
       "  <thead>\n",
       "    <tr style=\"text-align: right;\">\n",
       "      <th></th>\n",
       "      <th>title</th>\n",
       "      <th>content</th>\n",
       "      <th>summary</th>\n",
       "    </tr>\n",
       "  </thead>\n",
       "  <tbody>\n",
       "    <tr>\n",
       "      <th>0</th>\n",
       "      <td>Stroke</td>\n",
       "      <td>Stroke is a medical condition in which poor bl...</td>\n",
       "      <td>Stroke is a medical condition in which poor bl...</td>\n",
       "    </tr>\n",
       "    <tr>\n",
       "      <th>1</th>\n",
       "      <td>Transient ischemic attack</td>\n",
       "      <td>A transient ischemic attack (TIA), commonly kn...</td>\n",
       "      <td>A transient ischemic attack (TIA), commonly kn...</td>\n",
       "    </tr>\n",
       "    <tr>\n",
       "      <th>2</th>\n",
       "      <td>Ischemia</td>\n",
       "      <td>Ischemia or ischaemia is a restriction in bloo...</td>\n",
       "      <td>Ischemia or ischaemia is a restriction in bloo...</td>\n",
       "    </tr>\n",
       "    <tr>\n",
       "      <th>3</th>\n",
       "      <td>Cerebral edema</td>\n",
       "      <td>Cerebral edema is excess accumulation of fluid...</td>\n",
       "      <td>Cerebral edema is excess accumulation of fluid...</td>\n",
       "    </tr>\n",
       "    <tr>\n",
       "      <th>4</th>\n",
       "      <td>Cerebral hypoxia</td>\n",
       "      <td>Cerebral hypoxia is a form of hypoxia (reduced...</td>\n",
       "      <td>Cerebral hypoxia is a form of hypoxia (reduced...</td>\n",
       "    </tr>\n",
       "    <tr>\n",
       "      <th>5</th>\n",
       "      <td>Tissue-type plasminogen activator</td>\n",
       "      <td>Tissue-type plasminogen activator, short name ...</td>\n",
       "      <td>Tissue-type plasminogen activator, short name ...</td>\n",
       "    </tr>\n",
       "    <tr>\n",
       "      <th>6</th>\n",
       "      <td>Alteplase</td>\n",
       "      <td>Alteplase, sold under the brand name Activase ...</td>\n",
       "      <td>Alteplase, sold under the brand name Activase ...</td>\n",
       "    </tr>\n",
       "    <tr>\n",
       "      <th>7</th>\n",
       "      <td>Cerebral infarction</td>\n",
       "      <td>Cerebral infarction, also known as an ischemic...</td>\n",
       "      <td>Cerebral infarction, also known as an ischemic...</td>\n",
       "    </tr>\n",
       "    <tr>\n",
       "      <th>8</th>\n",
       "      <td>Cerebrovascular disease</td>\n",
       "      <td>Cerebrovascular disease includes a variety of ...</td>\n",
       "      <td>Cerebrovascular disease includes a variety of ...</td>\n",
       "    </tr>\n",
       "    <tr>\n",
       "      <th>9</th>\n",
       "      <td>Embolic stroke of undetermined source</td>\n",
       "      <td>Embolic stroke of undetermined source (ESUS) i...</td>\n",
       "      <td>Embolic stroke of undetermined source (ESUS) i...</td>\n",
       "    </tr>\n",
       "  </tbody>\n",
       "</table>\n",
       "</div>"
      ],
      "text/plain": [
       "                                   title  \\\n",
       "0                                 Stroke   \n",
       "1              Transient ischemic attack   \n",
       "2                               Ischemia   \n",
       "3                         Cerebral edema   \n",
       "4                       Cerebral hypoxia   \n",
       "5      Tissue-type plasminogen activator   \n",
       "6                              Alteplase   \n",
       "7                    Cerebral infarction   \n",
       "8                Cerebrovascular disease   \n",
       "9  Embolic stroke of undetermined source   \n",
       "\n",
       "                                             content  \\\n",
       "0  Stroke is a medical condition in which poor bl...   \n",
       "1  A transient ischemic attack (TIA), commonly kn...   \n",
       "2  Ischemia or ischaemia is a restriction in bloo...   \n",
       "3  Cerebral edema is excess accumulation of fluid...   \n",
       "4  Cerebral hypoxia is a form of hypoxia (reduced...   \n",
       "5  Tissue-type plasminogen activator, short name ...   \n",
       "6  Alteplase, sold under the brand name Activase ...   \n",
       "7  Cerebral infarction, also known as an ischemic...   \n",
       "8  Cerebrovascular disease includes a variety of ...   \n",
       "9  Embolic stroke of undetermined source (ESUS) i...   \n",
       "\n",
       "                                             summary  \n",
       "0  Stroke is a medical condition in which poor bl...  \n",
       "1  A transient ischemic attack (TIA), commonly kn...  \n",
       "2  Ischemia or ischaemia is a restriction in bloo...  \n",
       "3  Cerebral edema is excess accumulation of fluid...  \n",
       "4  Cerebral hypoxia is a form of hypoxia (reduced...  \n",
       "5  Tissue-type plasminogen activator, short name ...  \n",
       "6  Alteplase, sold under the brand name Activase ...  \n",
       "7  Cerebral infarction, also known as an ischemic...  \n",
       "8  Cerebrovascular disease includes a variety of ...  \n",
       "9  Embolic stroke of undetermined source (ESUS) i...  "
      ]
     },
     "execution_count": 17,
     "metadata": {},
     "output_type": "execute_result"
    }
   ],
   "source": [
    "ds"
   ]
  },
  {
   "cell_type": "code",
   "execution_count": 18,
   "metadata": {},
   "outputs": [
    {
     "name": "stderr",
     "output_type": "stream",
     "text": [
      "  0%|          | 0/10 [00:00<?, ?it/s]"
     ]
    },
    {
     "name": "stderr",
     "output_type": "stream",
     "text": [
      "100%|██████████| 10/10 [02:10<00:00, 13.04s/it]\n"
     ]
    }
   ],
   "source": [
    "w_arts = [qa_pipeline.generate_wiki_response(t) for t in tqdm(title)]"
   ]
  },
  {
   "cell_type": "code",
   "execution_count": 19,
   "metadata": {},
   "outputs": [
    {
     "data": {
      "text/plain": [
       "['**Stroke**\\n\\nA stroke is a medical condition that occurs when the blood supply to the brain is interrupted or reduced, depriving the brain of oxygen and nutrients. This can lead to damage to the brain tissue, resulting in various neurological symptoms.\\n\\n**Causes and Risk Factors**\\n\\nThe causes of stroke are varied, but common risk factors include:\\n\\n*   High blood pressure\\n*   Diabetes\\n*   Smoking\\n*   Obesity\\n*   Physical inactivity\\n*   Family history of stroke or cardiovascular disease\\n\\nAccording to the American Heart Association/American Stroke Association, continuous ECG monitoring and assessment of LV function (ECHO) and cardiac injury biomarkers are crucial for cardiac monitoring, especially during the first 24 hours. This helps screen for any myocardial damage to prevent sudden cardiac death.\\n\\n**Diagnosis**\\n\\nThe diagnosis of stroke involves a combination of clinical evaluation, imaging tests, and laboratory studies. The American Stroke Association recommends the use of dual cardio-cerebral approach in the first 3-5 days.\\n\\n*   **Computed Tomography (CT) Scan**: A CT scan is often used to evaluate acute ischemic strokes.\\n*   **Magnetic Resonance Imaging (MRI)**: MRI is useful for evaluating ischemic and hemorrhagic strokes, as well as assessing infarct size and location.\\n*   **Diffusion-Weighted Imaging (DWI)**: DWI is a type of MRI that can help identify acute ischemic strokes.\\n\\n**Treatment**\\n\\nThe primary goal of treatment for stroke is to restore blood flow to the affected area of the brain. This can be achieved through:\\n\\n*   **Thrombectomy**: A procedure that removes blood clots from the carotid arteries using a stent retriever or aspiration catheter.\\n*   **Mechanical Thrombectomy**: A procedure that uses a mechanical device to remove blood clots from the carotid arteries.\\n*   **Anticoagulation Therapy**: Medications such as heparin and warfarin are used to prevent further blood clots.\\n\\n**Complications**\\n\\nStroke can lead to various complications, including:\\n\\n*   **Disability**: Stroke can result in significant disability, with approximately 3 million people in the United States living with some form of stroke-related disability.\\n*   **Mortality**: Stroke is a leading cause of death worldwide, accounting for over 800,000 deaths annually.\\n\\n**Prognosis**\\n\\nThe prognosis for stroke patients varies depending on several factors, including:\\n\\n*   **Time to Treatment**: The sooner treatment is initiated, the better the outcome.\\n*   **Location and Size of Infarct**: The location and size of the infarct can affect outcomes.\\n*   **Patient\\'s Overall Health**: Patients with underlying health conditions may have a poorer prognosis.\\n\\n**References**\\n\\n1.  \"2019 Guidelines for the Management of Acute Ischemic Stroke: A Guideline for Healthcare Providers from the American Heart Association/American Stroke Association.\" Journal of Stroke and Cerebrovascular Diseases, vol. 28, no. 10, pp. e281-e491.\\n2.  \"American Heart Association/American Stroke Association Guidelines for the Early Management of Acute Ischemic Stroke: A Guideline for Healthcare Providers from the American Heart Association/Society of NeuroInterventional Surgery and the American Academy of Neurology.\" Journal of Stroke and Cerebrovascular Diseases, vol. 28, no. 10, pp. e281-e491.\\n3.  \"International Stroke Conference 2019: 14th International Conference on Vascular Malformations and Brain Arteriovenous Malformations.\" Journal of Neurosurgery, vol. 130, no. 5, pp. 1211-1224.\\n4.  \"The Alberta Stroke Program Early Computed Tomography Score: A Tool for Early Prediction of Outcome in Acute Ischemic Stroke.\" Stroke, vol. 45, no. 8, pp. 2133-2140.\\n5.  \"Early Computed Tomography Score ≤6 Predicts Mortality and Disability after Thrombectomy for Acute Anterior Circulation Stroke.\" Neurology, vol. 92, no. 20, pp. e230-e238.\\n\\nIn conclusion, stroke is a complex medical condition that requires prompt treatment to restore blood flow to the affected area of the brain. Early diagnosis and treatment can significantly improve outcomes and reduce disability and mortality.',\n",
       " '**Transient Ischemic Attack (TIA)**\\n\\nA transient ischemic attack (TIA), also known as a mini-stroke, is a temporary interruption of blood flow to the brain that lasts for a short period, usually less than 24 hours. It is often described as a \"mini-stroke\" or a \"stroke warning sign.\" TIAs are considered a warning sign for a future stroke and can be an opportunity to prevent a full-blown stroke.\\n\\n**Causes and Risk Factors**\\n\\nThe exact cause of a TIA is not always known, but it is believed to result from a temporary blockage in the blood vessels supplying blood to the brain. This blockage can be caused by a variety of factors, including:\\n\\n* Atherosclerosis (the buildup of plaque in the arteries)\\n* Blood clots\\n* Emboli (clumps of blood cells or other material that break off and travel through the bloodstream)\\n* Vasospasm (temporary narrowing of the blood vessels)\\n\\n**Symptoms**\\n\\nThe symptoms of a TIA can vary from person to person, but common symptoms include:\\n\\n* Sudden weakness or numbness in the face, arm, or leg\\n* Sudden confusion or trouble speaking\\n* Sudden trouble seeing in one or both eyes\\n* Sudden trouble walking, dizziness, or loss of balance\\n* Sudden severe headache with no known cause\\n\\n**Diagnosis and Treatment**\\n\\nA TIA is typically diagnosed using a combination of physical examination, medical history, and imaging tests such as:\\n\\n* Computed tomography (CT) scan of the head\\n* Magnetic resonance imaging (MRI) of the brain\\n* Transesophageal echocardiogram (TEE)\\n* Angiogram\\n\\nTreatment for a TIA usually involves addressing any underlying risk factors, such as high blood pressure or diabetes, and may include medications to prevent clotting or improve blood flow. In some cases, surgery or other interventions may be necessary.\\n\\n**Prognosis**\\n\\nThe prognosis for a person who has had a TIA is generally good, but it is still uncertain whether the person will have a full-blown stroke in the future. Factors that predict an increased risk of stroke after a TIA include:\\n\\n* The presence of underlying medical conditions\\n* The severity and duration of the TIA\\n* The presence of emboli or other blockages in the blood vessels\\n\\n**References**\\n\\n* American Heart Association. (2017). Stroke Facts.\\n* Centers for Disease Control and Prevention. (2022). Transient Ischemic Attack (TIA).\\n* National Institute of Neurological Disorders and Stroke. (2020). TIA: What Is a TIA?\\n\\n**Grading Internal Carotid Artery Stenoses**\\n\\nThe grading of internal carotid artery stenosis is typically performed using the North American Symptomatic Carotid Endarterectomy Trial (NASCET) criteria, which includes:\\n\\n* 0-19% stenosis: no significant stenosis\\n* 20-49% stenosis: mild stenosis\\n* 50-69% stenosis: moderate stenosis\\n* 70-99% stenosis: severe stenosis\\n\\n**Cerebrovascular Reserve Capacity**\\n\\nThe cerebrovascular reserve capacity is a measure of the brain\\'s ability to compensate for reduced blood flow. A lower cerebrovascular reserve capacity has been associated with an increased risk of stroke.\\n\\n**Severely Impaired Cerebrovascular Reactivity**\\n\\nSeverely impaired cerebrovascular reactivity is a predictor of stroke and TIA risk in patients with carotid artery stenosis and occlusion.\\n\\nReferences:\\n\\n* Yashar, R., et al. (2018). The relationship between cerebrovascular reserve capacity and the risk of ischemic stroke. Journal of Cerebral Blood Flow & Metabolism, 38(1), 35-44.\\n* Wechsler, A. S., et al. (2019). Severely impaired cerebrovascular reactivity predicts stroke and TIA risk in patients with carotid artery stenosis and occlusion. Journal of Neurointerventional Surgery, 15(10), 1528-1536.\\n\\n**Watershed Infarcts**\\n\\nWatershed infarcts are a type of brain injury that occurs when blood flow is interrupted to the watershed areas of the brain, which are the areas where two or more major arteries meet. Watershed infarcts can occur in association with TIA and minor stroke.\\n\\nReferences:\\n\\n* Yaghi, A., et al. (2019). Watershed infarcts in transient ischemic attack/minor stroke: hemodynamic or embolic? Journal of Stroke Cerebrovascular Diseases, 28(1), 53-58.\\n* Wang, X., et al. (2020). Watershed infarcts in TIA and minor stroke: a systematic review. Journal of Neurology, Neuroscience & Psychiatry, 91(1), 34-42.\\n\\nNote: The references provided are a selection of the sources used to generate this article, but not an exhaustive list.',\n",
       " '**Ischemia**\\n\\nIschemia is a condition characterized by reduced blood flow to a body part, organ, or tissue, resulting in inadequate oxygen delivery and nutrient supply. It can lead to various symptoms, including pain, numbness, weakness, and even organ damage.\\n\\n**Causes of Ischemia**\\n\\nIschemia can occur due to various reasons, including:\\n\\n* **Artery blockage**: Blockage of blood vessels by plaque or other materials\\n* **Cardiovascular disease**: Conditions such as coronary artery disease, peripheral artery disease, and carotid artery stenosis\\n* **Blood clots**: Formation of blood clots in blood vessels\\n* **Atherosclerosis**: Hardening and narrowing of arteries due to plaque buildup\\n\\n**Graft Selection for Ischemia**\\n\\nThe radial artery is commonly used as a graft for ischemia repair due to its advantages:\\n\\n1.  **Matching diameter**: Similar to the M2 segment of the Middle Cerebral Artery (MCA) to avoid type-2b error\\n2.  **Valve absence**: Reduced risk of kinking and thrombosis\\n3.  **Length**: Adequate length from the temporal fossa to the Sylvian fissure for grafting\\n\\n**Prognosis and Management**\\n\\nThe prognosis of ischemia varies depending on factors such as:\\n\\n*   **Type of mesenteric ischemia**: Acute or chronic, with acute being more severe\\n*   **Rapidity of onset**: Quick onset leading to rapid progression of disease\\n*   **Mechanism**: Vascular spasm, embolism, or thrombosis\\n*   **Seeking medical attention**: Delayed treatment increasing mortality risk\\n*   **Extent and severity**: Severity of ischemia and infarction\\n\\n**Management Strategies**\\n\\nRecommended management strategies for stroke patients include:\\n\\n1.  **Dual cardio-cerebral approach**: Monitoring vital signs, cardiovascular functions, and neurologic status for the first 3-5 days\\n2.  **Continuous ECG monitoring**: For cardiac monitoring, especially during the first 24 hours\\n3.  **Assessment of LV function (ECHO)**: To screen for myocardial damage and prevent sudden cardiac death\\n4.  **Cardiac injury biomarkers**: Monitoring for cardiac injury to guide treatment\\n\\n**Coronary Angiography**\\n\\nDue to uncertainty about elevated troponin levels, coronary angiography is contraindicated during the acute stage of stroke.\\n\\n**References**\\n\\n*   American Heart Association/American Stroke Association (2019). Guidelines for Management of Acute Ischemic Stroke.\\n*   National Institute of Neurological Disorders and Stroke (2020). Ischemic Stroke.\\n*   American College of Cardiology/American Heart Association (2013). 2013 ACCF/AHA Guideline on the Management of Upper Gastrointestinal Bleeding.',\n",
       " '**Cerebral Edema**\\n\\nCerebral edema is a condition characterized by an abnormal accumulation of fluid within the brain, leading to increased intracranial pressure and potentially life-threatening complications.\\n\\n**Causes of Cerebral Edema**\\n\\nCerebral edema can be classified into two main types: cytotoxic edema and vasogenic edema. Cytotoxic edema is often associated with primary brain injuries such as traumatic brain injury or stroke, while vasogenic edema is typically seen in the presence of an abnormal blood-brain barrier, such as in cases of cerebral vasculitis or infection.\\n\\n**Pathophysiology**\\n\\nCerebral edema occurs due to increased water content within the brain tissue. This can be caused by various factors, including:\\n\\n*   **Increased vascular permeability**: allowing fluid to leak from the bloodstream into the brain tissue\\n*   **Disruption of ion balance**: leading to an increase in water content within the cells\\n*   **Inflammation**: causing swelling and increased fluid production\\n\\n**Types of Cerebral Edema**\\n\\nThere are two main types of cerebral edema:\\n\\n1.  **Cytotoxic edema**: occurs due to primary brain injuries, such as traumatic brain injury or stroke.\\n2.  **Vasogenic edema**: occurs in the presence of an abnormal blood-brain barrier, such as in cases of cerebral vasculitis or infection.\\n\\n**Clinical Presentation**\\n\\nCerebral edema can present with a range of symptoms, including:\\n\\n*   **Headache**\\n*   **Confusion**\\n*   **Seizures**\\n*   **Increased intracranial pressure**\\n\\n**Diagnosis**\\n\\nCerebral edema is typically diagnosed using imaging studies such as CT or MRI scans.\\n\\n**Treatment**\\n\\nThe treatment for cerebral edema depends on the underlying cause and severity of the condition. Treatment options may include:\\n\\n*   **Surgery**: to relieve increased intracranial pressure\\n*   **Medications**: to reduce swelling and alleviate symptoms\\n*   **Supportive care**: such as oxygen therapy and hydration\\n\\n**Complications**\\n\\nCerebral edema can lead to a range of complications, including:\\n\\n*   **Herniation**: when the brain shifts from one side of the skull to the other\\n*   **Brain stem damage**: due to increased intracranial pressure\\n*   **Seizures**: which can be life-threatening\\n\\n**References**\\n\\n1.  *Bryan, J., & Bostrom, P. C. (2019). Brain injury and cerebral edema. Neurosurgery Clinics of North America, 30(2), 147-155.*\\n2.  *Liu, K., et al. (2020). Cerebral vasogenic edema: A review. Journal of Clinical Neuroscience, 71, 145-153.*',\n",
       " '# Cerebral Hypoxia\\n\\nCerebral hypoxia is a condition in which the brain does not receive sufficient oxygen for an extended period of time, leading to damage or injury. This can occur due to various reasons such as cardiac arrest, severe head trauma, stroke, or respiratory failure.\\n\\n## Causes and Risk Factors\\n\\nSome of the common causes and risk factors that lead to cerebral hypoxia include:\\n\\n*   **Cardiac arrest**: A sudden loss of heart function can prevent blood from reaching the brain.\\n*   **Severe head trauma**: Severe injuries to the head can cause bleeding in the brain, leading to reduced oxygen supply.\\n*   **Stroke**: A stroke can cause a blockage or rupture of blood vessels in the brain, leading to tissue death.\\n*   **Respiratory failure**: Failure of the lungs to take in enough oxygen can lead to cerebral hypoxia.\\n\\n## Symptoms and Diagnosis\\n\\nThe symptoms of cerebral hypoxia may include:\\n\\n*   **Confusion**: Disorientation, confusion, or a lack of consciousness\\n*   **Weakness**: Weakness or paralysis in one or more limbs\\n*   **Vision changes**: Blurred vision, double vision, or loss of vision\\n*   **Seizures**: Seizures can occur due to brain damage\\n\\nDiagnosis is typically made using:\\n\\n*   **ECG (Electrocardiogram)**: To check for any heart rhythm abnormalities.\\n*   **MRI (Magnetic Resonance Imaging)**: To visualize the brain and identify areas of damage.\\n\\n## Treatment and Management\\n\\nTreatment for cerebral hypoxia may involve:\\n\\n*   **Hyperbaric oxygen therapy**: Increased oxygen levels in the body to help prevent tissue death\\n*   **Medications**: Medications such as benzodiazepines or barbiturates can be used to manage seizures.\\n*   **Monitoring**: Close monitoring of vital signs, brain function, and other organs.\\n\\n## Prevention\\n\\nPrevention is key. By maintaining a healthy lifestyle, including regular exercise, a balanced diet, and adequate sleep, the risk of cerebral hypoxia can be reduced.\\n\\n## References:\\n\\n*   \"Hyperbaric oxygen therapy improves spatial learning and memory in a rat model of chronic traumatic brain injury\" (J Neurophysiol 2011;105(5):2479–2493.)\\n*   \"Hyperbaric oxygen therapy in global cerebral ischemia/anoxia and coma\" (Chest 2007;132(4):1169–1176.)\\n*   \"Hyperbaric oxygen treatment of closed head injury\" (J Neurosurg 2011;114(4):1122–1130.)\\n*   \"Improvement in cerebral metabolism in chronic brain injury after hyperbaric oxygen therapy\" (Brain Res Bull 2013;94:53–61.)\\n*   \"HMPAO SPECT brain imaging and low-pressure HBOT in the diagnosis and treatment of chronic traumatic, ischemic, hypoxic, and anoxic encephalopathies\" (Neurocritical Care 2014;18(2):169–176.)',\n",
       " \"**Tissue-Type Plasminogen Activator**\\n\\n**Overview**\\n\\nTissue-type plasminogen activator (tPA) is a recombinant enzyme that catalyzes the conversion of plasminogen to plasmin, resulting in fibrinolysis. It is used for the treatment of acute ischemic strokes and has been studied for its potential use in other medical conditions.\\n\\n**Mechanism of Action**\\n\\ntPA works by activating plasminogen, a protein that plays a key role in blood clotting. When tPA binds to plasminogen, it converts it into plasmin, which then breaks down clots and fibrinogen, a protein that helps form blood clots.\\n\\n**Indications for Use**\\n\\ntPA is used for the treatment of acute ischemic strokes, particularly when administered within 90 minutes of symptom onset. It has also been studied for its potential use in mechanical thrombectomy, a procedure used to remove blood clots from arteries.\\n\\n**Studies and Pilot Studies**\\n\\nSeveral studies have investigated the use of tPA in treating angioedema after thrombolysis with tissue plasminogen activator. A pilot study published in [1] examined the safety and efficacy of administering tPA within 90 minutes of symptom onset. Another study [2] evaluated the use of tPA in mechanical thrombectomy for acute ischemic stroke.\\n\\n**Use in Intra-abdominal Infections**\\n\\ntPA has been used to treat intra-abdominal infections, including infected fluid collections. A study published in [3] examined the use of tPA in managing complex infected intraperitoneal fluid collections.\\n\\n**References**\\n\\n[1] Pilot study of tissue plasminogen activator administered within 90 minutes\\n[2] Mechanical thrombectomy in acute ischemic stroke\\n[3] Use of the Recombinant Tissue Plasminogen Activator in the Management of Complex Infected Intraperitoneal Fluid Collection\\n\\nNote: The references provided are fictional and used only for demonstration purposes. Actual references should be cited in a Wiki-article based on factual data.\\n\\n**Side Effects and Contraindications**\\n\\ntPA is associated with several side effects, including bleeding and angioedema (swelling of the skin and mucous membranes). Angioedema can be life-threatening and requires immediate medical attention. tPA is contraindicated in patients with a history of bleeding disorders or those who are taking anticoagulant medications.\\n\\n**Funding**\\n\\nThis research received no specific grant from any funding agency in the public, commercial, or not-for-profit sectors.\\n\\nNote: The suggested context does not contain the answer to the question 'Use of the Recombinant Tissue Plasminogen Activator in the Management of Complex Infected Intraperitoneal Fluid Collection'.\",\n",
       " '**Alteplase**\\n\\nAlteplase is a recombinant tissue plasminogen activator (tPA) that is used to treat acute ischemic stroke. It works by dissolving blood clots in the brain, improving blood flow and reducing the risk of long-term disability or death.\\n\\n**Impact on Stroke Outcomes**\\n\\nThe use of alteplase in acute ischemic stroke has been shown to improve outcomes. A study published in the journal _Stroke_ found that patients who received alteplase within 4.5 hours of symptom onset had a significant reduction in mortality and morbidity compared to those who did not receive treatment (1). Another study published in the _Journal of Stroke & Cerebrovascular Diseases_ found that alteplase-treated patients had a higher rate of functional independence at 3 months compared to placebo-treated patients (2).\\n\\n**Safety of Thrombolysis**\\n\\nThrombolysis with alteplase is generally safe when performed by experienced healthcare professionals. However, it can be associated with complications such as bleeding, angioedema, and allergic reactions. A study published in the _Journal of Medical Imaging and Radiation Oncology_ found that the incidence of major bleeding was 5.6% in patients treated with alteplase for acute ischemic stroke (3).\\n\\n**Clinical Details**\\n\\nDalteparin-associated liver injury (DILI) is a rare but serious side effect associated with the use of low molecular weight heparins (LMWH). A study published in the _Journal of Clinical and Diagnostic Research_ found that dalteparin treatment was associated with liver injury in 12 out of 15 patients, with the majority of cases occurring within 30 days of treatment initiation (4).\\n\\n**References:**\\n\\n1. **Harrill et al. (2012)**: \"Dalteparin-associated liver injury in the literature\" _Journal of Clinical and Diagnostic Research_, Volume 6, Issue 12, pp. ZC01-ZC05.\\n2. **Levinson et al. (2012)**: \"Dalteparin treatment associated with liver injury\" _Journal of Medical Imaging and Radiation Oncology_, Volume 56, Issue 3, pp. 231-236.\\n3. **NA**: \"TPA-induced angioedema\" _Double trouble: tPA-induced angioedema_.\\n4. **NA**: \"Orolingual angiodema associated with alteplase treatment of acute stroke: A reappraisal\" _Hemi-orolingual angioedema and ACE inhibition after alteplase treatment of stroke_.',\n",
       " \"**Cerebral Infarction**\\n\\nA cerebral infarction, also known as a stroke, occurs when blood supply to the brain is interrupted or reduced, resulting in tissue death due to lack of oxygen and nutrients. The interruption of blood flow can be caused by various factors, including blood clots, blockages, or other vascular abnormalities.\\n\\n**Causes and Etiopathogenesis**\\n\\nThe exact cause of cerebral infarction is often difficult to determine, but several mechanisms have been proposed. One possible mechanism is the massive release of blood and blood breakdown products into the cerebrospinal fluid (CSF) and subsequent inflammatory changes in the smooth muscle of the large cerebral arteries. This can lead to a decrease in blood flow to the brain, resulting in tissue damage.\\n\\n**Risk Factors**\\n\\nSeveral risk factors have been identified that increase the likelihood of developing a cerebral infarction. These include:\\n\\n*   **Hypertension**: High blood pressure is a major risk factor for stroke.\\n*   **Diabetes**: People with diabetes are at increased risk of developing a stroke.\\n*   **Smoking**: Smoking is a significant risk factor for stroke, as it can damage the blood vessels and increase blood pressure.\\n*   **Obesity**: Being overweight or obese increases the risk of stroke.\\n*   **Family history**: A family history of stroke increases an individual's risk.\\n\\n**Management**\\n\\nThe management of cerebral infarction depends on the location, size, and severity of the infarct. In general, treatment may include:\\n\\n*   **Thrombolytic therapy**: Medications that dissolve blood clots can be administered to restore blood flow to the brain.\\n*   **Anticoagulation**: Blood thinners may be prescribed to prevent further clot formation.\\n*   **Surgery**: In some cases, surgery may be necessary to relieve pressure on the brain or repair damaged blood vessels.\\n\\n**References**\\n\\n*   American Heart Association. (2019). Stroke: Causes & Risk Factors.\\n*   Centers for Disease Control and Prevention. (2020). Stroke.\\n*   Mayo Clinic. (2022). Stroke: Symptoms & causes.\\n\\nNote: The provided context does not contain specific information about the case described in the question, such as the cause of the infarction or the patient's treatment. However, it provides general information on cerebral infarction, its causes, risk factors, and management.\",\n",
       " 'Cerebrovascular Disease\\n=====================\\n\\nCerebrovascular disease, also known as cerebrovascular disorders or vascular diseases of the brain, refers to a group of conditions that affect the blood vessels in the brain, leading to reduced blood flow, which can cause damage to the surrounding brain tissue.\\n\\nTypes of Cerebrovascular Diseases\\n---------------------------------\\n\\nThere are several types of cerebrovascular diseases, including:\\n\\n*   **Ischemic stroke**: A blockage in the blood vessel supplying blood to the brain, causing reduced or stopped blood flow.\\n*   **Hemorrhagic stroke**: Bleeding within or around the brain\\'s blood vessels, often caused by high blood pressure.\\n*   **Transient ischemic attack (TIA)**: A temporary blockage of a blood vessel in the brain, often referred to as a \"mini-stroke.\"\\n*   **Silent cerebral infarction**: A small stroke that does not cause symptoms or noticeable damage.\\n\\nCauses and Risk Factors\\n----------------------\\n\\nCerebrovascular disease can be caused by various factors, including:\\n\\n*   **High blood pressure**: Uncontrolled hypertension is a significant risk factor for cerebrovascular disease.\\n*   **Smoking**: Smoking is linked to an increased risk of stroke and other cardiovascular diseases.\\n*   **Diabetes**: High blood sugar levels can increase the risk of developing cerebrovascular disease.\\n*   **Obesity**: Excess weight can contribute to high blood pressure, diabetes, and other conditions that affect brain health.\\n\\nPrevention and Treatment\\n------------------------\\n\\nWhile some cases of cerebrovascular disease cannot be prevented, there are steps that can be taken to reduce the risk:\\n\\n*   **Maintain a healthy lifestyle**: Regular exercise, a balanced diet, not smoking, and limiting alcohol consumption can help lower blood pressure and cholesterol levels.\\n*   **Monitor and manage chronic conditions**: Controlling high blood pressure, diabetes, and other underlying conditions is essential for preventing cerebrovascular disease.\\n\\nSymptoms\\n----------\\n\\nCerebrovascular disease can cause a range of symptoms, including:\\n\\n*   **Sudden numbness or weakness in the face, arm, or leg**\\n*   **Difficulty speaking or understanding speech**\\n*   **Vision problems**, such as blurred vision or loss of vision\\n*   **Dizziness or loss of balance**\\n*   **Headache**\\n\\nDiagnosis and Treatment\\n------------------------\\n\\nA diagnosis of cerebrovascular disease is typically made based on a combination of:\\n\\n*   **Medical history**: A thorough review of the patient\\'s medical background.\\n*   **Physical examination**: A physical assessment to check for any signs of stroke or other conditions.\\n*   **Imaging tests**: Such as computed tomography (CT) scans, magnetic resonance imaging (MRI), or angiograms to visualize blood vessels.\\n\\nTreatment options depend on the type and severity of cerebrovascular disease. This may include:\\n\\n*   **Medications** to manage symptoms, prevent further strokes, or treat underlying conditions.\\n*   **Lifestyle modifications**, such as dietary changes, exercise, and stress management.\\n*   **Surgery** in some cases, like angioplasty or aneurysm repair.\\n\\nPrevalence\\n------------\\n\\nCerebrovascular disease is a significant public health concern worldwide. According to the American Heart Association:\\n\\n*   The estimated annual incidence of first silent stroke in the United States is approximately 700,000.\\n*   **The prevalence of subcortical silent brain infarction** in apparently normal adults is around 5%.\\n*   **Metabolic syndrome**, a cluster of conditions including obesity and diabetes, increases the risk of developing cerebrovascular disease.\\n\\nCurrent Research\\n-----------------\\n\\nRecent studies have shed light on various aspects of cerebrovascular disease:\\n\\n*   **The role of homocysteine levels** in silent brain infarction.\\n*   **Sex differences** in cardiovascular disease.\\n*   **Perfusion insufficiency** in limb-shaking transient ischemic attacks.\\n\\nSources:\\n----------\\n\\n*   American Heart Association. (n.d.). Silent Stroke.\\n*   EPMA Position Paper 2016: Medicine in the Early Twenty-First Century - Paradigm and Anticipation.\\n*   EPMA Position Paper 2016: Medicine in the Early Twenty-First Century - Paradigm and Anticipation.\\n*   National Institute of Neurological Disorders and Stroke. (n.d.). Mixed Cerebrovascular Disease.\\n*   American Heart Association. (n.d.). Primary Prevention of Ischemic Stroke.\\n*   American Heart Association. (n.d.). Secondary Prevention of Ischemic Stroke.\\n\\nThe suggested context does not contain the answer to the question, but I\\'ve provided a comprehensive overview of cerebrovascular disease based on the given sources.',\n",
       " '**Embolic Stroke of Undetermined Source**\\n\\nAn embolic stroke of undetermined source (ESUS) is a type of ischemic stroke where the cause of the stroke cannot be determined despite thorough evaluation.\\n\\n**Definition and Epidemiology**\\n\\nESUS is defined as an acute ischemic stroke with no identifiable source, such as cardioembolism, large artery atherosclerosis, or venous thromboembolism (1). The exact prevalence of ESUS varies depending on the population studied, but it is estimated to occur in approximately 20-30% of all ischemic strokes (2).\\n\\n**Clinical Presentation**\\n\\nPatients with ESUS often present with typical symptoms of an ischemic stroke, such as sudden onset of focal neurological deficits, headache, and sometimes fever (3). The severity of the stroke can vary widely, from mild hemiparesis to severe, disabling stroke.\\n\\n**Evaluation and Management**\\n\\nThe management of ESUS is similar to that of other types of ischemic strokes. Patients are usually evaluated with a comprehensive medical history, physical examination, laboratory tests, and imaging studies such as non-contrast CT or MRI (4). In some cases, additional testing may be performed to rule out a source of embolism, such as echocardiography (TEE) or venous thromboembolism screening (5).\\n\\n**Hypercoagulability Evaluation**\\n\\nA hypercoagulable evaluation is sometimes performed in patients with ESUS to identify potential underlying causes of the stroke, such as inherited coagulation disorders or autoimmune conditions (6). However, the yield of this testing is variable and may not lead to a definitive diagnosis (7).\\n\\n**Role of Repeat TEE**\\n\\nThe role of repeat Transesophageal Echocardiography (TEE) in the evaluation of ESUS is uncertain. Some studies suggest that TEE may be useful in identifying cardiac sources of embolism, but other studies have found no significant benefit or even increased risk of bleeding with repeat TEE (8).\\n\\n**Conclusion**\\n\\nESUS is a challenging diagnosis to make, and the choice of diagnostic testing can be difficult. While hypercoagulability evaluation and TEE may be considered in certain cases, their role remains uncertain and should be individualized based on patient presentation and clinical context.\\n\\nReferences:\\n\\n1. Saver et al. (2013). Evaluation and management of ischemic stroke: A guideline for healthcare professionals from the American Heart Association/American Stroke Association. Stroke, 44(8), e123-e163.\\n2. Rothwell et al. (2007). Ischaemic stroke mimics. Lancet Neurology, 6(11), 977-988.\\n3. Kasey et al. (2019). Acute ischemic stroke: A review of the literature. Journal of Clinical Neuroscience, 61, 151-158.\\n4. American Heart Association. (2017). Guidelines for the management of acute stroke.\\n5. Sitzer et al. (2018). Evaluation and management of ischemic stroke: A review. Journal of Stroke & Cerebrovascular Diseases, 27(10), 2733-2741.e2.\\n6. Rosendall et al. (2009). Hypercoagulable disorders in patients with cerebral venous sinus thrombosis. American Journal of Hematology, 84(5), 351-355.\\n7. Audebert et al. (2018). Hypercoagulability evaluation in stroke: A systematic review. Thrombosis Research, 168, 105-113.e3.\\n8. Libretti et al. (2016). Repeat transesophageal echocardiography after initial negative study does not improve diagnostic yield for cardiac sources of embolism. European Journal of Echocardiography, 17(5), 538-543.']"
      ]
     },
     "execution_count": 19,
     "metadata": {},
     "output_type": "execute_result"
    }
   ],
   "source": [
    "w_arts"
   ]
  },
  {
   "cell_type": "code",
   "execution_count": 8,
   "metadata": {},
   "outputs": [
    {
     "name": "stdout",
     "output_type": "stream",
     "text": [
      "Reference: The quick brown fox jumps over the lazy dog.\n",
      "Generated: The quick brown fox leaps over the lazy dog.\n",
      "ROUGE Scores:\n",
      "ROUGE-1:\n",
      "  Precision: 0.8889\n",
      "  Recall:    0.8889\n",
      "  F1 Score:  0.8889\n",
      "ROUGE-2:\n",
      "  Precision: 0.7500\n",
      "  Recall:    0.7500\n",
      "  F1 Score:  0.7500\n",
      "ROUGE-L:\n",
      "  Precision: 0.8889\n",
      "  Recall:    0.8889\n",
      "  F1 Score:  0.8889\n"
     ]
    }
   ],
   "source": [
    "#ROUGE\n",
    "from rouge_score import rouge_scorer\n",
    "\n",
    "def calculate_rouge(reference_summary, generated_summary):\n",
    "    \"\"\"\n",
    "    Calculates ROUGE scores between a reference summary and a generated summary.\n",
    "\n",
    "    Args:\n",
    "        reference_summary (str): The ground-truth summary.\n",
    "        generated_summary (str): The summary to evaluate.\n",
    "\n",
    "    Returns:\n",
    "        dict: A dictionary containing ROUGE-1, ROUGE-2, and ROUGE-L scores (precision, recall, and F1).\n",
    "    \"\"\"\n",
    "    # Initialize ROUGE scorer\n",
    "    scorer = rouge_scorer.RougeScorer(['rouge1', 'rouge2', 'rougeL'], use_stemmer=True)\n",
    "    scores = scorer.score(reference_summary, generated_summary)\n",
    "\n",
    "    # Extract and organize scores\n",
    "    result = {\n",
    "        \"ROUGE-1\": {\n",
    "            \"precision\": scores['rouge1'].precision,\n",
    "            \"recall\": scores['rouge1'].recall,\n",
    "            \"f1\": scores['rouge1'].fmeasure,\n",
    "        },\n",
    "        \"ROUGE-2\": {\n",
    "            \"precision\": scores['rouge2'].precision,\n",
    "            \"recall\": scores['rouge2'].recall,\n",
    "            \"f1\": scores['rouge2'].fmeasure,\n",
    "        },\n",
    "        \"ROUGE-L\": {\n",
    "            \"precision\": scores['rougeL'].precision,\n",
    "            \"recall\": scores['rougeL'].recall,\n",
    "            \"f1\": scores['rougeL'].fmeasure,\n",
    "        }\n",
    "    }\n",
    "    return result\n",
    "\n",
    "reference = \"The quick brown fox jumps over the lazy dog.\"\n",
    "generated = \"The quick brown fox leaps over the lazy dog.\"\n",
    "\n",
    "print(f\"Reference: {reference}\")\n",
    "print(f\"Generated: {generated}\")\n",
    "\n",
    "rouge_scores = calculate_rouge(reference, generated)\n",
    "\n",
    "print(\"ROUGE Scores:\")\n",
    "for metric, values in rouge_scores.items():\n",
    "    print(f\"{metric}:\")\n",
    "    print(f\"  Precision: {values['precision']:.4f}\")\n",
    "    print(f\"  Recall:    {values['recall']:.4f}\")\n",
    "    print(f\"  F1 Score:  {values['f1']:.4f}\")"
   ]
  },
  {
   "cell_type": "code",
   "execution_count": 21,
   "metadata": {},
   "outputs": [
    {
     "data": {
      "text/plain": [
       "0.8888888888888888"
      ]
     },
     "execution_count": 21,
     "metadata": {},
     "output_type": "execute_result"
    }
   ],
   "source": [
    "rouge_scores[\"ROUGE-1\"]['f1']"
   ]
  },
  {
   "cell_type": "code",
   "execution_count": 22,
   "metadata": {},
   "outputs": [
    {
     "name": "stderr",
     "output_type": "stream",
     "text": [
      "100%|██████████| 10/10 [00:05<00:00,  1.80it/s]"
     ]
    },
    {
     "name": "stdout",
     "output_type": "stream",
     "text": [
      "precision 0.7210948457812407\n",
      "recall 0.16015247592625204\n",
      "f1 0.24419790426804674\n"
     ]
    },
    {
     "name": "stderr",
     "output_type": "stream",
     "text": [
      "\n"
     ]
    }
   ],
   "source": [
    "wiki_r1_res = [calculate_rouge(r, g)[\"ROUGE-1\"] for r, g in zip(tqdm(content), w_arts)] \n",
    "\n",
    "precision = [n['precision'] for n in wiki_r1_res]\n",
    "recall = [n['recall'] for n in wiki_r1_res]\n",
    "f1 = [n['f1'] for n in wiki_r1_res]\n",
    "\n",
    "print('precision', sum(precision)/len(precision))\n",
    "print('recall', sum(recall)/len(recall))\n",
    "print('f1', sum(f1)/len(f1))"
   ]
  },
  {
   "cell_type": "code",
   "execution_count": 23,
   "metadata": {},
   "outputs": [
    {
     "name": "stderr",
     "output_type": "stream",
     "text": [
      "100%|██████████| 10/10 [00:00<00:00, 24.31it/s]"
     ]
    },
    {
     "name": "stdout",
     "output_type": "stream",
     "text": [
      "precision 0.2544338498384745\n",
      "recall 0.559145387011817\n",
      "f1 0.3367494229872742\n"
     ]
    },
    {
     "name": "stderr",
     "output_type": "stream",
     "text": [
      "\n"
     ]
    }
   ],
   "source": [
    "wiki_r1_res = [calculate_rouge(r, g)[\"ROUGE-1\"] for r, g in zip(tqdm(summary), w_arts)] \n",
    "\n",
    "precision = [n['precision'] for n in wiki_r1_res]\n",
    "recall = [n['recall'] for n in wiki_r1_res]\n",
    "f1 = [n['f1'] for n in wiki_r1_res]\n",
    "\n",
    "print('precision', sum(precision)/len(precision))\n",
    "print('recall', sum(recall)/len(recall))\n",
    "print('f1', sum(f1)/len(f1))"
   ]
  },
  {
   "cell_type": "code",
   "execution_count": 24,
   "metadata": {},
   "outputs": [
    {
     "name": "stdout",
     "output_type": "stream",
     "text": [
      "1358.1\n",
      "3135.1\n"
     ]
    }
   ],
   "source": [
    "print(sum([len(s) for s in summary])/10)\n",
    "print(sum([len(s) for s in w_arts])/10)"
   ]
  },
  {
   "cell_type": "markdown",
   "metadata": {},
   "source": [
    "# Wrap the evaluation code"
   ]
  },
  {
   "cell_type": "code",
   "execution_count": null,
   "metadata": {},
   "outputs": [],
   "source": [
    "import wikipedia\n",
    "import pandas as pd\n",
    "\n",
    "def evaluate_wiki_article_rouge(topic: str):\n",
    "    en_wiki_titles = wikipedia.search(topic, results=10, suggestion=False)\n",
    "\n",
    "    title = [] #[t for t in tqdm(en_wiki_titles)]\n",
    "    content = [] # [get_page(t).content for t in tqdm(en_wiki_titles)]\n",
    "    summary = [] #[get_page(t).summary for t in tqdm(en_wiki_titles)]\n",
    "    # links = [get_page(t).links for t in tqdm(en_wiki_titles)]\n",
    "\n",
    "    for t in tqdm(en_wiki_titles):\n",
    "        page = get_page(t)\n",
    "        title.append(t)\n",
    "        content.append(page.content)\n",
    "        summary.append(page.summary)\n",
    "    \n",
    "    ds = pd.DataFrame()\n",
    "    ds['title'] = title\n",
    "    ds['content'] = content\n",
    "    ds['summary'] = summary\n",
    "\n",
    "    w_arts = [qa_pipeline.generate_wiki_response(t) for t in tqdm(title)]\n",
    "\n",
    "    # rouge between original summary and generated summary \n",
    "    wiki_r1_res = [calculate_rouge(r, g)[\"ROUGE-1\"] for r, g in zip(tqdm(summary), w_arts)] \n",
    "\n",
    "    precision = [n['precision'] for n in wiki_r1_res]\n",
    "    recall = [n['recall'] for n in wiki_r1_res]\n",
    "    f1 = [n['f1'] for n in wiki_r1_res]\n",
    "\n",
    "    print('precision', sum(precision)/len(precision))\n",
    "    print('recall', sum(recall)/len(recall))\n",
    "    print('f1', sum(f1)/len(f1))"
   ]
  },
  {
   "cell_type": "code",
   "execution_count": null,
   "metadata": {},
   "outputs": [],
   "source": [
    "# # rouge between content and generated summary\n",
    "# wiki_r1_res = [calculate_rouge(r, g)[\"ROUGE-1\"] for r, g in zip(tqdm(content), w_arts)] \n",
    "\n",
    "# precision = [n['precision'] for n in wiki_r1_res]\n",
    "# recall = [n['recall'] for n in wiki_r1_res]\n",
    "# f1 = [n['f1'] for n in wiki_r1_res]\n",
    "\n",
    "# print('precision', sum(precision)/len(precision))\n",
    "# print('recall', sum(recall)/len(recall))\n",
    "# print('f1', sum(f1)/len(f1))"
   ]
  },
  {
   "cell_type": "code",
   "execution_count": 15,
   "metadata": {},
   "outputs": [
    {
     "name": "stderr",
     "output_type": "stream",
     "text": [
      "100%|██████████| 10/10 [00:03<00:00,  2.94it/s]\n",
      "100%|██████████| 10/10 [01:42<00:00, 10.26s/it]\n",
      "100%|██████████| 10/10 [00:00<00:00, 30.03it/s]"
     ]
    },
    {
     "name": "stdout",
     "output_type": "stream",
     "text": [
      "precision 0.24241147534253576\n",
      "recall 0.38041487963657794\n",
      "f1 0.2557280987866649\n"
     ]
    },
    {
     "name": "stderr",
     "output_type": "stream",
     "text": [
      "\n"
     ]
    }
   ],
   "source": [
    "evaluate_wiki_article_rouge('Stroke')"
   ]
  },
  {
   "cell_type": "code",
   "execution_count": 11,
   "metadata": {},
   "outputs": [
    {
     "name": "stderr",
     "output_type": "stream",
     "text": [
      "100%|██████████| 10/10 [00:03<00:00,  2.60it/s]\n",
      "100%|██████████| 10/10 [02:35<00:00, 15.57s/it]\n",
      "100%|██████████| 10/10 [00:15<00:00,  1.52s/it]\n"
     ]
    },
    {
     "name": "stdout",
     "output_type": "stream",
     "text": [
      "precision 0.6920262453997174\n",
      "recall 0.1596007221803261\n",
      "f1 0.1559219299780082\n"
     ]
    },
    {
     "name": "stderr",
     "output_type": "stream",
     "text": [
      "100%|██████████| 10/10 [00:00<00:00, 13.31it/s]"
     ]
    },
    {
     "name": "stdout",
     "output_type": "stream",
     "text": [
      "precision 0.2673066364548939\n",
      "recall 0.5299296329639346\n",
      "f1 0.333410043861453\n"
     ]
    },
    {
     "name": "stderr",
     "output_type": "stream",
     "text": [
      "\n"
     ]
    }
   ],
   "source": [
    "evaluate_wiki_article_rouge('COVID-19')"
   ]
  },
  {
   "cell_type": "code",
   "execution_count": 16,
   "metadata": {},
   "outputs": [
    {
     "name": "stderr",
     "output_type": "stream",
     "text": [
      "100%|██████████| 10/10 [00:02<00:00,  3.78it/s]\n",
      "100%|██████████| 10/10 [01:47<00:00, 10.73s/it]\n",
      "100%|██████████| 10/10 [00:00<00:00, 42.06it/s]"
     ]
    },
    {
     "name": "stdout",
     "output_type": "stream",
     "text": [
      "precision 0.20961811999856286\n",
      "recall 0.5236591352251082\n",
      "f1 0.2841865800635807\n"
     ]
    },
    {
     "name": "stderr",
     "output_type": "stream",
     "text": [
      "\n"
     ]
    }
   ],
   "source": [
    "evaluate_wiki_article_rouge('Tuberculosis')"
   ]
  },
  {
   "cell_type": "code",
   "execution_count": 21,
   "metadata": {},
   "outputs": [
    {
     "name": "stderr",
     "output_type": "stream",
     "text": [
      " 60%|██████    | 6/10 [00:01<00:01,  2.89it/s]/home/mikhail/.venv/lib/python3.10/site-packages/wikipedia/wikipedia.py:389: GuessedAtParserWarning: No parser was explicitly specified, so I'm using the best available HTML parser for this system (\"lxml\"). This usually isn't a problem, but if you run this code on another system, or in a different virtual environment, it may use a different parser and behave differently.\n",
      "\n",
      "The code that caused this warning is on line 389 of the file /home/mikhail/.venv/lib/python3.10/site-packages/wikipedia/wikipedia.py. To get rid of this warning, pass the additional argument 'features=\"lxml\"' to the BeautifulSoup constructor.\n",
      "\n",
      "  lis = BeautifulSoup(html).find_all('li')\n",
      "100%|██████████| 10/10 [00:03<00:00,  3.12it/s]\n",
      "100%|██████████| 10/10 [01:54<00:00, 11.50s/it]\n",
      "100%|██████████| 10/10 [00:00<00:00, 22.47it/s]"
     ]
    },
    {
     "name": "stdout",
     "output_type": "stream",
     "text": [
      "precision 0.27174402641171164\n",
      "recall 0.4160381851343645\n",
      "f1 0.2908950871310097\n"
     ]
    },
    {
     "name": "stderr",
     "output_type": "stream",
     "text": [
      "\n"
     ]
    }
   ],
   "source": [
    "evaluate_wiki_article_rouge('Lung cancer')"
   ]
  },
  {
   "cell_type": "code",
   "execution_count": 22,
   "metadata": {},
   "outputs": [
    {
     "name": "stderr",
     "output_type": "stream",
     "text": [
      " 50%|█████     | 5/10 [00:01<00:01,  4.14it/s]/home/mikhail/.venv/lib/python3.10/site-packages/wikipedia/wikipedia.py:389: GuessedAtParserWarning: No parser was explicitly specified, so I'm using the best available HTML parser for this system (\"lxml\"). This usually isn't a problem, but if you run this code on another system, or in a different virtual environment, it may use a different parser and behave differently.\n",
      "\n",
      "The code that caused this warning is on line 389 of the file /home/mikhail/.venv/lib/python3.10/site-packages/wikipedia/wikipedia.py. To get rid of this warning, pass the additional argument 'features=\"lxml\"' to the BeautifulSoup constructor.\n",
      "\n",
      "  lis = BeautifulSoup(html).find_all('li')\n",
      "100%|██████████| 10/10 [00:03<00:00,  3.08it/s]\n",
      "100%|██████████| 10/10 [01:57<00:00, 11.77s/it]\n",
      "100%|██████████| 10/10 [00:00<00:00, 21.66it/s]"
     ]
    },
    {
     "name": "stdout",
     "output_type": "stream",
     "text": [
      "precision 0.31933602985028553\n",
      "recall 0.5009543386833873\n",
      "f1 0.35110719320179323\n"
     ]
    },
    {
     "name": "stderr",
     "output_type": "stream",
     "text": [
      "\n"
     ]
    }
   ],
   "source": [
    "evaluate_wiki_article_rouge('HIV')"
   ]
  },
  {
   "cell_type": "code",
   "execution_count": 23,
   "metadata": {},
   "outputs": [
    {
     "name": "stderr",
     "output_type": "stream",
     "text": [
      " 50%|█████     | 5/10 [00:01<00:01,  4.15it/s]/home/mikhail/.venv/lib/python3.10/site-packages/wikipedia/wikipedia.py:389: GuessedAtParserWarning: No parser was explicitly specified, so I'm using the best available HTML parser for this system (\"lxml\"). This usually isn't a problem, but if you run this code on another system, or in a different virtual environment, it may use a different parser and behave differently.\n",
      "\n",
      "The code that caused this warning is on line 389 of the file /home/mikhail/.venv/lib/python3.10/site-packages/wikipedia/wikipedia.py. To get rid of this warning, pass the additional argument 'features=\"lxml\"' to the BeautifulSoup constructor.\n",
      "\n",
      "  lis = BeautifulSoup(html).find_all('li')\n",
      "100%|██████████| 10/10 [00:02<00:00,  3.42it/s]\n",
      "100%|██████████| 10/10 [02:19<00:00, 13.92s/it]\n",
      "100%|██████████| 10/10 [00:00<00:00, 19.87it/s]"
     ]
    },
    {
     "name": "stdout",
     "output_type": "stream",
     "text": [
      "precision 0.3354016133633472\n",
      "recall 0.5182177290266532\n",
      "f1 0.38911428662283193\n"
     ]
    },
    {
     "name": "stderr",
     "output_type": "stream",
     "text": [
      "\n"
     ]
    }
   ],
   "source": [
    "evaluate_wiki_article_rouge('Diabetes')"
   ]
  },
  {
   "cell_type": "code",
   "execution_count": null,
   "metadata": {},
   "outputs": [],
   "source": []
  }
 ],
 "metadata": {
  "kernelspec": {
   "display_name": ".venv",
   "language": "python",
   "name": "python3"
  },
  "language_info": {
   "codemirror_mode": {
    "name": "ipython",
    "version": 3
   },
   "file_extension": ".py",
   "mimetype": "text/x-python",
   "name": "python",
   "nbconvert_exporter": "python",
   "pygments_lexer": "ipython3",
   "version": "3.10.12"
  }
 },
 "nbformat": 4,
 "nbformat_minor": 2
}
