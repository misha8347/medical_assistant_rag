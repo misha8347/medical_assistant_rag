{
 "cells": [
  {
   "cell_type": "code",
   "execution_count": 2,
   "metadata": {},
   "outputs": [],
   "source": [
    "%load_ext autoreload\n",
    "%autoreload 2"
   ]
  },
  {
   "cell_type": "code",
   "execution_count": 3,
   "metadata": {},
   "outputs": [],
   "source": [
    "import pandas as pd\n",
    "import json"
   ]
  },
  {
   "cell_type": "markdown",
   "metadata": {},
   "source": [
    "# Patient to Article Retrieval (PAR)"
   ]
  },
  {
   "cell_type": "code",
   "execution_count": 15,
   "metadata": {},
   "outputs": [],
   "source": [
    "df_par_train = pd.read_csv('/s3/misha/data_dir/PMC_patients/PMC-Patients-ReCDS/PAR/qrels_train.tsv', sep='\\t')\n",
    "df_par_val = pd.read_csv('/s3/misha/data_dir/PMC_patients/PMC-Patients-ReCDS/PAR/qrels_dev.tsv', sep='\\t')\n",
    "df_par_test = pd.read_csv('/s3/misha/data_dir/PMC_patients/PMC-Patients-ReCDS/PAR/qrels_test.tsv', sep='\\t')"
   ]
  },
  {
   "cell_type": "code",
   "execution_count": 25,
   "metadata": {},
   "outputs": [
    {
     "data": {
      "text/html": [
       "<div>\n",
       "<style scoped>\n",
       "    .dataframe tbody tr th:only-of-type {\n",
       "        vertical-align: middle;\n",
       "    }\n",
       "\n",
       "    .dataframe tbody tr th {\n",
       "        vertical-align: top;\n",
       "    }\n",
       "\n",
       "    .dataframe thead th {\n",
       "        text-align: right;\n",
       "    }\n",
       "</style>\n",
       "<table border=\"1\" class=\"dataframe\">\n",
       "  <thead>\n",
       "    <tr style=\"text-align: right;\">\n",
       "      <th></th>\n",
       "      <th>query-id</th>\n",
       "      <th>corpus-id</th>\n",
       "      <th>score</th>\n",
       "    </tr>\n",
       "  </thead>\n",
       "  <tbody>\n",
       "    <tr>\n",
       "      <th>0</th>\n",
       "      <td>7665777-1</td>\n",
       "      <td>32320506</td>\n",
       "      <td>1</td>\n",
       "    </tr>\n",
       "    <tr>\n",
       "      <th>1</th>\n",
       "      <td>7665777-1</td>\n",
       "      <td>32293716</td>\n",
       "      <td>1</td>\n",
       "    </tr>\n",
       "    <tr>\n",
       "      <th>2</th>\n",
       "      <td>7665777-1</td>\n",
       "      <td>23219649</td>\n",
       "      <td>1</td>\n",
       "    </tr>\n",
       "    <tr>\n",
       "      <th>3</th>\n",
       "      <td>7665777-1</td>\n",
       "      <td>30339549</td>\n",
       "      <td>1</td>\n",
       "    </tr>\n",
       "    <tr>\n",
       "      <th>4</th>\n",
       "      <td>7665777-1</td>\n",
       "      <td>17470624</td>\n",
       "      <td>1</td>\n",
       "    </tr>\n",
       "    <tr>\n",
       "      <th>...</th>\n",
       "      <td>...</td>\n",
       "      <td>...</td>\n",
       "      <td>...</td>\n",
       "    </tr>\n",
       "    <tr>\n",
       "      <th>2891940</th>\n",
       "      <td>8725232-2</td>\n",
       "      <td>27565388</td>\n",
       "      <td>1</td>\n",
       "    </tr>\n",
       "    <tr>\n",
       "      <th>2891941</th>\n",
       "      <td>8725232-2</td>\n",
       "      <td>7580712</td>\n",
       "      <td>1</td>\n",
       "    </tr>\n",
       "    <tr>\n",
       "      <th>2891942</th>\n",
       "      <td>8725232-2</td>\n",
       "      <td>27625137</td>\n",
       "      <td>1</td>\n",
       "    </tr>\n",
       "    <tr>\n",
       "      <th>2891943</th>\n",
       "      <td>8725232-2</td>\n",
       "      <td>30201576</td>\n",
       "      <td>1</td>\n",
       "    </tr>\n",
       "    <tr>\n",
       "      <th>2891944</th>\n",
       "      <td>8725232-2</td>\n",
       "      <td>34929111</td>\n",
       "      <td>1</td>\n",
       "    </tr>\n",
       "  </tbody>\n",
       "</table>\n",
       "<p>2891945 rows × 3 columns</p>\n",
       "</div>"
      ],
      "text/plain": [
       "          query-id  corpus-id  score\n",
       "0        7665777-1   32320506      1\n",
       "1        7665777-1   32293716      1\n",
       "2        7665777-1   23219649      1\n",
       "3        7665777-1   30339549      1\n",
       "4        7665777-1   17470624      1\n",
       "...            ...        ...    ...\n",
       "2891940  8725232-2   27565388      1\n",
       "2891941  8725232-2    7580712      1\n",
       "2891942  8725232-2   27625137      1\n",
       "2891943  8725232-2   30201576      1\n",
       "2891944  8725232-2   34929111      1\n",
       "\n",
       "[2891945 rows x 3 columns]"
      ]
     },
     "execution_count": 25,
     "metadata": {},
     "output_type": "execute_result"
    }
   ],
   "source": [
    "df_par_train"
   ]
  },
  {
   "cell_type": "code",
   "execution_count": 16,
   "metadata": {},
   "outputs": [
    {
     "data": {
      "text/plain": [
       "(2891945, 107479, 114081)"
      ]
     },
     "execution_count": 16,
     "metadata": {},
     "output_type": "execute_result"
    }
   ],
   "source": [
    "len(df_par_train), len(df_par_val), len(df_par_test)"
   ]
  },
  {
   "cell_type": "code",
   "execution_count": 36,
   "metadata": {},
   "outputs": [],
   "source": [
    "par_pmids = pd.read_json('/s3/misha/data_dir/PMC_patients/PMC-Patients-ReCDS/PAR/PAR_PMIDs.json')"
   ]
  },
  {
   "cell_type": "code",
   "execution_count": 37,
   "metadata": {},
   "outputs": [
    {
     "data": {
      "text/html": [
       "<div>\n",
       "<style scoped>\n",
       "    .dataframe tbody tr th:only-of-type {\n",
       "        vertical-align: middle;\n",
       "    }\n",
       "\n",
       "    .dataframe tbody tr th {\n",
       "        vertical-align: top;\n",
       "    }\n",
       "\n",
       "    .dataframe thead th {\n",
       "        text-align: right;\n",
       "    }\n",
       "</style>\n",
       "<table border=\"1\" class=\"dataframe\">\n",
       "  <thead>\n",
       "    <tr style=\"text-align: right;\">\n",
       "      <th></th>\n",
       "      <th>0</th>\n",
       "    </tr>\n",
       "  </thead>\n",
       "  <tbody>\n",
       "    <tr>\n",
       "      <th>0</th>\n",
       "      <td>27113353</td>\n",
       "    </tr>\n",
       "    <tr>\n",
       "      <th>1</th>\n",
       "      <td>17562963</td>\n",
       "    </tr>\n",
       "    <tr>\n",
       "      <th>2</th>\n",
       "      <td>276358</td>\n",
       "    </tr>\n",
       "    <tr>\n",
       "      <th>3</th>\n",
       "      <td>29042737</td>\n",
       "    </tr>\n",
       "    <tr>\n",
       "      <th>4</th>\n",
       "      <td>12139134</td>\n",
       "    </tr>\n",
       "    <tr>\n",
       "      <th>...</th>\n",
       "      <td>...</td>\n",
       "    </tr>\n",
       "    <tr>\n",
       "      <th>1413082</th>\n",
       "      <td>20030804</td>\n",
       "    </tr>\n",
       "    <tr>\n",
       "      <th>1413083</th>\n",
       "      <td>18328413</td>\n",
       "    </tr>\n",
       "    <tr>\n",
       "      <th>1413084</th>\n",
       "      <td>22937961</td>\n",
       "    </tr>\n",
       "    <tr>\n",
       "      <th>1413085</th>\n",
       "      <td>17240214</td>\n",
       "    </tr>\n",
       "    <tr>\n",
       "      <th>1413086</th>\n",
       "      <td>26180446</td>\n",
       "    </tr>\n",
       "  </tbody>\n",
       "</table>\n",
       "<p>1413087 rows × 1 columns</p>\n",
       "</div>"
      ],
      "text/plain": [
       "                0\n",
       "0        27113353\n",
       "1        17562963\n",
       "2          276358\n",
       "3        29042737\n",
       "4        12139134\n",
       "...           ...\n",
       "1413082  20030804\n",
       "1413083  18328413\n",
       "1413084  22937961\n",
       "1413085  17240214\n",
       "1413086  26180446\n",
       "\n",
       "[1413087 rows x 1 columns]"
      ]
     },
     "execution_count": 37,
     "metadata": {},
     "output_type": "execute_result"
    }
   ],
   "source": [
    "par_pmids"
   ]
  },
  {
   "cell_type": "code",
   "execution_count": null,
   "metadata": {},
   "outputs": [],
   "source": []
  },
  {
   "cell_type": "markdown",
   "metadata": {},
   "source": [
    "# Patient to Patient Retrieval (PPR)"
   ]
  },
  {
   "cell_type": "code",
   "execution_count": 26,
   "metadata": {},
   "outputs": [],
   "source": [
    "df_ppr_train = pd.read_csv('/s3/misha/data_dir/PMC_patients/PMC-Patients-ReCDS/PPR/qrels_train.tsv', sep='\\t')\n",
    "df_ppr_val = pd.read_csv('/s3/misha/data_dir/PMC_patients/PMC-Patients-ReCDS/PPR/qrels_dev.tsv', sep='\\t')\n",
    "df_ppr_test = pd.read_csv('/s3/misha/data_dir/PMC_patients/PMC-Patients-ReCDS/PPR/qrels_test.tsv', sep='\\t')"
   ]
  },
  {
   "cell_type": "code",
   "execution_count": 32,
   "metadata": {},
   "outputs": [
    {
     "data": {
      "text/html": [
       "<div>\n",
       "<style scoped>\n",
       "    .dataframe tbody tr th:only-of-type {\n",
       "        vertical-align: middle;\n",
       "    }\n",
       "\n",
       "    .dataframe tbody tr th {\n",
       "        vertical-align: top;\n",
       "    }\n",
       "\n",
       "    .dataframe thead th {\n",
       "        text-align: right;\n",
       "    }\n",
       "</style>\n",
       "<table border=\"1\" class=\"dataframe\">\n",
       "  <thead>\n",
       "    <tr style=\"text-align: right;\">\n",
       "      <th></th>\n",
       "      <th>query-id</th>\n",
       "      <th>corpus-id</th>\n",
       "      <th>score</th>\n",
       "    </tr>\n",
       "  </thead>\n",
       "  <tbody>\n",
       "    <tr>\n",
       "      <th>0</th>\n",
       "      <td>7665777-1</td>\n",
       "      <td>7665777-2</td>\n",
       "      <td>1</td>\n",
       "    </tr>\n",
       "    <tr>\n",
       "      <th>1</th>\n",
       "      <td>7665777-1</td>\n",
       "      <td>7665777-3</td>\n",
       "      <td>1</td>\n",
       "    </tr>\n",
       "    <tr>\n",
       "      <th>2</th>\n",
       "      <td>7665777-1</td>\n",
       "      <td>7665777-4</td>\n",
       "      <td>1</td>\n",
       "    </tr>\n",
       "    <tr>\n",
       "      <th>3</th>\n",
       "      <td>7665777-1</td>\n",
       "      <td>7665777-5</td>\n",
       "      <td>1</td>\n",
       "    </tr>\n",
       "    <tr>\n",
       "      <th>4</th>\n",
       "      <td>7665777-1</td>\n",
       "      <td>7665777-6</td>\n",
       "      <td>1</td>\n",
       "    </tr>\n",
       "    <tr>\n",
       "      <th>...</th>\n",
       "      <td>...</td>\n",
       "      <td>...</td>\n",
       "      <td>...</td>\n",
       "    </tr>\n",
       "    <tr>\n",
       "      <th>257361</th>\n",
       "      <td>8725231-1</td>\n",
       "      <td>3806124-1</td>\n",
       "      <td>1</td>\n",
       "    </tr>\n",
       "    <tr>\n",
       "      <th>257362</th>\n",
       "      <td>8725231-1</td>\n",
       "      <td>3184047-1</td>\n",
       "      <td>1</td>\n",
       "    </tr>\n",
       "    <tr>\n",
       "      <th>257363</th>\n",
       "      <td>8725231-1</td>\n",
       "      <td>3691905-1</td>\n",
       "      <td>1</td>\n",
       "    </tr>\n",
       "    <tr>\n",
       "      <th>257364</th>\n",
       "      <td>8725232-1</td>\n",
       "      <td>8725232-2</td>\n",
       "      <td>1</td>\n",
       "    </tr>\n",
       "    <tr>\n",
       "      <th>257365</th>\n",
       "      <td>8725232-2</td>\n",
       "      <td>8725232-1</td>\n",
       "      <td>1</td>\n",
       "    </tr>\n",
       "  </tbody>\n",
       "</table>\n",
       "<p>257366 rows × 3 columns</p>\n",
       "</div>"
      ],
      "text/plain": [
       "         query-id  corpus-id  score\n",
       "0       7665777-1  7665777-2      1\n",
       "1       7665777-1  7665777-3      1\n",
       "2       7665777-1  7665777-4      1\n",
       "3       7665777-1  7665777-5      1\n",
       "4       7665777-1  7665777-6      1\n",
       "...           ...        ...    ...\n",
       "257361  8725231-1  3806124-1      1\n",
       "257362  8725231-1  3184047-1      1\n",
       "257363  8725231-1  3691905-1      1\n",
       "257364  8725232-1  8725232-2      1\n",
       "257365  8725232-2  8725232-1      1\n",
       "\n",
       "[257366 rows x 3 columns]"
      ]
     },
     "execution_count": 32,
     "metadata": {},
     "output_type": "execute_result"
    }
   ],
   "source": [
    "df_ppr_train"
   ]
  },
  {
   "cell_type": "code",
   "execution_count": 34,
   "metadata": {},
   "outputs": [
    {
     "data": {
      "text/plain": [
       "(257366, 6363, 7472)"
      ]
     },
     "execution_count": 34,
     "metadata": {},
     "output_type": "execute_result"
    }
   ],
   "source": [
    "len(df_ppr_train), len(df_ppr_val), len(df_ppr_test)"
   ]
  },
  {
   "cell_type": "code",
   "execution_count": 27,
   "metadata": {},
   "outputs": [],
   "source": [
    "ppr_corpus = pd.read_json('/s3/misha/data_dir/PMC_patients/PMC-Patients-ReCDS/PPR/corpus.jsonl', lines=True)"
   ]
  },
  {
   "cell_type": "code",
   "execution_count": 33,
   "metadata": {},
   "outputs": [
    {
     "data": {
      "text/html": [
       "<div>\n",
       "<style scoped>\n",
       "    .dataframe tbody tr th:only-of-type {\n",
       "        vertical-align: middle;\n",
       "    }\n",
       "\n",
       "    .dataframe tbody tr th {\n",
       "        vertical-align: top;\n",
       "    }\n",
       "\n",
       "    .dataframe thead th {\n",
       "        text-align: right;\n",
       "    }\n",
       "</style>\n",
       "<table border=\"1\" class=\"dataframe\">\n",
       "  <thead>\n",
       "    <tr style=\"text-align: right;\">\n",
       "      <th></th>\n",
       "      <th>_id</th>\n",
       "      <th>title</th>\n",
       "      <th>text</th>\n",
       "    </tr>\n",
       "  </thead>\n",
       "  <tbody>\n",
       "    <tr>\n",
       "      <th>0</th>\n",
       "      <td>7665777-1</td>\n",
       "      <td></td>\n",
       "      <td>This 60-year-old male was hospitalized due to ...</td>\n",
       "    </tr>\n",
       "    <tr>\n",
       "      <th>1</th>\n",
       "      <td>7665777-2</td>\n",
       "      <td></td>\n",
       "      <td>A 39-year-old man was hospitalized due to an i...</td>\n",
       "    </tr>\n",
       "    <tr>\n",
       "      <th>2</th>\n",
       "      <td>7665777-3</td>\n",
       "      <td></td>\n",
       "      <td>One week after a positive COVID-19 result this...</td>\n",
       "    </tr>\n",
       "    <tr>\n",
       "      <th>3</th>\n",
       "      <td>7665777-4</td>\n",
       "      <td></td>\n",
       "      <td>This 69-year-old male was admitted to the ICU ...</td>\n",
       "    </tr>\n",
       "    <tr>\n",
       "      <th>4</th>\n",
       "      <td>7665777-5</td>\n",
       "      <td></td>\n",
       "      <td>This 57-year-old male was admitted to the ICU ...</td>\n",
       "    </tr>\n",
       "    <tr>\n",
       "      <th>...</th>\n",
       "      <td>...</td>\n",
       "      <td>...</td>\n",
       "      <td>...</td>\n",
       "    </tr>\n",
       "    <tr>\n",
       "      <th>155146</th>\n",
       "      <td>8724979-3</td>\n",
       "      <td></td>\n",
       "      <td>A 30-year-old man received the second dose of ...</td>\n",
       "    </tr>\n",
       "    <tr>\n",
       "      <th>155147</th>\n",
       "      <td>8725212-1</td>\n",
       "      <td></td>\n",
       "      <td>A 65-year-old Caucasian man with a history of ...</td>\n",
       "    </tr>\n",
       "    <tr>\n",
       "      <th>155148</th>\n",
       "      <td>8725231-1</td>\n",
       "      <td></td>\n",
       "      <td>The reporting of the present case conforms to ...</td>\n",
       "    </tr>\n",
       "    <tr>\n",
       "      <th>155149</th>\n",
       "      <td>8725232-1</td>\n",
       "      <td></td>\n",
       "      <td>The first patient, a woman in her 50s, present...</td>\n",
       "    </tr>\n",
       "    <tr>\n",
       "      <th>155150</th>\n",
       "      <td>8725232-2</td>\n",
       "      <td></td>\n",
       "      <td>The second patient, a man in his 30s, presente...</td>\n",
       "    </tr>\n",
       "  </tbody>\n",
       "</table>\n",
       "<p>155151 rows × 3 columns</p>\n",
       "</div>"
      ],
      "text/plain": [
       "              _id title                                               text\n",
       "0       7665777-1        This 60-year-old male was hospitalized due to ...\n",
       "1       7665777-2        A 39-year-old man was hospitalized due to an i...\n",
       "2       7665777-3        One week after a positive COVID-19 result this...\n",
       "3       7665777-4        This 69-year-old male was admitted to the ICU ...\n",
       "4       7665777-5        This 57-year-old male was admitted to the ICU ...\n",
       "...           ...   ...                                                ...\n",
       "155146  8724979-3        A 30-year-old man received the second dose of ...\n",
       "155147  8725212-1        A 65-year-old Caucasian man with a history of ...\n",
       "155148  8725231-1        The reporting of the present case conforms to ...\n",
       "155149  8725232-1        The first patient, a woman in her 50s, present...\n",
       "155150  8725232-2        The second patient, a man in his 30s, presente...\n",
       "\n",
       "[155151 rows x 3 columns]"
      ]
     },
     "execution_count": 33,
     "metadata": {},
     "output_type": "execute_result"
    }
   ],
   "source": [
    "ppr_corpus"
   ]
  },
  {
   "cell_type": "code",
   "execution_count": null,
   "metadata": {},
   "outputs": [],
   "source": []
  },
  {
   "cell_type": "markdown",
   "metadata": {},
   "source": [
    "# Queries"
   ]
  },
  {
   "cell_type": "code",
   "execution_count": 18,
   "metadata": {},
   "outputs": [],
   "source": [
    "train_queries = pd.read_json('/s3/misha/data_dir/PMC_patients/PMC-Patients-ReCDS/queries/train_queries.jsonl', lines=True)\n",
    "val_queries = pd.read_json('/s3/misha/data_dir/PMC_patients/PMC-Patients-ReCDS/queries/dev_queries.jsonl', lines=True)\n",
    "test_queries = pd.read_json('/s3/misha/data_dir/PMC_patients/PMC-Patients-ReCDS/queries/test_queries.jsonl', lines=True)"
   ]
  },
  {
   "cell_type": "code",
   "execution_count": 24,
   "metadata": {},
   "outputs": [
    {
     "data": {
      "text/html": [
       "<div>\n",
       "<style scoped>\n",
       "    .dataframe tbody tr th:only-of-type {\n",
       "        vertical-align: middle;\n",
       "    }\n",
       "\n",
       "    .dataframe tbody tr th {\n",
       "        vertical-align: top;\n",
       "    }\n",
       "\n",
       "    .dataframe thead th {\n",
       "        text-align: right;\n",
       "    }\n",
       "</style>\n",
       "<table border=\"1\" class=\"dataframe\">\n",
       "  <thead>\n",
       "    <tr style=\"text-align: right;\">\n",
       "      <th></th>\n",
       "      <th>_id</th>\n",
       "      <th>text</th>\n",
       "    </tr>\n",
       "  </thead>\n",
       "  <tbody>\n",
       "    <tr>\n",
       "      <th>0</th>\n",
       "      <td>7665777-1</td>\n",
       "      <td>This 60-year-old male was hospitalized due to ...</td>\n",
       "    </tr>\n",
       "    <tr>\n",
       "      <th>1</th>\n",
       "      <td>7665777-2</td>\n",
       "      <td>A 39-year-old man was hospitalized due to an i...</td>\n",
       "    </tr>\n",
       "    <tr>\n",
       "      <th>2</th>\n",
       "      <td>7665777-3</td>\n",
       "      <td>One week after a positive COVID-19 result this...</td>\n",
       "    </tr>\n",
       "    <tr>\n",
       "      <th>3</th>\n",
       "      <td>7665777-4</td>\n",
       "      <td>This 69-year-old male was admitted to the ICU ...</td>\n",
       "    </tr>\n",
       "    <tr>\n",
       "      <th>4</th>\n",
       "      <td>7665777-5</td>\n",
       "      <td>This 57-year-old male was admitted to the ICU ...</td>\n",
       "    </tr>\n",
       "    <tr>\n",
       "      <th>...</th>\n",
       "      <td>...</td>\n",
       "      <td>...</td>\n",
       "    </tr>\n",
       "    <tr>\n",
       "      <th>155146</th>\n",
       "      <td>8724979-3</td>\n",
       "      <td>A 30-year-old man received the second dose of ...</td>\n",
       "    </tr>\n",
       "    <tr>\n",
       "      <th>155147</th>\n",
       "      <td>8725212-1</td>\n",
       "      <td>A 65-year-old Caucasian man with a history of ...</td>\n",
       "    </tr>\n",
       "    <tr>\n",
       "      <th>155148</th>\n",
       "      <td>8725231-1</td>\n",
       "      <td>The reporting of the present case conforms to ...</td>\n",
       "    </tr>\n",
       "    <tr>\n",
       "      <th>155149</th>\n",
       "      <td>8725232-1</td>\n",
       "      <td>The first patient, a woman in her 50s, present...</td>\n",
       "    </tr>\n",
       "    <tr>\n",
       "      <th>155150</th>\n",
       "      <td>8725232-2</td>\n",
       "      <td>The second patient, a man in his 30s, presente...</td>\n",
       "    </tr>\n",
       "  </tbody>\n",
       "</table>\n",
       "<p>155151 rows × 2 columns</p>\n",
       "</div>"
      ],
      "text/plain": [
       "              _id                                               text\n",
       "0       7665777-1  This 60-year-old male was hospitalized due to ...\n",
       "1       7665777-2  A 39-year-old man was hospitalized due to an i...\n",
       "2       7665777-3  One week after a positive COVID-19 result this...\n",
       "3       7665777-4  This 69-year-old male was admitted to the ICU ...\n",
       "4       7665777-5  This 57-year-old male was admitted to the ICU ...\n",
       "...           ...                                                ...\n",
       "155146  8724979-3  A 30-year-old man received the second dose of ...\n",
       "155147  8725212-1  A 65-year-old Caucasian man with a history of ...\n",
       "155148  8725231-1  The reporting of the present case conforms to ...\n",
       "155149  8725232-1  The first patient, a woman in her 50s, present...\n",
       "155150  8725232-2  The second patient, a man in his 30s, presente...\n",
       "\n",
       "[155151 rows x 2 columns]"
      ]
     },
     "execution_count": 24,
     "metadata": {},
     "output_type": "execute_result"
    }
   ],
   "source": [
    "train_queries"
   ]
  },
  {
   "cell_type": "code",
   "execution_count": null,
   "metadata": {},
   "outputs": [],
   "source": []
  },
  {
   "cell_type": "markdown",
   "metadata": {},
   "source": [
    "# PMC Patients"
   ]
  },
  {
   "cell_type": "code",
   "execution_count": 1,
   "metadata": {},
   "outputs": [
    {
     "data": {
      "text/plain": [
       "250294"
      ]
     },
     "execution_count": 1,
     "metadata": {},
     "output_type": "execute_result"
    }
   ],
   "source": [
    "import json\n",
    "\n",
    "with open('/s3/misha/data_dir/PMC_patients/PMC-Patients-V2.json', 'r') as f:\n",
    "    df_patients_v2 = json.load(f)\n",
    "\n",
    "len(df_patients_v2)"
   ]
  },
  {
   "cell_type": "code",
   "execution_count": 8,
   "metadata": {},
   "outputs": [
    {
     "data": {
      "text/plain": [
       "{'patient_id': '0',\n",
       " 'patient_uid': '497050-1',\n",
       " 'PMID': '15268761',\n",
       " 'file_path': 'oa_comm/PMC000xxxxxx/PMC497050.xml',\n",
       " 'title': 'Echocardiographic assessment and percutaneous closure of multiple atrial septal defects',\n",
       " 'patient': 'A 34-year old woman was referred for consideration of percutaneous ASD closure. The ASD had been diagnosed when the patient was 12 years old and TTE had suggested that the right ventricle was dilating. At cardiac catheterisation there were mildly elevated right ventricular systolic pressures and a pulmonary to systemic flow ratio of over two. The secundum ASD was estimated to be 15 mm wide using TTE with aneurysmal formation of the interatrial septum. The patient was admitted for percutaneous ASD closure and underwent uncomplicated placement of a 17 mm Amplatzer septal occluder. Transesophageal echocardiography (TEE) during the procedure revealed the presence of a second ASD near the inferior vena cava and a small post-procedure shunt. The septal occluder did not completely cover both defects. Equivalent chest x-ray radiation dose (assuming a single posteroanterior projection chest x-ray is eight centi-Gray/cm2) was 400. Repeat TTE continued to demonstrate left to right shunting and the patient was readmitted for a further device closure six months later. At cardiac catheterisation, the second defect was identified low in the secundum septum between the fossa ovalis and the mouth of the coronary sinus. The defect was successfully closed with a 9 mm Amplatzer septal occluder with no evidence of obstructed flow in either the coronary sinus or the inferior vena cava. Equivalent chest x-ray radiation dose for the second procedure was 187. The patient remained well with no evidence of residual shunt six months following the procedure.',\n",
       " 'age': [[34.0, 'year']],\n",
       " 'gender': 'F',\n",
       " 'pub_date': '2004'}"
      ]
     },
     "execution_count": 8,
     "metadata": {},
     "output_type": "execute_result"
    }
   ],
   "source": [
    "df_patients_v2[0]"
   ]
  },
  {
   "cell_type": "code",
   "execution_count": 9,
   "metadata": {},
   "outputs": [],
   "source": [
    "df_patients_v1 = pd.read_csv('/s3/misha/data_dir/PMC_patients/PMC-Patients.csv')"
   ]
  },
  {
   "cell_type": "code",
   "execution_count": 10,
   "metadata": {},
   "outputs": [
    {
     "data": {
      "text/html": [
       "<div>\n",
       "<style scoped>\n",
       "    .dataframe tbody tr th:only-of-type {\n",
       "        vertical-align: middle;\n",
       "    }\n",
       "\n",
       "    .dataframe tbody tr th {\n",
       "        vertical-align: top;\n",
       "    }\n",
       "\n",
       "    .dataframe thead th {\n",
       "        text-align: right;\n",
       "    }\n",
       "</style>\n",
       "<table border=\"1\" class=\"dataframe\">\n",
       "  <thead>\n",
       "    <tr style=\"text-align: right;\">\n",
       "      <th></th>\n",
       "      <th>patient_id</th>\n",
       "      <th>patient_uid</th>\n",
       "      <th>PMID</th>\n",
       "      <th>file_path</th>\n",
       "      <th>title</th>\n",
       "      <th>patient</th>\n",
       "      <th>age</th>\n",
       "      <th>gender</th>\n",
       "      <th>relevant_articles</th>\n",
       "      <th>similar_patients</th>\n",
       "    </tr>\n",
       "  </thead>\n",
       "  <tbody>\n",
       "    <tr>\n",
       "      <th>0</th>\n",
       "      <td>0</td>\n",
       "      <td>7665777-1</td>\n",
       "      <td>33492400</td>\n",
       "      <td>comm/PMC007xxxxxx/PMC7665777.xml</td>\n",
       "      <td>Early Physical Therapist Interventions for Pat...</td>\n",
       "      <td>This 60-year-old male was hospitalized due to ...</td>\n",
       "      <td>[[60.0, 'year']]</td>\n",
       "      <td>M</td>\n",
       "      <td>{'32320506': 1, '32293716': 1, '23219649': 1, ...</td>\n",
       "      <td>{'7665777-2': 2, '7665777-3': 2, '7665777-4': ...</td>\n",
       "    </tr>\n",
       "    <tr>\n",
       "      <th>1</th>\n",
       "      <td>1</td>\n",
       "      <td>7665777-2</td>\n",
       "      <td>33492400</td>\n",
       "      <td>comm/PMC007xxxxxx/PMC7665777.xml</td>\n",
       "      <td>Early Physical Therapist Interventions for Pat...</td>\n",
       "      <td>A 39-year-old man was hospitalized due to an i...</td>\n",
       "      <td>[[39.0, 'year']]</td>\n",
       "      <td>M</td>\n",
       "      <td>{'32320506': 1, '32293716': 1, '23219649': 1, ...</td>\n",
       "      <td>{'7665777-1': 2, '7665777-3': 2, '7665777-4': ...</td>\n",
       "    </tr>\n",
       "    <tr>\n",
       "      <th>2</th>\n",
       "      <td>2</td>\n",
       "      <td>7665777-3</td>\n",
       "      <td>33492400</td>\n",
       "      <td>comm/PMC007xxxxxx/PMC7665777.xml</td>\n",
       "      <td>Early Physical Therapist Interventions for Pat...</td>\n",
       "      <td>One week after a positive COVID-19 result this...</td>\n",
       "      <td>[[57.0, 'year']]</td>\n",
       "      <td>M</td>\n",
       "      <td>{'32320506': 1, '32293716': 1, '23219649': 1, ...</td>\n",
       "      <td>{'7665777-1': 2, '7665777-2': 2, '7665777-4': ...</td>\n",
       "    </tr>\n",
       "    <tr>\n",
       "      <th>3</th>\n",
       "      <td>3</td>\n",
       "      <td>7665777-4</td>\n",
       "      <td>33492400</td>\n",
       "      <td>comm/PMC007xxxxxx/PMC7665777.xml</td>\n",
       "      <td>Early Physical Therapist Interventions for Pat...</td>\n",
       "      <td>This 69-year-old male was admitted to the ICU ...</td>\n",
       "      <td>[[69.0, 'year']]</td>\n",
       "      <td>M</td>\n",
       "      <td>{'32320506': 1, '32293716': 1, '23219649': 1, ...</td>\n",
       "      <td>{'7665777-1': 2, '7665777-2': 2, '7665777-3': ...</td>\n",
       "    </tr>\n",
       "    <tr>\n",
       "      <th>4</th>\n",
       "      <td>4</td>\n",
       "      <td>7665777-5</td>\n",
       "      <td>33492400</td>\n",
       "      <td>comm/PMC007xxxxxx/PMC7665777.xml</td>\n",
       "      <td>Early Physical Therapist Interventions for Pat...</td>\n",
       "      <td>This 57-year-old male was admitted to the ICU ...</td>\n",
       "      <td>[[57.0, 'year']]</td>\n",
       "      <td>M</td>\n",
       "      <td>{'32320506': 1, '32293716': 1, '23219649': 1, ...</td>\n",
       "      <td>{'7665777-1': 2, '7665777-2': 2, '7665777-3': ...</td>\n",
       "    </tr>\n",
       "    <tr>\n",
       "      <th>...</th>\n",
       "      <td>...</td>\n",
       "      <td>...</td>\n",
       "      <td>...</td>\n",
       "      <td>...</td>\n",
       "      <td>...</td>\n",
       "      <td>...</td>\n",
       "      <td>...</td>\n",
       "      <td>...</td>\n",
       "      <td>...</td>\n",
       "      <td>...</td>\n",
       "    </tr>\n",
       "    <tr>\n",
       "      <th>167029</th>\n",
       "      <td>167029</td>\n",
       "      <td>8724979-3</td>\n",
       "      <td>34939881</td>\n",
       "      <td>noncomm/PMC008xxxxxx/PMC8724979.xml</td>\n",
       "      <td>Graves Disease Following the SARS-CoV-2 Vaccin...</td>\n",
       "      <td>A 30-year-old man received the second dose of ...</td>\n",
       "      <td>[[30.0, 'year']]</td>\n",
       "      <td>M</td>\n",
       "      <td>{'33543236': 1, '33674759': 1, '34533769': 1, ...</td>\n",
       "      <td>{'8724979-1': 2, '8724979-2': 2}</td>\n",
       "    </tr>\n",
       "    <tr>\n",
       "      <th>167030</th>\n",
       "      <td>167030</td>\n",
       "      <td>8725212-1</td>\n",
       "      <td>34939449</td>\n",
       "      <td>noncomm/PMC008xxxxxx/PMC8725212.xml</td>\n",
       "      <td>Heart of the Matter: Syncope as a Rare Present...</td>\n",
       "      <td>A 65-year-old Caucasian man with a history of ...</td>\n",
       "      <td>[[65.0, 'year']]</td>\n",
       "      <td>M</td>\n",
       "      <td>{'10744016': 1, '4024175': 1, '690555': 1, '23...</td>\n",
       "      <td>{'4443876-1': 1}</td>\n",
       "    </tr>\n",
       "    <tr>\n",
       "      <th>167031</th>\n",
       "      <td>167031</td>\n",
       "      <td>8725231-1</td>\n",
       "      <td>34918977</td>\n",
       "      <td>noncomm/PMC008xxxxxx/PMC8725231.xml</td>\n",
       "      <td>A multidisciplinary collaborative model based ...</td>\n",
       "      <td>The reporting of the present case conforms to ...</td>\n",
       "      <td>[[30.0, 'year']]</td>\n",
       "      <td>M</td>\n",
       "      <td>{'31253137': 2, '27533770': 1, '25536724': 1, ...</td>\n",
       "      <td>{'6599372-1': 1, '3806124-1': 1, '3184047-1': ...</td>\n",
       "    </tr>\n",
       "    <tr>\n",
       "      <th>167032</th>\n",
       "      <td>167032</td>\n",
       "      <td>8725232-1</td>\n",
       "      <td>34929111</td>\n",
       "      <td>noncomm/PMC008xxxxxx/PMC8725232.xml</td>\n",
       "      <td>Resection of small acoustic neuroma using the ...</td>\n",
       "      <td>The first patient, a woman in her 50s, present...</td>\n",
       "      <td>[[55.0, 'year']]</td>\n",
       "      <td>F</td>\n",
       "      <td>{'30169471': 1, '20193244': 1, '28816690': 1, ...</td>\n",
       "      <td>{'8725232-2': 2}</td>\n",
       "    </tr>\n",
       "    <tr>\n",
       "      <th>167033</th>\n",
       "      <td>167033</td>\n",
       "      <td>8725232-2</td>\n",
       "      <td>34929111</td>\n",
       "      <td>noncomm/PMC008xxxxxx/PMC8725232.xml</td>\n",
       "      <td>Resection of small acoustic neuroma using the ...</td>\n",
       "      <td>The second patient, a man in his 30s, presente...</td>\n",
       "      <td>[[35.0, 'year']]</td>\n",
       "      <td>M</td>\n",
       "      <td>{'30169471': 1, '20193244': 1, '28816690': 1, ...</td>\n",
       "      <td>{'8725232-1': 2}</td>\n",
       "    </tr>\n",
       "  </tbody>\n",
       "</table>\n",
       "<p>167034 rows × 10 columns</p>\n",
       "</div>"
      ],
      "text/plain": [
       "        patient_id patient_uid      PMID                            file_path  \\\n",
       "0                0   7665777-1  33492400     comm/PMC007xxxxxx/PMC7665777.xml   \n",
       "1                1   7665777-2  33492400     comm/PMC007xxxxxx/PMC7665777.xml   \n",
       "2                2   7665777-3  33492400     comm/PMC007xxxxxx/PMC7665777.xml   \n",
       "3                3   7665777-4  33492400     comm/PMC007xxxxxx/PMC7665777.xml   \n",
       "4                4   7665777-5  33492400     comm/PMC007xxxxxx/PMC7665777.xml   \n",
       "...            ...         ...       ...                                  ...   \n",
       "167029      167029   8724979-3  34939881  noncomm/PMC008xxxxxx/PMC8724979.xml   \n",
       "167030      167030   8725212-1  34939449  noncomm/PMC008xxxxxx/PMC8725212.xml   \n",
       "167031      167031   8725231-1  34918977  noncomm/PMC008xxxxxx/PMC8725231.xml   \n",
       "167032      167032   8725232-1  34929111  noncomm/PMC008xxxxxx/PMC8725232.xml   \n",
       "167033      167033   8725232-2  34929111  noncomm/PMC008xxxxxx/PMC8725232.xml   \n",
       "\n",
       "                                                    title  \\\n",
       "0       Early Physical Therapist Interventions for Pat...   \n",
       "1       Early Physical Therapist Interventions for Pat...   \n",
       "2       Early Physical Therapist Interventions for Pat...   \n",
       "3       Early Physical Therapist Interventions for Pat...   \n",
       "4       Early Physical Therapist Interventions for Pat...   \n",
       "...                                                   ...   \n",
       "167029  Graves Disease Following the SARS-CoV-2 Vaccin...   \n",
       "167030  Heart of the Matter: Syncope as a Rare Present...   \n",
       "167031  A multidisciplinary collaborative model based ...   \n",
       "167032  Resection of small acoustic neuroma using the ...   \n",
       "167033  Resection of small acoustic neuroma using the ...   \n",
       "\n",
       "                                                  patient               age  \\\n",
       "0       This 60-year-old male was hospitalized due to ...  [[60.0, 'year']]   \n",
       "1       A 39-year-old man was hospitalized due to an i...  [[39.0, 'year']]   \n",
       "2       One week after a positive COVID-19 result this...  [[57.0, 'year']]   \n",
       "3       This 69-year-old male was admitted to the ICU ...  [[69.0, 'year']]   \n",
       "4       This 57-year-old male was admitted to the ICU ...  [[57.0, 'year']]   \n",
       "...                                                   ...               ...   \n",
       "167029  A 30-year-old man received the second dose of ...  [[30.0, 'year']]   \n",
       "167030  A 65-year-old Caucasian man with a history of ...  [[65.0, 'year']]   \n",
       "167031  The reporting of the present case conforms to ...  [[30.0, 'year']]   \n",
       "167032  The first patient, a woman in her 50s, present...  [[55.0, 'year']]   \n",
       "167033  The second patient, a man in his 30s, presente...  [[35.0, 'year']]   \n",
       "\n",
       "       gender                                  relevant_articles  \\\n",
       "0           M  {'32320506': 1, '32293716': 1, '23219649': 1, ...   \n",
       "1           M  {'32320506': 1, '32293716': 1, '23219649': 1, ...   \n",
       "2           M  {'32320506': 1, '32293716': 1, '23219649': 1, ...   \n",
       "3           M  {'32320506': 1, '32293716': 1, '23219649': 1, ...   \n",
       "4           M  {'32320506': 1, '32293716': 1, '23219649': 1, ...   \n",
       "...       ...                                                ...   \n",
       "167029      M  {'33543236': 1, '33674759': 1, '34533769': 1, ...   \n",
       "167030      M  {'10744016': 1, '4024175': 1, '690555': 1, '23...   \n",
       "167031      M  {'31253137': 2, '27533770': 1, '25536724': 1, ...   \n",
       "167032      F  {'30169471': 1, '20193244': 1, '28816690': 1, ...   \n",
       "167033      M  {'30169471': 1, '20193244': 1, '28816690': 1, ...   \n",
       "\n",
       "                                         similar_patients  \n",
       "0       {'7665777-2': 2, '7665777-3': 2, '7665777-4': ...  \n",
       "1       {'7665777-1': 2, '7665777-3': 2, '7665777-4': ...  \n",
       "2       {'7665777-1': 2, '7665777-2': 2, '7665777-4': ...  \n",
       "3       {'7665777-1': 2, '7665777-2': 2, '7665777-3': ...  \n",
       "4       {'7665777-1': 2, '7665777-2': 2, '7665777-3': ...  \n",
       "...                                                   ...  \n",
       "167029                   {'8724979-1': 2, '8724979-2': 2}  \n",
       "167030                                   {'4443876-1': 1}  \n",
       "167031  {'6599372-1': 1, '3806124-1': 1, '3184047-1': ...  \n",
       "167032                                   {'8725232-2': 2}  \n",
       "167033                                   {'8725232-1': 2}  \n",
       "\n",
       "[167034 rows x 10 columns]"
      ]
     },
     "execution_count": 10,
     "metadata": {},
     "output_type": "execute_result"
    }
   ],
   "source": [
    "df_patients_v1"
   ]
  },
  {
   "cell_type": "code",
   "execution_count": 9,
   "metadata": {},
   "outputs": [
    {
     "data": {
      "text/plain": [
       "167034"
      ]
     },
     "execution_count": 9,
     "metadata": {},
     "output_type": "execute_result"
    }
   ],
   "source": [
    "len(df_patients_v1)"
   ]
  },
  {
   "cell_type": "code",
   "execution_count": null,
   "metadata": {},
   "outputs": [],
   "source": []
  },
  {
   "cell_type": "markdown",
   "metadata": {},
   "source": [
    "# Metadata"
   ]
  },
  {
   "cell_type": "code",
   "execution_count": 43,
   "metadata": {},
   "outputs": [],
   "source": [
    "with open('/s3/misha/data_dir/PMC_patients/PMC-Patients-MetaData/patient2article_relevance.json', 'r') as f:\n",
    "    patients2article_relevance = json.load(f)\n",
    "\n",
    "with open('/s3/misha/data_dir/PMC_patients/PMC-Patients-MetaData/patient2patient_similarity.json', 'r') as f:\n",
    "    patients2patient_relevance = json.load(f)"
   ]
  },
  {
   "cell_type": "code",
   "execution_count": 41,
   "metadata": {},
   "outputs": [
    {
     "data": {
      "text/plain": [
       "167034"
      ]
     },
     "execution_count": 41,
     "metadata": {},
     "output_type": "execute_result"
    }
   ],
   "source": [
    "len(patients2article_relevance)"
   ]
  },
  {
   "cell_type": "code",
   "execution_count": 45,
   "metadata": {},
   "outputs": [
    {
     "data": {
      "text/plain": [
       "167034"
      ]
     },
     "execution_count": 45,
     "metadata": {},
     "output_type": "execute_result"
    }
   ],
   "source": [
    "len(patients2patient_relevance)"
   ]
  },
  {
   "cell_type": "code",
   "execution_count": null,
   "metadata": {},
   "outputs": [],
   "source": []
  }
 ],
 "metadata": {
  "kernelspec": {
   "display_name": ".venv",
   "language": "python",
   "name": "python3"
  },
  "language_info": {
   "codemirror_mode": {
    "name": "ipython",
    "version": 3
   },
   "file_extension": ".py",
   "mimetype": "text/x-python",
   "name": "python",
   "nbconvert_exporter": "python",
   "pygments_lexer": "ipython3",
   "version": "3.10.12"
  }
 },
 "nbformat": 4,
 "nbformat_minor": 2
}
