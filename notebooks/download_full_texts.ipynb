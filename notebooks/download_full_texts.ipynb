{
 "cells": [
  {
   "cell_type": "code",
   "execution_count": 1,
   "metadata": {},
   "outputs": [],
   "source": [
    "%load_ext autoreload\n",
    "%autoreload 2"
   ]
  },
  {
   "cell_type": "code",
   "execution_count": 2,
   "metadata": {},
   "outputs": [
    {
     "data": {
      "text/plain": [
       "250294"
      ]
     },
     "execution_count": 2,
     "metadata": {},
     "output_type": "execute_result"
    }
   ],
   "source": [
    "import json\n",
    "\n",
    "with open('/s3/misha/data_dir/PMC_patients/PMC-Patients-V2.json', 'r') as f:\n",
    "    df_patients_v2 = json.load(f)\n",
    "\n",
    "len(df_patients_v2)"
   ]
  },
  {
   "cell_type": "code",
   "execution_count": 14,
   "metadata": {},
   "outputs": [],
   "source": [
    "import requests\n",
    "\n",
    "def get_full_text(id):\n",
    "    response = requests.get(f'https://www.ncbi.nlm.nih.gov/research/bionlp/RESTful/pmcoa.cgi/BioC_json/{id}/unicode')\n",
    "\n",
    "    if 'No result can be found' in response.text:\n",
    "        return \"no text\"\n",
    "    else:\n",
    "        json_file = response.json()\n",
    "        full_text_pieces = []\n",
    "        id = json_file[0]['documents'][0]['id']\n",
    "        passages = json_file[0]['documents'][0]['passages']\n",
    "\n",
    "        for passage in passages:\n",
    "            full_text_pieces.append(passage['text'])\n",
    "        return \" \".join(full_text_pieces)\n",
    "\n",
    "\n",
    "full_text = get_full_text('16923179')"
   ]
  },
  {
   "cell_type": "code",
   "execution_count": 15,
   "metadata": {},
   "outputs": [
    {
     "data": {
      "text/plain": [
       "13418"
      ]
     },
     "execution_count": 15,
     "metadata": {},
     "output_type": "execute_result"
    }
   ],
   "source": [
    "len(full_text)"
   ]
  },
  {
   "cell_type": "code",
   "execution_count": null,
   "metadata": {},
   "outputs": [],
   "source": [
    "from tqdm import tqdm\n",
    "import pandas as pd\n",
    "import pyarrow.parquet as pq\n",
    "\n",
    "\n",
    "save_path = '/s3/misha/data_dir/PMC_patients/full_texts_PMC-Patients-V2.parquet'\n",
    "records = []\n",
    "for patient in tqdm(df_patients_v2):\n",
    "    pmid = patient['PMID']\n",
    "    patient_uid = patient['patient_uid']\n",
    "    full_text = get_full_text(pmid)\n",
    "    \n",
    "    record = {\n",
    "        'PMID': pmid,\n",
    "        'patient_uid': patient_uid,\n",
    "        'title': patient['title'],\n",
    "        'full_text': full_text\n",
    "    }\n",
    "    records.append(record)\n",
    "\n",
    "df = pd.DataFrame(records)\n",
    "df.to_parquet('/s3/misha/data_dir/PMC_patients/full_texts_PMC-Patients-V2.parquet', engine='pyarrow', compression='snappy')"
   ]
  },
  {
   "cell_type": "code",
   "execution_count": 19,
   "metadata": {},
   "outputs": [
    {
     "data": {
      "text/html": [
       "<div>\n",
       "<style scoped>\n",
       "    .dataframe tbody tr th:only-of-type {\n",
       "        vertical-align: middle;\n",
       "    }\n",
       "\n",
       "    .dataframe tbody tr th {\n",
       "        vertical-align: top;\n",
       "    }\n",
       "\n",
       "    .dataframe thead th {\n",
       "        text-align: right;\n",
       "    }\n",
       "</style>\n",
       "<table border=\"1\" class=\"dataframe\">\n",
       "  <thead>\n",
       "    <tr style=\"text-align: right;\">\n",
       "      <th></th>\n",
       "      <th>PMID</th>\n",
       "      <th>patient_uid</th>\n",
       "      <th>title</th>\n",
       "      <th>full_text</th>\n",
       "    </tr>\n",
       "  </thead>\n",
       "  <tbody>\n",
       "  </tbody>\n",
       "</table>\n",
       "</div>"
      ],
      "text/plain": [
       "Empty DataFrame\n",
       "Columns: [PMID, patient_uid, title, full_text]\n",
       "Index: []"
      ]
     },
     "execution_count": 19,
     "metadata": {},
     "output_type": "execute_result"
    }
   ],
   "source": [
    "df[df['full_text'] == 'no text']"
   ]
  },
  {
   "cell_type": "code",
   "execution_count": 1,
   "metadata": {},
   "outputs": [],
   "source": [
    "import pandas as pd\n",
    "\n",
    "df = pd.read_parquet('/s3/misha/data_dir/PMC_patients/full_texts_PMC-Patients-V2.parquet', engine='pyarrow')"
   ]
  },
  {
   "cell_type": "code",
   "execution_count": 4,
   "metadata": {},
   "outputs": [
    {
     "data": {
      "text/html": [
       "<div>\n",
       "<style scoped>\n",
       "    .dataframe tbody tr th:only-of-type {\n",
       "        vertical-align: middle;\n",
       "    }\n",
       "\n",
       "    .dataframe tbody tr th {\n",
       "        vertical-align: top;\n",
       "    }\n",
       "\n",
       "    .dataframe thead th {\n",
       "        text-align: right;\n",
       "    }\n",
       "</style>\n",
       "<table border=\"1\" class=\"dataframe\">\n",
       "  <thead>\n",
       "    <tr style=\"text-align: right;\">\n",
       "      <th></th>\n",
       "      <th>PMID</th>\n",
       "      <th>patient_uid</th>\n",
       "      <th>title</th>\n",
       "      <th>full_text</th>\n",
       "    </tr>\n",
       "  </thead>\n",
       "  <tbody>\n",
       "    <tr>\n",
       "      <th>3347</th>\n",
       "      <td>11799754</td>\n",
       "      <td>2730271-1</td>\n",
       "      <td>First Case of Human Rabies in Chile Caused by ...</td>\n",
       "      <td>no text</td>\n",
       "    </tr>\n",
       "    <tr>\n",
       "      <th>3348</th>\n",
       "      <td>11799760</td>\n",
       "      <td>2730276-1</td>\n",
       "      <td>Nosocomial Endocarditis Caused by Corynebacter...</td>\n",
       "      <td>no text</td>\n",
       "    </tr>\n",
       "    <tr>\n",
       "      <th>3349</th>\n",
       "      <td>11799760</td>\n",
       "      <td>2730276-2</td>\n",
       "      <td>Nosocomial Endocarditis Caused by Corynebacter...</td>\n",
       "      <td>no text</td>\n",
       "    </tr>\n",
       "    <tr>\n",
       "      <th>3350</th>\n",
       "      <td>11799760</td>\n",
       "      <td>2730276-3</td>\n",
       "      <td>Nosocomial Endocarditis Caused by Corynebacter...</td>\n",
       "      <td>no text</td>\n",
       "    </tr>\n",
       "    <tr>\n",
       "      <th>3351</th>\n",
       "      <td>11799757</td>\n",
       "      <td>2730277-1</td>\n",
       "      <td>Human Herpesvirus 6-Associated Hemophagocytic ...</td>\n",
       "      <td>no text</td>\n",
       "    </tr>\n",
       "    <tr>\n",
       "      <th>...</th>\n",
       "      <td>...</td>\n",
       "      <td>...</td>\n",
       "      <td>...</td>\n",
       "      <td>...</td>\n",
       "    </tr>\n",
       "    <tr>\n",
       "      <th>158239</th>\n",
       "      <td>21120194</td>\n",
       "      <td>2983030-1</td>\n",
       "      <td>Development of acute myocardial infarction in ...</td>\n",
       "      <td>no text</td>\n",
       "    </tr>\n",
       "    <tr>\n",
       "      <th>158240</th>\n",
       "      <td>21120212</td>\n",
       "      <td>2983040-1</td>\n",
       "      <td>Long-term survival in a patient with acute pro...</td>\n",
       "      <td>no text</td>\n",
       "    </tr>\n",
       "    <tr>\n",
       "      <th>158241</th>\n",
       "      <td>21120211</td>\n",
       "      <td>2983047-1</td>\n",
       "      <td>Acquired factor VIII deficiency after consumin...</td>\n",
       "      <td>no text</td>\n",
       "    </tr>\n",
       "    <tr>\n",
       "      <th>158242</th>\n",
       "      <td>21103106</td>\n",
       "      <td>2984327-1</td>\n",
       "      <td>The use of the ice pack test in myasthenia gravis</td>\n",
       "      <td>no text</td>\n",
       "    </tr>\n",
       "    <tr>\n",
       "      <th>231226</th>\n",
       "      <td>35599997</td>\n",
       "      <td>9116586-1</td>\n",
       "      <td>An unusual variant of lipoma: case report</td>\n",
       "      <td>no text</td>\n",
       "    </tr>\n",
       "  </tbody>\n",
       "</table>\n",
       "<p>2065 rows × 4 columns</p>\n",
       "</div>"
      ],
      "text/plain": [
       "            PMID patient_uid  \\\n",
       "3347    11799754   2730271-1   \n",
       "3348    11799760   2730276-1   \n",
       "3349    11799760   2730276-2   \n",
       "3350    11799760   2730276-3   \n",
       "3351    11799757   2730277-1   \n",
       "...          ...         ...   \n",
       "158239  21120194   2983030-1   \n",
       "158240  21120212   2983040-1   \n",
       "158241  21120211   2983047-1   \n",
       "158242  21103106   2984327-1   \n",
       "231226  35599997   9116586-1   \n",
       "\n",
       "                                                    title full_text  \n",
       "3347    First Case of Human Rabies in Chile Caused by ...   no text  \n",
       "3348    Nosocomial Endocarditis Caused by Corynebacter...   no text  \n",
       "3349    Nosocomial Endocarditis Caused by Corynebacter...   no text  \n",
       "3350    Nosocomial Endocarditis Caused by Corynebacter...   no text  \n",
       "3351    Human Herpesvirus 6-Associated Hemophagocytic ...   no text  \n",
       "...                                                   ...       ...  \n",
       "158239  Development of acute myocardial infarction in ...   no text  \n",
       "158240  Long-term survival in a patient with acute pro...   no text  \n",
       "158241  Acquired factor VIII deficiency after consumin...   no text  \n",
       "158242  The use of the ice pack test in myasthenia gravis   no text  \n",
       "231226          An unusual variant of lipoma: case report   no text  \n",
       "\n",
       "[2065 rows x 4 columns]"
      ]
     },
     "execution_count": 4,
     "metadata": {},
     "output_type": "execute_result"
    }
   ],
   "source": [
    "df[df['full_text'] == 'no text']"
   ]
  },
  {
   "cell_type": "code",
   "execution_count": null,
   "metadata": {},
   "outputs": [],
   "source": []
  }
 ],
 "metadata": {
  "kernelspec": {
   "display_name": ".venv",
   "language": "python",
   "name": "python3"
  },
  "language_info": {
   "codemirror_mode": {
    "name": "ipython",
    "version": 3
   },
   "file_extension": ".py",
   "mimetype": "text/x-python",
   "name": "python",
   "nbconvert_exporter": "python",
   "pygments_lexer": "ipython3",
   "version": "3.10.12"
  }
 },
 "nbformat": 4,
 "nbformat_minor": 2
}
