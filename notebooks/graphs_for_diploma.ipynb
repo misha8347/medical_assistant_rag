{
 "cells": [
  {
   "cell_type": "code",
   "execution_count": 6,
   "metadata": {},
   "outputs": [],
   "source": [
    "%load_ext autoreload\n",
    "%autoreload 2"
   ]
  },
  {
   "cell_type": "code",
   "execution_count": 3,
   "metadata": {},
   "outputs": [],
   "source": [
    "import matplotlib.pyplot as plt\n",
    "import seaborn as sns\n",
    "import os\n",
    "import cv2\n",
    "import numpy as np"
   ]
  },
  {
   "cell_type": "code",
   "execution_count": 4,
   "metadata": {},
   "outputs": [],
   "source": [
    "import pandas as pd\n",
    "\n",
    "df = pd.read_parquet('/s3/misha/data_dir/PMC_patients/full_texts_PMC-Patients-V2.parquet', engine='pyarrow')"
   ]
  },
  {
   "cell_type": "code",
   "execution_count": 5,
   "metadata": {},
   "outputs": [],
   "source": [
    "df['len_text'] = df['full_text'].apply(lambda x: len(x))"
   ]
  },
  {
   "cell_type": "code",
   "execution_count": 6,
   "metadata": {},
   "outputs": [],
   "source": [
    "df_unique = df.drop_duplicates(subset=['full_text'])\n",
    "df_unique_filtered = df_unique[(df_unique['len_text'] > 1000) & (df_unique['len_text'] < 50000)]"
   ]
  },
  {
   "cell_type": "code",
   "execution_count": 7,
   "metadata": {},
   "outputs": [
    {
     "data": {
      "text/plain": [
       "(208357, 207500)"
      ]
     },
     "execution_count": 7,
     "metadata": {},
     "output_type": "execute_result"
    }
   ],
   "source": [
    "len(df_unique), len(df_unique_filtered)"
   ]
  },
  {
   "cell_type": "code",
   "execution_count": 14,
   "metadata": {},
   "outputs": [
    {
     "data": {
      "text/html": [
       "<div>\n",
       "<style scoped>\n",
       "    .dataframe tbody tr th:only-of-type {\n",
       "        vertical-align: middle;\n",
       "    }\n",
       "\n",
       "    .dataframe tbody tr th {\n",
       "        vertical-align: top;\n",
       "    }\n",
       "\n",
       "    .dataframe thead th {\n",
       "        text-align: right;\n",
       "    }\n",
       "</style>\n",
       "<table border=\"1\" class=\"dataframe\">\n",
       "  <thead>\n",
       "    <tr style=\"text-align: right;\">\n",
       "      <th></th>\n",
       "      <th>PMID</th>\n",
       "      <th>patient_uid</th>\n",
       "      <th>title</th>\n",
       "      <th>full_text</th>\n",
       "      <th>len_text</th>\n",
       "    </tr>\n",
       "  </thead>\n",
       "  <tbody>\n",
       "    <tr>\n",
       "      <th>0</th>\n",
       "      <td>15268761</td>\n",
       "      <td>497050-1</td>\n",
       "      <td>Echocardiographic assessment and percutaneous ...</td>\n",
       "      <td>Echocardiographic assessment and percutaneous ...</td>\n",
       "      <td>9599</td>\n",
       "    </tr>\n",
       "    <tr>\n",
       "      <th>3</th>\n",
       "      <td>15272940</td>\n",
       "      <td>503399-1</td>\n",
       "      <td>A unique dedifferentiated tumor of the retrope...</td>\n",
       "      <td>A unique dedifferentiated tumor of the retrope...</td>\n",
       "      <td>10917</td>\n",
       "    </tr>\n",
       "    <tr>\n",
       "      <th>4</th>\n",
       "      <td>15285782</td>\n",
       "      <td>509249-1</td>\n",
       "      <td>Adenoid cystic carcinoma of the parotid metast...</td>\n",
       "      <td>Adenoid cystic carcinoma of the parotid metast...</td>\n",
       "      <td>11163</td>\n",
       "    </tr>\n",
       "  </tbody>\n",
       "</table>\n",
       "</div>"
      ],
      "text/plain": [
       "       PMID patient_uid                                              title  \\\n",
       "0  15268761    497050-1  Echocardiographic assessment and percutaneous ...   \n",
       "3  15272940    503399-1  A unique dedifferentiated tumor of the retrope...   \n",
       "4  15285782    509249-1  Adenoid cystic carcinoma of the parotid metast...   \n",
       "\n",
       "                                           full_text  len_text  \n",
       "0  Echocardiographic assessment and percutaneous ...      9599  \n",
       "3  A unique dedifferentiated tumor of the retrope...     10917  \n",
       "4  Adenoid cystic carcinoma of the parotid metast...     11163  "
      ]
     },
     "execution_count": 14,
     "metadata": {},
     "output_type": "execute_result"
    }
   ],
   "source": [
    "df_unique.head(3)"
   ]
  },
  {
   "cell_type": "code",
   "execution_count": 10,
   "metadata": {},
   "outputs": [
    {
     "data": {
      "text/plain": [
       "(208357, 5)"
      ]
     },
     "execution_count": 10,
     "metadata": {},
     "output_type": "execute_result"
    }
   ],
   "source": [
    "df_unique.shape"
   ]
  },
  {
   "cell_type": "code",
   "execution_count": 24,
   "metadata": {},
   "outputs": [
    {
     "data": {
      "text/plain": [
       "(7, 2273426)"
      ]
     },
     "execution_count": 24,
     "metadata": {},
     "output_type": "execute_result"
    }
   ],
   "source": [
    "df_unique['len_text'].min(), df_unique['len_text'].max()"
   ]
  },
  {
   "cell_type": "code",
   "execution_count": 25,
   "metadata": {},
   "outputs": [
    {
     "data": {
      "text/plain": [
       "(1015, 49983)"
      ]
     },
     "execution_count": 25,
     "metadata": {},
     "output_type": "execute_result"
    }
   ],
   "source": [
    "df_unique_filtered['len_text'].min(), df_unique_filtered['len_text'].max()"
   ]
  },
  {
   "cell_type": "code",
   "execution_count": 13,
   "metadata": {},
   "outputs": [
    {
     "data": {
      "image/png": "[encoded data removed]",
      "text/plain": [
       "<Figure size 640x480 with 1 Axes>"
      ]
     },
     "metadata": {},
     "output_type": "display_data"
    }
   ],
   "source": [
    "import seaborn as sns\n",
    "import matplotlib.pyplot as plt\n",
    "import numpy as np\n",
    "\n",
    "# Assuming df_unique_filtered['len_text'] is your dataset\n",
    "data = df_unique_filtered['len_text']\n",
    "\n",
    "# Calculate mean and median\n",
    "mean_value = np.mean(data)\n",
    "median_value = np.median(data)\n",
    "\n",
    "# Plot histogram\n",
    "sns.histplot(data, kde=False, bins=20)\n",
    "\n",
    "# Add vertical lines for mean and median\n",
    "plt.axvline(mean_value, color='red', linestyle='dashed', linewidth=2, label=f'Mean: {mean_value:.1f}')\n",
    "plt.axvline(median_value, color='blue', linestyle='solid', linewidth=2, label=f'Median: {median_value:.1f}')\n",
    "\n",
    "# Labels and title\n",
    "plt.xlabel('Symbol count')\n",
    "plt.ylabel('Frequency')\n",
    "plt.title('Symbol count distribution of patient case studies')\n",
    "plt.legend()  # Show legend\n",
    "\n",
    "# Display the plot\n",
    "plt.show()"
   ]
  },
  {
   "cell_type": "code",
   "execution_count": null,
   "metadata": {},
   "outputs": [],
   "source": []
  }
 ],
 "metadata": {
  "kernelspec": {
   "display_name": ".venv",
   "language": "python",
   "name": "python3"
  },
  "language_info": {
   "codemirror_mode": {
    "name": "ipython",
    "version": 3
   },
   "file_extension": ".py",
   "mimetype": "text/x-python",
   "name": "python",
   "nbconvert_exporter": "python",
   "pygments_lexer": "ipython3",
   "version": "3.10.12"
  }
 },
 "nbformat": 4,
 "nbformat_minor": 2
}
