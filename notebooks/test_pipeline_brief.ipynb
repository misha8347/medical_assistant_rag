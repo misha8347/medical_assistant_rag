{
 "cells": [
  {
   "cell_type": "code",
   "execution_count": 3,
   "metadata": {},
   "outputs": [
    {
     "name": "stdout",
     "output_type": "stream",
     "text": [
      "The autoreload extension is already loaded. To reload it, use:\n",
      "  %reload_ext autoreload\n"
     ]
    }
   ],
   "source": [
    "%load_ext autoreload\n",
    "%autoreload 2"
   ]
  },
  {
   "cell_type": "code",
   "execution_count": 4,
   "metadata": {},
   "outputs": [],
   "source": [
    "import sys\n",
    "import os\n",
    "\n",
    "# Get the parent directory\n",
    "parent_dir = os.path.abspath(os.path.join(os.path.dirname('.'), '..'))\n",
    "\n",
    "# Add parent directory to sys.path\n",
    "sys.path.append(parent_dir)"
   ]
  },
  {
   "cell_type": "markdown",
   "metadata": {},
   "source": [
    "# Loading assets"
   ]
  },
  {
   "cell_type": "code",
   "execution_count": 5,
   "metadata": {},
   "outputs": [
    {
     "name": "stderr",
     "output_type": "stream",
     "text": [
      "/home/mikhail/.venv/lib/python3.10/site-packages/tqdm/auto.py:21: TqdmWarning: IProgress not found. Please update jupyter and ipywidgets. See https://ipywidgets.readthedocs.io/en/stable/user_install.html\n",
      "  from .autonotebook import tqdm as notebook_tqdm\n"
     ]
    }
   ],
   "source": [
    "from medrag.retrieval.vector_db import VectorDB\n",
    "from medrag.retrieval.keyword_db import KeywordDB\n",
    "from medrag.retrieval.reranking import rerank_documents\n",
    "from medrag.summarization.summarization import QueryBasedTextRankSummarizer\n",
    "from medrag.pipeline.qa_pipeline import QAPipeline\n",
    "\n",
    "query_based_summarizer = QueryBasedTextRankSummarizer()\n",
    "keyword_database = KeywordDB()\n",
    "vector_database = VectorDB()"
   ]
  },
  {
   "cell_type": "code",
   "execution_count": 10,
   "metadata": {},
   "outputs": [
    {
     "name": "stderr",
     "output_type": "stream",
     "text": [
      "\u001b[32m2025-03-15 12:35:38.416\u001b[0m | \u001b[1mINFO    \u001b[0m | \u001b[36mmedrag.retrieval.vector_db\u001b[0m:\u001b[36mload_db\u001b[0m:\u001b[36m80\u001b[0m - \u001b[1mvector database loaded from the local file successfully!\u001b[0m\n"
     ]
    }
   ],
   "source": [
    "keyword_database.load_db()\n",
    "vector_database.load_db()"
   ]
  },
  {
   "cell_type": "code",
   "execution_count": 11,
   "metadata": {},
   "outputs": [],
   "source": [
    "import torch\n",
    "from langchain_huggingface import HuggingFaceEmbeddings\n",
    "\n",
    "device = torch.device('cuda:0')\n",
    "model = HuggingFaceEmbeddings(model_name=\"neuml/pubmedbert-base-embeddings\", \n",
    "                                        model_kwargs={'device': device},\n",
    "                                        encode_kwargs={\"normalize_embeddings\": True})"
   ]
  },
  {
   "cell_type": "code",
   "execution_count": 15,
   "metadata": {},
   "outputs": [],
   "source": [
    "qa_pipeline = QAPipeline(vector_database, keyword_database, query_based_summarizer, embedding_model=model)"
   ]
  },
  {
   "cell_type": "code",
   "execution_count": null,
   "metadata": {},
   "outputs": [],
   "source": []
  },
  {
   "cell_type": "markdown",
   "metadata": {},
   "source": [
    "# Inference"
   ]
  },
  {
   "cell_type": "code",
   "execution_count": 13,
   "metadata": {},
   "outputs": [],
   "source": [
    "import json\n",
    "with open('/s3/misha/data_dir/PMC_patients/PMC-Patients-ReCDS/queries/train_queries.jsonl', 'r') as f:\n",
    "    train_queries = [json.loads(line) for line in f]"
   ]
  },
  {
   "cell_type": "code",
   "execution_count": 16,
   "metadata": {},
   "outputs": [
    {
     "name": "stdout",
     "output_type": "stream",
     "text": [
      "A 44 year patient has tachycardia, unstable emotional condition and cries frequently.\n",
      "-------------\n"
     ]
    },
    {
     "name": "stderr",
     "output_type": "stream",
     "text": [
      "                                                     "
     ]
    },
    {
     "name": "stderr",
     "output_type": "stream",
     "text": [
      "\r"
     ]
    },
    {
     "name": "stdout",
     "output_type": "stream",
     "text": [
      "Based on the provided medical records of similar patients, it appears that the patient in question is experiencing symptoms related to dissociative identity disorder (DID) and borderline personality disorder (BPD), which can manifest as unstable emotional conditions and frequent episodes of tachycardia. The treatment for these conditions often involves psychotropic medications.\n",
      "\n",
      "Health recommendations for this patient:\n",
      "\n",
      "1. **Stabilization of emotions**: Consider a medication with mood-stabilizing properties, such as lithium or anticonvulsants (e.g., valproate), which may help regulate emotional instability (Reference: [1] Case Report: Anomalous Experience in a Dissociative Identity and Borderline Personality Disorder).\n",
      "\n",
      "2. **Tachycardia management**: Evaluate for underlying cardiac conditions that could be contributing to the tachycardia, such as cardiomyopathy or arrhythmias. Consider referral to a cardiologist or use of medications like beta blockers, which can help regulate heart rate (Reference: [2] Cardiomyopathy Due to Nonsustained Ventricular Tachycardia Originating from the Aortic Sinus Cusp).\n",
      "\n",
      "3. **Trance-like episodes**: These may be related to pseudobulbar affect (PBA), a condition characterized by uncontrolled, involuntary facial expressions and vocalizations. Treatment with medications like anticonvulsants or antidepressants may be beneficial (Reference: [3] Treatment of Pseudobulbar Affect in a patient with a history of traumatic brain injury).\n",
      "\n",
      "4. **Spiritual entity visions**: While not directly related to the current symptoms, these experiences may indicate a need for spiritual support and counseling to address any underlying psychological or emotional issues.\n",
      "\n",
      "5. **Monitoring for electrolyte imbalances**: The patient's history of hyponatremia suggests the need for regular monitoring of electrolyte levels, particularly sodium (Reference: [4] A Case of Severe Hyponatremia in a Patient With Primary Adrenal Insufficiency).\n",
      "\n",
      "6. **Regular follow-up and therapy**: Regular sessions with a therapist or counselor to address emotional regulation, boundary setting, and overall mental health would be crucial for this patient.\n",
      "\n",
      "References:\n",
      "\n",
      "[1] Case Report: Anomalous Experience in a Dissociative Identity and Borderline Personality Disorder (PMID: 35923455)\n",
      "\n",
      "[2] Cardiomyopathy Due to Nonsustained Ventricular Tachycardia Originating from the Aortic Sinus Cusp (PMID: 24757616)\n",
      "\n",
      "[3] Treatment of pseudobulbar affect (PBA) in a patient with a history of traumatic brain injury, partial brain resection, and brainstem stroke: a case report (PMID: 33272325)\n",
      "\n",
      "[4] A Case of Severe Hyponatremia in a Patient With Primary Adrenal Insufficiency (PMID: 34660134)\n",
      "Execution time: 10.5492 seconds\n"
     ]
    }
   ],
   "source": [
    "import time\n",
    "\n",
    "start_time = time.time()\n",
    "\n",
    "# query = train_queries[0]['text']\n",
    "query = 'A 44 year patient has tachycardia, unstable emotional condition and cries frequently.'\n",
    "\n",
    "print(query)\n",
    "print('-------------')\n",
    "response = qa_pipeline.generate_response(query)\n",
    "\n",
    "end_time = time.time()  # End the timer\n",
    "\n",
    "elapsed_time = end_time - start_time\n",
    "print(response)\n",
    "print(f\"Execution time: {elapsed_time:.4f} seconds\")"
   ]
  },
  {
   "cell_type": "code",
   "execution_count": null,
   "metadata": {},
   "outputs": [],
   "source": []
  },
  {
   "cell_type": "code",
   "execution_count": 3,
   "metadata": {},
   "outputs": [
    {
     "name": "stdout",
     "output_type": "stream",
     "text": [
      "Translated: What is ischemic stroke?\n"
     ]
    }
   ],
   "source": [
    "from deep_translator import GoogleTranslator\n",
    "from langdetect import detect\n",
    "\n",
    "# Initialize translator (Auto-detect source language)\n",
    "translator = GoogleTranslator(source=\"auto\", target=\"en\")\n",
    "\n",
    "# Translate a single text\n",
    "text = \"что такое ишемический инсульт?\"\n",
    "translated_text = translator.translate(text)\n",
    "detected_lang = detect(text)\n",
    "\n",
    "del translator\n",
    "print(\"Translated:\", translated_text)"
   ]
  },
  {
   "cell_type": "code",
   "execution_count": null,
   "metadata": {},
   "outputs": [],
   "source": []
  }
 ],
 "metadata": {
  "kernelspec": {
   "display_name": ".venv",
   "language": "python",
   "name": "python3"
  },
  "language_info": {
   "codemirror_mode": {
    "name": "ipython",
    "version": 3
   },
   "file_extension": ".py",
   "mimetype": "text/x-python",
   "name": "python",
   "nbconvert_exporter": "python",
   "pygments_lexer": "ipython3",
   "version": "3.10.12"
  }
 },
 "nbformat": 4,
 "nbformat_minor": 2
}
